{
 "cells": [
  {
   "cell_type": "markdown",
   "source": [
    "# A/B-тестирование"
   ],
   "metadata": {
    "collapsed": false
   }
  },
  {
   "cell_type": "markdown",
   "source": [
    "### Постановка задачи\n",
    "\n",
    "<b>Цель</b> — провести оценку результатов A/B-теста. В вашем распоряжении есть датасет с действиями пользователей, техническое задание и несколько вспомогательных датасетов.\n",
    "<b>Задачи:</b>\n",
    "- Оцените корректность проведения теста\n",
    "- Проанализируйте результаты теста\n",
    "\n",
    "Чтобы оценить корректность проведения теста, проверьте:\n",
    "\n",
    "- пересечение тестовой аудитории с конкурирующим тестом,\n",
    "- совпадение теста и маркетинговых событий, другие проблемы временных границ теста.\n",
    "\n",
    "### Техническое задание\n",
    "\n",
    "- Название теста: `recommender_system_test`;\n",
    "- группы: А — контрольная, B — новая платёжная воронка;\n",
    "- дата запуска: 2020-12-07;\n",
    "- дата остановки набора новых пользователей: 2020-12-21;\n",
    "- дата остановки: 2021-01-04;\n",
    "- аудитория: 15% новых пользователей из региона EU;\n",
    "- назначение теста: тестирование изменений, связанных с внедрением улучшенной рекомендательной системы;\n",
    "- ожидаемое количество участников теста: 6000.\n",
    "- ожидаемый эффект: за 14 дней с момента регистрации пользователи покажут улучшение каждой метрики не менее, чем на 10%:\n",
    "    - конверсии в просмотр карточек товаров — событие `product_page`,\n",
    "    - просмотры корзины — `product_cart`,\n",
    "    - покупки — `purchase`."
   ],
   "metadata": {
    "collapsed": false
   }
  },
  {
   "cell_type": "markdown",
   "source": [
    "### Данные\n",
    "\n",
    "[final_ab_events.csv](https://disk.yandex.ru/d/pgKgZ9lRp0Enwg)\n",
    "\n",
    "[ab_project_marketing_events.csv](https://disk.yandex.ru/d/ZVC7GUYYckKnGQ)\n",
    "\n",
    "[final_ab_new_users.csv](https://disk.yandex.ru/d/Qrto8Gerpu424g)\n",
    "\n",
    "[final_ab_participants.csv](https://disk.yandex.ru/d/nhGUR3ZkNIG4VA)\n",
    "\n",
    "### Описание данных\n",
    "\n",
    "`ab_project_marketing_events.csv` — календарь маркетинговых событий на 2020 год.\n",
    "\n",
    "Структура файла:\n",
    "\n",
    "- `name` — название маркетингового события;\n",
    "- `regions` — регионы, в которых будет проводиться рекламная кампания;\n",
    "- `start_dt` — дата начала кампании;\n",
    "- `finish_dt` — дата завершения кампании.\n",
    "\n",
    "`final_ab_new_users.csv` — пользователи, зарегистрировавшиеся с 7 по 21 декабря 2020 года.\n",
    "\n",
    "Структура файла:\n",
    "\n",
    "- `user_id` — идентификатор пользователя;\n",
    "- `first_date` — дата регистрации;\n",
    "- `region` — регион пользователя;\n",
    "- `device` — устройство, с которого происходила регистрация.\n",
    "\n",
    "`final_ab_events.csv` — действия новых пользователей в период с 7 декабря 2020 по 4 января 2021 года.\n",
    "\n",
    "Структура файла:\n",
    "\n",
    "- `user_id` — идентификатор пользователя;\n",
    "- `event_dt` — дата и время покупки;\n",
    "- `event_name` — тип события;\n",
    "- `details` — дополнительные данные о событии. Например, для покупок, `purchase,` в этом поле хранится стоимость покупки в долларах.\n",
    "\n",
    "`final_ab_participants.csv` — таблица участников тестов.\n",
    "\n",
    "Структура файла:\n",
    "\n",
    "- `user_id` — идентификатор пользователя;\n",
    "- `ab_test` — название теста;\n",
    "- `group` — группа пользователя.\n",
    "\n",
    "### Как сделать задание?\n",
    "\n",
    "- Опишите цели исследования\n",
    "- Исследуйте данные:\n",
    "    - Требуется ли преобразование типов?\n",
    "    - Опишите природу пропущенных значений и дубликатов, если их обнаружите.\n",
    "- Оцените корректность проведения теста. Обратите внимание на:\n",
    "    - Соответствие данных требованиям технического задания. Проверьте корректность всех пунктов технического задания.\n",
    "    - Время проведения теста. Убедитесь, что оно не совпадает с маркетинговыми и другими активностями.\n",
    "    - Аудиторию теста. Удостоверьтесь, что нет пересечений с конкурирующим тестом и нет пользователей, участвующих в двух группах теста одновременно. Проверьте равномерность распределения по тестовым группам и правильность их формирования.\n",
    "- Проведите исследовательский анализ данных:\n",
    "    - Количество событий на пользователя одинаково распределены в выборках?\n",
    "    - Как число событий в выборках распределено по дням?\n",
    "    - Как меняется конверсия в воронке в выборках на разных этапах?\n",
    "    - Какие особенности данных нужно учесть, прежде чем приступать к A/B-тестированию?\n",
    "- Оцените результаты A/B-тестирования\n",
    "    - Что можно сказать про результаты A/В-тестирования?\n",
    "    - Проверьте статистическую разницу долей z-критерием.\n",
    "- Опишите выводы по этапу исследовательского анализа данных и по проведённой оценке результатов A/B-тестирования. Сделайте общее заключение о корректности проведения теста."
   ],
   "metadata": {
    "collapsed": false
   }
  },
  {
   "cell_type": "code",
   "execution_count": 641,
   "outputs": [],
   "source": [
    "import pandas as pd\n",
    "import numpy as np\n",
    "import matplotlib.pyplot as plt\n",
    "import scipy.stats as stats\n",
    "import datetime as dt\n",
    "from scipy import stats as st\n",
    "pd.options.display.max_colwidth = 210"
   ],
   "metadata": {
    "collapsed": false
   }
  },
  {
   "cell_type": "code",
   "execution_count": 642,
   "outputs": [],
   "source": [
    "server_path = 'datasets/'\n",
    "local_path = '/datasets/'\n",
    "\n",
    "files = [\n",
    "    'final_ab_events.csv',\n",
    "    'ab_project_marketing_events.csv',\n",
    "    'final_ab_new_users.csv',\n",
    "    'final_ab_participants.csv'\n",
    "    ]\n",
    "\n",
    "datasets = []\n",
    "\n",
    "for file in files:\n",
    "    try:\n",
    "        datasets.append(pd.read_csv(server_path + file))\n",
    "    except FileNotFoundError:\n",
    "        datasets.append(pd.read_csv(local_path + file))\n",
    "\n",
    "df_final_ab_events = datasets[0]\n",
    "df_ab_project_marketing_events = datasets[1]\n",
    "df_final_ab_new_users = datasets[2]\n",
    "df_final_ab_participants = datasets[3]"
   ],
   "metadata": {
    "collapsed": false
   }
  },
  {
   "cell_type": "markdown",
   "source": [
    "## Проверка данных"
   ],
   "metadata": {
    "collapsed": false
   }
  },
  {
   "cell_type": "code",
   "execution_count": 643,
   "outputs": [
    {
     "data": {
      "text/plain": "            user_id             event_dt event_name  details\n0  E1BDDCE0DAFA2679  2020-12-07 20:22:03   purchase    99.99\n1  7B6452F081F49504  2020-12-07 09:22:53   purchase     9.99\n2  9CD9F34546DF254C  2020-12-07 12:59:29   purchase     4.99\n3  96F27A054B191457  2020-12-07 04:02:40   purchase     4.99\n4  1FD7660FDF94CA1F  2020-12-07 10:15:09   purchase     4.99",
      "text/html": "<div>\n<style scoped>\n    .dataframe tbody tr th:only-of-type {\n        vertical-align: middle;\n    }\n\n    .dataframe tbody tr th {\n        vertical-align: top;\n    }\n\n    .dataframe thead th {\n        text-align: right;\n    }\n</style>\n<table border=\"1\" class=\"dataframe\">\n  <thead>\n    <tr style=\"text-align: right;\">\n      <th></th>\n      <th>user_id</th>\n      <th>event_dt</th>\n      <th>event_name</th>\n      <th>details</th>\n    </tr>\n  </thead>\n  <tbody>\n    <tr>\n      <th>0</th>\n      <td>E1BDDCE0DAFA2679</td>\n      <td>2020-12-07 20:22:03</td>\n      <td>purchase</td>\n      <td>99.99</td>\n    </tr>\n    <tr>\n      <th>1</th>\n      <td>7B6452F081F49504</td>\n      <td>2020-12-07 09:22:53</td>\n      <td>purchase</td>\n      <td>9.99</td>\n    </tr>\n    <tr>\n      <th>2</th>\n      <td>9CD9F34546DF254C</td>\n      <td>2020-12-07 12:59:29</td>\n      <td>purchase</td>\n      <td>4.99</td>\n    </tr>\n    <tr>\n      <th>3</th>\n      <td>96F27A054B191457</td>\n      <td>2020-12-07 04:02:40</td>\n      <td>purchase</td>\n      <td>4.99</td>\n    </tr>\n    <tr>\n      <th>4</th>\n      <td>1FD7660FDF94CA1F</td>\n      <td>2020-12-07 10:15:09</td>\n      <td>purchase</td>\n      <td>4.99</td>\n    </tr>\n  </tbody>\n</table>\n</div>"
     },
     "execution_count": 643,
     "metadata": {},
     "output_type": "execute_result"
    }
   ],
   "source": [
    "df_final_ab_events.head()"
   ],
   "metadata": {
    "collapsed": false
   }
  },
  {
   "cell_type": "code",
   "execution_count": 644,
   "outputs": [
    {
     "name": "stdout",
     "output_type": "stream",
     "text": [
      "<class 'pandas.core.frame.DataFrame'>\n",
      "RangeIndex: 440317 entries, 0 to 440316\n",
      "Data columns (total 4 columns):\n",
      " #   Column      Non-Null Count   Dtype  \n",
      "---  ------      --------------   -----  \n",
      " 0   user_id     440317 non-null  object \n",
      " 1   event_dt    440317 non-null  object \n",
      " 2   event_name  440317 non-null  object \n",
      " 3   details     62740 non-null   float64\n",
      "dtypes: float64(1), object(3)\n",
      "memory usage: 13.4+ MB\n"
     ]
    }
   ],
   "source": [
    "df_final_ab_events.info()"
   ],
   "metadata": {
    "collapsed": false
   }
  },
  {
   "cell_type": "code",
   "execution_count": 645,
   "outputs": [
    {
     "data": {
      "text/plain": "                           name                   regions    start_dt  \\\n0      Christmas&New Year Promo             EU, N.America  2020-12-25   \n1  St. Valentine's Day Giveaway  EU, CIS, APAC, N.America  2020-02-14   \n2        St. Patric's Day Promo             EU, N.America  2020-03-17   \n3                  Easter Promo  EU, CIS, APAC, N.America  2020-04-12   \n4             4th of July Promo                 N.America  2020-07-04   \n\n    finish_dt  \n0  2021-01-03  \n1  2020-02-16  \n2  2020-03-19  \n3  2020-04-19  \n4  2020-07-11  ",
      "text/html": "<div>\n<style scoped>\n    .dataframe tbody tr th:only-of-type {\n        vertical-align: middle;\n    }\n\n    .dataframe tbody tr th {\n        vertical-align: top;\n    }\n\n    .dataframe thead th {\n        text-align: right;\n    }\n</style>\n<table border=\"1\" class=\"dataframe\">\n  <thead>\n    <tr style=\"text-align: right;\">\n      <th></th>\n      <th>name</th>\n      <th>regions</th>\n      <th>start_dt</th>\n      <th>finish_dt</th>\n    </tr>\n  </thead>\n  <tbody>\n    <tr>\n      <th>0</th>\n      <td>Christmas&amp;New Year Promo</td>\n      <td>EU, N.America</td>\n      <td>2020-12-25</td>\n      <td>2021-01-03</td>\n    </tr>\n    <tr>\n      <th>1</th>\n      <td>St. Valentine's Day Giveaway</td>\n      <td>EU, CIS, APAC, N.America</td>\n      <td>2020-02-14</td>\n      <td>2020-02-16</td>\n    </tr>\n    <tr>\n      <th>2</th>\n      <td>St. Patric's Day Promo</td>\n      <td>EU, N.America</td>\n      <td>2020-03-17</td>\n      <td>2020-03-19</td>\n    </tr>\n    <tr>\n      <th>3</th>\n      <td>Easter Promo</td>\n      <td>EU, CIS, APAC, N.America</td>\n      <td>2020-04-12</td>\n      <td>2020-04-19</td>\n    </tr>\n    <tr>\n      <th>4</th>\n      <td>4th of July Promo</td>\n      <td>N.America</td>\n      <td>2020-07-04</td>\n      <td>2020-07-11</td>\n    </tr>\n  </tbody>\n</table>\n</div>"
     },
     "execution_count": 645,
     "metadata": {},
     "output_type": "execute_result"
    }
   ],
   "source": [
    "df_ab_project_marketing_events.head()"
   ],
   "metadata": {
    "collapsed": false
   }
  },
  {
   "cell_type": "code",
   "execution_count": 646,
   "outputs": [
    {
     "name": "stdout",
     "output_type": "stream",
     "text": [
      "<class 'pandas.core.frame.DataFrame'>\n",
      "RangeIndex: 14 entries, 0 to 13\n",
      "Data columns (total 4 columns):\n",
      " #   Column     Non-Null Count  Dtype \n",
      "---  ------     --------------  ----- \n",
      " 0   name       14 non-null     object\n",
      " 1   regions    14 non-null     object\n",
      " 2   start_dt   14 non-null     object\n",
      " 3   finish_dt  14 non-null     object\n",
      "dtypes: object(4)\n",
      "memory usage: 576.0+ bytes\n"
     ]
    }
   ],
   "source": [
    "df_ab_project_marketing_events.info()"
   ],
   "metadata": {
    "collapsed": false
   }
  },
  {
   "cell_type": "code",
   "execution_count": 647,
   "outputs": [
    {
     "data": {
      "text/plain": "            user_id  first_date     region   device\n0  D72A72121175D8BE  2020-12-07         EU       PC\n1  F1C668619DFE6E65  2020-12-07  N.America  Android\n2  2E1BF1D4C37EA01F  2020-12-07         EU       PC\n3  50734A22C0C63768  2020-12-07         EU   iPhone\n4  E1BDDCE0DAFA2679  2020-12-07  N.America   iPhone",
      "text/html": "<div>\n<style scoped>\n    .dataframe tbody tr th:only-of-type {\n        vertical-align: middle;\n    }\n\n    .dataframe tbody tr th {\n        vertical-align: top;\n    }\n\n    .dataframe thead th {\n        text-align: right;\n    }\n</style>\n<table border=\"1\" class=\"dataframe\">\n  <thead>\n    <tr style=\"text-align: right;\">\n      <th></th>\n      <th>user_id</th>\n      <th>first_date</th>\n      <th>region</th>\n      <th>device</th>\n    </tr>\n  </thead>\n  <tbody>\n    <tr>\n      <th>0</th>\n      <td>D72A72121175D8BE</td>\n      <td>2020-12-07</td>\n      <td>EU</td>\n      <td>PC</td>\n    </tr>\n    <tr>\n      <th>1</th>\n      <td>F1C668619DFE6E65</td>\n      <td>2020-12-07</td>\n      <td>N.America</td>\n      <td>Android</td>\n    </tr>\n    <tr>\n      <th>2</th>\n      <td>2E1BF1D4C37EA01F</td>\n      <td>2020-12-07</td>\n      <td>EU</td>\n      <td>PC</td>\n    </tr>\n    <tr>\n      <th>3</th>\n      <td>50734A22C0C63768</td>\n      <td>2020-12-07</td>\n      <td>EU</td>\n      <td>iPhone</td>\n    </tr>\n    <tr>\n      <th>4</th>\n      <td>E1BDDCE0DAFA2679</td>\n      <td>2020-12-07</td>\n      <td>N.America</td>\n      <td>iPhone</td>\n    </tr>\n  </tbody>\n</table>\n</div>"
     },
     "execution_count": 647,
     "metadata": {},
     "output_type": "execute_result"
    }
   ],
   "source": [
    "df_final_ab_new_users.head()"
   ],
   "metadata": {
    "collapsed": false
   }
  },
  {
   "cell_type": "code",
   "execution_count": 648,
   "outputs": [
    {
     "name": "stdout",
     "output_type": "stream",
     "text": [
      "<class 'pandas.core.frame.DataFrame'>\n",
      "RangeIndex: 61733 entries, 0 to 61732\n",
      "Data columns (total 4 columns):\n",
      " #   Column      Non-Null Count  Dtype \n",
      "---  ------      --------------  ----- \n",
      " 0   user_id     61733 non-null  object\n",
      " 1   first_date  61733 non-null  object\n",
      " 2   region      61733 non-null  object\n",
      " 3   device      61733 non-null  object\n",
      "dtypes: object(4)\n",
      "memory usage: 1.9+ MB\n"
     ]
    }
   ],
   "source": [
    "df_final_ab_new_users.info()"
   ],
   "metadata": {
    "collapsed": false
   }
  },
  {
   "cell_type": "code",
   "execution_count": 649,
   "outputs": [
    {
     "data": {
      "text/plain": "            user_id group                  ab_test\n0  D1ABA3E2887B6A73     A  recommender_system_test\n1  A7A3664BD6242119     A  recommender_system_test\n2  DABC14FDDFADD29E     A  recommender_system_test\n3  04988C5DF189632E     A  recommender_system_test\n4  482F14783456D21B     B  recommender_system_test",
      "text/html": "<div>\n<style scoped>\n    .dataframe tbody tr th:only-of-type {\n        vertical-align: middle;\n    }\n\n    .dataframe tbody tr th {\n        vertical-align: top;\n    }\n\n    .dataframe thead th {\n        text-align: right;\n    }\n</style>\n<table border=\"1\" class=\"dataframe\">\n  <thead>\n    <tr style=\"text-align: right;\">\n      <th></th>\n      <th>user_id</th>\n      <th>group</th>\n      <th>ab_test</th>\n    </tr>\n  </thead>\n  <tbody>\n    <tr>\n      <th>0</th>\n      <td>D1ABA3E2887B6A73</td>\n      <td>A</td>\n      <td>recommender_system_test</td>\n    </tr>\n    <tr>\n      <th>1</th>\n      <td>A7A3664BD6242119</td>\n      <td>A</td>\n      <td>recommender_system_test</td>\n    </tr>\n    <tr>\n      <th>2</th>\n      <td>DABC14FDDFADD29E</td>\n      <td>A</td>\n      <td>recommender_system_test</td>\n    </tr>\n    <tr>\n      <th>3</th>\n      <td>04988C5DF189632E</td>\n      <td>A</td>\n      <td>recommender_system_test</td>\n    </tr>\n    <tr>\n      <th>4</th>\n      <td>482F14783456D21B</td>\n      <td>B</td>\n      <td>recommender_system_test</td>\n    </tr>\n  </tbody>\n</table>\n</div>"
     },
     "execution_count": 649,
     "metadata": {},
     "output_type": "execute_result"
    }
   ],
   "source": [
    "df_final_ab_participants.head()"
   ],
   "metadata": {
    "collapsed": false
   }
  },
  {
   "cell_type": "code",
   "execution_count": 650,
   "outputs": [
    {
     "name": "stdout",
     "output_type": "stream",
     "text": [
      "<class 'pandas.core.frame.DataFrame'>\n",
      "RangeIndex: 18268 entries, 0 to 18267\n",
      "Data columns (total 3 columns):\n",
      " #   Column   Non-Null Count  Dtype \n",
      "---  ------   --------------  ----- \n",
      " 0   user_id  18268 non-null  object\n",
      " 1   group    18268 non-null  object\n",
      " 2   ab_test  18268 non-null  object\n",
      "dtypes: object(3)\n",
      "memory usage: 428.3+ KB\n"
     ]
    }
   ],
   "source": [
    "df_final_ab_participants.info()"
   ],
   "metadata": {
    "collapsed": false
   }
  },
  {
   "cell_type": "markdown",
   "source": [
    "Вывод: из полученных данных видно, что необходимо привести к типу данных дате, след столбцы: event_dt, start_dt, finish_dt, first_date"
   ],
   "metadata": {
    "collapsed": false
   }
  },
  {
   "cell_type": "code",
   "execution_count": 651,
   "outputs": [],
   "source": [
    "df_final_ab_events['event_dt'] = pd.to_datetime(df_final_ab_events['event_dt'])\n",
    "df_final_ab_events['event_dt_t0'] = pd.to_datetime(df_final_ab_events['event_dt']).dt.date.astype('datetime64[ns]')\n",
    "df_ab_project_marketing_events['start_dt'] = pd.to_datetime(df_ab_project_marketing_events['start_dt'], infer_datetime_format=True)\n",
    "df_ab_project_marketing_events['finish_dt'] = pd.to_datetime(df_ab_project_marketing_events['finish_dt'], infer_datetime_format=True)\n",
    "df_final_ab_new_users['first_date'] = pd.to_datetime(df_final_ab_new_users['first_date'], infer_datetime_format=True)"
   ],
   "metadata": {
    "collapsed": false
   }
  },
  {
   "cell_type": "code",
   "execution_count": 652,
   "outputs": [
    {
     "data": {
      "text/plain": "            user_id            event_dt event_name  details event_dt_t0\n0  E1BDDCE0DAFA2679 2020-12-07 20:22:03   purchase    99.99  2020-12-07\n1  7B6452F081F49504 2020-12-07 09:22:53   purchase     9.99  2020-12-07\n2  9CD9F34546DF254C 2020-12-07 12:59:29   purchase     4.99  2020-12-07\n3  96F27A054B191457 2020-12-07 04:02:40   purchase     4.99  2020-12-07\n4  1FD7660FDF94CA1F 2020-12-07 10:15:09   purchase     4.99  2020-12-07",
      "text/html": "<div>\n<style scoped>\n    .dataframe tbody tr th:only-of-type {\n        vertical-align: middle;\n    }\n\n    .dataframe tbody tr th {\n        vertical-align: top;\n    }\n\n    .dataframe thead th {\n        text-align: right;\n    }\n</style>\n<table border=\"1\" class=\"dataframe\">\n  <thead>\n    <tr style=\"text-align: right;\">\n      <th></th>\n      <th>user_id</th>\n      <th>event_dt</th>\n      <th>event_name</th>\n      <th>details</th>\n      <th>event_dt_t0</th>\n    </tr>\n  </thead>\n  <tbody>\n    <tr>\n      <th>0</th>\n      <td>E1BDDCE0DAFA2679</td>\n      <td>2020-12-07 20:22:03</td>\n      <td>purchase</td>\n      <td>99.99</td>\n      <td>2020-12-07</td>\n    </tr>\n    <tr>\n      <th>1</th>\n      <td>7B6452F081F49504</td>\n      <td>2020-12-07 09:22:53</td>\n      <td>purchase</td>\n      <td>9.99</td>\n      <td>2020-12-07</td>\n    </tr>\n    <tr>\n      <th>2</th>\n      <td>9CD9F34546DF254C</td>\n      <td>2020-12-07 12:59:29</td>\n      <td>purchase</td>\n      <td>4.99</td>\n      <td>2020-12-07</td>\n    </tr>\n    <tr>\n      <th>3</th>\n      <td>96F27A054B191457</td>\n      <td>2020-12-07 04:02:40</td>\n      <td>purchase</td>\n      <td>4.99</td>\n      <td>2020-12-07</td>\n    </tr>\n    <tr>\n      <th>4</th>\n      <td>1FD7660FDF94CA1F</td>\n      <td>2020-12-07 10:15:09</td>\n      <td>purchase</td>\n      <td>4.99</td>\n      <td>2020-12-07</td>\n    </tr>\n  </tbody>\n</table>\n</div>"
     },
     "execution_count": 652,
     "metadata": {},
     "output_type": "execute_result"
    }
   ],
   "source": [
    "df_final_ab_events.head()"
   ],
   "metadata": {
    "collapsed": false
   }
  },
  {
   "cell_type": "code",
   "execution_count": 653,
   "outputs": [
    {
     "data": {
      "text/plain": "                           name                   regions   start_dt  \\\n0      Christmas&New Year Promo             EU, N.America 2020-12-25   \n1  St. Valentine's Day Giveaway  EU, CIS, APAC, N.America 2020-02-14   \n2        St. Patric's Day Promo             EU, N.America 2020-03-17   \n3                  Easter Promo  EU, CIS, APAC, N.America 2020-04-12   \n4             4th of July Promo                 N.America 2020-07-04   \n\n   finish_dt  \n0 2021-01-03  \n1 2020-02-16  \n2 2020-03-19  \n3 2020-04-19  \n4 2020-07-11  ",
      "text/html": "<div>\n<style scoped>\n    .dataframe tbody tr th:only-of-type {\n        vertical-align: middle;\n    }\n\n    .dataframe tbody tr th {\n        vertical-align: top;\n    }\n\n    .dataframe thead th {\n        text-align: right;\n    }\n</style>\n<table border=\"1\" class=\"dataframe\">\n  <thead>\n    <tr style=\"text-align: right;\">\n      <th></th>\n      <th>name</th>\n      <th>regions</th>\n      <th>start_dt</th>\n      <th>finish_dt</th>\n    </tr>\n  </thead>\n  <tbody>\n    <tr>\n      <th>0</th>\n      <td>Christmas&amp;New Year Promo</td>\n      <td>EU, N.America</td>\n      <td>2020-12-25</td>\n      <td>2021-01-03</td>\n    </tr>\n    <tr>\n      <th>1</th>\n      <td>St. Valentine's Day Giveaway</td>\n      <td>EU, CIS, APAC, N.America</td>\n      <td>2020-02-14</td>\n      <td>2020-02-16</td>\n    </tr>\n    <tr>\n      <th>2</th>\n      <td>St. Patric's Day Promo</td>\n      <td>EU, N.America</td>\n      <td>2020-03-17</td>\n      <td>2020-03-19</td>\n    </tr>\n    <tr>\n      <th>3</th>\n      <td>Easter Promo</td>\n      <td>EU, CIS, APAC, N.America</td>\n      <td>2020-04-12</td>\n      <td>2020-04-19</td>\n    </tr>\n    <tr>\n      <th>4</th>\n      <td>4th of July Promo</td>\n      <td>N.America</td>\n      <td>2020-07-04</td>\n      <td>2020-07-11</td>\n    </tr>\n  </tbody>\n</table>\n</div>"
     },
     "execution_count": 653,
     "metadata": {},
     "output_type": "execute_result"
    }
   ],
   "source": [
    "df_ab_project_marketing_events.head()"
   ],
   "metadata": {
    "collapsed": false
   }
  },
  {
   "cell_type": "code",
   "execution_count": 654,
   "outputs": [
    {
     "data": {
      "text/plain": "            user_id first_date     region   device\n0  D72A72121175D8BE 2020-12-07         EU       PC\n1  F1C668619DFE6E65 2020-12-07  N.America  Android\n2  2E1BF1D4C37EA01F 2020-12-07         EU       PC\n3  50734A22C0C63768 2020-12-07         EU   iPhone\n4  E1BDDCE0DAFA2679 2020-12-07  N.America   iPhone",
      "text/html": "<div>\n<style scoped>\n    .dataframe tbody tr th:only-of-type {\n        vertical-align: middle;\n    }\n\n    .dataframe tbody tr th {\n        vertical-align: top;\n    }\n\n    .dataframe thead th {\n        text-align: right;\n    }\n</style>\n<table border=\"1\" class=\"dataframe\">\n  <thead>\n    <tr style=\"text-align: right;\">\n      <th></th>\n      <th>user_id</th>\n      <th>first_date</th>\n      <th>region</th>\n      <th>device</th>\n    </tr>\n  </thead>\n  <tbody>\n    <tr>\n      <th>0</th>\n      <td>D72A72121175D8BE</td>\n      <td>2020-12-07</td>\n      <td>EU</td>\n      <td>PC</td>\n    </tr>\n    <tr>\n      <th>1</th>\n      <td>F1C668619DFE6E65</td>\n      <td>2020-12-07</td>\n      <td>N.America</td>\n      <td>Android</td>\n    </tr>\n    <tr>\n      <th>2</th>\n      <td>2E1BF1D4C37EA01F</td>\n      <td>2020-12-07</td>\n      <td>EU</td>\n      <td>PC</td>\n    </tr>\n    <tr>\n      <th>3</th>\n      <td>50734A22C0C63768</td>\n      <td>2020-12-07</td>\n      <td>EU</td>\n      <td>iPhone</td>\n    </tr>\n    <tr>\n      <th>4</th>\n      <td>E1BDDCE0DAFA2679</td>\n      <td>2020-12-07</td>\n      <td>N.America</td>\n      <td>iPhone</td>\n    </tr>\n  </tbody>\n</table>\n</div>"
     },
     "execution_count": 654,
     "metadata": {},
     "output_type": "execute_result"
    }
   ],
   "source": [
    "df_final_ab_new_users.head()"
   ],
   "metadata": {
    "collapsed": false
   }
  },
  {
   "cell_type": "code",
   "execution_count": 655,
   "outputs": [
    {
     "data": {
      "text/plain": "user_id             0\nevent_dt            0\nevent_name          0\ndetails        377577\nevent_dt_t0         0\ndtype: int64"
     },
     "execution_count": 655,
     "metadata": {},
     "output_type": "execute_result"
    }
   ],
   "source": [
    "df_final_ab_events.isnull().sum()"
   ],
   "metadata": {
    "collapsed": false
   }
  },
  {
   "cell_type": "code",
   "execution_count": 656,
   "outputs": [
    {
     "data": {
      "text/plain": "name         0\nregions      0\nstart_dt     0\nfinish_dt    0\ndtype: int64"
     },
     "execution_count": 656,
     "metadata": {},
     "output_type": "execute_result"
    }
   ],
   "source": [
    "df_ab_project_marketing_events.isnull().sum()"
   ],
   "metadata": {
    "collapsed": false
   }
  },
  {
   "cell_type": "code",
   "execution_count": 657,
   "outputs": [
    {
     "data": {
      "text/plain": "user_id       0\nfirst_date    0\nregion        0\ndevice        0\ndtype: int64"
     },
     "execution_count": 657,
     "metadata": {},
     "output_type": "execute_result"
    }
   ],
   "source": [
    "df_final_ab_new_users.isnull().sum()"
   ],
   "metadata": {
    "collapsed": false
   }
  },
  {
   "cell_type": "code",
   "execution_count": 658,
   "outputs": [
    {
     "data": {
      "text/plain": "user_id    0\ngroup      0\nab_test    0\ndtype: int64"
     },
     "execution_count": 658,
     "metadata": {},
     "output_type": "execute_result"
    }
   ],
   "source": [
    "df_final_ab_participants.isnull().sum()"
   ],
   "metadata": {
    "collapsed": false
   }
  },
  {
   "cell_type": "markdown",
   "source": [
    "Вывод: пропуски были обнаруженны в df_final_ab_events. Такое огромное кол-во пропусков в данном столбце обосновано тем, что не к каждому событию добаляется доп. информация. Ничего с этими пропусками делать не будем."
   ],
   "metadata": {
    "collapsed": false
   }
  },
  {
   "cell_type": "code",
   "execution_count": 659,
   "outputs": [
    {
     "data": {
      "text/plain": "0"
     },
     "execution_count": 659,
     "metadata": {},
     "output_type": "execute_result"
    }
   ],
   "source": [
    "df_final_ab_events.duplicated().sum()"
   ],
   "metadata": {
    "collapsed": false
   }
  },
  {
   "cell_type": "code",
   "execution_count": 660,
   "outputs": [
    {
     "data": {
      "text/plain": "0"
     },
     "execution_count": 660,
     "metadata": {},
     "output_type": "execute_result"
    }
   ],
   "source": [
    "df_ab_project_marketing_events.duplicated().sum()"
   ],
   "metadata": {
    "collapsed": false
   }
  },
  {
   "cell_type": "code",
   "execution_count": 661,
   "outputs": [
    {
     "data": {
      "text/plain": "0"
     },
     "execution_count": 661,
     "metadata": {},
     "output_type": "execute_result"
    }
   ],
   "source": [
    "df_final_ab_new_users.duplicated().sum()"
   ],
   "metadata": {
    "collapsed": false
   }
  },
  {
   "cell_type": "code",
   "execution_count": 662,
   "outputs": [
    {
     "data": {
      "text/plain": "0"
     },
     "execution_count": 662,
     "metadata": {},
     "output_type": "execute_result"
    }
   ],
   "source": [
    "df_final_ab_participants.duplicated().sum()"
   ],
   "metadata": {
    "collapsed": false
   }
  },
  {
   "cell_type": "markdown",
   "source": [
    "Вывод: явных дубликатов не обнаруженно"
   ],
   "metadata": {
    "collapsed": false
   }
  },
  {
   "cell_type": "markdown",
   "source": [
    "### Проверка не попадают ли у нас пользователи в обе группы"
   ],
   "metadata": {
    "collapsed": false
   }
  },
  {
   "cell_type": "code",
   "execution_count": 663,
   "outputs": [
    {
     "data": {
      "text/plain": "            user_id group                  ab_test\n0  D1ABA3E2887B6A73     A  recommender_system_test\n1  A7A3664BD6242119     A  recommender_system_test\n2  DABC14FDDFADD29E     A  recommender_system_test\n3  04988C5DF189632E     A  recommender_system_test\n4  482F14783456D21B     B  recommender_system_test",
      "text/html": "<div>\n<style scoped>\n    .dataframe tbody tr th:only-of-type {\n        vertical-align: middle;\n    }\n\n    .dataframe tbody tr th {\n        vertical-align: top;\n    }\n\n    .dataframe thead th {\n        text-align: right;\n    }\n</style>\n<table border=\"1\" class=\"dataframe\">\n  <thead>\n    <tr style=\"text-align: right;\">\n      <th></th>\n      <th>user_id</th>\n      <th>group</th>\n      <th>ab_test</th>\n    </tr>\n  </thead>\n  <tbody>\n    <tr>\n      <th>0</th>\n      <td>D1ABA3E2887B6A73</td>\n      <td>A</td>\n      <td>recommender_system_test</td>\n    </tr>\n    <tr>\n      <th>1</th>\n      <td>A7A3664BD6242119</td>\n      <td>A</td>\n      <td>recommender_system_test</td>\n    </tr>\n    <tr>\n      <th>2</th>\n      <td>DABC14FDDFADD29E</td>\n      <td>A</td>\n      <td>recommender_system_test</td>\n    </tr>\n    <tr>\n      <th>3</th>\n      <td>04988C5DF189632E</td>\n      <td>A</td>\n      <td>recommender_system_test</td>\n    </tr>\n    <tr>\n      <th>4</th>\n      <td>482F14783456D21B</td>\n      <td>B</td>\n      <td>recommender_system_test</td>\n    </tr>\n  </tbody>\n</table>\n</div>"
     },
     "execution_count": 663,
     "metadata": {},
     "output_type": "execute_result"
    }
   ],
   "source": [
    "df_final_ab_participants.head()"
   ],
   "metadata": {
    "collapsed": false
   }
  },
  {
   "cell_type": "code",
   "execution_count": 664,
   "outputs": [
    {
     "name": "stdout",
     "output_type": "stream",
     "text": [
      "9655 8613\n"
     ]
    },
    {
     "data": {
      "text/plain": "False    8879\nTrue      776\nName: user_id, dtype: int64"
     },
     "execution_count": 664,
     "metadata": {},
     "output_type": "execute_result"
    }
   ],
   "source": [
    "df_final_ab_participants_A = df_final_ab_participants[df_final_ab_participants['group'] == 'A']\n",
    "df_final_ab_participants_B = df_final_ab_participants[df_final_ab_participants['group'] == 'B']\n",
    "print(len(df_final_ab_participants_A), len(df_final_ab_participants_B))\n",
    "df_final_ab_participants_A['user_id'].isin(df_final_ab_participants_B['user_id']).value_counts ()"
   ],
   "metadata": {
    "collapsed": false
   }
  },
  {
   "cell_type": "markdown",
   "source": [
    "Вывод: как видино, 776 пользователей попали в обе групппы. Далее уберем этих пользователей из групп"
   ],
   "metadata": {
    "collapsed": false
   }
  },
  {
   "cell_type": "code",
   "execution_count": 665,
   "outputs": [
    {
     "data": {
      "text/plain": "              user_id group_x                ab_test_x group_y  \\\n0    FC3F3E4DA7C85F88       A  recommender_system_test       B   \n1    FE2AF0E94DBD470E       A  recommender_system_test       B   \n2    C5AD06762E628169       A  recommender_system_test       B   \n3    25CE0629AC6B6971       A  recommender_system_test       B   \n4    44EB15AD423DC31C       A  recommender_system_test       B   \n..                ...     ...                      ...     ...   \n771  54C70FDA087B74AC       A        interface_eu_test       B   \n772  50509A01096B2B14       A        interface_eu_test       B   \n773  CA6F4DAED160E5B1       A        interface_eu_test       B   \n774  C70DF942E542DA69       A        interface_eu_test       B   \n775  CE782A3646E8E5E1       A        interface_eu_test       B   \n\n                   ab_test_y  \n0          interface_eu_test  \n1          interface_eu_test  \n2          interface_eu_test  \n3          interface_eu_test  \n4          interface_eu_test  \n..                       ...  \n771  recommender_system_test  \n772  recommender_system_test  \n773  recommender_system_test  \n774  recommender_system_test  \n775  recommender_system_test  \n\n[776 rows x 5 columns]",
      "text/html": "<div>\n<style scoped>\n    .dataframe tbody tr th:only-of-type {\n        vertical-align: middle;\n    }\n\n    .dataframe tbody tr th {\n        vertical-align: top;\n    }\n\n    .dataframe thead th {\n        text-align: right;\n    }\n</style>\n<table border=\"1\" class=\"dataframe\">\n  <thead>\n    <tr style=\"text-align: right;\">\n      <th></th>\n      <th>user_id</th>\n      <th>group_x</th>\n      <th>ab_test_x</th>\n      <th>group_y</th>\n      <th>ab_test_y</th>\n    </tr>\n  </thead>\n  <tbody>\n    <tr>\n      <th>0</th>\n      <td>FC3F3E4DA7C85F88</td>\n      <td>A</td>\n      <td>recommender_system_test</td>\n      <td>B</td>\n      <td>interface_eu_test</td>\n    </tr>\n    <tr>\n      <th>1</th>\n      <td>FE2AF0E94DBD470E</td>\n      <td>A</td>\n      <td>recommender_system_test</td>\n      <td>B</td>\n      <td>interface_eu_test</td>\n    </tr>\n    <tr>\n      <th>2</th>\n      <td>C5AD06762E628169</td>\n      <td>A</td>\n      <td>recommender_system_test</td>\n      <td>B</td>\n      <td>interface_eu_test</td>\n    </tr>\n    <tr>\n      <th>3</th>\n      <td>25CE0629AC6B6971</td>\n      <td>A</td>\n      <td>recommender_system_test</td>\n      <td>B</td>\n      <td>interface_eu_test</td>\n    </tr>\n    <tr>\n      <th>4</th>\n      <td>44EB15AD423DC31C</td>\n      <td>A</td>\n      <td>recommender_system_test</td>\n      <td>B</td>\n      <td>interface_eu_test</td>\n    </tr>\n    <tr>\n      <th>...</th>\n      <td>...</td>\n      <td>...</td>\n      <td>...</td>\n      <td>...</td>\n      <td>...</td>\n    </tr>\n    <tr>\n      <th>771</th>\n      <td>54C70FDA087B74AC</td>\n      <td>A</td>\n      <td>interface_eu_test</td>\n      <td>B</td>\n      <td>recommender_system_test</td>\n    </tr>\n    <tr>\n      <th>772</th>\n      <td>50509A01096B2B14</td>\n      <td>A</td>\n      <td>interface_eu_test</td>\n      <td>B</td>\n      <td>recommender_system_test</td>\n    </tr>\n    <tr>\n      <th>773</th>\n      <td>CA6F4DAED160E5B1</td>\n      <td>A</td>\n      <td>interface_eu_test</td>\n      <td>B</td>\n      <td>recommender_system_test</td>\n    </tr>\n    <tr>\n      <th>774</th>\n      <td>C70DF942E542DA69</td>\n      <td>A</td>\n      <td>interface_eu_test</td>\n      <td>B</td>\n      <td>recommender_system_test</td>\n    </tr>\n    <tr>\n      <th>775</th>\n      <td>CE782A3646E8E5E1</td>\n      <td>A</td>\n      <td>interface_eu_test</td>\n      <td>B</td>\n      <td>recommender_system_test</td>\n    </tr>\n  </tbody>\n</table>\n<p>776 rows × 5 columns</p>\n</div>"
     },
     "execution_count": 665,
     "metadata": {},
     "output_type": "execute_result"
    }
   ],
   "source": [
    "df_final_ab_participants_clear = pd.merge(df_final_ab_participants_A, df_final_ab_participants_B, on=['user_id'], how='inner')\n",
    "df_final_ab_participants_clear"
   ],
   "metadata": {
    "collapsed": false
   }
  },
  {
   "cell_type": "code",
   "execution_count": 666,
   "outputs": [
    {
     "name": "stdout",
     "output_type": "stream",
     "text": [
      "18268\n",
      "16716\n"
     ]
    }
   ],
   "source": [
    "print(len(df_final_ab_participants))\n",
    "df_final_ab_participants = df_final_ab_participants.loc[~((df_final_ab_participants.user_id.isin(df_final_ab_participants_clear['user_id']))),:]\n",
    "print(len(df_final_ab_participants))"
   ],
   "metadata": {
    "collapsed": false
   }
  },
  {
   "cell_type": "code",
   "execution_count": 667,
   "outputs": [
    {
     "name": "stdout",
     "output_type": "stream",
     "text": [
      "8879 7837\n"
     ]
    },
    {
     "data": {
      "text/plain": "False    8879\nName: user_id, dtype: int64"
     },
     "execution_count": 667,
     "metadata": {},
     "output_type": "execute_result"
    }
   ],
   "source": [
    "df_final_ab_participants_A = df_final_ab_participants[df_final_ab_participants['group'] == 'A']\n",
    "df_final_ab_participants_B = df_final_ab_participants[df_final_ab_participants['group'] == 'B']\n",
    "print(len(df_final_ab_participants_A), len(df_final_ab_participants_B))\n",
    "df_final_ab_participants_A['user_id'].isin(df_final_ab_participants_B['user_id']).value_counts ()"
   ],
   "metadata": {
    "collapsed": false
   }
  },
  {
   "cell_type": "markdown",
   "source": [
    "### За какой период нам доступны данные (даты начала и окончания теста)"
   ],
   "metadata": {
    "collapsed": false
   }
  },
  {
   "cell_type": "code",
   "execution_count": 668,
   "outputs": [
    {
     "name": "stdout",
     "output_type": "stream",
     "text": [
      "2020-12-07 00:00:33\n",
      "2020-12-30 23:36:33\n"
     ]
    }
   ],
   "source": [
    "print(df_final_ab_events.groupby('user_id')['event_dt'].min().reset_index()['event_dt'].min())\n",
    "print(df_final_ab_events.groupby('user_id')['event_dt'].max().reset_index()['event_dt'].max())"
   ],
   "metadata": {
    "collapsed": false
   }
  },
  {
   "cell_type": "markdown",
   "source": [
    "### Сколько у нас уникальных групп и количество пользователей в каждой"
   ],
   "metadata": {
    "collapsed": false
   }
  },
  {
   "cell_type": "code",
   "execution_count": 669,
   "outputs": [
    {
     "name": "stdout",
     "output_type": "stream",
     "text": [
      "Уникальных групп: 2\n"
     ]
    }
   ],
   "source": [
    "print('Уникальных групп:', df_final_ab_participants['group'].nunique())"
   ],
   "metadata": {
    "collapsed": false
   }
  },
  {
   "cell_type": "code",
   "execution_count": 670,
   "outputs": [
    {
     "name": "stdout",
     "output_type": "stream",
     "text": [
      "A: 8879 B: 7837\n"
     ]
    }
   ],
   "source": [
    "print('A:', len(df_final_ab_participants_A), 'B:', len(df_final_ab_participants_B))"
   ],
   "metadata": {
    "collapsed": false
   }
  },
  {
   "cell_type": "markdown",
   "source": [
    "## Часть 1. Анализ A/B-теста"
   ],
   "metadata": {
    "collapsed": false
   }
  },
  {
   "cell_type": "markdown",
   "source": [
    "### Оценка корректность проведения теста.\n",
    "Обратите внимание на:\n",
    "    - Соответствие данных требованиям технического задания. Проверьте корректность всех пунктов технического задания.\n",
    "    - Время проведения теста. Убедитесь, что оно не совпадает с маркетинговыми и другими активностями.\n",
    "    - Аудиторию теста. Удостоверьтесь, что нет пересечений с конкурирующим тестом и нет пользователей, участвующих в двух группах теста одновременно. Проверьте равномерность распределения по тестовым группам и правильность их формирования."
   ],
   "metadata": {
    "collapsed": false
   }
  },
  {
   "cell_type": "markdown",
   "source": [
    "#### Соответствие данных требованиям технического задания. Проверьте корректность всех пунктов технического задания.\n",
    "\n",
    "### Техническое задание\n",
    "\n",
    "- Название теста: `recommender_system_test`;\n",
    "- группы: А — контрольная, B — новая платёжная воронка;\n",
    "- дата запуска: 2020-12-07;\n",
    "- дата остановки набора новых пользователей: 2020-12-21;\n",
    "- дата остановки: 2021-01-04;\n",
    "- аудитория: 15% новых пользователей из региона EU;\n",
    "- назначение теста: тестирование изменений, связанных с внедрением улучшенной рекомендательной системы;\n",
    "- ожидаемое количество участников теста: 6000.\n",
    "- ожидаемый эффект: за 14 дней с момента регистрации пользователи покажут улучшение каждой метрики не менее, чем на 10%:\n",
    "    - конверсии в просмотр карточек товаров — событие `product_page`,\n",
    "    - просмотры корзины — `product_cart`,\n",
    "    - покупки — `purchase`."
   ],
   "metadata": {
    "collapsed": false
   }
  },
  {
   "cell_type": "code",
   "execution_count": 671,
   "outputs": [
    {
     "name": "stdout",
     "output_type": "stream",
     "text": [
      "Названия тестов: ['recommender_system_test' 'interface_eu_test']\n"
     ]
    }
   ],
   "source": [
    "print(f\"Названия тестов: {df_final_ab_participants['ab_test'].unique()}\")"
   ],
   "metadata": {
    "collapsed": false
   }
  },
  {
   "cell_type": "code",
   "execution_count": 672,
   "outputs": [
    {
     "name": "stdout",
     "output_type": "stream",
     "text": [
      "Кол-во групп: 2, группы: ['A' 'B']\n"
     ]
    }
   ],
   "source": [
    "print(f\"Кол-во групп: {df_final_ab_participants['group'].nunique()}, группы: {df_final_ab_participants['group'].unique()}\")"
   ],
   "metadata": {
    "collapsed": false
   }
  },
  {
   "cell_type": "code",
   "execution_count": 673,
   "outputs": [
    {
     "name": "stdout",
     "output_type": "stream",
     "text": [
      "дата запуска(2020-12-07): 2020-12-07 00:00:00\n",
      "дата остановки набора новых пользователей(2020-12-21): 2020-12-23 00:00:00\n"
     ]
    }
   ],
   "source": [
    "print(f\"дата запуска(2020-12-07): {df_final_ab_new_users.groupby('user_id')['first_date'].min().reset_index()['first_date'].min()}\")\n",
    "print(f\"дата остановки набора новых пользователей(2020-12-21): {df_final_ab_new_users.groupby('user_id')['first_date'].min().reset_index()['first_date'].max()}\")"
   ],
   "metadata": {
    "collapsed": false
   }
  },
  {
   "cell_type": "markdown",
   "source": [
    "Вывод: из данных видно, что дата остановки набора пользователей не сходиться и оканчивается позже, но т.к. в базе результаты двух тестов, то нужно проверить к какому тесту относятся пользователи, которые превысили дату."
   ],
   "metadata": {
    "collapsed": false
   }
  },
  {
   "cell_type": "code",
   "execution_count": 674,
   "outputs": [
    {
     "name": "stdout",
     "output_type": "stream",
     "text": [
      "5263 3385\n"
     ]
    },
    {
     "data": {
      "text/plain": "False    5263\nName: user_id, dtype: int64"
     },
     "execution_count": 674,
     "metadata": {},
     "output_type": "execute_result"
    }
   ],
   "source": [
    "df_final_ab_participants_A0 = df_final_ab_new_users[(df_final_ab_new_users['first_date'] > '2020-12-21')]\n",
    "df_final_ab_participants_A1 = df_final_ab_participants[(df_final_ab_participants['group'] == 'A')&(df_final_ab_participants['ab_test'] == 'recommender_system_test')]\n",
    "print(len(df_final_ab_participants_A0), len(df_final_ab_participants_A1))\n",
    "df_final_ab_participants_A0['user_id'].isin(df_final_ab_participants_A1['user_id']).value_counts()"
   ],
   "metadata": {
    "collapsed": false
   }
  },
  {
   "cell_type": "code",
   "execution_count": 675,
   "outputs": [
    {
     "name": "stdout",
     "output_type": "stream",
     "text": [
      "5263 5494\n"
     ]
    },
    {
     "data": {
      "text/plain": "False    4774\nTrue      489\nName: user_id, dtype: int64"
     },
     "execution_count": 675,
     "metadata": {},
     "output_type": "execute_result"
    }
   ],
   "source": [
    "df_final_ab_participants_A0 = df_final_ab_new_users[(df_final_ab_new_users['first_date'] > '2020-12-21')]\n",
    "df_final_ab_participants_A1 = df_final_ab_participants[(df_final_ab_participants['group'] == 'A')&(df_final_ab_participants['ab_test'] == 'interface_eu_test')]\n",
    "print(len(df_final_ab_participants_A0), len(df_final_ab_participants_A1))\n",
    "df_final_ab_participants_A0['user_id'].isin(df_final_ab_participants_A1['user_id']).value_counts()"
   ],
   "metadata": {
    "collapsed": false
   }
  },
  {
   "cell_type": "markdown",
   "source": [
    "Вывод: как видим это пользователи из другого теста попали в выборку."
   ],
   "metadata": {
    "collapsed": false
   }
  },
  {
   "cell_type": "code",
   "execution_count": 676,
   "outputs": [
    {
     "name": "stdout",
     "output_type": "stream",
     "text": [
      "дата остановки (2021-01-04): 2020-12-29 09:03:53\n"
     ]
    }
   ],
   "source": [
    "print(f\"дата остановки (2021-01-04): {df_final_ab_events.groupby('user_id')['event_dt'].min().reset_index()['event_dt'].max()}\")"
   ],
   "metadata": {
    "collapsed": false
   }
  },
  {
   "cell_type": "markdown",
   "source": [
    "Вывод: данные по действиям пользователя не превышают дату остановки теста, но стоит обратить внимание, что по 29.12 не было совершенно ни одного действия"
   ],
   "metadata": {
    "collapsed": false
   }
  },
  {
   "cell_type": "code",
   "execution_count": 677,
   "outputs": [
    {
     "name": "stdout",
     "output_type": "stream",
     "text": [
      "аудитория: 15% новых пользователей из региона EU: 74.9518085950788%\n"
     ]
    }
   ],
   "source": [
    "print(f\"аудитория: 15% новых пользователей из региона EU: {(len(df_final_ab_new_users[df_final_ab_new_users['region'] == 'EU']) / len(df_final_ab_new_users))*100}%\")"
   ],
   "metadata": {
    "collapsed": false
   }
  },
  {
   "cell_type": "markdown",
   "source": [
    "Вывод: как мы видим из полученных данных, всё совсем наоборот, большую часть составляют пользователи из EU"
   ],
   "metadata": {
    "collapsed": false
   }
  },
  {
   "cell_type": "code",
   "execution_count": 678,
   "outputs": [
    {
     "name": "stdout",
     "output_type": "stream",
     "text": [
      "назначение теста: тестирование изменений, связанных с внедрением улучшенной рекомендательной системы ['recommender_system_test' 'interface_eu_test']\n"
     ]
    }
   ],
   "source": [
    "print(f\"назначение теста: тестирование изменений, связанных с внедрением улучшенной рекомендательной системы {df_final_ab_participants['ab_test'].unique()}\")"
   ],
   "metadata": {
    "collapsed": false
   }
  },
  {
   "cell_type": "markdown",
   "source": [
    "Вывод: видно, что в списке есть еще один тест."
   ],
   "metadata": {
    "collapsed": false
   }
  },
  {
   "cell_type": "code",
   "execution_count": 679,
   "outputs": [
    {
     "name": "stdout",
     "output_type": "stream",
     "text": [
      "ожидаемое количество участников теста: 6000 15890\n"
     ]
    }
   ],
   "source": [
    "print(f\"ожидаемое количество участников теста: 6000 {df_final_ab_participants['user_id'].nunique()}\")"
   ],
   "metadata": {
    "collapsed": false
   }
  },
  {
   "cell_type": "markdown",
   "source": [
    "Вывод: кол-во участников превышенно в 2,5 раза"
   ],
   "metadata": {
    "collapsed": false
   }
  },
  {
   "cell_type": "markdown",
   "source": [],
   "metadata": {
    "collapsed": false
   }
  },
  {
   "cell_type": "markdown",
   "source": [
    "- ожидаемый эффект: за 14 дней с момента регистрации пользователи покажут улучшение каждой метрики не менее, чем на 10%:\n",
    "    - конверсии в просмотр карточек товаров — событие `product_page`,\n",
    "    - просмотры корзины — `product_cart`,\n",
    "    - покупки — `purchase`."
   ],
   "metadata": {
    "collapsed": false
   }
  },
  {
   "cell_type": "code",
   "execution_count": 680,
   "outputs": [
    {
     "name": "stdout",
     "output_type": "stream",
     "text": [
      "конверсии в просмотр карточек товаров — событие product_page 0.1281337047353759\n"
     ]
    }
   ],
   "source": [
    "a = len(df_final_ab_events[(df_final_ab_events['event_dt_t0'] == '2020-12-07')&(df_final_ab_events['event_name'] == 'product_page')]) / df_final_ab_events['user_id'].nunique() * 100\n",
    "b = len(df_final_ab_events[(df_final_ab_events['event_dt_t0'] == '2020-12-29')&(df_final_ab_events['event_name'] == 'product_page')]) / df_final_ab_events['user_id'].nunique() * 100\n",
    "print(f\"конверсии в просмотр карточек товаров — событие product_page {a/b -1}\")"
   ],
   "metadata": {
    "collapsed": false
   }
  },
  {
   "cell_type": "code",
   "execution_count": 681,
   "outputs": [
    {
     "name": "stdout",
     "output_type": "stream",
     "text": [
      "просмотры корзины — `product_cart` 0.08133971291866016\n"
     ]
    }
   ],
   "source": [
    "a = len(df_final_ab_events[(df_final_ab_events['event_dt_t0'] == '2020-12-07')&(df_final_ab_events['event_name'] == 'product_cart')]) / df_final_ab_events['user_id'].nunique() * 100\n",
    "b = len(df_final_ab_events[(df_final_ab_events['event_dt_t0'] == '2020-12-29')&(df_final_ab_events['event_name'] == 'product_cart')]) / df_final_ab_events['user_id'].nunique() * 100\n",
    "print(f\"просмотры корзины — `product_cart` {a/b -1}\")"
   ],
   "metadata": {
    "collapsed": false
   }
  },
  {
   "cell_type": "code",
   "execution_count": 682,
   "outputs": [
    {
     "name": "stdout",
     "output_type": "stream",
     "text": [
      "покупки — `purchase` 0.1587078651685394\n"
     ]
    }
   ],
   "source": [
    "a = len(df_final_ab_events[(df_final_ab_events['event_dt_t0'] == '2020-12-07')&(df_final_ab_events['event_name'] == 'purchase')]) / df_final_ab_events['user_id'].nunique() * 100\n",
    "b = len(df_final_ab_events[(df_final_ab_events['event_dt_t0'] == '2020-12-29')&(df_final_ab_events['event_name'] == 'purchase')]) / df_final_ab_events['user_id'].nunique() * 100\n",
    "print(f\"покупки — `purchase` {a/b -1}\")"
   ],
   "metadata": {
    "collapsed": false
   }
  },
  {
   "cell_type": "markdown",
   "source": [
    "Вывод: из полученных данных видно, что конверсия по двум показателям улучшиласть не менее, чем на 10%, но Просмотры корзины не дотянули и составили 8%"
   ],
   "metadata": {
    "collapsed": false
   }
  },
  {
   "cell_type": "markdown",
   "source": [
    "### Время проведения теста. Убедитесь, что оно не совпадает с маркетинговыми и другими активностями."
   ],
   "metadata": {
    "collapsed": false
   }
  },
  {
   "cell_type": "code",
   "execution_count": 683,
   "outputs": [
    {
     "data": {
      "text/plain": "                                name                   regions   start_dt  \\\n0           Christmas&New Year Promo             EU, N.America 2020-12-25   \n1       St. Valentine's Day Giveaway  EU, CIS, APAC, N.America 2020-02-14   \n2             St. Patric's Day Promo             EU, N.America 2020-03-17   \n3                       Easter Promo  EU, CIS, APAC, N.America 2020-04-12   \n4                  4th of July Promo                 N.America 2020-07-04   \n5          Black Friday Ads Campaign  EU, CIS, APAC, N.America 2020-11-26   \n6             Chinese New Year Promo                      APAC 2020-01-25   \n7   Labor day (May 1st) Ads Campaign             EU, CIS, APAC 2020-05-01   \n8    International Women's Day Promo             EU, CIS, APAC 2020-03-08   \n9    Victory Day CIS (May 9th) Event                       CIS 2020-05-09   \n10         CIS New Year Gift Lottery                       CIS 2020-12-30   \n11     Dragon Boat Festival Giveaway                      APAC 2020-06-25   \n12           Single's Day Gift Promo                      APAC 2020-11-11   \n13             Chinese Moon Festival                      APAC 2020-10-01   \n\n    finish_dt  \n0  2021-01-03  \n1  2020-02-16  \n2  2020-03-19  \n3  2020-04-19  \n4  2020-07-11  \n5  2020-12-01  \n6  2020-02-07  \n7  2020-05-03  \n8  2020-03-10  \n9  2020-05-11  \n10 2021-01-07  \n11 2020-07-01  \n12 2020-11-12  \n13 2020-10-07  ",
      "text/html": "<div>\n<style scoped>\n    .dataframe tbody tr th:only-of-type {\n        vertical-align: middle;\n    }\n\n    .dataframe tbody tr th {\n        vertical-align: top;\n    }\n\n    .dataframe thead th {\n        text-align: right;\n    }\n</style>\n<table border=\"1\" class=\"dataframe\">\n  <thead>\n    <tr style=\"text-align: right;\">\n      <th></th>\n      <th>name</th>\n      <th>regions</th>\n      <th>start_dt</th>\n      <th>finish_dt</th>\n    </tr>\n  </thead>\n  <tbody>\n    <tr>\n      <th>0</th>\n      <td>Christmas&amp;New Year Promo</td>\n      <td>EU, N.America</td>\n      <td>2020-12-25</td>\n      <td>2021-01-03</td>\n    </tr>\n    <tr>\n      <th>1</th>\n      <td>St. Valentine's Day Giveaway</td>\n      <td>EU, CIS, APAC, N.America</td>\n      <td>2020-02-14</td>\n      <td>2020-02-16</td>\n    </tr>\n    <tr>\n      <th>2</th>\n      <td>St. Patric's Day Promo</td>\n      <td>EU, N.America</td>\n      <td>2020-03-17</td>\n      <td>2020-03-19</td>\n    </tr>\n    <tr>\n      <th>3</th>\n      <td>Easter Promo</td>\n      <td>EU, CIS, APAC, N.America</td>\n      <td>2020-04-12</td>\n      <td>2020-04-19</td>\n    </tr>\n    <tr>\n      <th>4</th>\n      <td>4th of July Promo</td>\n      <td>N.America</td>\n      <td>2020-07-04</td>\n      <td>2020-07-11</td>\n    </tr>\n    <tr>\n      <th>5</th>\n      <td>Black Friday Ads Campaign</td>\n      <td>EU, CIS, APAC, N.America</td>\n      <td>2020-11-26</td>\n      <td>2020-12-01</td>\n    </tr>\n    <tr>\n      <th>6</th>\n      <td>Chinese New Year Promo</td>\n      <td>APAC</td>\n      <td>2020-01-25</td>\n      <td>2020-02-07</td>\n    </tr>\n    <tr>\n      <th>7</th>\n      <td>Labor day (May 1st) Ads Campaign</td>\n      <td>EU, CIS, APAC</td>\n      <td>2020-05-01</td>\n      <td>2020-05-03</td>\n    </tr>\n    <tr>\n      <th>8</th>\n      <td>International Women's Day Promo</td>\n      <td>EU, CIS, APAC</td>\n      <td>2020-03-08</td>\n      <td>2020-03-10</td>\n    </tr>\n    <tr>\n      <th>9</th>\n      <td>Victory Day CIS (May 9th) Event</td>\n      <td>CIS</td>\n      <td>2020-05-09</td>\n      <td>2020-05-11</td>\n    </tr>\n    <tr>\n      <th>10</th>\n      <td>CIS New Year Gift Lottery</td>\n      <td>CIS</td>\n      <td>2020-12-30</td>\n      <td>2021-01-07</td>\n    </tr>\n    <tr>\n      <th>11</th>\n      <td>Dragon Boat Festival Giveaway</td>\n      <td>APAC</td>\n      <td>2020-06-25</td>\n      <td>2020-07-01</td>\n    </tr>\n    <tr>\n      <th>12</th>\n      <td>Single's Day Gift Promo</td>\n      <td>APAC</td>\n      <td>2020-11-11</td>\n      <td>2020-11-12</td>\n    </tr>\n    <tr>\n      <th>13</th>\n      <td>Chinese Moon Festival</td>\n      <td>APAC</td>\n      <td>2020-10-01</td>\n      <td>2020-10-07</td>\n    </tr>\n  </tbody>\n</table>\n</div>"
     },
     "execution_count": 683,
     "metadata": {},
     "output_type": "execute_result"
    }
   ],
   "source": [
    "df_ab_project_marketing_events"
   ],
   "metadata": {
    "collapsed": false
   }
  },
  {
   "cell_type": "code",
   "execution_count": 684,
   "outputs": [
    {
     "data": {
      "text/plain": "                         name        regions   start_dt  finish_dt\n0    Christmas&New Year Promo  EU, N.America 2020-12-25 2021-01-03\n10  CIS New Year Gift Lottery            CIS 2020-12-30 2021-01-07",
      "text/html": "<div>\n<style scoped>\n    .dataframe tbody tr th:only-of-type {\n        vertical-align: middle;\n    }\n\n    .dataframe tbody tr th {\n        vertical-align: top;\n    }\n\n    .dataframe thead th {\n        text-align: right;\n    }\n</style>\n<table border=\"1\" class=\"dataframe\">\n  <thead>\n    <tr style=\"text-align: right;\">\n      <th></th>\n      <th>name</th>\n      <th>regions</th>\n      <th>start_dt</th>\n      <th>finish_dt</th>\n    </tr>\n  </thead>\n  <tbody>\n    <tr>\n      <th>0</th>\n      <td>Christmas&amp;New Year Promo</td>\n      <td>EU, N.America</td>\n      <td>2020-12-25</td>\n      <td>2021-01-03</td>\n    </tr>\n    <tr>\n      <th>10</th>\n      <td>CIS New Year Gift Lottery</td>\n      <td>CIS</td>\n      <td>2020-12-30</td>\n      <td>2021-01-07</td>\n    </tr>\n  </tbody>\n</table>\n</div>"
     },
     "execution_count": 684,
     "metadata": {},
     "output_type": "execute_result"
    }
   ],
   "source": [
    "df_ab_project_marketing_events[(df_ab_project_marketing_events['start_dt'] >= '2020-12-07') & (df_ab_project_marketing_events['start_dt'] <= '2021-01-04')]"
   ],
   "metadata": {
    "collapsed": false
   }
  },
  {
   "cell_type": "markdown",
   "source": [
    "Вывод: как видно из полученнных данных, две маркетенговые компании попадают на время проведения теста."
   ],
   "metadata": {
    "collapsed": false
   }
  },
  {
   "cell_type": "markdown",
   "source": [
    "### Аудиторию теста. Удостоверьтесь, что нет пересечений с конкурирующим тестом и нет пользователей, участвующих в двух группах теста одновременно. Проверьте равномерность распределения по тестовым группам и правильность их формирования"
   ],
   "metadata": {
    "collapsed": false
   }
  },
  {
   "cell_type": "code",
   "execution_count": 685,
   "outputs": [
    {
     "name": "stdout",
     "output_type": "stream",
     "text": [
      "3385 5494\n"
     ]
    },
    {
     "data": {
      "text/plain": "False    2903\nTrue      482\nName: user_id, dtype: int64"
     },
     "execution_count": 685,
     "metadata": {},
     "output_type": "execute_result"
    }
   ],
   "source": [
    "df_final_ab_participants_A_rec = df_final_ab_participants[(df_final_ab_participants['group'] == 'A')&(df_final_ab_participants['ab_test'] == 'recommender_system_test')]\n",
    "df_final_ab_participants_A_int = df_final_ab_participants[(df_final_ab_participants['group'] == 'A')&(df_final_ab_participants['ab_test'] == 'interface_eu_test')]\n",
    "print(len(df_final_ab_participants_A_rec), len(df_final_ab_participants_A_int))\n",
    "df_final_ab_participants_A_rec['user_id'].isin(df_final_ab_participants_A_int['user_id']).value_counts ()"
   ],
   "metadata": {
    "collapsed": false
   }
  },
  {
   "cell_type": "code",
   "execution_count": 686,
   "outputs": [
    {
     "name": "stdout",
     "output_type": "stream",
     "text": [
      "2540 5297\n"
     ]
    },
    {
     "data": {
      "text/plain": "False    2196\nTrue      344\nName: user_id, dtype: int64"
     },
     "execution_count": 686,
     "metadata": {},
     "output_type": "execute_result"
    }
   ],
   "source": [
    "df_final_ab_participants_B_rec = df_final_ab_participants[(df_final_ab_participants['group'] == 'B')&(df_final_ab_participants['ab_test'] == 'recommender_system_test')]\n",
    "df_final_ab_participants_B_int = df_final_ab_participants[(df_final_ab_participants['group'] == 'B')&(df_final_ab_participants['ab_test'] == 'interface_eu_test')]\n",
    "print(len(df_final_ab_participants_B_rec), len(df_final_ab_participants_B_int))\n",
    "df_final_ab_participants_B_rec['user_id'].isin(df_final_ab_participants_B_int['user_id']).value_counts ()"
   ],
   "metadata": {
    "collapsed": false
   }
  },
  {
   "cell_type": "code",
   "execution_count": 687,
   "outputs": [],
   "source": [
    "df_final_ab_participants_A = df_final_ab_participants[df_final_ab_participants['group'] == 'A']\n",
    "df_final_ab_participants_B = df_final_ab_participants[df_final_ab_participants['group'] == 'B']"
   ],
   "metadata": {
    "collapsed": false
   }
  },
  {
   "cell_type": "code",
   "execution_count": 688,
   "outputs": [
    {
     "name": "stdout",
     "output_type": "stream",
     "text": [
      "8879 7837 0.1329590404491514\n"
     ]
    },
    {
     "data": {
      "text/plain": "False    8879\nName: user_id, dtype: int64"
     },
     "execution_count": 688,
     "metadata": {},
     "output_type": "execute_result"
    }
   ],
   "source": [
    "print(len(df_final_ab_participants_A), len(df_final_ab_participants_B), len(df_final_ab_participants_A)/len(df_final_ab_participants_B) - 1)\n",
    "df_final_ab_participants_A['user_id'].isin(df_final_ab_participants_B['user_id']).value_counts ()"
   ],
   "metadata": {
    "collapsed": false
   }
  },
  {
   "cell_type": "markdown",
   "source": [
    "Вывод: как видно из полученных данных, в выборке А - 482 пользователя пересекаются, а в выборке В - 344. Кол-во участников в группе В на 13% меньше, чем в А. Так же выше уже было отмечено, что в группу А и В попали одни и те же пользователи."
   ],
   "metadata": {
    "collapsed": false
   }
  },
  {
   "cell_type": "markdown",
   "source": [
    "## Проведите исследовательский анализ данных:\n",
    "- Количество событий на пользователя одинаково распределены в выборках?\n",
    "- Как число событий в выборках распределено по дням?\n",
    "- Как меняется конверсия в воронке в выборках на разных этапах?\n",
    "- Какие особенности данных нужно учесть, прежде чем приступать к A/B-тестированию?"
   ],
   "metadata": {
    "collapsed": false
   }
  },
  {
   "cell_type": "markdown",
   "source": [
    "### Количество событий на пользователя одинаково распределены в выборках?"
   ],
   "metadata": {
    "collapsed": false
   }
  },
  {
   "cell_type": "code",
   "execution_count": 689,
   "outputs": [
    {
     "data": {
      "text/plain": "array([[<AxesSubplot:title={'center':'event_name'}>]], dtype=object)"
     },
     "execution_count": 689,
     "metadata": {},
     "output_type": "execute_result"
    },
    {
     "data": {
      "text/plain": "<Figure size 432x288 with 1 Axes>",
      "image/png": "[encoded data removed]"
     },
     "metadata": {
      "needs_background": "light"
     },
     "output_type": "display_data"
    }
   ],
   "source": [
    "df_final_ab_events[df_final_ab_events['user_id'].isin(df_final_ab_participants_A['user_id'])].groupby(['user_id'])['event_name'].count().reset_index().hist()"
   ],
   "metadata": {
    "collapsed": false
   }
  },
  {
   "cell_type": "code",
   "execution_count": 690,
   "outputs": [
    {
     "name": "stdout",
     "output_type": "stream",
     "text": [
      "p-значение:  0.0\n",
      "Отвергаем нулевую гипотезу: распределение не нормально\n"
     ]
    },
    {
     "name": "stderr",
     "output_type": "stream",
     "text": [
      "/Users/aleksandr/opt/anaconda3/lib/python3.9/site-packages/scipy/stats/morestats.py:1760: UserWarning: p-value may not be accurate for N > 5000.\n",
      "  warnings.warn(\"p-value may not be accurate for N > 5000.\")\n"
     ]
    }
   ],
   "source": [
    "df_ab_user_a = df_final_ab_events[df_final_ab_events['user_id'].isin(df_final_ab_participants_A['user_id'])].groupby(['user_id'])['event_name'].count().to_frame().reset_index()\n",
    "alpha = .05\n",
    "\n",
    "results = st.shapiro(df_ab_user_a.event_name)\n",
    "p_value = results[1]\n",
    "\n",
    "print('p-значение: ', p_value)\n",
    "\n",
    "if p_value < alpha:\n",
    "    print('Отвергаем нулевую гипотезу: распределение не нормально')\n",
    "else:\n",
    "    print('Не получилось отвергнуть нулевую гипотезу, всё нормально')\n"
   ],
   "metadata": {
    "collapsed": false
   }
  },
  {
   "cell_type": "code",
   "execution_count": 691,
   "outputs": [
    {
     "data": {
      "text/plain": "array([[<AxesSubplot:title={'center':'event_name'}>]], dtype=object)"
     },
     "execution_count": 691,
     "metadata": {},
     "output_type": "execute_result"
    },
    {
     "data": {
      "text/plain": "<Figure size 432x288 with 1 Axes>",
      "image/png": "[encoded data removed]"
     },
     "metadata": {
      "needs_background": "light"
     },
     "output_type": "display_data"
    }
   ],
   "source": [
    "df_final_ab_events[df_final_ab_events['user_id'].isin(df_final_ab_participants_B['user_id'])].groupby(['user_id'])['event_name'].count().reset_index().hist()"
   ],
   "metadata": {
    "collapsed": false
   }
  },
  {
   "cell_type": "code",
   "execution_count": 692,
   "outputs": [
    {
     "name": "stdout",
     "output_type": "stream",
     "text": [
      "p-значение:  0.0\n",
      "Отвергаем нулевую гипотезу: распределение не нормально\n"
     ]
    }
   ],
   "source": [
    "df_ab_user_b = df_final_ab_events[df_final_ab_events['user_id'].isin(df_final_ab_participants_B['user_id'])].groupby(['user_id'])['event_name'].count().to_frame().reset_index()\n",
    "alpha = .05\n",
    "\n",
    "results = st.shapiro(df_ab_user_b.event_name)\n",
    "p_value = results[1]\n",
    "\n",
    "print('p-значение: ', p_value)\n",
    "\n",
    "if p_value < alpha:\n",
    "    print('Отвергаем нулевую гипотезу: распределение не нормально')\n",
    "else:\n",
    "    print('Не получилось отвергнуть нулевую гипотезу, всё нормально')"
   ],
   "metadata": {
    "collapsed": false
   }
  },
  {
   "cell_type": "code",
   "execution_count": 693,
   "outputs": [
    {
     "name": "stdout",
     "output_type": "stream",
     "text": [
      "p-значение:  0.012100883183766113\n",
      "Отвергаем нулевую гипотезу: разница статистически значима\n"
     ]
    }
   ],
   "source": [
    "alpha = 0.05  # критический уровень статистической значимости\n",
    "\n",
    "results = st.mannwhitneyu(df_ab_user_a.event_name, df_ab_user_b.event_name)\n",
    "\n",
    "print('p-значение: ', results.pvalue)\n",
    "\n",
    "if results.pvalue < alpha:\n",
    "    print('Отвергаем нулевую гипотезу: разница статистически значима')\n",
    "else:\n",
    "    print(\n",
    "        'Не получилось отвергнуть нулевую гипотезу, вывод о различии сделать нельзя'\n",
    "    )"
   ],
   "metadata": {
    "collapsed": false
   }
  },
  {
   "cell_type": "markdown",
   "source": [
    "### Как число событий в выборках распределено по дням?"
   ],
   "metadata": {
    "collapsed": false
   }
  },
  {
   "cell_type": "code",
   "execution_count": 694,
   "outputs": [
    {
     "data": {
      "text/plain": "<AxesSubplot:>"
     },
     "execution_count": 694,
     "metadata": {},
     "output_type": "execute_result"
    },
    {
     "data": {
      "text/plain": "<Figure size 432x288 with 1 Axes>",
      "image/png": "[encoded data removed]"
     },
     "metadata": {
      "needs_background": "light"
     },
     "output_type": "display_data"
    }
   ],
   "source": [
    "df_final_ab_events[df_final_ab_events['user_id'].isin(df_final_ab_participants_A['user_id'])].groupby(['event_dt_t0'])['event_name'].count().hist()"
   ],
   "metadata": {
    "collapsed": false
   }
  },
  {
   "cell_type": "code",
   "execution_count": 695,
   "outputs": [
    {
     "name": "stdout",
     "output_type": "stream",
     "text": [
      "p-значение:  0.510229229927063\n",
      "Не получилось отвергнуть нулевую гипотезу, всё нормально\n"
     ]
    }
   ],
   "source": [
    "df_ab_date_a = df_final_ab_events[df_final_ab_events['user_id'].isin(df_final_ab_participants_A['user_id'])].groupby(['event_dt_t0'])['event_name'].count().to_frame().reset_index()\n",
    "alpha = .05\n",
    "\n",
    "results = st.shapiro(df_ab_date_a.event_name)\n",
    "p_value = results[1]\n",
    "\n",
    "print('p-значение: ', p_value)\n",
    "\n",
    "if p_value < alpha:\n",
    "    print('Отвергаем нулевую гипотезу: распределение не нормально')\n",
    "else:\n",
    "    print('Не получилось отвергнуть нулевую гипотезу, всё нормально')"
   ],
   "metadata": {
    "collapsed": false
   }
  },
  {
   "cell_type": "code",
   "execution_count": 696,
   "outputs": [
    {
     "data": {
      "text/plain": "<AxesSubplot:>"
     },
     "execution_count": 696,
     "metadata": {},
     "output_type": "execute_result"
    },
    {
     "data": {
      "text/plain": "<Figure size 432x288 with 1 Axes>",
      "image/png": "[encoded data removed]"
     },
     "metadata": {
      "needs_background": "light"
     },
     "output_type": "display_data"
    }
   ],
   "source": [
    "df_final_ab_events[df_final_ab_events['user_id'].isin(df_final_ab_participants_B['user_id'])].groupby(['event_dt_t0'])['event_name'].count().hist()"
   ],
   "metadata": {
    "collapsed": false
   }
  },
  {
   "cell_type": "code",
   "execution_count": 697,
   "outputs": [
    {
     "name": "stdout",
     "output_type": "stream",
     "text": [
      "p-значение:  0.6776079535484314\n",
      "Не получилось отвергнуть нулевую гипотезу, всё нормально\n"
     ]
    }
   ],
   "source": [
    "df_ab_date_b = df_final_ab_events[df_final_ab_events['user_id'].isin(df_final_ab_participants_B['user_id'])].groupby(['event_dt_t0'])['event_name'].count().to_frame().reset_index()\n",
    "alpha = .05\n",
    "\n",
    "results = st.shapiro(df_ab_date_b.event_name)\n",
    "p_value = results[1]\n",
    "\n",
    "print('p-значение: ', p_value)\n",
    "\n",
    "if p_value < alpha:\n",
    "    print('Отвергаем нулевую гипотезу: распределение не нормально')\n",
    "else:\n",
    "    print('Не получилось отвергнуть нулевую гипотезу, всё нормально')"
   ],
   "metadata": {
    "collapsed": false
   }
  },
  {
   "cell_type": "code",
   "execution_count": 698,
   "outputs": [
    {
     "name": "stdout",
     "output_type": "stream",
     "text": [
      "p-значение:  0.052586640271858456\n",
      "Не получилось отвергнуть нулевую гипотезу, вывод о различии сделать нельзя\n"
     ]
    }
   ],
   "source": [
    "alpha = 0.05  # критический уровень статистической значимости\n",
    "\n",
    "results = st.mannwhitneyu(df_ab_date_a.event_name, df_ab_date_b.event_name)\n",
    "\n",
    "print('p-значение: ', results.pvalue)\n",
    "\n",
    "if results.pvalue < alpha:\n",
    "    print('Отвергаем нулевую гипотезу: разница статистически значима')\n",
    "else:\n",
    "    print(\n",
    "        'Не получилось отвергнуть нулевую гипотезу, вывод о различии сделать нельзя'\n",
    "    )"
   ],
   "metadata": {
    "collapsed": false
   }
  },
  {
   "cell_type": "markdown",
   "source": [
    "Вывод: как видно из полученных данных, Количество событий на пользователя одинаково распределены - не нормально, а число событий в выборках распределено по дням - нормально."
   ],
   "metadata": {
    "collapsed": false
   }
  },
  {
   "cell_type": "markdown",
   "source": [
    "### Как меняется конверсия в воронке в выборках на разных этапах?"
   ],
   "metadata": {
    "collapsed": false
   }
  },
  {
   "cell_type": "code",
   "execution_count": 757,
   "outputs": [
    {
     "data": {
      "text/plain": "                 user_id event_dt_t0   sum  count\n0       0001710F4DDB1D1B  2020-12-14  0.00      0\n1       0001710F4DDB1D1B  2020-12-15  0.00      0\n2       000199F1887AE5E6  2020-12-14  4.99      1\n3       000199F1887AE5E6  2020-12-15  4.99      1\n4       000199F1887AE5E6  2020-12-20  4.99      1\n...                  ...         ...   ...    ...\n189714  FFFAB034A09DCC28  2020-12-18  0.00      0\n189715  FFFAB034A09DCC28  2020-12-21  0.00      0\n189716  FFFFE36C0F6E92DF  2020-12-22  0.00      0\n189717  FFFFE36C0F6E92DF  2020-12-23  0.00      0\n189718  FFFFE36C0F6E92DF  2020-12-26  0.00      0\n\n[189719 rows x 4 columns]",
      "text/html": "<div>\n<style scoped>\n    .dataframe tbody tr th:only-of-type {\n        vertical-align: middle;\n    }\n\n    .dataframe tbody tr th {\n        vertical-align: top;\n    }\n\n    .dataframe thead th {\n        text-align: right;\n    }\n</style>\n<table border=\"1\" class=\"dataframe\">\n  <thead>\n    <tr style=\"text-align: right;\">\n      <th></th>\n      <th>user_id</th>\n      <th>event_dt_t0</th>\n      <th>sum</th>\n      <th>count</th>\n    </tr>\n  </thead>\n  <tbody>\n    <tr>\n      <th>0</th>\n      <td>0001710F4DDB1D1B</td>\n      <td>2020-12-14</td>\n      <td>0.00</td>\n      <td>0</td>\n    </tr>\n    <tr>\n      <th>1</th>\n      <td>0001710F4DDB1D1B</td>\n      <td>2020-12-15</td>\n      <td>0.00</td>\n      <td>0</td>\n    </tr>\n    <tr>\n      <th>2</th>\n      <td>000199F1887AE5E6</td>\n      <td>2020-12-14</td>\n      <td>4.99</td>\n      <td>1</td>\n    </tr>\n    <tr>\n      <th>3</th>\n      <td>000199F1887AE5E6</td>\n      <td>2020-12-15</td>\n      <td>4.99</td>\n      <td>1</td>\n    </tr>\n    <tr>\n      <th>4</th>\n      <td>000199F1887AE5E6</td>\n      <td>2020-12-20</td>\n      <td>4.99</td>\n      <td>1</td>\n    </tr>\n    <tr>\n      <th>...</th>\n      <td>...</td>\n      <td>...</td>\n      <td>...</td>\n      <td>...</td>\n    </tr>\n    <tr>\n      <th>189714</th>\n      <td>FFFAB034A09DCC28</td>\n      <td>2020-12-18</td>\n      <td>0.00</td>\n      <td>0</td>\n    </tr>\n    <tr>\n      <th>189715</th>\n      <td>FFFAB034A09DCC28</td>\n      <td>2020-12-21</td>\n      <td>0.00</td>\n      <td>0</td>\n    </tr>\n    <tr>\n      <th>189716</th>\n      <td>FFFFE36C0F6E92DF</td>\n      <td>2020-12-22</td>\n      <td>0.00</td>\n      <td>0</td>\n    </tr>\n    <tr>\n      <th>189717</th>\n      <td>FFFFE36C0F6E92DF</td>\n      <td>2020-12-23</td>\n      <td>0.00</td>\n      <td>0</td>\n    </tr>\n    <tr>\n      <th>189718</th>\n      <td>FFFFE36C0F6E92DF</td>\n      <td>2020-12-26</td>\n      <td>0.00</td>\n      <td>0</td>\n    </tr>\n  </tbody>\n</table>\n<p>189719 rows × 4 columns</p>\n</div>"
     },
     "execution_count": 757,
     "metadata": {},
     "output_type": "execute_result"
    }
   ],
   "source": [
    "df_final_ab_events_gr = df_final_ab_events.groupby(['user_id', 'event_dt_t0'])['details'].agg(['sum', 'count'])\n",
    "df_final_ab_events_gr = df_final_ab_events_gr.reset_index()\n",
    "\n",
    "df_final_ab_events_gr"
   ],
   "metadata": {
    "collapsed": false
   }
  },
  {
   "cell_type": "code",
   "execution_count": 758,
   "outputs": [
    {
     "data": {
      "text/plain": "               user_id group                  ab_test first_date region  \\\n0     D1ABA3E2887B6A73     A  recommender_system_test 2020-12-07     EU   \n1     A7A3664BD6242119     A  recommender_system_test 2020-12-20     EU   \n2     DABC14FDDFADD29E     A  recommender_system_test 2020-12-08     EU   \n3     04988C5DF189632E     A  recommender_system_test 2020-12-14     EU   \n4     4FF2998A348C484F     A  recommender_system_test 2020-12-20     EU   \n...                ...   ...                      ...        ...    ...   \n8874  96304D5B53694096     A        interface_eu_test 2020-12-10     EU   \n8875  A1281767A2983E4D     A        interface_eu_test 2020-12-21     EU   \n8876  3DE51B726983B657     A        interface_eu_test 2020-12-07     EU   \n8877  F501F79D332BE86C     A        interface_eu_test 2020-12-17     EU   \n8878  63FBE257B05F2245     A        interface_eu_test 2020-12-20     EU   \n\n       device  \n0          PC  \n1      iPhone  \n2         Mac  \n3      iPhone  \n4         Mac  \n...       ...  \n8874      Mac  \n8875  Android  \n8876  Android  \n8877      Mac  \n8878  Android  \n\n[8879 rows x 6 columns]",
      "text/html": "<div>\n<style scoped>\n    .dataframe tbody tr th:only-of-type {\n        vertical-align: middle;\n    }\n\n    .dataframe tbody tr th {\n        vertical-align: top;\n    }\n\n    .dataframe thead th {\n        text-align: right;\n    }\n</style>\n<table border=\"1\" class=\"dataframe\">\n  <thead>\n    <tr style=\"text-align: right;\">\n      <th></th>\n      <th>user_id</th>\n      <th>group</th>\n      <th>ab_test</th>\n      <th>first_date</th>\n      <th>region</th>\n      <th>device</th>\n    </tr>\n  </thead>\n  <tbody>\n    <tr>\n      <th>0</th>\n      <td>D1ABA3E2887B6A73</td>\n      <td>A</td>\n      <td>recommender_system_test</td>\n      <td>2020-12-07</td>\n      <td>EU</td>\n      <td>PC</td>\n    </tr>\n    <tr>\n      <th>1</th>\n      <td>A7A3664BD6242119</td>\n      <td>A</td>\n      <td>recommender_system_test</td>\n      <td>2020-12-20</td>\n      <td>EU</td>\n      <td>iPhone</td>\n    </tr>\n    <tr>\n      <th>2</th>\n      <td>DABC14FDDFADD29E</td>\n      <td>A</td>\n      <td>recommender_system_test</td>\n      <td>2020-12-08</td>\n      <td>EU</td>\n      <td>Mac</td>\n    </tr>\n    <tr>\n      <th>3</th>\n      <td>04988C5DF189632E</td>\n      <td>A</td>\n      <td>recommender_system_test</td>\n      <td>2020-12-14</td>\n      <td>EU</td>\n      <td>iPhone</td>\n    </tr>\n    <tr>\n      <th>4</th>\n      <td>4FF2998A348C484F</td>\n      <td>A</td>\n      <td>recommender_system_test</td>\n      <td>2020-12-20</td>\n      <td>EU</td>\n      <td>Mac</td>\n    </tr>\n    <tr>\n      <th>...</th>\n      <td>...</td>\n      <td>...</td>\n      <td>...</td>\n      <td>...</td>\n      <td>...</td>\n      <td>...</td>\n    </tr>\n    <tr>\n      <th>8874</th>\n      <td>96304D5B53694096</td>\n      <td>A</td>\n      <td>interface_eu_test</td>\n      <td>2020-12-10</td>\n      <td>EU</td>\n      <td>Mac</td>\n    </tr>\n    <tr>\n      <th>8875</th>\n      <td>A1281767A2983E4D</td>\n      <td>A</td>\n      <td>interface_eu_test</td>\n      <td>2020-12-21</td>\n      <td>EU</td>\n      <td>Android</td>\n    </tr>\n    <tr>\n      <th>8876</th>\n      <td>3DE51B726983B657</td>\n      <td>A</td>\n      <td>interface_eu_test</td>\n      <td>2020-12-07</td>\n      <td>EU</td>\n      <td>Android</td>\n    </tr>\n    <tr>\n      <th>8877</th>\n      <td>F501F79D332BE86C</td>\n      <td>A</td>\n      <td>interface_eu_test</td>\n      <td>2020-12-17</td>\n      <td>EU</td>\n      <td>Mac</td>\n    </tr>\n    <tr>\n      <th>8878</th>\n      <td>63FBE257B05F2245</td>\n      <td>A</td>\n      <td>interface_eu_test</td>\n      <td>2020-12-20</td>\n      <td>EU</td>\n      <td>Android</td>\n    </tr>\n  </tbody>\n</table>\n<p>8879 rows × 6 columns</p>\n</div>"
     },
     "execution_count": 758,
     "metadata": {},
     "output_type": "execute_result"
    }
   ],
   "source": [
    "df_all_a = df_final_ab_participants_A.merge(df_final_ab_new_users, how='left', on='user_id')\n",
    "df_all_a"
   ],
   "metadata": {
    "collapsed": false
   }
  },
  {
   "cell_type": "code",
   "execution_count": 759,
   "outputs": [
    {
     "data": {
      "text/plain": "                user_id group                  ab_test first_date region  \\\n0      D1ABA3E2887B6A73     A  recommender_system_test 2020-12-07     EU   \n1      D1ABA3E2887B6A73     A  recommender_system_test 2020-12-07     EU   \n2      A7A3664BD6242119     A  recommender_system_test 2020-12-20     EU   \n3      A7A3664BD6242119     A  recommender_system_test 2020-12-20     EU   \n4      A7A3664BD6242119     A  recommender_system_test 2020-12-20     EU   \n...                 ...   ...                      ...        ...    ...   \n25043  F501F79D332BE86C     A        interface_eu_test 2020-12-17     EU   \n25044  F501F79D332BE86C     A        interface_eu_test 2020-12-17     EU   \n25045  F501F79D332BE86C     A        interface_eu_test 2020-12-17     EU   \n25046  63FBE257B05F2245     A        interface_eu_test 2020-12-20     EU   \n25047  63FBE257B05F2245     A        interface_eu_test 2020-12-20     EU   \n\n        device event_dt_t0    sum  count  \n0           PC  2020-12-07  99.99      1  \n1           PC  2020-12-25   4.99      1  \n2       iPhone  2020-12-20   0.00      0  \n3       iPhone  2020-12-21   0.00      0  \n4       iPhone  2020-12-25   0.00      0  \n...        ...         ...    ...    ...  \n25043      Mac  2020-12-21   4.99      1  \n25044      Mac  2020-12-22   4.99      1  \n25045      Mac  2020-12-25   4.99      1  \n25046  Android  2020-12-20   0.00      0  \n25047  Android  2020-12-23   0.00      0  \n\n[25048 rows x 9 columns]",
      "text/html": "<div>\n<style scoped>\n    .dataframe tbody tr th:only-of-type {\n        vertical-align: middle;\n    }\n\n    .dataframe tbody tr th {\n        vertical-align: top;\n    }\n\n    .dataframe thead th {\n        text-align: right;\n    }\n</style>\n<table border=\"1\" class=\"dataframe\">\n  <thead>\n    <tr style=\"text-align: right;\">\n      <th></th>\n      <th>user_id</th>\n      <th>group</th>\n      <th>ab_test</th>\n      <th>first_date</th>\n      <th>region</th>\n      <th>device</th>\n      <th>event_dt_t0</th>\n      <th>sum</th>\n      <th>count</th>\n    </tr>\n  </thead>\n  <tbody>\n    <tr>\n      <th>0</th>\n      <td>D1ABA3E2887B6A73</td>\n      <td>A</td>\n      <td>recommender_system_test</td>\n      <td>2020-12-07</td>\n      <td>EU</td>\n      <td>PC</td>\n      <td>2020-12-07</td>\n      <td>99.99</td>\n      <td>1</td>\n    </tr>\n    <tr>\n      <th>1</th>\n      <td>D1ABA3E2887B6A73</td>\n      <td>A</td>\n      <td>recommender_system_test</td>\n      <td>2020-12-07</td>\n      <td>EU</td>\n      <td>PC</td>\n      <td>2020-12-25</td>\n      <td>4.99</td>\n      <td>1</td>\n    </tr>\n    <tr>\n      <th>2</th>\n      <td>A7A3664BD6242119</td>\n      <td>A</td>\n      <td>recommender_system_test</td>\n      <td>2020-12-20</td>\n      <td>EU</td>\n      <td>iPhone</td>\n      <td>2020-12-20</td>\n      <td>0.00</td>\n      <td>0</td>\n    </tr>\n    <tr>\n      <th>3</th>\n      <td>A7A3664BD6242119</td>\n      <td>A</td>\n      <td>recommender_system_test</td>\n      <td>2020-12-20</td>\n      <td>EU</td>\n      <td>iPhone</td>\n      <td>2020-12-21</td>\n      <td>0.00</td>\n      <td>0</td>\n    </tr>\n    <tr>\n      <th>4</th>\n      <td>A7A3664BD6242119</td>\n      <td>A</td>\n      <td>recommender_system_test</td>\n      <td>2020-12-20</td>\n      <td>EU</td>\n      <td>iPhone</td>\n      <td>2020-12-25</td>\n      <td>0.00</td>\n      <td>0</td>\n    </tr>\n    <tr>\n      <th>...</th>\n      <td>...</td>\n      <td>...</td>\n      <td>...</td>\n      <td>...</td>\n      <td>...</td>\n      <td>...</td>\n      <td>...</td>\n      <td>...</td>\n      <td>...</td>\n    </tr>\n    <tr>\n      <th>25043</th>\n      <td>F501F79D332BE86C</td>\n      <td>A</td>\n      <td>interface_eu_test</td>\n      <td>2020-12-17</td>\n      <td>EU</td>\n      <td>Mac</td>\n      <td>2020-12-21</td>\n      <td>4.99</td>\n      <td>1</td>\n    </tr>\n    <tr>\n      <th>25044</th>\n      <td>F501F79D332BE86C</td>\n      <td>A</td>\n      <td>interface_eu_test</td>\n      <td>2020-12-17</td>\n      <td>EU</td>\n      <td>Mac</td>\n      <td>2020-12-22</td>\n      <td>4.99</td>\n      <td>1</td>\n    </tr>\n    <tr>\n      <th>25045</th>\n      <td>F501F79D332BE86C</td>\n      <td>A</td>\n      <td>interface_eu_test</td>\n      <td>2020-12-17</td>\n      <td>EU</td>\n      <td>Mac</td>\n      <td>2020-12-25</td>\n      <td>4.99</td>\n      <td>1</td>\n    </tr>\n    <tr>\n      <th>25046</th>\n      <td>63FBE257B05F2245</td>\n      <td>A</td>\n      <td>interface_eu_test</td>\n      <td>2020-12-20</td>\n      <td>EU</td>\n      <td>Android</td>\n      <td>2020-12-20</td>\n      <td>0.00</td>\n      <td>0</td>\n    </tr>\n    <tr>\n      <th>25047</th>\n      <td>63FBE257B05F2245</td>\n      <td>A</td>\n      <td>interface_eu_test</td>\n      <td>2020-12-20</td>\n      <td>EU</td>\n      <td>Android</td>\n      <td>2020-12-23</td>\n      <td>0.00</td>\n      <td>0</td>\n    </tr>\n  </tbody>\n</table>\n<p>25048 rows × 9 columns</p>\n</div>"
     },
     "execution_count": 759,
     "metadata": {},
     "output_type": "execute_result"
    }
   ],
   "source": [
    "df_all_a = df_all_a.merge(df_final_ab_events_gr, left_on='user_id', right_on='user_id', )\n",
    "df_all_a"
   ],
   "metadata": {
    "collapsed": false
   }
  },
  {
   "cell_type": "code",
   "execution_count": 742,
   "outputs": [
    {
     "data": {
      "text/plain": "                 user_id group                  ab_test first_date region  \\\n0       D1ABA3E2887B6A73     A  recommender_system_test 2020-12-07     EU   \n1       D1ABA3E2887B6A73     A  recommender_system_test 2020-12-07     EU   \n2       D1ABA3E2887B6A73     A  recommender_system_test 2020-12-07     EU   \n3       D1ABA3E2887B6A73     A  recommender_system_test 2020-12-07     EU   \n4       D1ABA3E2887B6A73     A  recommender_system_test 2020-12-07     EU   \n...                  ...   ...                      ...        ...    ...   \n232367  F80C9BDDEA02E53C     A        interface_eu_test 2020-12-07     EU   \n232368  F80C9BDDEA02E53C     A        interface_eu_test 2020-12-07     EU   \n232369  F80C9BDDEA02E53C     A        interface_eu_test 2020-12-07     EU   \n232370  F80C9BDDEA02E53C     A        interface_eu_test 2020-12-07     EU   \n232371  F80C9BDDEA02E53C     A        interface_eu_test 2020-12-07     EU   \n\n        device            event_dt  event_name_x  details event_dt_t0  \\\n0           PC 2020-12-07 14:43:27      purchase    99.99  2020-12-07   \n1           PC 2020-12-07 14:43:27      purchase    99.99  2020-12-07   \n2           PC 2020-12-07 14:43:27      purchase    99.99  2020-12-07   \n3           PC 2020-12-07 14:43:27      purchase    99.99  2020-12-07   \n4           PC 2020-12-07 14:43:29  product_cart      NaN  2020-12-07   \n...        ...                 ...           ...      ...         ...   \n232367  iPhone 2020-12-30 09:53:40  product_page      NaN  2020-12-30   \n232368  iPhone 2020-12-30 09:53:39         login      NaN  2020-12-30   \n232369  iPhone 2020-12-30 09:53:39         login      NaN  2020-12-30   \n232370  iPhone 2020-12-30 09:53:39         login      NaN  2020-12-30   \n232371  iPhone 2020-12-30 09:53:39         login      NaN  2020-12-30   \n\n        event_name_y  event_name_numb  \n0              login             4913  \n1       product_cart             1582  \n2       product_page             3240  \n3           purchase             1650  \n4              login             4913  \n...              ...              ...  \n232367      purchase               15  \n232368         login               36  \n232369  product_cart               16  \n232370  product_page               22  \n232371      purchase               15  \n\n[232372 rows x 12 columns]",
      "text/html": "<div>\n<style scoped>\n    .dataframe tbody tr th:only-of-type {\n        vertical-align: middle;\n    }\n\n    .dataframe tbody tr th {\n        vertical-align: top;\n    }\n\n    .dataframe thead th {\n        text-align: right;\n    }\n</style>\n<table border=\"1\" class=\"dataframe\">\n  <thead>\n    <tr style=\"text-align: right;\">\n      <th></th>\n      <th>user_id</th>\n      <th>group</th>\n      <th>ab_test</th>\n      <th>first_date</th>\n      <th>region</th>\n      <th>device</th>\n      <th>event_dt</th>\n      <th>event_name_x</th>\n      <th>details</th>\n      <th>event_dt_t0</th>\n      <th>event_name_y</th>\n      <th>event_name_numb</th>\n    </tr>\n  </thead>\n  <tbody>\n    <tr>\n      <th>0</th>\n      <td>D1ABA3E2887B6A73</td>\n      <td>A</td>\n      <td>recommender_system_test</td>\n      <td>2020-12-07</td>\n      <td>EU</td>\n      <td>PC</td>\n      <td>2020-12-07 14:43:27</td>\n      <td>purchase</td>\n      <td>99.99</td>\n      <td>2020-12-07</td>\n      <td>login</td>\n      <td>4913</td>\n    </tr>\n    <tr>\n      <th>1</th>\n      <td>D1ABA3E2887B6A73</td>\n      <td>A</td>\n      <td>recommender_system_test</td>\n      <td>2020-12-07</td>\n      <td>EU</td>\n      <td>PC</td>\n      <td>2020-12-07 14:43:27</td>\n      <td>purchase</td>\n      <td>99.99</td>\n      <td>2020-12-07</td>\n      <td>product_cart</td>\n      <td>1582</td>\n    </tr>\n    <tr>\n      <th>2</th>\n      <td>D1ABA3E2887B6A73</td>\n      <td>A</td>\n      <td>recommender_system_test</td>\n      <td>2020-12-07</td>\n      <td>EU</td>\n      <td>PC</td>\n      <td>2020-12-07 14:43:27</td>\n      <td>purchase</td>\n      <td>99.99</td>\n      <td>2020-12-07</td>\n      <td>product_page</td>\n      <td>3240</td>\n    </tr>\n    <tr>\n      <th>3</th>\n      <td>D1ABA3E2887B6A73</td>\n      <td>A</td>\n      <td>recommender_system_test</td>\n      <td>2020-12-07</td>\n      <td>EU</td>\n      <td>PC</td>\n      <td>2020-12-07 14:43:27</td>\n      <td>purchase</td>\n      <td>99.99</td>\n      <td>2020-12-07</td>\n      <td>purchase</td>\n      <td>1650</td>\n    </tr>\n    <tr>\n      <th>4</th>\n      <td>D1ABA3E2887B6A73</td>\n      <td>A</td>\n      <td>recommender_system_test</td>\n      <td>2020-12-07</td>\n      <td>EU</td>\n      <td>PC</td>\n      <td>2020-12-07 14:43:29</td>\n      <td>product_cart</td>\n      <td>NaN</td>\n      <td>2020-12-07</td>\n      <td>login</td>\n      <td>4913</td>\n    </tr>\n    <tr>\n      <th>...</th>\n      <td>...</td>\n      <td>...</td>\n      <td>...</td>\n      <td>...</td>\n      <td>...</td>\n      <td>...</td>\n      <td>...</td>\n      <td>...</td>\n      <td>...</td>\n      <td>...</td>\n      <td>...</td>\n      <td>...</td>\n    </tr>\n    <tr>\n      <th>232367</th>\n      <td>F80C9BDDEA02E53C</td>\n      <td>A</td>\n      <td>interface_eu_test</td>\n      <td>2020-12-07</td>\n      <td>EU</td>\n      <td>iPhone</td>\n      <td>2020-12-30 09:53:40</td>\n      <td>product_page</td>\n      <td>NaN</td>\n      <td>2020-12-30</td>\n      <td>purchase</td>\n      <td>15</td>\n    </tr>\n    <tr>\n      <th>232368</th>\n      <td>F80C9BDDEA02E53C</td>\n      <td>A</td>\n      <td>interface_eu_test</td>\n      <td>2020-12-07</td>\n      <td>EU</td>\n      <td>iPhone</td>\n      <td>2020-12-30 09:53:39</td>\n      <td>login</td>\n      <td>NaN</td>\n      <td>2020-12-30</td>\n      <td>login</td>\n      <td>36</td>\n    </tr>\n    <tr>\n      <th>232369</th>\n      <td>F80C9BDDEA02E53C</td>\n      <td>A</td>\n      <td>interface_eu_test</td>\n      <td>2020-12-07</td>\n      <td>EU</td>\n      <td>iPhone</td>\n      <td>2020-12-30 09:53:39</td>\n      <td>login</td>\n      <td>NaN</td>\n      <td>2020-12-30</td>\n      <td>product_cart</td>\n      <td>16</td>\n    </tr>\n    <tr>\n      <th>232370</th>\n      <td>F80C9BDDEA02E53C</td>\n      <td>A</td>\n      <td>interface_eu_test</td>\n      <td>2020-12-07</td>\n      <td>EU</td>\n      <td>iPhone</td>\n      <td>2020-12-30 09:53:39</td>\n      <td>login</td>\n      <td>NaN</td>\n      <td>2020-12-30</td>\n      <td>product_page</td>\n      <td>22</td>\n    </tr>\n    <tr>\n      <th>232371</th>\n      <td>F80C9BDDEA02E53C</td>\n      <td>A</td>\n      <td>interface_eu_test</td>\n      <td>2020-12-07</td>\n      <td>EU</td>\n      <td>iPhone</td>\n      <td>2020-12-30 09:53:39</td>\n      <td>login</td>\n      <td>NaN</td>\n      <td>2020-12-30</td>\n      <td>purchase</td>\n      <td>15</td>\n    </tr>\n  </tbody>\n</table>\n<p>232372 rows × 12 columns</p>\n</div>"
     },
     "execution_count": 742,
     "metadata": {},
     "output_type": "execute_result"
    }
   ],
   "source": [
    "df_all_a = df_all_a.merge(df_final_ab_events_gr, left_on='event_dt_t0', right_on='event_dt_t0', )\n",
    "df_all_a"
   ],
   "metadata": {
    "collapsed": false
   }
  },
  {
   "cell_type": "code",
   "execution_count": 743,
   "outputs": [
    {
     "data": {
      "text/plain": "                user_id group                  ab_test            event_dt  \\\n0      CD74C3D22FFC09C2     B  recommender_system_test 2020-12-21 14:10:54   \n1      CD74C3D22FFC09C2     B  recommender_system_test 2020-12-22 11:22:05   \n2      CD74C3D22FFC09C2     B  recommender_system_test 2020-12-28 18:43:12   \n3      CD74C3D22FFC09C2     B  recommender_system_test 2020-12-21 14:10:51   \n4      CD74C3D22FFC09C2     B  recommender_system_test 2020-12-22 11:22:03   \n...                 ...   ...                      ...                 ...   \n42965  1D302F8688B91781     B        interface_eu_test 2020-12-27 11:12:47   \n42966  79F9ABFB029CF724     B        interface_eu_test 2020-12-14 19:12:49   \n42967  79F9ABFB029CF724     B        interface_eu_test 2020-12-15 01:50:22   \n42968  79F9ABFB029CF724     B        interface_eu_test 2020-12-16 19:27:36   \n42969  79F9ABFB029CF724     B        interface_eu_test 2020-12-20 13:04:31   \n\n         event_name  details event_dt_t0 first_date region   device  \n0      product_page      NaN  2020-12-21 2020-12-21     EU  Android  \n1      product_page      NaN  2020-12-22 2020-12-21     EU  Android  \n2      product_page      NaN  2020-12-28 2020-12-21     EU  Android  \n3             login      NaN  2020-12-21 2020-12-21     EU  Android  \n4             login      NaN  2020-12-22 2020-12-21     EU  Android  \n...             ...      ...         ...        ...    ...      ...  \n42965         login      NaN  2020-12-27 2020-12-15     EU       PC  \n42966         login      NaN  2020-12-14 2020-12-14     EU       PC  \n42967         login      NaN  2020-12-15 2020-12-14     EU       PC  \n42968         login      NaN  2020-12-16 2020-12-14     EU       PC  \n42969         login      NaN  2020-12-20 2020-12-14     EU       PC  \n\n[42970 rows x 10 columns]",
      "text/html": "<div>\n<style scoped>\n    .dataframe tbody tr th:only-of-type {\n        vertical-align: middle;\n    }\n\n    .dataframe tbody tr th {\n        vertical-align: top;\n    }\n\n    .dataframe thead th {\n        text-align: right;\n    }\n</style>\n<table border=\"1\" class=\"dataframe\">\n  <thead>\n    <tr style=\"text-align: right;\">\n      <th></th>\n      <th>user_id</th>\n      <th>group</th>\n      <th>ab_test</th>\n      <th>event_dt</th>\n      <th>event_name</th>\n      <th>details</th>\n      <th>event_dt_t0</th>\n      <th>first_date</th>\n      <th>region</th>\n      <th>device</th>\n    </tr>\n  </thead>\n  <tbody>\n    <tr>\n      <th>0</th>\n      <td>CD74C3D22FFC09C2</td>\n      <td>B</td>\n      <td>recommender_system_test</td>\n      <td>2020-12-21 14:10:54</td>\n      <td>product_page</td>\n      <td>NaN</td>\n      <td>2020-12-21</td>\n      <td>2020-12-21</td>\n      <td>EU</td>\n      <td>Android</td>\n    </tr>\n    <tr>\n      <th>1</th>\n      <td>CD74C3D22FFC09C2</td>\n      <td>B</td>\n      <td>recommender_system_test</td>\n      <td>2020-12-22 11:22:05</td>\n      <td>product_page</td>\n      <td>NaN</td>\n      <td>2020-12-22</td>\n      <td>2020-12-21</td>\n      <td>EU</td>\n      <td>Android</td>\n    </tr>\n    <tr>\n      <th>2</th>\n      <td>CD74C3D22FFC09C2</td>\n      <td>B</td>\n      <td>recommender_system_test</td>\n      <td>2020-12-28 18:43:12</td>\n      <td>product_page</td>\n      <td>NaN</td>\n      <td>2020-12-28</td>\n      <td>2020-12-21</td>\n      <td>EU</td>\n      <td>Android</td>\n    </tr>\n    <tr>\n      <th>3</th>\n      <td>CD74C3D22FFC09C2</td>\n      <td>B</td>\n      <td>recommender_system_test</td>\n      <td>2020-12-21 14:10:51</td>\n      <td>login</td>\n      <td>NaN</td>\n      <td>2020-12-21</td>\n      <td>2020-12-21</td>\n      <td>EU</td>\n      <td>Android</td>\n    </tr>\n    <tr>\n      <th>4</th>\n      <td>CD74C3D22FFC09C2</td>\n      <td>B</td>\n      <td>recommender_system_test</td>\n      <td>2020-12-22 11:22:03</td>\n      <td>login</td>\n      <td>NaN</td>\n      <td>2020-12-22</td>\n      <td>2020-12-21</td>\n      <td>EU</td>\n      <td>Android</td>\n    </tr>\n    <tr>\n      <th>...</th>\n      <td>...</td>\n      <td>...</td>\n      <td>...</td>\n      <td>...</td>\n      <td>...</td>\n      <td>...</td>\n      <td>...</td>\n      <td>...</td>\n      <td>...</td>\n      <td>...</td>\n    </tr>\n    <tr>\n      <th>42965</th>\n      <td>1D302F8688B91781</td>\n      <td>B</td>\n      <td>interface_eu_test</td>\n      <td>2020-12-27 11:12:47</td>\n      <td>login</td>\n      <td>NaN</td>\n      <td>2020-12-27</td>\n      <td>2020-12-15</td>\n      <td>EU</td>\n      <td>PC</td>\n    </tr>\n    <tr>\n      <th>42966</th>\n      <td>79F9ABFB029CF724</td>\n      <td>B</td>\n      <td>interface_eu_test</td>\n      <td>2020-12-14 19:12:49</td>\n      <td>login</td>\n      <td>NaN</td>\n      <td>2020-12-14</td>\n      <td>2020-12-14</td>\n      <td>EU</td>\n      <td>PC</td>\n    </tr>\n    <tr>\n      <th>42967</th>\n      <td>79F9ABFB029CF724</td>\n      <td>B</td>\n      <td>interface_eu_test</td>\n      <td>2020-12-15 01:50:22</td>\n      <td>login</td>\n      <td>NaN</td>\n      <td>2020-12-15</td>\n      <td>2020-12-14</td>\n      <td>EU</td>\n      <td>PC</td>\n    </tr>\n    <tr>\n      <th>42968</th>\n      <td>79F9ABFB029CF724</td>\n      <td>B</td>\n      <td>interface_eu_test</td>\n      <td>2020-12-16 19:27:36</td>\n      <td>login</td>\n      <td>NaN</td>\n      <td>2020-12-16</td>\n      <td>2020-12-14</td>\n      <td>EU</td>\n      <td>PC</td>\n    </tr>\n    <tr>\n      <th>42969</th>\n      <td>79F9ABFB029CF724</td>\n      <td>B</td>\n      <td>interface_eu_test</td>\n      <td>2020-12-20 13:04:31</td>\n      <td>login</td>\n      <td>NaN</td>\n      <td>2020-12-20</td>\n      <td>2020-12-14</td>\n      <td>EU</td>\n      <td>PC</td>\n    </tr>\n  </tbody>\n</table>\n<p>42970 rows × 10 columns</p>\n</div>"
     },
     "execution_count": 743,
     "metadata": {},
     "output_type": "execute_result"
    }
   ],
   "source": [
    "df_all_b = df_final_ab_participants_B.merge(df_final_ab_events, left_on='user_id', right_on='user_id')\n",
    "df_all_b = df_all_b.merge(df_final_ab_new_users, left_on='user_id', right_on='user_id')\n",
    "df_all_b"
   ],
   "metadata": {
    "collapsed": false
   }
  },
  {
   "cell_type": "code",
   "execution_count": 762,
   "outputs": [
    {
     "data": {
      "text/plain": "<AxesSubplot:xlabel='first_date'>"
     },
     "execution_count": 762,
     "metadata": {},
     "output_type": "execute_result"
    },
    {
     "data": {
      "text/plain": "<Figure size 864x504 with 1 Axes>",
      "image/png": "[encoded data removed]"
     },
     "metadata": {
      "needs_background": "light"
     },
     "output_type": "display_data"
    }
   ],
   "source": [
    "plt.figure(figsize=(12,7))\n",
    "df_all_a.groupby(['first_date'])['sum'].count().plot()"
   ],
   "metadata": {
    "collapsed": false
   }
  },
  {
   "cell_type": "code",
   "execution_count": 764,
   "outputs": [
    {
     "data": {
      "text/plain": "event_dt_t0  2020-12-07  2020-12-08  2020-12-09  2020-12-10  2020-12-11  \\\nfirst_date                                                                \n2020-12-07     0.325704    0.312950    0.328358    0.348837    0.379630   \n2020-12-08          NaN    0.312676    0.344633    0.307692    0.296296   \n2020-12-09          NaN         NaN    0.334601    0.340580    0.361446   \n2020-12-10          NaN         NaN         NaN    0.373333    0.400000   \n2020-12-11          NaN         NaN         NaN         NaN    0.305455   \n2020-12-12          NaN         NaN         NaN         NaN         NaN   \n2020-12-13          NaN         NaN         NaN         NaN         NaN   \n2020-12-14          NaN         NaN         NaN         NaN         NaN   \n2020-12-15          NaN         NaN         NaN         NaN         NaN   \n2020-12-16          NaN         NaN         NaN         NaN         NaN   \n2020-12-17          NaN         NaN         NaN         NaN         NaN   \n2020-12-18          NaN         NaN         NaN         NaN         NaN   \n2020-12-19          NaN         NaN         NaN         NaN         NaN   \n2020-12-20          NaN         NaN         NaN         NaN         NaN   \n2020-12-21          NaN         NaN         NaN         NaN         NaN   \n2020-12-22          NaN         NaN         NaN         NaN         NaN   \n2020-12-23          NaN         NaN         NaN         NaN         NaN   \n\nevent_dt_t0  2020-12-12  2020-12-13  2020-12-14  2020-12-15  2020-12-16  ...  \\\nfirst_date                                                               ...   \n2020-12-07     0.358696    0.291667    0.421053    0.322034    0.338028  ...   \n2020-12-08     0.384615    0.384615    0.372549    0.333333    0.444444  ...   \n2020-12-09     0.360000    0.255319    0.416667    0.275862    0.562500  ...   \n2020-12-10     0.293478    0.423729    0.352941    0.244444    0.369565  ...   \n2020-12-11     0.317881    0.294737    0.328358    0.288462    0.333333  ...   \n2020-12-12     0.326531    0.360190    0.340426    0.354839    0.309278  ...   \n2020-12-13          NaN    0.330296    0.311881    0.330882    0.351064  ...   \n2020-12-14          NaN         NaN    0.342690    0.332584    0.331169  ...   \n2020-12-15          NaN         NaN         NaN    0.338496    0.344037  ...   \n2020-12-16          NaN         NaN         NaN         NaN    0.376855  ...   \n2020-12-17          NaN         NaN         NaN         NaN         NaN  ...   \n2020-12-18          NaN         NaN         NaN         NaN         NaN  ...   \n2020-12-19          NaN         NaN         NaN         NaN         NaN  ...   \n2020-12-20          NaN         NaN         NaN         NaN         NaN  ...   \n2020-12-21          NaN         NaN         NaN         NaN         NaN  ...   \n2020-12-22          NaN         NaN         NaN         NaN         NaN  ...   \n2020-12-23          NaN         NaN         NaN         NaN         NaN  ...   \n\nevent_dt_t0  2020-12-21  2020-12-22  2020-12-23  2020-12-24  2020-12-25  \\\nfirst_date                                                                \n2020-12-07     0.260870    0.297297    0.379310    0.214286    0.371429   \n2020-12-08     0.400000    0.521739    0.352941    0.280000    0.583333   \n2020-12-09     0.411765    0.440000    0.428571    0.312500    0.333333   \n2020-12-10     0.300000    0.238095    0.133333    0.444444    0.583333   \n2020-12-11     0.440000    0.440000    0.187500    0.250000    0.428571   \n2020-12-12     0.325000    0.375000    0.216216    0.200000    0.411765   \n2020-12-13     0.441860    0.351351    0.325581    0.241379    0.275862   \n2020-12-14     0.357143    0.257143    0.380435    0.450000    0.352941   \n2020-12-15     0.258065    0.431373    0.282609    0.215686    0.381818   \n2020-12-16     0.363636    0.403846    0.378378    0.486486    0.222222   \n2020-12-17     0.325581    0.211268    0.296296    0.245614    0.290909   \n2020-12-18     0.372093    0.408602    0.366197    0.333333    0.333333   \n2020-12-19     0.339869    0.368852    0.308642    0.391304    0.486111   \n2020-12-20     0.381703    0.338235    0.383234    0.398374    0.366667   \n2020-12-21     0.342362    0.337691    0.357357    0.350427    0.327586   \n2020-12-22          NaN    0.342561    0.297297    0.307692    0.298246   \n2020-12-23          NaN         NaN    0.355000    0.345455    0.410714   \n\nevent_dt_t0  2020-12-26  2020-12-27  2020-12-28  2020-12-29  2020-12-30  \nfirst_date                                                               \n2020-12-07     0.321429    0.545455    0.227273    0.312500        0.75  \n2020-12-08     0.153846    0.555556    0.461538    0.214286         NaN  \n2020-12-09     0.090909    0.200000    0.461538    0.368421         NaN  \n2020-12-10     0.333333    0.428571    0.538462    0.111111         NaN  \n2020-12-11     0.266667    0.666667    0.400000    0.285714         NaN  \n2020-12-12     0.285714    0.206897    0.315789    0.352941         NaN  \n2020-12-13     0.314286    0.333333    0.285714    0.428571         NaN  \n2020-12-14     0.393939    0.373134    0.408163    0.232143         NaN  \n2020-12-15     0.354839    0.309524    0.200000    0.269231         NaN  \n2020-12-16     0.375000    0.387097    0.450000    0.277778         NaN  \n2020-12-17     0.400000    0.306122    0.384615    0.484848         NaN  \n2020-12-18     0.318182    0.327273    0.341463    0.300000         NaN  \n2020-12-19     0.402985    0.419355    0.260870    0.307692         NaN  \n2020-12-20     0.318681    0.442857    0.424658    0.396226         NaN  \n2020-12-21     0.368098    0.336134    0.282051    0.291262         NaN  \n2020-12-22     0.241379    0.357143    0.326087    0.354839         NaN  \n2020-12-23     0.333333    0.326087    0.263158    0.280000         NaN  \n\n[17 rows x 24 columns]",
      "text/html": "<div>\n<style scoped>\n    .dataframe tbody tr th:only-of-type {\n        vertical-align: middle;\n    }\n\n    .dataframe tbody tr th {\n        vertical-align: top;\n    }\n\n    .dataframe thead th {\n        text-align: right;\n    }\n</style>\n<table border=\"1\" class=\"dataframe\">\n  <thead>\n    <tr style=\"text-align: right;\">\n      <th>event_dt_t0</th>\n      <th>2020-12-07</th>\n      <th>2020-12-08</th>\n      <th>2020-12-09</th>\n      <th>2020-12-10</th>\n      <th>2020-12-11</th>\n      <th>2020-12-12</th>\n      <th>2020-12-13</th>\n      <th>2020-12-14</th>\n      <th>2020-12-15</th>\n      <th>2020-12-16</th>\n      <th>...</th>\n      <th>2020-12-21</th>\n      <th>2020-12-22</th>\n      <th>2020-12-23</th>\n      <th>2020-12-24</th>\n      <th>2020-12-25</th>\n      <th>2020-12-26</th>\n      <th>2020-12-27</th>\n      <th>2020-12-28</th>\n      <th>2020-12-29</th>\n      <th>2020-12-30</th>\n    </tr>\n    <tr>\n      <th>first_date</th>\n      <th></th>\n      <th></th>\n      <th></th>\n      <th></th>\n      <th></th>\n      <th></th>\n      <th></th>\n      <th></th>\n      <th></th>\n      <th></th>\n      <th></th>\n      <th></th>\n      <th></th>\n      <th></th>\n      <th></th>\n      <th></th>\n      <th></th>\n      <th></th>\n      <th></th>\n      <th></th>\n      <th></th>\n    </tr>\n  </thead>\n  <tbody>\n    <tr>\n      <th>2020-12-07</th>\n      <td>0.325704</td>\n      <td>0.312950</td>\n      <td>0.328358</td>\n      <td>0.348837</td>\n      <td>0.379630</td>\n      <td>0.358696</td>\n      <td>0.291667</td>\n      <td>0.421053</td>\n      <td>0.322034</td>\n      <td>0.338028</td>\n      <td>...</td>\n      <td>0.260870</td>\n      <td>0.297297</td>\n      <td>0.379310</td>\n      <td>0.214286</td>\n      <td>0.371429</td>\n      <td>0.321429</td>\n      <td>0.545455</td>\n      <td>0.227273</td>\n      <td>0.312500</td>\n      <td>0.75</td>\n    </tr>\n    <tr>\n      <th>2020-12-08</th>\n      <td>NaN</td>\n      <td>0.312676</td>\n      <td>0.344633</td>\n      <td>0.307692</td>\n      <td>0.296296</td>\n      <td>0.384615</td>\n      <td>0.384615</td>\n      <td>0.372549</td>\n      <td>0.333333</td>\n      <td>0.444444</td>\n      <td>...</td>\n      <td>0.400000</td>\n      <td>0.521739</td>\n      <td>0.352941</td>\n      <td>0.280000</td>\n      <td>0.583333</td>\n      <td>0.153846</td>\n      <td>0.555556</td>\n      <td>0.461538</td>\n      <td>0.214286</td>\n      <td>NaN</td>\n    </tr>\n    <tr>\n      <th>2020-12-09</th>\n      <td>NaN</td>\n      <td>NaN</td>\n      <td>0.334601</td>\n      <td>0.340580</td>\n      <td>0.361446</td>\n      <td>0.360000</td>\n      <td>0.255319</td>\n      <td>0.416667</td>\n      <td>0.275862</td>\n      <td>0.562500</td>\n      <td>...</td>\n      <td>0.411765</td>\n      <td>0.440000</td>\n      <td>0.428571</td>\n      <td>0.312500</td>\n      <td>0.333333</td>\n      <td>0.090909</td>\n      <td>0.200000</td>\n      <td>0.461538</td>\n      <td>0.368421</td>\n      <td>NaN</td>\n    </tr>\n    <tr>\n      <th>2020-12-10</th>\n      <td>NaN</td>\n      <td>NaN</td>\n      <td>NaN</td>\n      <td>0.373333</td>\n      <td>0.400000</td>\n      <td>0.293478</td>\n      <td>0.423729</td>\n      <td>0.352941</td>\n      <td>0.244444</td>\n      <td>0.369565</td>\n      <td>...</td>\n      <td>0.300000</td>\n      <td>0.238095</td>\n      <td>0.133333</td>\n      <td>0.444444</td>\n      <td>0.583333</td>\n      <td>0.333333</td>\n      <td>0.428571</td>\n      <td>0.538462</td>\n      <td>0.111111</td>\n      <td>NaN</td>\n    </tr>\n    <tr>\n      <th>2020-12-11</th>\n      <td>NaN</td>\n      <td>NaN</td>\n      <td>NaN</td>\n      <td>NaN</td>\n      <td>0.305455</td>\n      <td>0.317881</td>\n      <td>0.294737</td>\n      <td>0.328358</td>\n      <td>0.288462</td>\n      <td>0.333333</td>\n      <td>...</td>\n      <td>0.440000</td>\n      <td>0.440000</td>\n      <td>0.187500</td>\n      <td>0.250000</td>\n      <td>0.428571</td>\n      <td>0.266667</td>\n      <td>0.666667</td>\n      <td>0.400000</td>\n      <td>0.285714</td>\n      <td>NaN</td>\n    </tr>\n    <tr>\n      <th>2020-12-12</th>\n      <td>NaN</td>\n      <td>NaN</td>\n      <td>NaN</td>\n      <td>NaN</td>\n      <td>NaN</td>\n      <td>0.326531</td>\n      <td>0.360190</td>\n      <td>0.340426</td>\n      <td>0.354839</td>\n      <td>0.309278</td>\n      <td>...</td>\n      <td>0.325000</td>\n      <td>0.375000</td>\n      <td>0.216216</td>\n      <td>0.200000</td>\n      <td>0.411765</td>\n      <td>0.285714</td>\n      <td>0.206897</td>\n      <td>0.315789</td>\n      <td>0.352941</td>\n      <td>NaN</td>\n    </tr>\n    <tr>\n      <th>2020-12-13</th>\n      <td>NaN</td>\n      <td>NaN</td>\n      <td>NaN</td>\n      <td>NaN</td>\n      <td>NaN</td>\n      <td>NaN</td>\n      <td>0.330296</td>\n      <td>0.311881</td>\n      <td>0.330882</td>\n      <td>0.351064</td>\n      <td>...</td>\n      <td>0.441860</td>\n      <td>0.351351</td>\n      <td>0.325581</td>\n      <td>0.241379</td>\n      <td>0.275862</td>\n      <td>0.314286</td>\n      <td>0.333333</td>\n      <td>0.285714</td>\n      <td>0.428571</td>\n      <td>NaN</td>\n    </tr>\n    <tr>\n      <th>2020-12-14</th>\n      <td>NaN</td>\n      <td>NaN</td>\n      <td>NaN</td>\n      <td>NaN</td>\n      <td>NaN</td>\n      <td>NaN</td>\n      <td>NaN</td>\n      <td>0.342690</td>\n      <td>0.332584</td>\n      <td>0.331169</td>\n      <td>...</td>\n      <td>0.357143</td>\n      <td>0.257143</td>\n      <td>0.380435</td>\n      <td>0.450000</td>\n      <td>0.352941</td>\n      <td>0.393939</td>\n      <td>0.373134</td>\n      <td>0.408163</td>\n      <td>0.232143</td>\n      <td>NaN</td>\n    </tr>\n    <tr>\n      <th>2020-12-15</th>\n      <td>NaN</td>\n      <td>NaN</td>\n      <td>NaN</td>\n      <td>NaN</td>\n      <td>NaN</td>\n      <td>NaN</td>\n      <td>NaN</td>\n      <td>NaN</td>\n      <td>0.338496</td>\n      <td>0.344037</td>\n      <td>...</td>\n      <td>0.258065</td>\n      <td>0.431373</td>\n      <td>0.282609</td>\n      <td>0.215686</td>\n      <td>0.381818</td>\n      <td>0.354839</td>\n      <td>0.309524</td>\n      <td>0.200000</td>\n      <td>0.269231</td>\n      <td>NaN</td>\n    </tr>\n    <tr>\n      <th>2020-12-16</th>\n      <td>NaN</td>\n      <td>NaN</td>\n      <td>NaN</td>\n      <td>NaN</td>\n      <td>NaN</td>\n      <td>NaN</td>\n      <td>NaN</td>\n      <td>NaN</td>\n      <td>NaN</td>\n      <td>0.376855</td>\n      <td>...</td>\n      <td>0.363636</td>\n      <td>0.403846</td>\n      <td>0.378378</td>\n      <td>0.486486</td>\n      <td>0.222222</td>\n      <td>0.375000</td>\n      <td>0.387097</td>\n      <td>0.450000</td>\n      <td>0.277778</td>\n      <td>NaN</td>\n    </tr>\n    <tr>\n      <th>2020-12-17</th>\n      <td>NaN</td>\n      <td>NaN</td>\n      <td>NaN</td>\n      <td>NaN</td>\n      <td>NaN</td>\n      <td>NaN</td>\n      <td>NaN</td>\n      <td>NaN</td>\n      <td>NaN</td>\n      <td>NaN</td>\n      <td>...</td>\n      <td>0.325581</td>\n      <td>0.211268</td>\n      <td>0.296296</td>\n      <td>0.245614</td>\n      <td>0.290909</td>\n      <td>0.400000</td>\n      <td>0.306122</td>\n      <td>0.384615</td>\n      <td>0.484848</td>\n      <td>NaN</td>\n    </tr>\n    <tr>\n      <th>2020-12-18</th>\n      <td>NaN</td>\n      <td>NaN</td>\n      <td>NaN</td>\n      <td>NaN</td>\n      <td>NaN</td>\n      <td>NaN</td>\n      <td>NaN</td>\n      <td>NaN</td>\n      <td>NaN</td>\n      <td>NaN</td>\n      <td>...</td>\n      <td>0.372093</td>\n      <td>0.408602</td>\n      <td>0.366197</td>\n      <td>0.333333</td>\n      <td>0.333333</td>\n      <td>0.318182</td>\n      <td>0.327273</td>\n      <td>0.341463</td>\n      <td>0.300000</td>\n      <td>NaN</td>\n    </tr>\n    <tr>\n      <th>2020-12-19</th>\n      <td>NaN</td>\n      <td>NaN</td>\n      <td>NaN</td>\n      <td>NaN</td>\n      <td>NaN</td>\n      <td>NaN</td>\n      <td>NaN</td>\n      <td>NaN</td>\n      <td>NaN</td>\n      <td>NaN</td>\n      <td>...</td>\n      <td>0.339869</td>\n      <td>0.368852</td>\n      <td>0.308642</td>\n      <td>0.391304</td>\n      <td>0.486111</td>\n      <td>0.402985</td>\n      <td>0.419355</td>\n      <td>0.260870</td>\n      <td>0.307692</td>\n      <td>NaN</td>\n    </tr>\n    <tr>\n      <th>2020-12-20</th>\n      <td>NaN</td>\n      <td>NaN</td>\n      <td>NaN</td>\n      <td>NaN</td>\n      <td>NaN</td>\n      <td>NaN</td>\n      <td>NaN</td>\n      <td>NaN</td>\n      <td>NaN</td>\n      <td>NaN</td>\n      <td>...</td>\n      <td>0.381703</td>\n      <td>0.338235</td>\n      <td>0.383234</td>\n      <td>0.398374</td>\n      <td>0.366667</td>\n      <td>0.318681</td>\n      <td>0.442857</td>\n      <td>0.424658</td>\n      <td>0.396226</td>\n      <td>NaN</td>\n    </tr>\n    <tr>\n      <th>2020-12-21</th>\n      <td>NaN</td>\n      <td>NaN</td>\n      <td>NaN</td>\n      <td>NaN</td>\n      <td>NaN</td>\n      <td>NaN</td>\n      <td>NaN</td>\n      <td>NaN</td>\n      <td>NaN</td>\n      <td>NaN</td>\n      <td>...</td>\n      <td>0.342362</td>\n      <td>0.337691</td>\n      <td>0.357357</td>\n      <td>0.350427</td>\n      <td>0.327586</td>\n      <td>0.368098</td>\n      <td>0.336134</td>\n      <td>0.282051</td>\n      <td>0.291262</td>\n      <td>NaN</td>\n    </tr>\n    <tr>\n      <th>2020-12-22</th>\n      <td>NaN</td>\n      <td>NaN</td>\n      <td>NaN</td>\n      <td>NaN</td>\n      <td>NaN</td>\n      <td>NaN</td>\n      <td>NaN</td>\n      <td>NaN</td>\n      <td>NaN</td>\n      <td>NaN</td>\n      <td>...</td>\n      <td>NaN</td>\n      <td>0.342561</td>\n      <td>0.297297</td>\n      <td>0.307692</td>\n      <td>0.298246</td>\n      <td>0.241379</td>\n      <td>0.357143</td>\n      <td>0.326087</td>\n      <td>0.354839</td>\n      <td>NaN</td>\n    </tr>\n    <tr>\n      <th>2020-12-23</th>\n      <td>NaN</td>\n      <td>NaN</td>\n      <td>NaN</td>\n      <td>NaN</td>\n      <td>NaN</td>\n      <td>NaN</td>\n      <td>NaN</td>\n      <td>NaN</td>\n      <td>NaN</td>\n      <td>NaN</td>\n      <td>...</td>\n      <td>NaN</td>\n      <td>NaN</td>\n      <td>0.355000</td>\n      <td>0.345455</td>\n      <td>0.410714</td>\n      <td>0.333333</td>\n      <td>0.326087</td>\n      <td>0.263158</td>\n      <td>0.280000</td>\n      <td>NaN</td>\n    </tr>\n  </tbody>\n</table>\n<p>17 rows × 24 columns</p>\n</div>"
     },
     "execution_count": 764,
     "metadata": {},
     "output_type": "execute_result"
    }
   ],
   "source": [
    "df_a = pd.pivot_table(\n",
    "    df_all_a,\n",
    "    index=['first_date'],\n",
    "    columns=['event_dt_t0'],\n",
    "    values='count',\n",
    "    aggfunc='mean'\n",
    ")\n",
    "df_a"
   ],
   "metadata": {
    "collapsed": false
   }
  },
  {
   "cell_type": "code",
   "execution_count": 776,
   "outputs": [
    {
     "data": {
      "text/plain": "<Figure size 1152x720 with 2 Axes>",
      "image/png": "[encoded data removed]"
     },
     "metadata": {},
     "output_type": "display_data"
    }
   ],
   "source": [
    "import seaborn as sns\n",
    "import matplotlib.pyplot as plt\n",
    "plt.figure(figsize = (16,10))\n",
    "\n",
    "sns.set()\n",
    "ax = sns.heatmap(df_a, cmap=\"Spectral\",  linewidths= .3)\n",
    "plt.xticks(rotation=-90)\n",
    "\n",
    "plt.show()"
   ],
   "metadata": {
    "collapsed": false
   }
  },
  {
   "cell_type": "code",
   "execution_count": null,
   "outputs": [],
   "source": [],
   "metadata": {
    "collapsed": false
   }
  }
 ],
 "metadata": {
  "kernelspec": {
   "display_name": "Python 3",
   "language": "python",
   "name": "python3"
  },
  "language_info": {
   "codemirror_mode": {
    "name": "ipython",
    "version": 2
   },
   "file_extension": ".py",
   "mimetype": "text/x-python",
   "name": "python",
   "nbconvert_exporter": "python",
   "pygments_lexer": "ipython2",
   "version": "2.7.6"
  }
 },
 "nbformat": 4,
 "nbformat_minor": 0
}
