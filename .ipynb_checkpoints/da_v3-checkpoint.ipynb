{
 "cells": [
  {
   "cell_type": "markdown",
   "metadata": {},
   "source": [
    "<div class=\"alert alert-info\"><big><b>Комментарий ревьюера</b></big><br>Привет! 👋<br><br> Ничего не поменялось, меня всё ещё зовут Дмитрий Кирсанов. <br><br>Комментарии всё ещё обозначены пометкой <b>Комментарий ревьюера</b> и всё ещё содержат описание <br><span class=\"alert-success\">✔️ хорошего, 👍 отличного, 📝 советов</span>,&nbsp;&nbsp;<span class=\"alert-warning\">📌 важного, ⚠️ замечаний, 💡 рекомендаций</span>,&nbsp;&nbsp;<span class=\"alert-danger\">🔧 доработок, 🚫 ошибок или 👀 вопросов.</span><br><br>После того, как замечание будет устранено, я сменю красный цвет на жёлтый, чтобы тебе было удобнее выделять те места, которые требуют доработки. Код, которым я предлагаю выделять твои комментарии:<br><code>&lt;div class=&quot;alert btn-primary&quot;&gt;&lt;b&gt;Комментарий студента:&lt;/b&gt;&lt;br&gt;   Ок   &lt;/div&gt;</code><br>Всё ещё просьба задавать вопросы и описывать изменения в проект.</div>"
   ]
  },
  {
   "cell_type": "markdown",
   "metadata": {},
   "source": [
    "<div class=\"alert alert-success\"><b>Комментарий ревьюера 2</b>&nbsp;✔️<br>\n",
    "Уже сильно лучше, видно движение в верном направлении, но есть некоторые критичные ошибки, которые нужно исправить.\n",
    "</div>"
   ]
  },
  {
   "cell_type": "markdown",
   "metadata": {},
   "source": [
    "# Итоговый проект \"Банки — Анализ оттока клиентов\"\n",
    "\n",
    "Ссылка на презентацию: <a src='https://disk.yandex.ru/i/spMqWI07cNWQRA'>https://disk.yandex.ru/i/spMqWI07cNWQRA</a>"
   ]
  },
  {
   "cell_type": "markdown",
   "metadata": {},
   "source": [
    "<div class=\"alert alert-success\"><b>Комментарий ревьюера</b>&nbsp;✔️<br>\n",
    "Формат pdf, есть дата, в начале указаны цели, соблюдён баланс графической и текстовой информации, слайды по ключевым моментам работы:\n",
    "\n",
    "* есть портрет клиентов\n",
    "* есть оценка важности показателей по ML модели\n",
    "* есть выводы \n",
    "</div><div class=\"alert alert-warning\"><b>Комментарий ревьюера</b>&nbsp;🔧<br>\n",
    "На первом слайде портрет отточных клиентов дан очень мелко и также отточные интервалы (названные \"Сегменты отечных клиентов\") даны мелко — их нужно как минимум выделить на отдельный слайд.\n",
    "    \n",
    "В общих выводах не указано, в каких сочетаниях (сегментах) на какие признаки отточности стоит обращать внимание.\n",
    "    \n",
    "Нет автора, на работу сложнее будет сослаться. Нет результатов корреляционного анализа, нет обоснования выбранных отточных интервалов в виде диаграммы по показателям в разрезе оттока (количественные показатели) или по уровню оттока (категориальные показатели).\n",
    "</div><div class=\"alert alert-danger\"><b>Комментарий ревьюера 2</b>&nbsp;🚫<br>\n",
    "В презентацию попали ненормированные гистограммы, связанные с ними тезисы описывают отточных клиентов, а не соотношение отточных и неотточных (превышение уровня оттока над среднебанковским или нормированной плотности вероятности распределения отточных над неотточными).\n",
    "</div>"
   ]
  },
  {
   "cell_type": "markdown",
   "metadata": {},
   "source": [
    "### Задача:\n",
    "\n",
    "Проанализируйте клиентов регионального банка и выделите сегменты клиентов, которые склонны уходить из банка.\n",
    "\n",
    "- Провести исследовательский анализ данных,\n",
    "- Выделить портреты клиентов, которые склонны уходить из банка,\n",
    "- Сформулировать и проверьте статистические гипотезы\n",
    "- Подвести промежуточный итог о том, какие показатели стратегически влияют на отток\n",
    "- Сделать выводы и рекомендации (конкретные, по конкретным сегментам) для заказчика\n",
    "\n",
    "    *Проверьте гипотезу различия дохода между теми клиентами, которые ушли и теми, которые остались.*\n",
    "\n",
    "    *Сформулируйте и проверьте статистическую гипотезу относительно представленных данных*\n",
    "\n",
    "\n",
    "(задачи выше сформулированы предварительно, окончательная постановка задачи произойдёт на вводной встрече)\n",
    "\n",
    "### Описание датасетов\n",
    "\n",
    "Датасет содержит данные о клиентах банка «Метанпром». Банк располагается в Ярославле и областных городах: Ростов Великий и Рыбинск.\n",
    "\n",
    "Колонки:\n",
    "\n",
    "- `userid` — идентификатор пользователя,\n",
    "- `score` — баллы кредитного скоринга,\n",
    "- `City` — город,\n",
    "- `Gender` — пол,\n",
    "- `Age` — возраст,\n",
    "- `equity` — количество объектов в собственности,\n",
    "- `Balance` — баланс на счёте,\n",
    "- `Products` — количество продуктов, которыми пользуется клиент,\n",
    "- `CreditCard` — есть ли кредитная карта,\n",
    "- `Last_activity` — активный клиент,\n",
    "- `est_salary` — заработная плата клиента,\n",
    "- `Churn` — ушёл или нет.\n",
    "\n",
    "По итогам исследования подготовьте презентацию. Для создания презентации используйте любой удобный инструмент, но отправить презентацию нужно **обязательно** в формате **pdf,** прикрепив ссылку на файл в основном проекте."
   ]
  },
  {
   "cell_type": "code",
   "execution_count": 1,
   "metadata": {},
   "outputs": [
    {
     "name": "stdout",
     "output_type": "stream",
     "text": [
      "Requirement already satisfied: shap in /opt/anaconda3/lib/python3.9/site-packages (0.41.0)\n",
      "Requirement already satisfied: tqdm>4.25.0 in /opt/anaconda3/lib/python3.9/site-packages (from shap) (4.64.0)\n",
      "Requirement already satisfied: scikit-learn in /opt/anaconda3/lib/python3.9/site-packages (from shap) (1.0.2)\n",
      "Requirement already satisfied: cloudpickle in /opt/anaconda3/lib/python3.9/site-packages (from shap) (2.0.0)\n",
      "Requirement already satisfied: numpy in /opt/anaconda3/lib/python3.9/site-packages (from shap) (1.21.5)\n",
      "Requirement already satisfied: slicer==0.0.7 in /opt/anaconda3/lib/python3.9/site-packages (from shap) (0.0.7)\n",
      "Requirement already satisfied: pandas in /opt/anaconda3/lib/python3.9/site-packages (from shap) (1.4.2)\n",
      "Requirement already satisfied: numba in /opt/anaconda3/lib/python3.9/site-packages (from shap) (0.55.1)\n",
      "Requirement already satisfied: scipy in /opt/anaconda3/lib/python3.9/site-packages (from shap) (1.7.3)\n",
      "Requirement already satisfied: packaging>20.9 in /opt/anaconda3/lib/python3.9/site-packages (from shap) (21.3)\n",
      "Requirement already satisfied: pyparsing!=3.0.5,>=2.0.2 in /opt/anaconda3/lib/python3.9/site-packages (from packaging>20.9->shap) (3.0.4)\n",
      "Requirement already satisfied: setuptools in /opt/anaconda3/lib/python3.9/site-packages (from numba->shap) (61.2.0)\n",
      "Requirement already satisfied: llvmlite<0.39,>=0.38.0rc1 in /opt/anaconda3/lib/python3.9/site-packages (from numba->shap) (0.38.0)\n",
      "Requirement already satisfied: python-dateutil>=2.8.1 in /opt/anaconda3/lib/python3.9/site-packages (from pandas->shap) (2.8.2)\n",
      "Requirement already satisfied: pytz>=2020.1 in /opt/anaconda3/lib/python3.9/site-packages (from pandas->shap) (2021.3)\n",
      "Requirement already satisfied: six>=1.5 in /opt/anaconda3/lib/python3.9/site-packages (from python-dateutil>=2.8.1->pandas->shap) (1.16.0)\n",
      "Requirement already satisfied: joblib>=0.11 in /opt/anaconda3/lib/python3.9/site-packages (from scikit-learn->shap) (1.1.0)\n",
      "Requirement already satisfied: threadpoolctl>=2.0.0 in /opt/anaconda3/lib/python3.9/site-packages (from scikit-learn->shap) (2.2.0)\n"
     ]
    }
   ],
   "source": [
    "!pip install shap"
   ]
  },
  {
   "cell_type": "code",
   "execution_count": 2,
   "metadata": {},
   "outputs": [
    {
     "name": "stdout",
     "output_type": "stream",
     "text": [
      "Requirement already satisfied: phik in /opt/anaconda3/lib/python3.9/site-packages (0.12.2)\n",
      "Requirement already satisfied: matplotlib>=2.2.3 in /opt/anaconda3/lib/python3.9/site-packages (from phik) (3.5.1)\n",
      "Requirement already satisfied: scipy>=1.5.2 in /opt/anaconda3/lib/python3.9/site-packages (from phik) (1.7.3)\n",
      "Requirement already satisfied: joblib>=0.14.1 in /opt/anaconda3/lib/python3.9/site-packages (from phik) (1.1.0)\n",
      "Requirement already satisfied: numpy>=1.18.0 in /opt/anaconda3/lib/python3.9/site-packages (from phik) (1.21.5)\n",
      "Requirement already satisfied: pandas>=0.25.1 in /opt/anaconda3/lib/python3.9/site-packages (from phik) (1.4.2)\n",
      "Requirement already satisfied: cycler>=0.10 in /opt/anaconda3/lib/python3.9/site-packages (from matplotlib>=2.2.3->phik) (0.11.0)\n",
      "Requirement already satisfied: pyparsing>=2.2.1 in /opt/anaconda3/lib/python3.9/site-packages (from matplotlib>=2.2.3->phik) (3.0.4)\n",
      "Requirement already satisfied: python-dateutil>=2.7 in /opt/anaconda3/lib/python3.9/site-packages (from matplotlib>=2.2.3->phik) (2.8.2)\n",
      "Requirement already satisfied: fonttools>=4.22.0 in /opt/anaconda3/lib/python3.9/site-packages (from matplotlib>=2.2.3->phik) (4.25.0)\n",
      "Requirement already satisfied: packaging>=20.0 in /opt/anaconda3/lib/python3.9/site-packages (from matplotlib>=2.2.3->phik) (21.3)\n",
      "Requirement already satisfied: pillow>=6.2.0 in /opt/anaconda3/lib/python3.9/site-packages (from matplotlib>=2.2.3->phik) (9.0.1)\n",
      "Requirement already satisfied: kiwisolver>=1.0.1 in /opt/anaconda3/lib/python3.9/site-packages (from matplotlib>=2.2.3->phik) (1.3.2)\n",
      "Requirement already satisfied: pytz>=2020.1 in /opt/anaconda3/lib/python3.9/site-packages (from pandas>=0.25.1->phik) (2021.3)\n",
      "Requirement already satisfied: six>=1.5 in /opt/anaconda3/lib/python3.9/site-packages (from python-dateutil>=2.7->matplotlib>=2.2.3->phik) (1.16.0)\n"
     ]
    }
   ],
   "source": [
    "!pip install phik"
   ]
  },
  {
   "cell_type": "code",
   "execution_count": 3,
   "metadata": {},
   "outputs": [],
   "source": [
    "import pandas as pd\n",
    "import seaborn as sns\n",
    "import matplotlib.pyplot as plt\n",
    "import statsmodels.stats.weightstats\n",
    "from scipy import stats as st\n",
    "import numpy as np\n",
    "import warnings\n",
    "warnings.filterwarnings(\"ignore\")\n",
    "\n",
    "import phik\n",
    "\n",
    "from catboost import CatBoostClassifier\n",
    "from sklearn.model_selection import train_test_split\n",
    "from catboost import Pool\n",
    "\n",
    "\n",
    "from sklearn.experimental import enable_iterative_imputer\n",
    "from sklearn.impute import IterativeImputer\n",
    "from sklearn.linear_model import LinearRegression\n",
    "from sklearn.linear_model import BayesianRidge\n",
    "from sklearn.ensemble import RandomForestRegressor\n",
    "\n",
    "from sklearn.preprocessing import LabelEncoder"
   ]
  },
  {
   "attachments": {
    "image.png": {
     "image/png": "[encoded data removed]"
    }
   },
   "cell_type": "markdown",
   "metadata": {},
   "source": [
    "<div class=\"alert alert-warning\"><b>Комментарий ревьюера</b>&nbsp;🔧<br><s>\n",
    "Я заметил что первая ячейка имеет номер выполнения, отличный от <tt>[1]</tt>. Это может приводить к тому, что не вызовут ошибку какие-то изменения кода, которые вызвали бы ошибку после перезапуска ноутбука (или при его запуске на другой машине), например потому, что в памяти сохраняются переменные, которые были сформированы до того, как код был изменён. Поэтому важно выполнять ячейки с первой по последнюю строго последовательным образом перед тем, как отправлять их кому-то.\n",
    "    \n",
    "![image.png](attachment:image.png)\n",
    "</div><div class=\"alert alert-success\"><b>Комментарий ревьюера</b>&nbsp;📝<br>\n",
    "Хорошо, что в начале работы помещаешь описание проекта, это позволит читателям быстро понять, о чём работа. \n",
    "\n",
    "Импорт библиотек в самом начале позволит быстро понять, какое окружение нужно для ноутбука. Такой код проще поддерживать.\n",
    "\n",
    "Если ты не используешь потом какие-то библиотеки или методы, их импорт можно закомментировать. Если передумаешь, то сможешь убрать пометки комментирования и всё снова заработает. \n",
    "\n",
    "<a href='https://pythonworld.ru/osnovy/pep-8-rukovodstvo-po-napisaniyu-koda-na-python.html'>Материал по импорту.</a> Также есть простые правила — не стоит импортировать дважды одно и то же, желательно разбивать импорт на группы (отделять друг от друга переносами строк и комментариями), при этом импорт <a href='https://docs.python.org/3/library/index.html'>стандартных библиотек</a> стоит размещать в начале.\n",
    "</div>"
   ]
  },
  {
   "cell_type": "markdown",
   "metadata": {},
   "source": [
    "## Шаг 1. Загрузка данных и подготовка к исследованию"
   ]
  },
  {
   "cell_type": "code",
   "execution_count": 4,
   "metadata": {},
   "outputs": [],
   "source": [
    "path = \"https://drive.google.com/uc?export=download&id=1-U61mhTz_N1ARjy2XSAZ7IlQqGjeqP0F\"\n",
    "df = pd.read_csv(path)"
   ]
  },
  {
   "cell_type": "markdown",
   "metadata": {},
   "source": [
    "<div class=\"alert alert-success\"><b>Комментарий ревьюера</b>&nbsp;📝<br>\n",
    "Можно загружать файлы, заранее проверяя методами <tt>os.path.isfile</tt> или <tt>os.path.exists</tt> существование файла. Для путей в интернете этот метод не годится.\n",
    "\n",
    "При использовании конструкции try-except важно «отлавливать» конкретный вид ошибки, возникновение которой ты ожидаешь. Название ошибки обычно написано с заглавной буквы красным цветом в конце сообщения об ошибке. Немного <a href='https://tonais.ru/file/oshibka-filenotfounderror-python'>подробнее</a> об этом.\n",
    "</div>"
   ]
  },
  {
   "cell_type": "markdown",
   "metadata": {},
   "source": [
    "<div class=\"alert alert-warning\"><b>Комментарий ревьюера</b>&nbsp;🔧<br>Я давал код:\n",
    "\n",
    "    path = \"https://drive.google.com/uc?export=download&id=1-U61mhTz_N1ARjy2XSAZ7IlQqGjeqP0F\"\n",
    "    df = pd.read_csv(path)\n",
    "    \n",
    "примени его, он будет работать\n",
    "</div>"
   ]
  },
  {
   "cell_type": "markdown",
   "metadata": {},
   "source": [
    "<div class=\"alert btn-primary\"><b>Комментарий студента:</b><br>   Исправил   </div>"
   ]
  },
  {
   "cell_type": "code",
   "execution_count": 5,
   "metadata": {},
   "outputs": [
    {
     "data": {
      "text/html": [
       "<div>\n",
       "<style scoped>\n",
       "    .dataframe tbody tr th:only-of-type {\n",
       "        vertical-align: middle;\n",
       "    }\n",
       "\n",
       "    .dataframe tbody tr th {\n",
       "        vertical-align: top;\n",
       "    }\n",
       "\n",
       "    .dataframe thead th {\n",
       "        text-align: right;\n",
       "    }\n",
       "</style>\n",
       "<table border=\"1\" class=\"dataframe\">\n",
       "  <thead>\n",
       "    <tr style=\"text-align: right;\">\n",
       "      <th></th>\n",
       "      <th>USERID</th>\n",
       "      <th>score</th>\n",
       "      <th>city</th>\n",
       "      <th>gender</th>\n",
       "      <th>age</th>\n",
       "      <th>equity</th>\n",
       "      <th>balance</th>\n",
       "      <th>products</th>\n",
       "      <th>credit_card</th>\n",
       "      <th>last_activity</th>\n",
       "      <th>EST_SALARY</th>\n",
       "      <th>churn</th>\n",
       "    </tr>\n",
       "  </thead>\n",
       "  <tbody>\n",
       "    <tr>\n",
       "      <th>0</th>\n",
       "      <td>183012</td>\n",
       "      <td>850.0</td>\n",
       "      <td>Рыбинск</td>\n",
       "      <td>Ж</td>\n",
       "      <td>25</td>\n",
       "      <td>1</td>\n",
       "      <td>59214.82</td>\n",
       "      <td>2</td>\n",
       "      <td>0</td>\n",
       "      <td>1</td>\n",
       "      <td>75719.14</td>\n",
       "      <td>1</td>\n",
       "    </tr>\n",
       "    <tr>\n",
       "      <th>1</th>\n",
       "      <td>146556</td>\n",
       "      <td>861.0</td>\n",
       "      <td>Рыбинск</td>\n",
       "      <td>Ж</td>\n",
       "      <td>37</td>\n",
       "      <td>5</td>\n",
       "      <td>850594.33</td>\n",
       "      <td>3</td>\n",
       "      <td>1</td>\n",
       "      <td>0</td>\n",
       "      <td>86621.77</td>\n",
       "      <td>0</td>\n",
       "    </tr>\n",
       "    <tr>\n",
       "      <th>2</th>\n",
       "      <td>120722</td>\n",
       "      <td>892.0</td>\n",
       "      <td>Рыбинск</td>\n",
       "      <td>Ж</td>\n",
       "      <td>30</td>\n",
       "      <td>0</td>\n",
       "      <td>NaN</td>\n",
       "      <td>1</td>\n",
       "      <td>1</td>\n",
       "      <td>1</td>\n",
       "      <td>107683.34</td>\n",
       "      <td>0</td>\n",
       "    </tr>\n",
       "    <tr>\n",
       "      <th>3</th>\n",
       "      <td>225363</td>\n",
       "      <td>866.0</td>\n",
       "      <td>Ярославль</td>\n",
       "      <td>Ж</td>\n",
       "      <td>51</td>\n",
       "      <td>5</td>\n",
       "      <td>1524746.26</td>\n",
       "      <td>2</td>\n",
       "      <td>0</td>\n",
       "      <td>1</td>\n",
       "      <td>174423.53</td>\n",
       "      <td>1</td>\n",
       "    </tr>\n",
       "    <tr>\n",
       "      <th>4</th>\n",
       "      <td>157978</td>\n",
       "      <td>730.0</td>\n",
       "      <td>Ярославль</td>\n",
       "      <td>М</td>\n",
       "      <td>34</td>\n",
       "      <td>5</td>\n",
       "      <td>174.00</td>\n",
       "      <td>1</td>\n",
       "      <td>1</td>\n",
       "      <td>0</td>\n",
       "      <td>67353.16</td>\n",
       "      <td>1</td>\n",
       "    </tr>\n",
       "  </tbody>\n",
       "</table>\n",
       "</div>"
      ],
      "text/plain": [
       "   USERID  score       city gender  age  equity     balance  products  \\\n",
       "0  183012  850.0    Рыбинск      Ж   25       1    59214.82         2   \n",
       "1  146556  861.0    Рыбинск      Ж   37       5   850594.33         3   \n",
       "2  120722  892.0    Рыбинск      Ж   30       0         NaN         1   \n",
       "3  225363  866.0  Ярославль      Ж   51       5  1524746.26         2   \n",
       "4  157978  730.0  Ярославль      М   34       5      174.00         1   \n",
       "\n",
       "   credit_card  last_activity  EST_SALARY  churn  \n",
       "0            0              1    75719.14      1  \n",
       "1            1              0    86621.77      0  \n",
       "2            1              1   107683.34      0  \n",
       "3            0              1   174423.53      1  \n",
       "4            1              0    67353.16      1  "
      ]
     },
     "execution_count": 5,
     "metadata": {},
     "output_type": "execute_result"
    }
   ],
   "source": [
    "df.head()"
   ]
  },
  {
   "cell_type": "code",
   "execution_count": 6,
   "metadata": {},
   "outputs": [
    {
     "name": "stdout",
     "output_type": "stream",
     "text": [
      "<class 'pandas.core.frame.DataFrame'>\n",
      "RangeIndex: 10000 entries, 0 to 9999\n",
      "Data columns (total 12 columns):\n",
      " #   Column         Non-Null Count  Dtype  \n",
      "---  ------         --------------  -----  \n",
      " 0   USERID         10000 non-null  int64  \n",
      " 1   score          10000 non-null  float64\n",
      " 2   city           10000 non-null  object \n",
      " 3   gender         10000 non-null  object \n",
      " 4   age            10000 non-null  int64  \n",
      " 5   equity         10000 non-null  int64  \n",
      " 6   balance        7705 non-null   float64\n",
      " 7   products       10000 non-null  int64  \n",
      " 8   credit_card    10000 non-null  int64  \n",
      " 9   last_activity  10000 non-null  int64  \n",
      " 10  EST_SALARY     10000 non-null  float64\n",
      " 11  churn          10000 non-null  int64  \n",
      "dtypes: float64(3), int64(7), object(2)\n",
      "memory usage: 937.6+ KB\n"
     ]
    }
   ],
   "source": [
    "df.info()"
   ]
  },
  {
   "cell_type": "markdown",
   "metadata": {},
   "source": [
    "Вывод: из данных видно, что есть пропуски в столбце: balance. Столбцы приведены к правильным типам данных."
   ]
  },
  {
   "cell_type": "markdown",
   "metadata": {},
   "source": [
    "<div class=\"alert alert-success\" style=\"font-size:200%; font-weight: bold;\">✔️</div>"
   ]
  },
  {
   "cell_type": "markdown",
   "metadata": {},
   "source": [
    "## Шаг 2. Подготовка данных (анализ пропусков) и их кодирование"
   ]
  },
  {
   "cell_type": "markdown",
   "metadata": {},
   "source": [
    "### 2.1 Привести название столбцов к строчному регистру"
   ]
  },
  {
   "cell_type": "code",
   "execution_count": 7,
   "metadata": {},
   "outputs": [
    {
     "data": {
      "text/html": [
       "<div>\n",
       "<style scoped>\n",
       "    .dataframe tbody tr th:only-of-type {\n",
       "        vertical-align: middle;\n",
       "    }\n",
       "\n",
       "    .dataframe tbody tr th {\n",
       "        vertical-align: top;\n",
       "    }\n",
       "\n",
       "    .dataframe thead th {\n",
       "        text-align: right;\n",
       "    }\n",
       "</style>\n",
       "<table border=\"1\" class=\"dataframe\">\n",
       "  <thead>\n",
       "    <tr style=\"text-align: right;\">\n",
       "      <th></th>\n",
       "      <th>userid</th>\n",
       "      <th>score</th>\n",
       "      <th>city</th>\n",
       "      <th>gender</th>\n",
       "      <th>age</th>\n",
       "      <th>equity</th>\n",
       "      <th>balance</th>\n",
       "      <th>products</th>\n",
       "      <th>credit_card</th>\n",
       "      <th>last_activity</th>\n",
       "      <th>est_salary</th>\n",
       "      <th>churn</th>\n",
       "    </tr>\n",
       "  </thead>\n",
       "  <tbody>\n",
       "    <tr>\n",
       "      <th>0</th>\n",
       "      <td>183012</td>\n",
       "      <td>850.0</td>\n",
       "      <td>Рыбинск</td>\n",
       "      <td>Ж</td>\n",
       "      <td>25</td>\n",
       "      <td>1</td>\n",
       "      <td>59214.82</td>\n",
       "      <td>2</td>\n",
       "      <td>0</td>\n",
       "      <td>1</td>\n",
       "      <td>75719.14</td>\n",
       "      <td>1</td>\n",
       "    </tr>\n",
       "    <tr>\n",
       "      <th>1</th>\n",
       "      <td>146556</td>\n",
       "      <td>861.0</td>\n",
       "      <td>Рыбинск</td>\n",
       "      <td>Ж</td>\n",
       "      <td>37</td>\n",
       "      <td>5</td>\n",
       "      <td>850594.33</td>\n",
       "      <td>3</td>\n",
       "      <td>1</td>\n",
       "      <td>0</td>\n",
       "      <td>86621.77</td>\n",
       "      <td>0</td>\n",
       "    </tr>\n",
       "    <tr>\n",
       "      <th>2</th>\n",
       "      <td>120722</td>\n",
       "      <td>892.0</td>\n",
       "      <td>Рыбинск</td>\n",
       "      <td>Ж</td>\n",
       "      <td>30</td>\n",
       "      <td>0</td>\n",
       "      <td>NaN</td>\n",
       "      <td>1</td>\n",
       "      <td>1</td>\n",
       "      <td>1</td>\n",
       "      <td>107683.34</td>\n",
       "      <td>0</td>\n",
       "    </tr>\n",
       "    <tr>\n",
       "      <th>3</th>\n",
       "      <td>225363</td>\n",
       "      <td>866.0</td>\n",
       "      <td>Ярославль</td>\n",
       "      <td>Ж</td>\n",
       "      <td>51</td>\n",
       "      <td>5</td>\n",
       "      <td>1524746.26</td>\n",
       "      <td>2</td>\n",
       "      <td>0</td>\n",
       "      <td>1</td>\n",
       "      <td>174423.53</td>\n",
       "      <td>1</td>\n",
       "    </tr>\n",
       "    <tr>\n",
       "      <th>4</th>\n",
       "      <td>157978</td>\n",
       "      <td>730.0</td>\n",
       "      <td>Ярославль</td>\n",
       "      <td>М</td>\n",
       "      <td>34</td>\n",
       "      <td>5</td>\n",
       "      <td>174.00</td>\n",
       "      <td>1</td>\n",
       "      <td>1</td>\n",
       "      <td>0</td>\n",
       "      <td>67353.16</td>\n",
       "      <td>1</td>\n",
       "    </tr>\n",
       "  </tbody>\n",
       "</table>\n",
       "</div>"
      ],
      "text/plain": [
       "   userid  score       city gender  age  equity     balance  products  \\\n",
       "0  183012  850.0    Рыбинск      Ж   25       1    59214.82         2   \n",
       "1  146556  861.0    Рыбинск      Ж   37       5   850594.33         3   \n",
       "2  120722  892.0    Рыбинск      Ж   30       0         NaN         1   \n",
       "3  225363  866.0  Ярославль      Ж   51       5  1524746.26         2   \n",
       "4  157978  730.0  Ярославль      М   34       5      174.00         1   \n",
       "\n",
       "   credit_card  last_activity  est_salary  churn  \n",
       "0            0              1    75719.14      1  \n",
       "1            1              0    86621.77      0  \n",
       "2            1              1   107683.34      0  \n",
       "3            0              1   174423.53      1  \n",
       "4            1              0    67353.16      1  "
      ]
     },
     "execution_count": 7,
     "metadata": {},
     "output_type": "execute_result"
    }
   ],
   "source": [
    "df.columns = [i.lower() for i in df.columns]\n",
    "df.head()"
   ]
  },
  {
   "cell_type": "markdown",
   "metadata": {},
   "source": [
    "<div class=\"alert alert-success\"><b>Комментарий ревьюера</b>&nbsp;📝<br>\n",
    "Удобно без циклов пользоваться векторными версиями функций через <a href='https://pandas.pydata.org/pandas-docs/stable/user_guide/text.html'>строковый ацессор</a> pandas\n",
    "\n",
    "Стоит также не забывать, что у него есть другие полезные методы\n",
    "</div>"
   ]
  },
  {
   "cell_type": "markdown",
   "metadata": {},
   "source": [
    "### 2.2 Проверить на пропуски данных и решить что с пропусками делать"
   ]
  },
  {
   "cell_type": "code",
   "execution_count": 8,
   "metadata": {},
   "outputs": [
    {
     "data": {
      "text/plain": [
       "0      59214.82\n",
       "1     850594.33\n",
       "2           NaN\n",
       "3    1524746.26\n",
       "4        174.00\n",
       "Name: balance, dtype: float64"
      ]
     },
     "execution_count": 8,
     "metadata": {},
     "output_type": "execute_result"
    }
   ],
   "source": [
    "df['balance'].head()"
   ]
  },
  {
   "cell_type": "code",
   "execution_count": 9,
   "metadata": {},
   "outputs": [
    {
     "data": {
      "text/plain": [
       "2295"
      ]
     },
     "execution_count": 9,
     "metadata": {},
     "output_type": "execute_result"
    }
   ],
   "source": [
    "len(df[df['balance'].isna()])"
   ]
  },
  {
   "cell_type": "code",
   "execution_count": 10,
   "metadata": {},
   "outputs": [
    {
     "data": {
      "text/plain": [
       "0.2295"
      ]
     },
     "execution_count": 10,
     "metadata": {},
     "output_type": "execute_result"
    }
   ],
   "source": [
    "len(df[df['balance'].isna()])/len(df)"
   ]
  },
  {
   "cell_type": "markdown",
   "metadata": {},
   "source": [
    "Вывод: из полученных данных видим, что пропуски в столбце составляют 23%"
   ]
  },
  {
   "cell_type": "code",
   "execution_count": 11,
   "metadata": {},
   "outputs": [
    {
     "data": {
      "text/html": [
       "<div>\n",
       "<style scoped>\n",
       "    .dataframe tbody tr th:only-of-type {\n",
       "        vertical-align: middle;\n",
       "    }\n",
       "\n",
       "    .dataframe tbody tr th {\n",
       "        vertical-align: top;\n",
       "    }\n",
       "\n",
       "    .dataframe thead th {\n",
       "        text-align: right;\n",
       "    }\n",
       "</style>\n",
       "<table border=\"1\" class=\"dataframe\">\n",
       "  <thead>\n",
       "    <tr style=\"text-align: right;\">\n",
       "      <th></th>\n",
       "      <th>userid</th>\n",
       "      <th>score</th>\n",
       "      <th>city</th>\n",
       "      <th>gender</th>\n",
       "      <th>age</th>\n",
       "      <th>equity</th>\n",
       "      <th>balance</th>\n",
       "      <th>products</th>\n",
       "      <th>credit_card</th>\n",
       "      <th>last_activity</th>\n",
       "      <th>est_salary</th>\n",
       "      <th>churn</th>\n",
       "    </tr>\n",
       "  </thead>\n",
       "  <tbody>\n",
       "    <tr>\n",
       "      <th>2</th>\n",
       "      <td>120722</td>\n",
       "      <td>892.0</td>\n",
       "      <td>Рыбинск</td>\n",
       "      <td>Ж</td>\n",
       "      <td>30</td>\n",
       "      <td>0</td>\n",
       "      <td>NaN</td>\n",
       "      <td>1</td>\n",
       "      <td>1</td>\n",
       "      <td>1</td>\n",
       "      <td>107683.34</td>\n",
       "      <td>0</td>\n",
       "    </tr>\n",
       "    <tr>\n",
       "      <th>9</th>\n",
       "      <td>133130</td>\n",
       "      <td>906.0</td>\n",
       "      <td>Ярославль</td>\n",
       "      <td>Ж</td>\n",
       "      <td>67</td>\n",
       "      <td>0</td>\n",
       "      <td>NaN</td>\n",
       "      <td>1</td>\n",
       "      <td>0</td>\n",
       "      <td>1</td>\n",
       "      <td>238055.53</td>\n",
       "      <td>0</td>\n",
       "    </tr>\n",
       "    <tr>\n",
       "      <th>10</th>\n",
       "      <td>148929</td>\n",
       "      <td>927.0</td>\n",
       "      <td>Ростов</td>\n",
       "      <td>М</td>\n",
       "      <td>52</td>\n",
       "      <td>0</td>\n",
       "      <td>NaN</td>\n",
       "      <td>1</td>\n",
       "      <td>1</td>\n",
       "      <td>1</td>\n",
       "      <td>196820.07</td>\n",
       "      <td>0</td>\n",
       "    </tr>\n",
       "    <tr>\n",
       "      <th>11</th>\n",
       "      <td>172184</td>\n",
       "      <td>921.0</td>\n",
       "      <td>Ростов</td>\n",
       "      <td>М</td>\n",
       "      <td>41</td>\n",
       "      <td>0</td>\n",
       "      <td>NaN</td>\n",
       "      <td>1</td>\n",
       "      <td>1</td>\n",
       "      <td>1</td>\n",
       "      <td>217469.48</td>\n",
       "      <td>0</td>\n",
       "    </tr>\n",
       "    <tr>\n",
       "      <th>19</th>\n",
       "      <td>127034</td>\n",
       "      <td>922.0</td>\n",
       "      <td>Рыбинск</td>\n",
       "      <td>Ж</td>\n",
       "      <td>53</td>\n",
       "      <td>0</td>\n",
       "      <td>NaN</td>\n",
       "      <td>1</td>\n",
       "      <td>0</td>\n",
       "      <td>0</td>\n",
       "      <td>147094.82</td>\n",
       "      <td>0</td>\n",
       "    </tr>\n",
       "    <tr>\n",
       "      <th>21</th>\n",
       "      <td>177415</td>\n",
       "      <td>896.0</td>\n",
       "      <td>Рыбинск</td>\n",
       "      <td>Ж</td>\n",
       "      <td>47</td>\n",
       "      <td>0</td>\n",
       "      <td>NaN</td>\n",
       "      <td>1</td>\n",
       "      <td>0</td>\n",
       "      <td>0</td>\n",
       "      <td>225060.35</td>\n",
       "      <td>0</td>\n",
       "    </tr>\n",
       "    <tr>\n",
       "      <th>30</th>\n",
       "      <td>155730</td>\n",
       "      <td>946.0</td>\n",
       "      <td>Ярославль</td>\n",
       "      <td>Ж</td>\n",
       "      <td>47</td>\n",
       "      <td>0</td>\n",
       "      <td>NaN</td>\n",
       "      <td>2</td>\n",
       "      <td>1</td>\n",
       "      <td>1</td>\n",
       "      <td>660015.85</td>\n",
       "      <td>0</td>\n",
       "    </tr>\n",
       "    <tr>\n",
       "      <th>34</th>\n",
       "      <td>205226</td>\n",
       "      <td>944.0</td>\n",
       "      <td>Ярославль</td>\n",
       "      <td>М</td>\n",
       "      <td>35</td>\n",
       "      <td>0</td>\n",
       "      <td>NaN</td>\n",
       "      <td>2</td>\n",
       "      <td>1</td>\n",
       "      <td>1</td>\n",
       "      <td>239843.39</td>\n",
       "      <td>0</td>\n",
       "    </tr>\n",
       "    <tr>\n",
       "      <th>39</th>\n",
       "      <td>173175</td>\n",
       "      <td>924.0</td>\n",
       "      <td>Рыбинск</td>\n",
       "      <td>Ж</td>\n",
       "      <td>51</td>\n",
       "      <td>0</td>\n",
       "      <td>NaN</td>\n",
       "      <td>1</td>\n",
       "      <td>1</td>\n",
       "      <td>1</td>\n",
       "      <td>248844.47</td>\n",
       "      <td>0</td>\n",
       "    </tr>\n",
       "    <tr>\n",
       "      <th>43</th>\n",
       "      <td>228585</td>\n",
       "      <td>956.0</td>\n",
       "      <td>Ростов</td>\n",
       "      <td>М</td>\n",
       "      <td>41</td>\n",
       "      <td>0</td>\n",
       "      <td>NaN</td>\n",
       "      <td>1</td>\n",
       "      <td>1</td>\n",
       "      <td>0</td>\n",
       "      <td>115117.10</td>\n",
       "      <td>0</td>\n",
       "    </tr>\n",
       "  </tbody>\n",
       "</table>\n",
       "</div>"
      ],
      "text/plain": [
       "    userid  score       city gender  age  equity  balance  products  \\\n",
       "2   120722  892.0    Рыбинск      Ж   30       0      NaN         1   \n",
       "9   133130  906.0  Ярославль      Ж   67       0      NaN         1   \n",
       "10  148929  927.0     Ростов      М   52       0      NaN         1   \n",
       "11  172184  921.0     Ростов      М   41       0      NaN         1   \n",
       "19  127034  922.0    Рыбинск      Ж   53       0      NaN         1   \n",
       "21  177415  896.0    Рыбинск      Ж   47       0      NaN         1   \n",
       "30  155730  946.0  Ярославль      Ж   47       0      NaN         2   \n",
       "34  205226  944.0  Ярославль      М   35       0      NaN         2   \n",
       "39  173175  924.0    Рыбинск      Ж   51       0      NaN         1   \n",
       "43  228585  956.0     Ростов      М   41       0      NaN         1   \n",
       "\n",
       "    credit_card  last_activity  est_salary  churn  \n",
       "2             1              1   107683.34      0  \n",
       "9             0              1   238055.53      0  \n",
       "10            1              1   196820.07      0  \n",
       "11            1              1   217469.48      0  \n",
       "19            0              0   147094.82      0  \n",
       "21            0              0   225060.35      0  \n",
       "30            1              1   660015.85      0  \n",
       "34            1              1   239843.39      0  \n",
       "39            1              1   248844.47      0  \n",
       "43            1              0   115117.10      0  "
      ]
     },
     "execution_count": 11,
     "metadata": {},
     "output_type": "execute_result"
    }
   ],
   "source": [
    "df[df['balance'].isna()].head(10)"
   ]
  },
  {
   "cell_type": "markdown",
   "metadata": {},
   "source": [
    "<div class=\"alert alert-warning\"><b>Комментарий ревьюера</b>&nbsp;⚠️<br>\n",
    "Результатом <tt>df['balance'].isna()</tt> уже является массив булевых значений, не нужно проверять равенство с <tt>True</tt>. Обратить булевы значения можно так: <tt>~df['balance'].isna()</tt>\n",
    "</div>"
   ]
  },
  {
   "cell_type": "markdown",
   "metadata": {},
   "source": [
    "<div class=\"alert alert-success\"><b>Комментарий ревьюера 2&nbsp;<big>✔️</big></b></div>"
   ]
  },
  {
   "cell_type": "code",
   "execution_count": 12,
   "metadata": {},
   "outputs": [
    {
     "data": {
      "text/plain": [
       "13"
      ]
     },
     "execution_count": 12,
     "metadata": {},
     "output_type": "execute_result"
    }
   ],
   "source": [
    "len(df[(df['balance'].isna()) & (df['churn'] == 1)])"
   ]
  },
  {
   "cell_type": "code",
   "execution_count": 13,
   "metadata": {},
   "outputs": [
    {
     "data": {
      "text/plain": [
       "2282"
      ]
     },
     "execution_count": 13,
     "metadata": {},
     "output_type": "execute_result"
    }
   ],
   "source": [
    "len(df[(df['balance'].isna()) & (df['churn'] == 0)])"
   ]
  },
  {
   "cell_type": "code",
   "execution_count": 14,
   "metadata": {},
   "outputs": [
    {
     "data": {
      "text/plain": [
       "2"
      ]
     },
     "execution_count": 14,
     "metadata": {},
     "output_type": "execute_result"
    }
   ],
   "source": [
    "len(df[df['balance'] == 0])"
   ]
  },
  {
   "cell_type": "code",
   "execution_count": 15,
   "metadata": {},
   "outputs": [
    {
     "data": {
      "text/plain": [
       "1872"
      ]
     },
     "execution_count": 15,
     "metadata": {},
     "output_type": "execute_result"
    }
   ],
   "source": [
    "len(df[(df['balance'].isna()) & (df['credit_card'] == 1)])"
   ]
  },
  {
   "cell_type": "code",
   "execution_count": 16,
   "metadata": {},
   "outputs": [
    {
     "data": {
      "text/plain": [
       "423"
      ]
     },
     "execution_count": 16,
     "metadata": {},
     "output_type": "execute_result"
    }
   ],
   "source": [
    "len(df[(df['balance'].isna()) & (df['credit_card'] == 0)])"
   ]
  },
  {
   "cell_type": "code",
   "execution_count": 17,
   "metadata": {},
   "outputs": [
    {
     "data": {
      "text/plain": [
       "0.0423"
      ]
     },
     "execution_count": 17,
     "metadata": {},
     "output_type": "execute_result"
    }
   ],
   "source": [
    "len(df[(df['balance'].isna()) & (df['credit_card'] == 0)])/ len(df)"
   ]
  },
  {
   "cell_type": "markdown",
   "metadata": {},
   "source": [
    "Вывод: из данных видно, что почти все клиенты с пропусками остаются клиентами банка (только 13 человек ушли). Стоит отметить, что если посмотреть кол-во клиентов со значением на балансе 0, то можно увидеть, что таких всего 2. Можно предположить что пропуски вызваны тем, что клиненты не имеют средств на счете (возможно даже не пополняли), такое может быть если допустим карты раздавалить и оформлялись на клиентов качетсве промоакции. Клиентов с кредитнами картами оказалось подовляющее большинство из данной когорты. Пропуски клиентов без кредитных карт составляют всего 4%. Данные пропуски относятся к группе MNAR. Значение NaN относиться к типу float и можно не менять данное значение на 0."
   ]
  },
  {
   "cell_type": "markdown",
   "metadata": {},
   "source": [
    "<div class=\"alert alert-success\"><b>Комментарий ревьюера&nbsp;<big>✔️</big></b></div>"
   ]
  },
  {
   "cell_type": "markdown",
   "metadata": {},
   "source": [
    "<div class=\"alert alert-warning\"><b>Комментарий ревьюера</b>&nbsp;💡<br>\n",
    "Выводы правильные на имеющемся материале, однако можно провести более подробное исследование:\n",
    "</div>"
   ]
  },
  {
   "cell_type": "code",
   "execution_count": 18,
   "metadata": {},
   "outputs": [
    {
     "data": {
      "text/html": [
       "<style type=\"text/css\">\n",
       "</style>\n",
       "<table id=\"T_28849\">\n",
       "  <thead>\n",
       "    <tr>\n",
       "      <th class=\"index_name level0\" >balance</th>\n",
       "      <th id=\"T_28849_level0_col0\" class=\"col_heading level0 col0\" >Есть пропуски</th>\n",
       "      <th id=\"T_28849_level0_col1\" class=\"col_heading level0 col1\" >Нет пропусков</th>\n",
       "      <th id=\"T_28849_level0_col2\" class=\"col_heading level0 col2\" >%</th>\n",
       "    </tr>\n",
       "  </thead>\n",
       "  <tbody>\n",
       "    <tr>\n",
       "      <th id=\"T_28849_level0_row0\" class=\"row_heading level0 row0\" >equity</th>\n",
       "      <td id=\"T_28849_row0_col0\" class=\"data row0 col0\" >0.05</td>\n",
       "      <td id=\"T_28849_row0_col1\" class=\"data row0 col1\" >3.40</td>\n",
       "      <td id=\"T_28849_row0_col2\" class=\"data row0 col2\" >-65.60</td>\n",
       "    </tr>\n",
       "    <tr>\n",
       "      <th id=\"T_28849_level0_row1\" class=\"row_heading level0 row1\" >churn</th>\n",
       "      <td id=\"T_28849_row1_col0\" class=\"data row1 col0\" >0.01</td>\n",
       "      <td id=\"T_28849_row1_col1\" class=\"data row1 col1\" >0.23</td>\n",
       "      <td id=\"T_28849_row1_col2\" class=\"data row1 col2\" >-40.45</td>\n",
       "    </tr>\n",
       "    <tr>\n",
       "      <th id=\"T_28849_level0_row2\" class=\"row_heading level0 row2\" >products</th>\n",
       "      <td id=\"T_28849_row2_col0\" class=\"data row2 col0\" >1.16</td>\n",
       "      <td id=\"T_28849_row2_col1\" class=\"data row2 col1\" >2.09</td>\n",
       "      <td id=\"T_28849_row2_col2\" class=\"data row2 col2\" >-0.80</td>\n",
       "    </tr>\n",
       "    <tr>\n",
       "      <th id=\"T_28849_level0_row3\" class=\"row_heading level0 row3\" >age</th>\n",
       "      <td id=\"T_28849_row3_col0\" class=\"data row3 col0\" >41.85</td>\n",
       "      <td id=\"T_28849_row3_col1\" class=\"data row3 col1\" >43.13</td>\n",
       "      <td id=\"T_28849_row3_col2\" class=\"data row3 col2\" >-0.03</td>\n",
       "    </tr>\n",
       "    <tr>\n",
       "      <th id=\"T_28849_level0_row4\" class=\"row_heading level0 row4\" >score</th>\n",
       "      <td id=\"T_28849_row4_col0\" class=\"data row4 col0\" >865.35</td>\n",
       "      <td id=\"T_28849_row4_col1\" class=\"data row4 col1\" >843.74</td>\n",
       "      <td id=\"T_28849_row4_col2\" class=\"data row4 col2\" >0.02</td>\n",
       "    </tr>\n",
       "    <tr>\n",
       "      <th id=\"T_28849_level0_row5\" class=\"row_heading level0 row5\" >last_activity</th>\n",
       "      <td id=\"T_28849_row5_col0\" class=\"data row5 col0\" >0.55</td>\n",
       "      <td id=\"T_28849_row5_col1\" class=\"data row5 col1\" >0.52</td>\n",
       "      <td id=\"T_28849_row5_col2\" class=\"data row5 col2\" >0.06</td>\n",
       "    </tr>\n",
       "    <tr>\n",
       "      <th id=\"T_28849_level0_row6\" class=\"row_heading level0 row6\" >credit_card</th>\n",
       "      <td id=\"T_28849_row6_col0\" class=\"data row6 col0\" >0.82</td>\n",
       "      <td id=\"T_28849_row6_col1\" class=\"data row6 col1\" >0.64</td>\n",
       "      <td id=\"T_28849_row6_col2\" class=\"data row6 col2\" >0.22</td>\n",
       "    </tr>\n",
       "    <tr>\n",
       "      <th id=\"T_28849_level0_row7\" class=\"row_heading level0 row7\" >est_salary</th>\n",
       "      <td id=\"T_28849_row7_col0\" class=\"data row7 col0\" >226_310.21</td>\n",
       "      <td id=\"T_28849_row7_col1\" class=\"data row7 col1\" >124_501.87</td>\n",
       "      <td id=\"T_28849_row7_col2\" class=\"data row7 col2\" >0.45</td>\n",
       "    </tr>\n",
       "    <tr>\n",
       "      <th id=\"T_28849_level0_row8\" class=\"row_heading level0 row8\" >balance</th>\n",
       "      <td id=\"T_28849_row8_col0\" class=\"data row8 col0\" >nan</td>\n",
       "      <td id=\"T_28849_row8_col1\" class=\"data row8 col1\" >827_794.31</td>\n",
       "      <td id=\"T_28849_row8_col2\" class=\"data row8 col2\" >nan</td>\n",
       "    </tr>\n",
       "  </tbody>\n",
       "</table>\n"
      ],
      "text/plain": [
       "<pandas.io.formats.style.Styler at 0x7fda280f1640>"
      ]
     },
     "metadata": {},
     "output_type": "display_data"
    },
    {
     "data": {
      "image/png": "[encoded data removed]",
      "text/plain": [
       "<Figure size 432x288 with 1 Axes>"
      ]
     },
     "metadata": {
      "needs_background": "light"
     },
     "output_type": "display_data"
    },
    {
     "data": {
      "image/png": "[encoded data removed]",
      "text/plain": [
       "<Figure size 432x288 with 1 Axes>"
      ]
     },
     "metadata": {
      "needs_background": "light"
     },
     "output_type": "display_data"
    },
    {
     "data": {
      "image/png": "[encoded data removed]",
      "text/plain": [
       "<Figure size 432x288 with 2 Axes>"
      ]
     },
     "metadata": {},
     "output_type": "display_data"
    }
   ],
   "source": [
    "### КОД РЕВЬЮЕРА\n",
    "USERID = \"userid\"\n",
    "df_nan_mean = df.groupby(df.balance.isna().map({False:\"Нет пропусков\",True:\"Есть пропуски\"}))\\\n",
    "      .mean().T.drop(USERID)\n",
    "df_nan_mean['%'] = 1-df_nan_mean[\"Нет пропусков\"]/df_nan_mean[\"Есть пропуски\"]\n",
    "display(df_nan_mean.sort_values('%').style.format(\"{:_.2f}\"))\n",
    "\n",
    "df.groupby('equity').agg({\"balance\":lambda series:series.isna().mean()})\\\n",
    "  .plot(kind=\"barh\").set(title=\"Процент пропусков по баллам имущества\")\n",
    "\n",
    "df.groupby('products').agg({\"balance\":lambda series:series.isna().mean()})\\\n",
    "  .plot(kind=\"bar\").set(title=\"Процент пропусков по продуктам\")\n",
    "\n",
    "df.assign(balance_na = df.balance.isna().map({False:\"Нет пропусков\",True:\"Есть пропуски\"}))\\\n",
    "  .pivot_table(index='churn',columns=\"balance_na\",values=USERID,aggfunc=\"count\")\\\n",
    "  .plot.pie(subplots=True, title=\"Доля оттока (1)\");"
   ]
  },
  {
   "cell_type": "markdown",
   "metadata": {},
   "source": [
    "### добавить столбец наличие заработной карты (если зарплата больше 0, то заработная карта есть, иначе - нет)"
   ]
  },
  {
   "cell_type": "code",
   "execution_count": 19,
   "metadata": {},
   "outputs": [
    {
     "data": {
      "text/html": [
       "<div>\n",
       "<style scoped>\n",
       "    .dataframe tbody tr th:only-of-type {\n",
       "        vertical-align: middle;\n",
       "    }\n",
       "\n",
       "    .dataframe tbody tr th {\n",
       "        vertical-align: top;\n",
       "    }\n",
       "\n",
       "    .dataframe thead th {\n",
       "        text-align: right;\n",
       "    }\n",
       "</style>\n",
       "<table border=\"1\" class=\"dataframe\">\n",
       "  <thead>\n",
       "    <tr style=\"text-align: right;\">\n",
       "      <th></th>\n",
       "      <th>userid</th>\n",
       "      <th>score</th>\n",
       "      <th>city</th>\n",
       "      <th>gender</th>\n",
       "      <th>age</th>\n",
       "      <th>equity</th>\n",
       "      <th>balance</th>\n",
       "      <th>products</th>\n",
       "      <th>credit_card</th>\n",
       "      <th>last_activity</th>\n",
       "      <th>est_salary</th>\n",
       "      <th>churn</th>\n",
       "    </tr>\n",
       "  </thead>\n",
       "  <tbody>\n",
       "    <tr>\n",
       "      <th>0</th>\n",
       "      <td>183012</td>\n",
       "      <td>850.0</td>\n",
       "      <td>Рыбинск</td>\n",
       "      <td>Ж</td>\n",
       "      <td>25</td>\n",
       "      <td>1</td>\n",
       "      <td>59214.82</td>\n",
       "      <td>2</td>\n",
       "      <td>0</td>\n",
       "      <td>1</td>\n",
       "      <td>75719.14</td>\n",
       "      <td>1</td>\n",
       "    </tr>\n",
       "    <tr>\n",
       "      <th>1</th>\n",
       "      <td>146556</td>\n",
       "      <td>861.0</td>\n",
       "      <td>Рыбинск</td>\n",
       "      <td>Ж</td>\n",
       "      <td>37</td>\n",
       "      <td>5</td>\n",
       "      <td>850594.33</td>\n",
       "      <td>3</td>\n",
       "      <td>1</td>\n",
       "      <td>0</td>\n",
       "      <td>86621.77</td>\n",
       "      <td>0</td>\n",
       "    </tr>\n",
       "    <tr>\n",
       "      <th>2</th>\n",
       "      <td>120722</td>\n",
       "      <td>892.0</td>\n",
       "      <td>Рыбинск</td>\n",
       "      <td>Ж</td>\n",
       "      <td>30</td>\n",
       "      <td>0</td>\n",
       "      <td>NaN</td>\n",
       "      <td>1</td>\n",
       "      <td>1</td>\n",
       "      <td>1</td>\n",
       "      <td>107683.34</td>\n",
       "      <td>0</td>\n",
       "    </tr>\n",
       "    <tr>\n",
       "      <th>3</th>\n",
       "      <td>225363</td>\n",
       "      <td>866.0</td>\n",
       "      <td>Ярославль</td>\n",
       "      <td>Ж</td>\n",
       "      <td>51</td>\n",
       "      <td>5</td>\n",
       "      <td>1524746.26</td>\n",
       "      <td>2</td>\n",
       "      <td>0</td>\n",
       "      <td>1</td>\n",
       "      <td>174423.53</td>\n",
       "      <td>1</td>\n",
       "    </tr>\n",
       "    <tr>\n",
       "      <th>4</th>\n",
       "      <td>157978</td>\n",
       "      <td>730.0</td>\n",
       "      <td>Ярославль</td>\n",
       "      <td>М</td>\n",
       "      <td>34</td>\n",
       "      <td>5</td>\n",
       "      <td>174.00</td>\n",
       "      <td>1</td>\n",
       "      <td>1</td>\n",
       "      <td>0</td>\n",
       "      <td>67353.16</td>\n",
       "      <td>1</td>\n",
       "    </tr>\n",
       "  </tbody>\n",
       "</table>\n",
       "</div>"
      ],
      "text/plain": [
       "   userid  score       city gender  age  equity     balance  products  \\\n",
       "0  183012  850.0    Рыбинск      Ж   25       1    59214.82         2   \n",
       "1  146556  861.0    Рыбинск      Ж   37       5   850594.33         3   \n",
       "2  120722  892.0    Рыбинск      Ж   30       0         NaN         1   \n",
       "3  225363  866.0  Ярославль      Ж   51       5  1524746.26         2   \n",
       "4  157978  730.0  Ярославль      М   34       5      174.00         1   \n",
       "\n",
       "   credit_card  last_activity  est_salary  churn  \n",
       "0            0              1    75719.14      1  \n",
       "1            1              0    86621.77      0  \n",
       "2            1              1   107683.34      0  \n",
       "3            0              1   174423.53      1  \n",
       "4            1              0    67353.16      1  "
      ]
     },
     "execution_count": 19,
     "metadata": {},
     "output_type": "execute_result"
    }
   ],
   "source": [
    "df[df['est_salary'] > 0].head()"
   ]
  },
  {
   "cell_type": "code",
   "execution_count": 20,
   "metadata": {},
   "outputs": [
    {
     "data": {
      "text/plain": [
       "10000"
      ]
     },
     "execution_count": 20,
     "metadata": {},
     "output_type": "execute_result"
    }
   ],
   "source": [
    "len(df[df['est_salary'] > 0])"
   ]
  },
  {
   "cell_type": "markdown",
   "metadata": {},
   "source": [
    "Вывод: на основе полученных данных видно, что у всех в бд указана зарплата, скорее всего тут указана зарплата на основании информации клиентов или банка о их зарплата, не зависимо является клиент пользователем зарплаьного проекта в данном банке. На основе данным нельзя определить принадлежность клиента к зарплатному проекту в банке."
   ]
  },
  {
   "cell_type": "markdown",
   "metadata": {},
   "source": [
    "<div class=\"alert alert-success\"><b>Комментарий ревьюера&nbsp;<big>✔️</big></b></div>"
   ]
  },
  {
   "cell_type": "markdown",
   "metadata": {},
   "source": [
    "## Шаг 3. Исследовательский анализ данных (распределения, в т.ч. в разрезе оттока; портреты клиентов и их сравнение; корреляционный анализ)"
   ]
  },
  {
   "cell_type": "markdown",
   "metadata": {},
   "source": [
    "### Распределения, в т.ч. в разрезе оттока; портреты клиентов и их сравнение"
   ]
  },
  {
   "cell_type": "markdown",
   "metadata": {},
   "source": [
    "<div class=\"alert alert-warning\"><b>Комментарий ревьюера</b>&nbsp;🔧<br>\n",
    "Ниже в этом подразделе ты смотришь только корреляцию. Это нормально, её можно смотреть первой, но это надо отразить в заголовке, потом хорошо построить бокслоты просто по показателям (поискать выбросы, но не выкидывать VIP-клиентов) и <b>сравнить средние по показателям</b> (на сколько процентов выше средняя зарплата / баланс / доля активных и т.п. у отточных по сравнению с неотточными) и потом обязательно <b>построить гистограммы или kde-графики в разрезе оттока по количественным показателям</b> с большим количеством уникальных значений. Так можно выполнить заявленное в заголовке.\n",
    "</div>"
   ]
  },
  {
   "cell_type": "markdown",
   "metadata": {},
   "source": [
    "<div class=\"alert btn-primary\"><b>Комментарий студента:</b><br>   Исправил   </div>"
   ]
  },
  {
   "cell_type": "markdown",
   "metadata": {},
   "source": [
    "<div class=\"alert alert-danger\"><b>Комментарий ревьюера 2</b>&nbsp;🔧<br>\n",
    "Над графиками надо ещё работать и они должны быть по всем переменным, включая зарплату и баланс. По городам ниже есть график, но никаких выводов из него, кажется, сделать нельзя. Вот из таблицы с уровнями оттока можно, но в презентации она будет менее красиво смотреться.\n",
    "</div>"
   ]
  },
  {
   "cell_type": "markdown",
   "metadata": {},
   "source": [
    "проверить как влияет Возраст/баллы кредитного скоринга/заработная плата клиента на: кол-во объектов недвижимости, баланс счете, кол-во продуктов которыми пользуется клиент, наличие кредитной карты\n"
   ]
  },
  {
   "cell_type": "code",
   "execution_count": 21,
   "metadata": {},
   "outputs": [
    {
     "data": {
      "text/html": [
       "<div>\n",
       "<style scoped>\n",
       "    .dataframe tbody tr th:only-of-type {\n",
       "        vertical-align: middle;\n",
       "    }\n",
       "\n",
       "    .dataframe tbody tr th {\n",
       "        vertical-align: top;\n",
       "    }\n",
       "\n",
       "    .dataframe thead th {\n",
       "        text-align: right;\n",
       "    }\n",
       "</style>\n",
       "<table border=\"1\" class=\"dataframe\">\n",
       "  <thead>\n",
       "    <tr style=\"text-align: right;\">\n",
       "      <th></th>\n",
       "      <th>userid</th>\n",
       "      <th>score</th>\n",
       "      <th>age</th>\n",
       "      <th>equity</th>\n",
       "      <th>balance</th>\n",
       "      <th>products</th>\n",
       "      <th>credit_card</th>\n",
       "      <th>last_activity</th>\n",
       "      <th>est_salary</th>\n",
       "      <th>churn</th>\n",
       "      <th>Ростов</th>\n",
       "      <th>Рыбинск</th>\n",
       "      <th>Ярославль</th>\n",
       "    </tr>\n",
       "  </thead>\n",
       "  <tbody>\n",
       "    <tr>\n",
       "      <th>userid</th>\n",
       "      <td>1.000000</td>\n",
       "      <td>0.009804</td>\n",
       "      <td>0.017890</td>\n",
       "      <td>0.004599</td>\n",
       "      <td>0.006133</td>\n",
       "      <td>-0.005683</td>\n",
       "      <td>0.005674</td>\n",
       "      <td>-0.031029</td>\n",
       "      <td>-0.000369</td>\n",
       "      <td>-0.012398</td>\n",
       "      <td>-0.032876</td>\n",
       "      <td>0.011240</td>\n",
       "      <td>0.013308</td>\n",
       "    </tr>\n",
       "    <tr>\n",
       "      <th>score</th>\n",
       "      <td>0.009804</td>\n",
       "      <td>1.000000</td>\n",
       "      <td>-0.012164</td>\n",
       "      <td>0.064126</td>\n",
       "      <td>0.235812</td>\n",
       "      <td>-0.004981</td>\n",
       "      <td>-0.094732</td>\n",
       "      <td>-0.031179</td>\n",
       "      <td>0.163866</td>\n",
       "      <td>0.106129</td>\n",
       "      <td>-0.037364</td>\n",
       "      <td>-0.001101</td>\n",
       "      <td>0.027598</td>\n",
       "    </tr>\n",
       "    <tr>\n",
       "      <th>age</th>\n",
       "      <td>0.017890</td>\n",
       "      <td>-0.012164</td>\n",
       "      <td>1.000000</td>\n",
       "      <td>0.032934</td>\n",
       "      <td>0.071599</td>\n",
       "      <td>0.031810</td>\n",
       "      <td>-0.131441</td>\n",
       "      <td>-0.004164</td>\n",
       "      <td>-0.043305</td>\n",
       "      <td>-0.055798</td>\n",
       "      <td>0.047661</td>\n",
       "      <td>0.034599</td>\n",
       "      <td>-0.065043</td>\n",
       "    </tr>\n",
       "    <tr>\n",
       "      <th>equity</th>\n",
       "      <td>0.004599</td>\n",
       "      <td>0.064126</td>\n",
       "      <td>0.032934</td>\n",
       "      <td>1.000000</td>\n",
       "      <td>0.164126</td>\n",
       "      <td>0.430203</td>\n",
       "      <td>-0.167506</td>\n",
       "      <td>-0.001970</td>\n",
       "      <td>-0.171974</td>\n",
       "      <td>0.270672</td>\n",
       "      <td>0.036174</td>\n",
       "      <td>-0.002775</td>\n",
       "      <td>-0.023266</td>\n",
       "    </tr>\n",
       "    <tr>\n",
       "      <th>balance</th>\n",
       "      <td>0.006133</td>\n",
       "      <td>0.235812</td>\n",
       "      <td>0.071599</td>\n",
       "      <td>0.164126</td>\n",
       "      <td>1.000000</td>\n",
       "      <td>0.073024</td>\n",
       "      <td>-0.059253</td>\n",
       "      <td>0.025004</td>\n",
       "      <td>0.339622</td>\n",
       "      <td>0.085442</td>\n",
       "      <td>-0.035944</td>\n",
       "      <td>-0.034597</td>\n",
       "      <td>0.057381</td>\n",
       "    </tr>\n",
       "    <tr>\n",
       "      <th>products</th>\n",
       "      <td>-0.005683</td>\n",
       "      <td>-0.004981</td>\n",
       "      <td>0.031810</td>\n",
       "      <td>0.430203</td>\n",
       "      <td>0.073024</td>\n",
       "      <td>1.000000</td>\n",
       "      <td>-0.256392</td>\n",
       "      <td>0.040071</td>\n",
       "      <td>-0.119738</td>\n",
       "      <td>0.297110</td>\n",
       "      <td>-0.005654</td>\n",
       "      <td>-0.043195</td>\n",
       "      <td>0.042856</td>\n",
       "    </tr>\n",
       "    <tr>\n",
       "      <th>credit_card</th>\n",
       "      <td>0.005674</td>\n",
       "      <td>-0.094732</td>\n",
       "      <td>-0.131441</td>\n",
       "      <td>-0.167506</td>\n",
       "      <td>-0.059253</td>\n",
       "      <td>-0.256392</td>\n",
       "      <td>1.000000</td>\n",
       "      <td>-0.033445</td>\n",
       "      <td>0.035556</td>\n",
       "      <td>-0.131491</td>\n",
       "      <td>-0.099607</td>\n",
       "      <td>-0.049439</td>\n",
       "      <td>0.115376</td>\n",
       "    </tr>\n",
       "    <tr>\n",
       "      <th>last_activity</th>\n",
       "      <td>-0.031029</td>\n",
       "      <td>-0.031179</td>\n",
       "      <td>-0.004164</td>\n",
       "      <td>-0.001970</td>\n",
       "      <td>0.025004</td>\n",
       "      <td>0.040071</td>\n",
       "      <td>-0.033445</td>\n",
       "      <td>1.000000</td>\n",
       "      <td>0.003039</td>\n",
       "      <td>0.169190</td>\n",
       "      <td>0.006788</td>\n",
       "      <td>0.048431</td>\n",
       "      <td>-0.048370</td>\n",
       "    </tr>\n",
       "    <tr>\n",
       "      <th>est_salary</th>\n",
       "      <td>-0.000369</td>\n",
       "      <td>0.163866</td>\n",
       "      <td>-0.043305</td>\n",
       "      <td>-0.171974</td>\n",
       "      <td>0.339622</td>\n",
       "      <td>-0.119738</td>\n",
       "      <td>0.035556</td>\n",
       "      <td>0.003039</td>\n",
       "      <td>1.000000</td>\n",
       "      <td>0.001128</td>\n",
       "      <td>-0.106669</td>\n",
       "      <td>-0.058504</td>\n",
       "      <td>0.128554</td>\n",
       "    </tr>\n",
       "    <tr>\n",
       "      <th>churn</th>\n",
       "      <td>-0.012398</td>\n",
       "      <td>0.106129</td>\n",
       "      <td>-0.055798</td>\n",
       "      <td>0.270672</td>\n",
       "      <td>0.085442</td>\n",
       "      <td>0.297110</td>\n",
       "      <td>-0.131491</td>\n",
       "      <td>0.169190</td>\n",
       "      <td>0.001128</td>\n",
       "      <td>1.000000</td>\n",
       "      <td>0.006120</td>\n",
       "      <td>-0.031179</td>\n",
       "      <td>0.023669</td>\n",
       "    </tr>\n",
       "    <tr>\n",
       "      <th>Ростов</th>\n",
       "      <td>-0.032876</td>\n",
       "      <td>-0.037364</td>\n",
       "      <td>0.047661</td>\n",
       "      <td>0.036174</td>\n",
       "      <td>-0.035944</td>\n",
       "      <td>-0.005654</td>\n",
       "      <td>-0.099607</td>\n",
       "      <td>0.006788</td>\n",
       "      <td>-0.106669</td>\n",
       "      <td>0.006120</td>\n",
       "      <td>1.000000</td>\n",
       "      <td>-0.246196</td>\n",
       "      <td>-0.490826</td>\n",
       "    </tr>\n",
       "    <tr>\n",
       "      <th>Рыбинск</th>\n",
       "      <td>0.011240</td>\n",
       "      <td>-0.001101</td>\n",
       "      <td>0.034599</td>\n",
       "      <td>-0.002775</td>\n",
       "      <td>-0.034597</td>\n",
       "      <td>-0.043195</td>\n",
       "      <td>-0.049439</td>\n",
       "      <td>0.048431</td>\n",
       "      <td>-0.058504</td>\n",
       "      <td>-0.031179</td>\n",
       "      <td>-0.246196</td>\n",
       "      <td>1.000000</td>\n",
       "      <td>-0.723601</td>\n",
       "    </tr>\n",
       "    <tr>\n",
       "      <th>Ярославль</th>\n",
       "      <td>0.013308</td>\n",
       "      <td>0.027598</td>\n",
       "      <td>-0.065043</td>\n",
       "      <td>-0.023266</td>\n",
       "      <td>0.057381</td>\n",
       "      <td>0.042856</td>\n",
       "      <td>0.115376</td>\n",
       "      <td>-0.048370</td>\n",
       "      <td>0.128554</td>\n",
       "      <td>0.023669</td>\n",
       "      <td>-0.490826</td>\n",
       "      <td>-0.723601</td>\n",
       "      <td>1.000000</td>\n",
       "    </tr>\n",
       "  </tbody>\n",
       "</table>\n",
       "</div>"
      ],
      "text/plain": [
       "                 userid     score       age    equity   balance  products  \\\n",
       "userid         1.000000  0.009804  0.017890  0.004599  0.006133 -0.005683   \n",
       "score          0.009804  1.000000 -0.012164  0.064126  0.235812 -0.004981   \n",
       "age            0.017890 -0.012164  1.000000  0.032934  0.071599  0.031810   \n",
       "equity         0.004599  0.064126  0.032934  1.000000  0.164126  0.430203   \n",
       "balance        0.006133  0.235812  0.071599  0.164126  1.000000  0.073024   \n",
       "products      -0.005683 -0.004981  0.031810  0.430203  0.073024  1.000000   \n",
       "credit_card    0.005674 -0.094732 -0.131441 -0.167506 -0.059253 -0.256392   \n",
       "last_activity -0.031029 -0.031179 -0.004164 -0.001970  0.025004  0.040071   \n",
       "est_salary    -0.000369  0.163866 -0.043305 -0.171974  0.339622 -0.119738   \n",
       "churn         -0.012398  0.106129 -0.055798  0.270672  0.085442  0.297110   \n",
       "Ростов        -0.032876 -0.037364  0.047661  0.036174 -0.035944 -0.005654   \n",
       "Рыбинск        0.011240 -0.001101  0.034599 -0.002775 -0.034597 -0.043195   \n",
       "Ярославль      0.013308  0.027598 -0.065043 -0.023266  0.057381  0.042856   \n",
       "\n",
       "               credit_card  last_activity  est_salary     churn    Ростов  \\\n",
       "userid            0.005674      -0.031029   -0.000369 -0.012398 -0.032876   \n",
       "score            -0.094732      -0.031179    0.163866  0.106129 -0.037364   \n",
       "age              -0.131441      -0.004164   -0.043305 -0.055798  0.047661   \n",
       "equity           -0.167506      -0.001970   -0.171974  0.270672  0.036174   \n",
       "balance          -0.059253       0.025004    0.339622  0.085442 -0.035944   \n",
       "products         -0.256392       0.040071   -0.119738  0.297110 -0.005654   \n",
       "credit_card       1.000000      -0.033445    0.035556 -0.131491 -0.099607   \n",
       "last_activity    -0.033445       1.000000    0.003039  0.169190  0.006788   \n",
       "est_salary        0.035556       0.003039    1.000000  0.001128 -0.106669   \n",
       "churn            -0.131491       0.169190    0.001128  1.000000  0.006120   \n",
       "Ростов           -0.099607       0.006788   -0.106669  0.006120  1.000000   \n",
       "Рыбинск          -0.049439       0.048431   -0.058504 -0.031179 -0.246196   \n",
       "Ярославль         0.115376      -0.048370    0.128554  0.023669 -0.490826   \n",
       "\n",
       "                Рыбинск  Ярославль  \n",
       "userid         0.011240   0.013308  \n",
       "score         -0.001101   0.027598  \n",
       "age            0.034599  -0.065043  \n",
       "equity        -0.002775  -0.023266  \n",
       "balance       -0.034597   0.057381  \n",
       "products      -0.043195   0.042856  \n",
       "credit_card   -0.049439   0.115376  \n",
       "last_activity  0.048431  -0.048370  \n",
       "est_salary    -0.058504   0.128554  \n",
       "churn         -0.031179   0.023669  \n",
       "Ростов        -0.246196  -0.490826  \n",
       "Рыбинск        1.000000  -0.723601  \n",
       "Ярославль     -0.723601   1.000000  "
      ]
     },
     "execution_count": 21,
     "metadata": {},
     "output_type": "execute_result"
    }
   ],
   "source": [
    "df = df.join(pd.get_dummies(df.city))\n",
    "#df = df.join(pd.get_dummies(df.age))\n",
    "df.corr()"
   ]
  },
  {
   "cell_type": "markdown",
   "metadata": {},
   "source": [
    "<div class=\"alert alert-danger\"><b>Комментарий ревьюера 2</b>&nbsp;🔧<br>\n",
    "Нам не нужны не оформленные таблицы (без индекса и колонок) без каких-либо выводов.\n",
    "</div>"
   ]
  },
  {
   "cell_type": "markdown",
   "metadata": {},
   "source": [
    "<div class=\"alert alert-warning\"><b>Комментарий ревьюера</b>&nbsp;🔧<br>\n",
    "Нужно добавить в эту матрицу пол и города <s>(корректным образом, как я указывал в декомпозиции)</s>.\n",
    "</div>"
   ]
  },
  {
   "cell_type": "markdown",
   "metadata": {},
   "source": [
    "\n",
    "<div class=\"alert btn-primary\"><b>Комментарий студента:</b><br>   Честно не нашел информацию в декомпозиции. Именно в матрицу корреляций не получилось добавить, нашел информацию как строить кросс таблицы по категориальным данным, а так же выисление корриляции при помощи библиотеки scipy.stats. При помощи pointbiserialr не получилось связать категориальные данные и количественные, ошибка с типами данных   </div>\n"
   ]
  },
  {
   "cell_type": "markdown",
   "metadata": {},
   "source": [
    "<div class=\"alert alert-warning\"><b>Комментарий ревьюера 2</b>&nbsp;📝<br>\n",
    "Если ты не нашёл чего-то, о чём я говорил — это повод мне написать в чат, спросить. Я обычно всегда пишу этот комментарий (ниже) но тебе не написал, мой фейл.\n",
    "    \n",
    "<div class=\"alert alert-warning\"><b>Комментарий ревьюера</b>&nbsp;📝<br>\n",
    "Категориальные данные <a href='https://discover6sigma.org/post/2011/06/desc-stats/'>делятся на</a> упорядоченные (уровень образования, удовлетворённости пользователя) и неупорядоченные (город, брачный статус и т.п.). Центральные тенденции второго можно смотреть при помощи моды. Будет некорректно задавать неупорядоченным категориям какой-то числовой порядок и смотреть средние арифметические. К средним каких-то ординальных показателей, или численных показателей, содержащих большое число значений, например возраста, надо относиться так, что это центр распределения, которое может иметь какую-то сложную природу. Бинарные показатели, если к ним применить среднее, показывают нам долю тех клиентов, у которых этот бинарный показатель равен единице.\n",
    "\n",
    "Уже на этапе подготовки данных важно закодировать данные численно. Для того, чтобы применять среднее и смотреть корреляции какого-то числового показателя с категориальным неупорядоченным, можно применить <a href='https://habr.com/ru/post/666234/'>one-hot кодирование</a>, проще всего это сделать при помощи <tt>pandas.get_dummies</tt>. Чтобы при этом не потерять оригинальный столбец, стоит сделать его копию и использовать параметр <tt>columns</tt> (чтобы перекодированию подвергся или подверглись только те столбцы, которые нам нужно перекодировать).</div>\n",
    "    \n",
    "Соответственно тут нужно было сделать что-то вроде \n",
    "    \n",
    "    df.join(pd.get_dummies(df.city))\n",
    "</div>"
   ]
  },
  {
   "cell_type": "markdown",
   "metadata": {},
   "source": [
    "<div class=\"alert alert-danger\"><b>Комментарий ревьюера 2</b>&nbsp;🔧<br>\n",
    "Если с кодировкой городов могут возникнуть вопросы, то с кодировкой пола вопросов не должно было быть.\n",
    "</div>"
   ]
  },
  {
   "cell_type": "code",
   "execution_count": 22,
   "metadata": {},
   "outputs": [
    {
     "data": {
      "image/png": "[encoded data removed]",
      "text/plain": [
       "<Figure size 1152x576 with 2 Axes>"
      ]
     },
     "metadata": {
      "needs_background": "light"
     },
     "output_type": "display_data"
    }
   ],
   "source": [
    "plt.figure(figsize=(16, 8))\n",
    "sns.heatmap(df.corr(), cmap=\"YlGnBu\", annot=True)\n",
    "plt.show()"
   ]
  },
  {
   "cell_type": "markdown",
   "metadata": {},
   "source": [
    "Вывод:\n",
    "Опишем имеющиеся корреляции с оттоком по шкале Чеддока:\n",
    "- user_id - нет корреляции.\n",
    "- score - кор. слабая.\n",
    "- age - нет коррелиции\n",
    "- equity - кор. слабая\n",
    "- balance - нет корреляции.\n",
    "- products - кор. умеренная\n",
    "- credit_card - кор. слабая\n",
    "- last_activity - кор. слабая\n",
    "- est_salary - нет корреляции\n",
    "\n",
    "из полученных данных видно, что взаимосвясь присутвует только в:\n",
    "- кол-во продуктов и кол-во объектов недвижимости\n",
    "- кол-во кредитного скоринга и уровень активности\n",
    "- наличие кредитной карты."
   ]
  },
  {
   "cell_type": "markdown",
   "metadata": {},
   "source": [
    "Далее рассмотрим подробнее: score, equity, products, credit_card, last_activity"
   ]
  },
  {
   "cell_type": "markdown",
   "metadata": {},
   "source": [
    "<div class=\"alert alert-warning\"><b>Комментарий ревьюера</b>&nbsp;💡<br>\n",
    "Графики в этом разделе будет удобно строить в цикле. Но для некоторых надо будет задать plt.xlim\n",
    "</div>"
   ]
  },
  {
   "cell_type": "markdown",
   "metadata": {},
   "source": [
    "### Быллы  score"
   ]
  },
  {
   "cell_type": "code",
   "execution_count": 30,
   "metadata": {},
   "outputs": [
    {
     "data": {
      "image/png": "[encoded data removed]",
      "text/plain": [
       "<Figure size 1080x504 with 1 Axes>"
      ]
     },
     "metadata": {
      "needs_background": "light"
     },
     "output_type": "display_data"
    }
   ],
   "source": [
    "df_score_0 = df[df['churn'] == 0].groupby('score')['churn'].count().reset_index()\n",
    "df_score_1 = df[df['churn'] == 1].groupby('score')['churn'].count().reset_index()\n",
    "plt.figure(figsize=(15,7))\n",
    "plt.hist(df_score_0['score'], color='r', label='0', bins=10)\n",
    "plt.hist(df_score_1['score'],  color='g', label='1', bins=10)\n",
    "plt.legend()\n",
    "plt.show()"
   ]
  },
  {
   "cell_type": "markdown",
   "metadata": {},
   "source": [
    "<div class=\"alert alert-danger\"><b>Комментарий ревьюера 2</b>&nbsp;🔧<br>\n",
    "Пожалуйста, используй гистограммы или kde-графики. Скор ещё можно так изобразить, пусть это и шумно, но выводы у тебя не получилось сделать. А тут есть чёткий интервал повышенной отточности. Так имело смысл уровень оттока изображать, но перед этим нужно самому делать \"корзины\", т.е. объединять данные нескольких соседних значений, либо скользящее среднее применять для сглаживания шума.\n",
    "    \n",
    "<div class=\"alert alert-warning\"><b>Комментарий ревьюера</b>&nbsp;💡<br>   \n",
    "По обычным гистограммам или sns.countplot графикам можно делать выводы, но из-за необходимости делать поправки на разные размеры групп в уме, точных выводов по ним не сделаешь. Нивелировать разницы в размерах групп можно если применить <tt>sns.kdeplot</tt> или <tt>sns.histplot</tt> с параметрами <tt>hue</tt> и настройками <tt>stat=\"density\", common_norm=False</tt> (для kdeplot stat=\"density\" не нужно, common_norm=False нужно именно при использовании hue). При использовании plt.hist и основанных на нём методах pandas достаточно установить параметр <tt>density=True</tt>, также понадобится установить прозрачность (цвета лучше подобрать так, чтобы было меньше затруднений от того, что они смешаются). Обращаю внимание, что метод <tt>sns.dis<b>t</b>plot</tt> является устаревшим и его нежелательно использовать.\n",
    "\n",
    "В px.histogram, если хочется использовать именно эту библиотеку, можно установить параметры <tt>histnorm='probability',barmode ='overlay'</tt>.\n",
    "\n",
    "Также даже для выводимых циклом графиков можно задавать конкретное чёткое число корзин либо размеры корзин, чтобы не появлялось для бинарных признаков корзин \"от 0.4 до 0.6\" или подобных.\n",
    "    \n",
    "Если почему-то этот подход не подходит, то можно делать сводные таблицы pivot_table и из них столбиковые диаграммы.\n",
    "</div>\n",
    "</div>"
   ]
  },
  {
   "cell_type": "code",
   "execution_count": null,
   "metadata": {},
   "outputs": [],
   "source": [
    "print('неотточные', df_score_0['score'].mean())\n",
    "print('отточные', df_score_1['score'].mean())\n",
    "print(df_score_1['score'].mean() / df_score_0['score'].mean() - 1)"
   ]
  },
  {
   "cell_type": "markdown",
   "metadata": {},
   "source": [
    "Вывод: из полученных данных видно, что диапазон повышенного оттока 740 - 960 баллов.\n",
    "\n",
    "\n",
    "из полученных данных видно, что у отточных клиентов баллы кредитного скоринга выше, но стоит отметить, что не отточных клиентов больше. Разница между баллами не существенная 4%\n",
    "- неотточные 825.9310344827586\n",
    "- отточные 859.119341563786"
   ]
  },
  {
   "cell_type": "markdown",
   "metadata": {},
   "source": [
    "исправил"
   ]
  },
  {
   "cell_type": "code",
   "execution_count": 31,
   "metadata": {},
   "outputs": [
    {
     "data": {
      "text/plain": [
       "<AxesSubplot:xlabel='churn', ylabel='score'>"
      ]
     },
     "execution_count": 31,
     "metadata": {},
     "output_type": "execute_result"
    },
    {
     "data": {
      "image/png": "[encoded data removed]",
      "text/plain": [
       "<Figure size 576x576 with 1 Axes>"
      ]
     },
     "metadata": {
      "needs_background": "light"
     },
     "output_type": "display_data"
    }
   ],
   "source": [
    "plt.figure(figsize=(8, 8))\n",
    "sns.boxplot(x=df['churn'], y=df['score'])"
   ]
  },
  {
   "cell_type": "code",
   "execution_count": 32,
   "metadata": {},
   "outputs": [
    {
     "data": {
      "text/plain": [
       "count     348.000000\n",
       "mean      825.931034\n",
       "std       101.527787\n",
       "min       642.000000\n",
       "25%       739.750000\n",
       "50%       826.500000\n",
       "75%       913.250000\n",
       "max      1000.000000\n",
       "Name: score, dtype: float64"
      ]
     },
     "execution_count": 32,
     "metadata": {},
     "output_type": "execute_result"
    }
   ],
   "source": [
    "df_score_0['score'].describe()"
   ]
  },
  {
   "cell_type": "code",
   "execution_count": null,
   "metadata": {},
   "outputs": [],
   "source": [
    "df_score_1['score'].describe()"
   ]
  },
  {
   "cell_type": "markdown",
   "metadata": {},
   "source": [
    "Вывод: из полученных данных видно, что у отточных клиентов диапазон кредитного скоринга меньше и сосредоточен в верхней части.\n",
    "У отточных клиентов есть выбрасы в районе около 700."
   ]
  },
  {
   "cell_type": "markdown",
   "metadata": {},
   "source": [
    "### Объекты в собственности (equity)"
   ]
  },
  {
   "cell_type": "code",
   "execution_count": 33,
   "metadata": {},
   "outputs": [
    {
     "data": {
      "image/png": "[encoded data removed]",
      "text/plain": [
       "<Figure size 1080x504 with 1 Axes>"
      ]
     },
     "metadata": {
      "needs_background": "light"
     },
     "output_type": "display_data"
    }
   ],
   "source": [
    "df_equity_0 = df[df['churn'] == 0].groupby('equity')['churn'].count().reset_index()\n",
    "df_equity_1 = df[df['churn'] == 1].groupby('equity')['churn'].count().reset_index()\n",
    "plt.figure(figsize=(15,7))\n",
    "plt.plot(df_equity_0['equity'], df_equity_0['churn'], color='r', label='0')\n",
    "plt.plot(df_equity_1['equity'], df_equity_1['churn'], color='g', label='1')\n",
    "plt.legend()\n",
    "plt.show()"
   ]
  },
  {
   "cell_type": "markdown",
   "metadata": {},
   "source": [
    "<div class=\"alert alert-warning\"><b>Комментарий ревьюера 2</b>&nbsp;🔧<br>\n",
    "Хитмап, который ты ниже делаешь даёт лучшее представление о ситуации.\n",
    "</div>"
   ]
  },
  {
   "cell_type": "code",
   "execution_count": 34,
   "metadata": {},
   "outputs": [
    {
     "data": {
      "text/html": [
       "<div>\n",
       "<style scoped>\n",
       "    .dataframe tbody tr th:only-of-type {\n",
       "        vertical-align: middle;\n",
       "    }\n",
       "\n",
       "    .dataframe tbody tr th {\n",
       "        vertical-align: top;\n",
       "    }\n",
       "\n",
       "    .dataframe thead th {\n",
       "        text-align: right;\n",
       "    }\n",
       "</style>\n",
       "<table border=\"1\" class=\"dataframe\">\n",
       "  <thead>\n",
       "    <tr style=\"text-align: right;\">\n",
       "      <th></th>\n",
       "      <th>equity</th>\n",
       "      <th>churn</th>\n",
       "    </tr>\n",
       "  </thead>\n",
       "  <tbody>\n",
       "    <tr>\n",
       "      <th>0</th>\n",
       "      <td>0</td>\n",
       "      <td>2502</td>\n",
       "    </tr>\n",
       "    <tr>\n",
       "      <th>1</th>\n",
       "      <td>1</td>\n",
       "      <td>681</td>\n",
       "    </tr>\n",
       "    <tr>\n",
       "      <th>2</th>\n",
       "      <td>2</td>\n",
       "      <td>886</td>\n",
       "    </tr>\n",
       "    <tr>\n",
       "      <th>3</th>\n",
       "      <td>3</td>\n",
       "      <td>1220</td>\n",
       "    </tr>\n",
       "    <tr>\n",
       "      <th>4</th>\n",
       "      <td>4</td>\n",
       "      <td>1385</td>\n",
       "    </tr>\n",
       "    <tr>\n",
       "      <th>5</th>\n",
       "      <td>5</td>\n",
       "      <td>1341</td>\n",
       "    </tr>\n",
       "    <tr>\n",
       "      <th>6</th>\n",
       "      <td>6</td>\n",
       "      <td>103</td>\n",
       "    </tr>\n",
       "    <tr>\n",
       "      <th>7</th>\n",
       "      <td>7</td>\n",
       "      <td>43</td>\n",
       "    </tr>\n",
       "    <tr>\n",
       "      <th>8</th>\n",
       "      <td>8</td>\n",
       "      <td>11</td>\n",
       "    </tr>\n",
       "    <tr>\n",
       "      <th>9</th>\n",
       "      <td>9</td>\n",
       "      <td>6</td>\n",
       "    </tr>\n",
       "  </tbody>\n",
       "</table>\n",
       "</div>"
      ],
      "text/plain": [
       "   equity  churn\n",
       "0       0   2502\n",
       "1       1    681\n",
       "2       2    886\n",
       "3       3   1220\n",
       "4       4   1385\n",
       "5       5   1341\n",
       "6       6    103\n",
       "7       7     43\n",
       "8       8     11\n",
       "9       9      6"
      ]
     },
     "execution_count": 34,
     "metadata": {},
     "output_type": "execute_result"
    }
   ],
   "source": [
    "df_equity_0"
   ]
  },
  {
   "cell_type": "code",
   "execution_count": 35,
   "metadata": {},
   "outputs": [
    {
     "data": {
      "text/html": [
       "<div>\n",
       "<style scoped>\n",
       "    .dataframe tbody tr th:only-of-type {\n",
       "        vertical-align: middle;\n",
       "    }\n",
       "\n",
       "    .dataframe tbody tr th {\n",
       "        vertical-align: top;\n",
       "    }\n",
       "\n",
       "    .dataframe thead th {\n",
       "        text-align: right;\n",
       "    }\n",
       "</style>\n",
       "<table border=\"1\" class=\"dataframe\">\n",
       "  <thead>\n",
       "    <tr style=\"text-align: right;\">\n",
       "      <th></th>\n",
       "      <th>equity</th>\n",
       "      <th>churn</th>\n",
       "    </tr>\n",
       "  </thead>\n",
       "  <tbody>\n",
       "    <tr>\n",
       "      <th>0</th>\n",
       "      <td>0</td>\n",
       "      <td>90</td>\n",
       "    </tr>\n",
       "    <tr>\n",
       "      <th>1</th>\n",
       "      <td>1</td>\n",
       "      <td>93</td>\n",
       "    </tr>\n",
       "    <tr>\n",
       "      <th>2</th>\n",
       "      <td>2</td>\n",
       "      <td>166</td>\n",
       "    </tr>\n",
       "    <tr>\n",
       "      <th>3</th>\n",
       "      <td>3</td>\n",
       "      <td>323</td>\n",
       "    </tr>\n",
       "    <tr>\n",
       "      <th>4</th>\n",
       "      <td>4</td>\n",
       "      <td>465</td>\n",
       "    </tr>\n",
       "    <tr>\n",
       "      <th>5</th>\n",
       "      <td>5</td>\n",
       "      <td>577</td>\n",
       "    </tr>\n",
       "    <tr>\n",
       "      <th>6</th>\n",
       "      <td>6</td>\n",
       "      <td>58</td>\n",
       "    </tr>\n",
       "    <tr>\n",
       "      <th>7</th>\n",
       "      <td>7</td>\n",
       "      <td>37</td>\n",
       "    </tr>\n",
       "    <tr>\n",
       "      <th>8</th>\n",
       "      <td>8</td>\n",
       "      <td>6</td>\n",
       "    </tr>\n",
       "    <tr>\n",
       "      <th>9</th>\n",
       "      <td>9</td>\n",
       "      <td>7</td>\n",
       "    </tr>\n",
       "  </tbody>\n",
       "</table>\n",
       "</div>"
      ],
      "text/plain": [
       "   equity  churn\n",
       "0       0     90\n",
       "1       1     93\n",
       "2       2    166\n",
       "3       3    323\n",
       "4       4    465\n",
       "5       5    577\n",
       "6       6     58\n",
       "7       7     37\n",
       "8       8      6\n",
       "9       9      7"
      ]
     },
     "execution_count": 35,
     "metadata": {},
     "output_type": "execute_result"
    }
   ],
   "source": [
    "df_equity_1"
   ]
  },
  {
   "cell_type": "markdown",
   "metadata": {},
   "source": [
    "Вывод: из полученных данных видно, что у отточных и неотточных клиентов видна одинаковая тенденция по наличию от 3-х до 5-ти объектов, но неотточные еще чаще не имеют объектов в собственности."
   ]
  },
  {
   "cell_type": "code",
   "execution_count": 36,
   "metadata": {},
   "outputs": [
    {
     "data": {
      "text/plain": [
       "<AxesSubplot:xlabel='churn', ylabel='equity'>"
      ]
     },
     "execution_count": 36,
     "metadata": {},
     "output_type": "execute_result"
    },
    {
     "data": {
      "image/png": "[encoded data removed]",
      "text/plain": [
       "<Figure size 576x576 with 1 Axes>"
      ]
     },
     "metadata": {
      "needs_background": "light"
     },
     "output_type": "display_data"
    }
   ],
   "source": [
    "plt.figure(figsize=(8, 8))\n",
    "sns.boxplot(x=df['churn'], y=df['equity'])"
   ]
  },
  {
   "cell_type": "markdown",
   "metadata": {},
   "source": [
    "Вывод: из полученных данных видно, что отточные клиенты в основном имеют объекты в собственности, от 3-х до 5- объектов. У отточных есть выбрасы вверху."
   ]
  },
  {
   "cell_type": "markdown",
   "metadata": {},
   "source": [
    "<div class=\"alert alert-warning\"><b>Комментарий ревьюера</b>&nbsp;⚠️<br>\n",
    "Тут нужно решить, будешь ли ты считать отточным интервалом от 3х до 5 или выше 4х объектов.\n",
    "</div>"
   ]
  },
  {
   "cell_type": "markdown",
   "metadata": {},
   "source": [
    "### Кол-во продуктов (products)"
   ]
  },
  {
   "cell_type": "code",
   "execution_count": 45,
   "metadata": {},
   "outputs": [
    {
     "data": {
      "text/plain": [
       "<AxesSubplot:xlabel='churn', ylabel='products'>"
      ]
     },
     "execution_count": 45,
     "metadata": {},
     "output_type": "execute_result"
    },
    {
     "data": {
      "image/png": "[encoded data removed]",
      "text/plain": [
       "<Figure size 576x576 with 1 Axes>"
      ]
     },
     "metadata": {
      "needs_background": "light"
     },
     "output_type": "display_data"
    }
   ],
   "source": [
    "df_products_0 = df[df['churn'] == 0].groupby('products')['churn'].count().reset_index()\n",
    "df_products_1 = df[df['churn'] == 1].groupby('products')['churn'].count().reset_index()\n",
    "plt.figure(figsize=(8, 8))\n",
    "sns.boxplot(x=df['churn'], y=df['products'])"
   ]
  },
  {
   "cell_type": "markdown",
   "metadata": {},
   "source": [
    "Вывод: из полученных данных вино, что отточные клиенты имеют диапазон 2-3 продукта, не отточные 1-2."
   ]
  },
  {
   "cell_type": "markdown",
   "metadata": {},
   "source": [
    "<div class=\"alert alert-warning\"><b>Комментарий ревьюера 2</b>&nbsp;🔧<br>\n",
    "Тут тоже проще посмотреть на уровни оттока.\n",
    "</div>"
   ]
  },
  {
   "cell_type": "markdown",
   "metadata": {},
   "source": [
    "исправил"
   ]
  },
  {
   "cell_type": "code",
   "execution_count": 46,
   "metadata": {},
   "outputs": [
    {
     "data": {
      "text/plain": [
       "<AxesSubplot:xlabel='churn', ylabel='products'>"
      ]
     },
     "execution_count": 46,
     "metadata": {},
     "output_type": "execute_result"
    },
    {
     "data": {
      "image/png": "[encoded data removed]",
      "text/plain": [
       "<Figure size 576x576 with 1 Axes>"
      ]
     },
     "metadata": {
      "needs_background": "light"
     },
     "output_type": "display_data"
    }
   ],
   "source": [
    "plt.figure(figsize=(8, 8))\n",
    "sns.boxplot(x=df['churn'], y=df['products'])"
   ]
  },
  {
   "cell_type": "markdown",
   "metadata": {},
   "source": [
    "Вывод: из полученных данных видно, что отточные клиенты в основном имеют от 2 до 3-х продуктов банка. Не отточные от 1 до 2-х.\n",
    "Так же стоит заметить что, у отточных несть небольшие выбрасы, из-за чего и ушел предыдущий график вниз."
   ]
  },
  {
   "cell_type": "markdown",
   "metadata": {},
   "source": [
    "### Наличие кредитной карты (credit_card)"
   ]
  },
  {
   "cell_type": "code",
   "execution_count": 50,
   "metadata": {},
   "outputs": [
    {
     "data": {
      "text/plain": [
       "<AxesSubplot:ylabel='churn'>"
      ]
     },
     "execution_count": 50,
     "metadata": {},
     "output_type": "execute_result"
    },
    {
     "data": {
      "image/png": "[encoded data removed]",
      "text/plain": [
       "<Figure size 432x288 with 1 Axes>"
      ]
     },
     "metadata": {},
     "output_type": "display_data"
    }
   ],
   "source": [
    "df[df['churn'] == 1].groupby('credit_card')['churn'].count().plot(\n",
    "    kind='pie',  autopct='%1.0f%%')"
   ]
  },
  {
   "cell_type": "code",
   "execution_count": 51,
   "metadata": {},
   "outputs": [
    {
     "data": {
      "text/plain": [
       "<AxesSubplot:ylabel='churn'>"
      ]
     },
     "execution_count": 51,
     "metadata": {},
     "output_type": "execute_result"
    },
    {
     "data": {
      "image/png": "[encoded data removed]",
      "text/plain": [
       "<Figure size 432x288 with 1 Axes>"
      ]
     },
     "metadata": {},
     "output_type": "display_data"
    }
   ],
   "source": [
    "df[df['churn'] == 0].groupby('credit_card')['churn'].count().plot(\n",
    "    kind='pie',  autopct='%1.0f%%')"
   ]
  },
  {
   "cell_type": "markdown",
   "metadata": {},
   "source": [
    "Вывод: как видно из данных отточные клиенты чаще имеют кредитные карты"
   ]
  },
  {
   "cell_type": "markdown",
   "metadata": {},
   "source": [
    "<div class=\"alert alert-danger\"><b>Комментарий ревьюера 2</b>&nbsp;🔧<br>\n",
    "Ты выше мог указать любой столбец вместо churn. Чтобы делать выводы о признаке кредитной карты нам нужно 2 пироговых диаграммы - одна с процентом кредиток у отточных, другая с процентом кредиток у неотточных и сравнивать.\n",
    "</div>"
   ]
  },
  {
   "cell_type": "markdown",
   "metadata": {},
   "source": [
    "### Активность клиентов (last_activity)"
   ]
  },
  {
   "cell_type": "code",
   "execution_count": null,
   "metadata": {},
   "outputs": [],
   "source": [
    "df.groupby('last_activity')['churn'].count().plot(\n",
    "    kind='pie', autopct='%1.0f%%')"
   ]
  },
  {
   "cell_type": "markdown",
   "metadata": {},
   "source": [
    "<div class=\"alert alert-danger\"><b>Комментарий ревьюера</b>&nbsp;🔧<br>\n",
    "Аналогичные проблемы, это просто распределение активных и неактивных без учёта оттока.\n",
    "</div>"
   ]
  },
  {
   "cell_type": "markdown",
   "metadata": {},
   "source": [
    "Вывод: отточные клиенты чаще всего являются активными пользователями банка, хотя разница небольшая."
   ]
  },
  {
   "cell_type": "markdown",
   "metadata": {},
   "source": [
    "Общий вывод по разделу:\n",
    "- полученных данных видно, что взаимосвясь присутвует только в: кол-во продуктов и кол-во объектов недвижимости; кол-во кредитного скоринга и уровень активности; наличие кредитной карты\n",
    "- у отточных клиентов баллы кредитного скоринга выше, но стоит отметить, что не отточных клиентов больше.\n",
    "- у отточных клиентов диапазон кредитного скоринга меньше и сосредоточен в верхней части.\n",
    "- у отточных клиентов чаще всего есть объекты в собственности, в то время как большая часть не отточных не имеют собственности.\n",
    "- отточные клиенты в основном имеют объекты в собственности, от 3-х до 5- объектов.\n",
    "- отточные клиенты в основном имеют от 2 до 3-х продуктов банка. Не отточные от 1 до 2-х.\n",
    "Так же стоит заметить что, у отточных несть небольшие выбрасы\n",
    "- не отточные клиенты чаще имеют кредитные карты\n",
    "- отточные клиенты чаще всего являются активными пользователями банка.\n",
    "\n",
    "корреляции с оттоком по шкале Чеддока:\n",
    "- user_id - нет корреляции.\n",
    "- score - кор. слабая.\n",
    "- age - нет коррелиции\n",
    "- equity - кор. слабая\n",
    "- balance - нет корреляции.\n",
    "- products - кор. умеренная\n",
    "- credit_card - кор. слабая\n",
    "- last_activity - кор. слабая\n",
    "- est_salary - нет корреляции\n"
   ]
  },
  {
   "cell_type": "markdown",
   "metadata": {},
   "source": [
    "<div class=\"alert alert-warning\"><b>Комментарий ревьюера</b>&nbsp;🔧<br>\n",
    "Пожалуйста, опиши по шкале Чеддока все имеющиеся корреляции с оттоком в данных.\n",
    "</div>"
   ]
  },
  {
   "cell_type": "markdown",
   "metadata": {},
   "source": [
    "<div class=\"alert btn-primary\"><b>Комментарий студента:</b><br>   Исправил   </div>"
   ]
  },
  {
   "cell_type": "markdown",
   "metadata": {},
   "source": [
    "Для того чтобы лучше выделить парамметры, которые влияют на отток клиентов, воспользуемся модулем phik."
   ]
  },
  {
   "cell_type": "markdown",
   "metadata": {},
   "source": [
    "<div class=\"alert alert-success\"><b>Комментарий ревьюера</b>&nbsp;✔️<br>\n",
    "Хорошо, что правильно установил стороннюю библиотеку и оставил код незакомментированным. Но лучше импорты помещать в начало тетради.\n",
    "</div>"
   ]
  },
  {
   "cell_type": "code",
   "execution_count": null,
   "metadata": {},
   "outputs": [],
   "source": [
    "phik_overview = df.phik_matrix()"
   ]
  },
  {
   "cell_type": "code",
   "execution_count": null,
   "metadata": {},
   "outputs": [],
   "source": [
    "plt.figure(figsize=(16, 8))\n",
    "sns.heatmap(phik_overview, cmap=\"YlGnBu\", annot=True)\n",
    "plt.show()"
   ]
  },
  {
   "cell_type": "code",
   "execution_count": null,
   "metadata": {},
   "outputs": [],
   "source": [
    "phik_overview['churn'].sort_values(ascending=False)"
   ]
  },
  {
   "cell_type": "markdown",
   "metadata": {},
   "source": [
    "Вывод: как видим из полученных данных видно, что наибольшее воздействие на отток клиентов оказывают: product, equity. Так же видно, что немалое воздействие оказывают: last_activity, score, gender, credit_cart, age.\n",
    "Далее рассмотрим их подробнее."
   ]
  },
  {
   "cell_type": "markdown",
   "metadata": {},
   "source": [
    "<div class=\"alert alert-success\"><b>Комментарий ревьюера</b>&nbsp;👍<br>\n",
    "Прекрасно! По корреляции Пирсона можно также установить направление влияние, или понять, что влияние нелинейное, если корреляция phik есть, а по Пирсону (по умолчанию в .corr) её нет.\n",
    "</div>"
   ]
  },
  {
   "cell_type": "markdown",
   "metadata": {},
   "source": [
    "### Модель классификации\n",
    "Построим модель классификации и сравним с нашими первыми выводами"
   ]
  },
  {
   "cell_type": "code",
   "execution_count": null,
   "metadata": {},
   "outputs": [],
   "source": [
    "df_ml = df.copy()\n",
    "df_ml.isnull().sum()"
   ]
  },
  {
   "cell_type": "code",
   "execution_count": null,
   "metadata": {},
   "outputs": [],
   "source": [
    "print(df_ml.head())\n",
    "df_ml = pd.get_dummies(df_ml)\n",
    "print(df_ml.head())"
   ]
  },
  {
   "cell_type": "markdown",
   "metadata": {},
   "source": [
    "<div class=\"alert alert-danger\"><b>Комментарий ревьюера 2</b>&nbsp;🔧<br>\n",
    "Пожалуйста, не выводи в ноутбуке датафреймы при помощи print.\n",
    "</div>"
   ]
  },
  {
   "cell_type": "code",
   "execution_count": null,
   "metadata": {},
   "outputs": [],
   "source": [
    "len(df_ml.drop_duplicates(subset=['userid']))"
   ]
  },
  {
   "cell_type": "code",
   "execution_count": null,
   "metadata": {},
   "outputs": [],
   "source": [
    "df_ml.isnull().sum()"
   ]
  },
  {
   "cell_type": "code",
   "execution_count": null,
   "metadata": {},
   "outputs": [],
   "source": [
    "len(df_ml.drop_duplicates(subset=['userid']))"
   ]
  },
  {
   "cell_type": "code",
   "execution_count": null,
   "metadata": {},
   "outputs": [],
   "source": [
    "print(df_ml['userid'].sum(), df['userid'].sum())"
   ]
  },
  {
   "cell_type": "code",
   "execution_count": null,
   "metadata": {},
   "outputs": [],
   "source": [
    "df_ml = df_ml.drop(['city_Ростов',\n",
    "            'city_Рыбинск',\n",
    "            'city_Ярославль',\n",
    "            'gender_Ж',\n",
    "            'gender_М'], axis=1)\n",
    "\n",
    "df_ml = df_ml.drop_duplicates(subset=['userid']).merge(df[['userid', 'city', 'gender']].drop_duplicates(subset=['userid']), on='userid', how='inner')"
   ]
  },
  {
   "cell_type": "markdown",
   "metadata": {},
   "source": [
    "<div class=\"alert btn-primary\"><b>Комментарий студента:</b><br>   В процессе слияния модели были обнаружены небольшое кол-во дублей в user_id, из-за чего после слияния добавлялся 1% дублированных строк. Было решено этими дублями пожертвовать   </div>"
   ]
  },
  {
   "cell_type": "markdown",
   "metadata": {},
   "source": [
    "<div class=\"alert alert-success\"><b>Комментарий ревьюера 2&nbsp;<big>👌</big></b></div>"
   ]
  },
  {
   "cell_type": "code",
   "execution_count": null,
   "metadata": {},
   "outputs": [],
   "source": [
    "df_ml.isnull().sum()"
   ]
  },
  {
   "cell_type": "code",
   "execution_count": null,
   "metadata": {},
   "outputs": [],
   "source": [
    "df_ml.columns"
   ]
  },
  {
   "cell_type": "code",
   "execution_count": null,
   "metadata": {},
   "outputs": [],
   "source": [
    "len(df_ml)"
   ]
  },
  {
   "cell_type": "markdown",
   "metadata": {},
   "source": [
    "<div class=\"alert alert-warning\"><b>Комментарий ревьюера</b>&nbsp;⚠️<br>\n",
    "Мы выше выясняли, что заполнять нулём может быть неоптимально. В такой ситуации можно отбрасывать целый столбец и смотреть, изменились ли метрики модели. (Тут это оказывается один из важных признаков модели, т.к. клиенты с нулевым балансом получаются почти неотточны).\n",
    "    \n",
    "Также можно заполнить пропуски другой моделью. Это один из методов <a href='https://tproger.ru/translations/data-imputation/'>импутации данных</a>.\n",
    "</div>"
   ]
  },
  {
   "cell_type": "markdown",
   "metadata": {},
   "source": [
    "\n",
    "<div class=\"alert btn-primary\"><b>Комментарий студента:</b><br>   Заполнил данные медианой, хотел сделать более интересно и через глубокое обучение datawig, но на предикте вылетает ошибка. Причину нашел - нужна более старая версия пандас, у меня она не встала.  </div>\n"
   ]
  },
  {
   "cell_type": "code",
   "execution_count": null,
   "metadata": {},
   "outputs": [],
   "source": [
    "df_0 = df.drop_duplicates(subset=['userid'])"
   ]
  },
  {
   "cell_type": "code",
   "execution_count": null,
   "metadata": {},
   "outputs": [],
   "source": [
    "train, test = train_test_split(df_ml, train_size=0.6, random_state=0, stratify=df_ml['churn'])\n",
    "val, test = train_test_split(test, train_size=0.5, random_state=0, stratify=test['churn'])"
   ]
  },
  {
   "cell_type": "markdown",
   "metadata": {},
   "source": [
    "<div class=\"alert alert-success\"><b>Комментарий ревьюера 2</b>&nbsp;📝<br>\n",
    "В реальной жизни никто так не делает, всегда используют кросс-валидацию, т.к. фактор рандомности из-за случайного разбиения сильно влияет на метрики. Круто, что сделал стратификацию.\n",
    "</div>"
   ]
  },
  {
   "cell_type": "code",
   "execution_count": null,
   "metadata": {},
   "outputs": [],
   "source": [
    "train.columns"
   ]
  },
  {
   "cell_type": "code",
   "execution_count": null,
   "metadata": {},
   "outputs": [],
   "source": [
    "df_ml.info()"
   ]
  },
  {
   "cell_type": "code",
   "execution_count": null,
   "metadata": {},
   "outputs": [],
   "source": [
    "X = ['score', 'city', 'gender', 'age', 'equity', 'balance',\n",
    "     'products', 'credit_card', 'last_activity', 'est_salary']\n",
    "cat_features = ['city', 'gender']\n",
    "y = ['churn']"
   ]
  },
  {
   "cell_type": "code",
   "execution_count": null,
   "metadata": {},
   "outputs": [],
   "source": [
    "train_data = Pool(\n",
    "    data=train[X],\n",
    "    label=train[y],\n",
    "    cat_features=cat_features\n",
    "                  )\n",
    "valid_data = Pool(\n",
    "    data=val[X],\n",
    "    label=val[y],\n",
    "    cat_features=cat_features\n",
    ")"
   ]
  },
  {
   "cell_type": "code",
   "execution_count": null,
   "metadata": {},
   "outputs": [],
   "source": [
    "params = {\n",
    "    'verbose': 100,\n",
    "    'random_seed': 0,\n",
    "    'learning_rate': .01\n",
    "}"
   ]
  },
  {
   "cell_type": "code",
   "execution_count": null,
   "metadata": {},
   "outputs": [],
   "source": [
    "model = CatBoostClassifier(**params)\n",
    "model.fit(train_data, eval_set=valid_data)"
   ]
  },
  {
   "cell_type": "code",
   "execution_count": null,
   "metadata": {},
   "outputs": [],
   "source": [
    "model.get_feature_importance(prettified=True)"
   ]
  },
  {
   "cell_type": "code",
   "execution_count": null,
   "metadata": {},
   "outputs": [],
   "source": [
    "phik_overview_train = train.phik_matrix()\n",
    "phik_overview_train['churn'].sort_values(ascending=False)"
   ]
  },
  {
   "cell_type": "markdown",
   "metadata": {},
   "source": [
    "Вывод по разделу:\n",
    "- анализ phik позволил выделить следующие важные параметры: product, equity, last_activity, score, gender, credit_cart, age\n",
    "- модель машинного бучения выделила следующие важные параметры: equity, score, last_activity, age, priduct.\n",
    "Далее рассмотрим все параметры подробнее и выдвинем гипотезы."
   ]
  },
  {
   "cell_type": "markdown",
   "metadata": {},
   "source": [
    "<div class=\"alert alert-success\"><b>Комментарий ревьюера 2&nbsp;<big>👍</big></b></div>"
   ]
  },
  {
   "cell_type": "markdown",
   "metadata": {},
   "source": [
    "## 3.2 Выделите портреты клиентов, которые склонны уходить из банка"
   ]
  },
  {
   "cell_type": "markdown",
   "metadata": {},
   "source": [
    "### Как влияет на отток кол-во продуктов, которыми пользуется клиент"
   ]
  },
  {
   "cell_type": "code",
   "execution_count": null,
   "metadata": {},
   "outputs": [],
   "source": [
    "df.groupby('products')['churn'].agg(['count', 'mean']) "
   ]
  },
  {
   "cell_type": "code",
   "execution_count": null,
   "metadata": {},
   "outputs": [],
   "source": [
    "plt.figure(figsize=(4, 4))\n",
    "sns.heatmap(df.groupby('products')['churn'].agg(['mean']).sort_values(by='mean', ascending=False), cmap=\"YlGnBu\", annot=True)\n",
    "plt.show()"
   ]
  },
  {
   "cell_type": "markdown",
   "metadata": {},
   "source": [
    "Вывод:\n",
    "- из полученных данных мы видим тенденцию к увеличению оттока при увеличении числа продуктов, но стоит отметить что в выборку где больше 3-х продуктов попало малая доля клиентов.\n",
    "- меньше всего уходят клиенты, которые пользуются одним продуктом."
   ]
  },
  {
   "cell_type": "markdown",
   "metadata": {},
   "source": [
    "### Как влияет кол-во объектов собственности на отток клиентов"
   ]
  },
  {
   "cell_type": "code",
   "execution_count": null,
   "metadata": {},
   "outputs": [],
   "source": [
    "df.groupby('equity')['churn'].agg(['count', 'mean'])"
   ]
  },
  {
   "cell_type": "code",
   "execution_count": null,
   "metadata": {},
   "outputs": [],
   "source": [
    "plt.figure(figsize=(4, 4))\n",
    "sns.heatmap(df.groupby('equity')['churn'].agg(['mean']).sort_values(by='mean', ascending=False), cmap=\"YlGnBu\", annot=True)\n",
    "plt.show()"
   ]
  },
  {
   "cell_type": "markdown",
   "metadata": {},
   "source": [
    "Вывод:\n",
    "- мы так же можем заметить тенденцию по увеличению оттока при увеличении кол-во объектов в собственности, но стоит заметить что клиентов с увеличением становиться заметно меньше и это нормально т.к. кол-во людей с большим количеством собственности всегда будет заметно меньше подавляющего большинства.\n",
    "- практически не уходят клиенты, которые не имеют объектов недвижимости."
   ]
  },
  {
   "cell_type": "markdown",
   "metadata": {},
   "source": [
    "### Влияние активности клиентов на отток"
   ]
  },
  {
   "cell_type": "code",
   "execution_count": null,
   "metadata": {},
   "outputs": [],
   "source": [
    "df.groupby('last_activity')['churn'].agg(['count', 'mean'])"
   ]
  },
  {
   "cell_type": "code",
   "execution_count": null,
   "metadata": {},
   "outputs": [],
   "source": [
    "plt.figure(figsize=(4, 4))\n",
    "sns.heatmap(df.groupby('last_activity')['churn'].agg(['mean']).sort_values(by='mean', ascending=False), cmap=\"YlGnBu\", annot=True)\n",
    "plt.show()"
   ]
  },
  {
   "cell_type": "markdown",
   "metadata": {},
   "source": [
    "Вывод:\n",
    "- как мы можем видеть активные клиенты в два раза чаще уходят из данного банка\n",
    "- не активные в два раза чаще остаются"
   ]
  },
  {
   "cell_type": "markdown",
   "metadata": {},
   "source": [
    "<div class=\"alert alert-success\"><b>Комментарий ревьюера</b>&nbsp;👍<br>\n",
    "Категориальные данные исследованы хорошо.\n",
    "</div>"
   ]
  },
  {
   "cell_type": "markdown",
   "metadata": {},
   "source": [
    "<div class=\"alert alert-warning\"><b>Комментарий ревьюера</b>&nbsp;🔧<br>\n",
    "Тут и ниже не вижу исследования уровня оттока по городам, хотя в презентации Ярославль почему-то выделен как отточный город.\n",
    "</div>"
   ]
  },
  {
   "cell_type": "markdown",
   "metadata": {},
   "source": [
    "<div class=\"alert btn-primary\"><b>Комментарий студента:</b><br>   Исправил   </div>"
   ]
  },
  {
   "cell_type": "markdown",
   "metadata": {},
   "source": [
    "Добавил"
   ]
  },
  {
   "cell_type": "code",
   "execution_count": null,
   "metadata": {},
   "outputs": [],
   "source": [
    "df_city_0 = df[df['churn'] == 0].groupby('city')['userid'].count().reset_index()\n",
    "df_city_1 = df[df['churn'] == 1].groupby('city')['userid'].count().reset_index()\n",
    "plt.figure(figsize=(15,7))\n",
    "plt.plot(df_city_0['city'], df_city_0['userid'], color='r', label='0')\n",
    "plt.plot(df_city_1['city'], df_city_1['userid'], color='g', label='1')\n",
    "plt.legend()\n",
    "plt.show()"
   ]
  },
  {
   "cell_type": "code",
   "execution_count": null,
   "metadata": {},
   "outputs": [],
   "source": [
    "df_city_0['%'] = df_city_0['userid'] / len(df) * 100\n",
    "df_city_0"
   ]
  },
  {
   "cell_type": "code",
   "execution_count": null,
   "metadata": {},
   "outputs": [],
   "source": [
    "df_city_1['%'] = df_city_1['userid'] / len(df) * 100\n",
    "df_city_1"
   ]
  },
  {
   "cell_type": "code",
   "execution_count": null,
   "metadata": {},
   "outputs": [],
   "source": [
    "df_city_1['%'] = df_city_1['userid'] / df_city_0['userid'] * 100\n",
    "df_city_1"
   ]
  },
  {
   "cell_type": "markdown",
   "metadata": {},
   "source": [
    "Вывод: из полученных данных видно, что уровень оттока выше в городе Ярославль, но стоит отметить что такая же тенденция наблюдается и с не отточными. Это связано больше с кол-м клиентов в городе, т.к. если рассмотреть в процентном соотношении, то отток по городам примерно одинаков."
   ]
  },
  {
   "cell_type": "markdown",
   "metadata": {},
   "source": [
    "### Влияние баллов score на отток"
   ]
  },
  {
   "cell_type": "code",
   "execution_count": null,
   "metadata": {},
   "outputs": [],
   "source": [
    "df_sc_0 = df[df['churn'] == 0].groupby('score')['userid'].count().reset_index()\n",
    "df_sc_1 = df[df['churn'] == 1].groupby('score')['userid'].count().reset_index()\n",
    "plt.figure(figsize=(15,7))\n",
    "plt.plot(df_sc_0['score'], df_sc_0['userid'], color='r', label='0')\n",
    "plt.plot(df_sc_1['score'], df_sc_1['userid'], color='g', label='1')\n",
    "plt.legend()\n",
    "plt.show()"
   ]
  },
  {
   "cell_type": "code",
   "execution_count": null,
   "metadata": {},
   "outputs": [],
   "source": [
    "df['score'].describe()"
   ]
  },
  {
   "cell_type": "markdown",
   "metadata": {},
   "source": [
    "Вывод:\n",
    "- из данных видно, у которых балл больше 850, в два раза больше склонны к оттоку. Стоит отметить что самое большое кол-во клиентов уходит в диапазоне от 850 до 900.\n",
    "- меньше всего уходят клиент с наименьшими баллам\n",
    "- стоит отметить, что клиенты двух выборок, имеет в большинстве случаев выше среднего баллы."
   ]
  },
  {
   "cell_type": "markdown",
   "metadata": {},
   "source": [
    "<div class=\"alert alert-warning\"><b>Комментарий ревьюера</b>&nbsp;🔧<br>\n",
    "Почему именно 3 участка? Почему не 4, 5, 22? Как-то можно правильно выбрать это число, или надо другой метод применять, чтобы посмотреть? Возможно гистограмму или kde-график?\n",
    "</div>"
   ]
  },
  {
   "cell_type": "markdown",
   "metadata": {},
   "source": [
    "<div class=\"alert btn-primary\"><b>Комментарий студента:</b><br>   Исправил   </div>"
   ]
  },
  {
   "cell_type": "markdown",
   "metadata": {},
   "source": [
    "### Как влияет пол на отток клиентов"
   ]
  },
  {
   "cell_type": "code",
   "execution_count": null,
   "metadata": {},
   "outputs": [],
   "source": [
    "df.groupby('gender')['churn'].agg(['count', 'mean'])"
   ]
  },
  {
   "cell_type": "code",
   "execution_count": null,
   "metadata": {},
   "outputs": [],
   "source": [
    "plt.figure(figsize=(4, 4))\n",
    "sns.heatmap(df.groupby('gender')['churn'].agg(['mean']).sort_values(by='mean', ascending=False), cmap=\"YlGnBu\", annot=True)\n",
    "plt.show()"
   ]
  },
  {
   "cell_type": "markdown",
   "metadata": {},
   "source": [
    "Вывод:\n",
    "- из полученных данных видно, что мужчины чаще склонны к оттоку\n",
    "- женщины реже уходят"
   ]
  },
  {
   "cell_type": "markdown",
   "metadata": {},
   "source": [
    "### Влияние наличия кредитной карты на отток"
   ]
  },
  {
   "cell_type": "code",
   "execution_count": null,
   "metadata": {},
   "outputs": [],
   "source": [
    "df.groupby('credit_card')['churn'].agg(['count', 'mean'])"
   ]
  },
  {
   "cell_type": "code",
   "execution_count": null,
   "metadata": {},
   "outputs": [],
   "source": [
    "plt.figure(figsize=(4, 4))\n",
    "sns.heatmap(df.groupby('credit_card')['churn'].agg(['mean']).sort_values(by='mean', ascending=False), cmap=\"YlGnBu\", annot=True)\n",
    "plt.show()"
   ]
  },
  {
   "cell_type": "markdown",
   "metadata": {},
   "source": [
    "Вывод:\n",
    "- клиенты без кредитных карт намного чаще уходят, чем клиенты пользующиеся кредитками\n",
    "- клиентами с кредитками чаще остаются"
   ]
  },
  {
   "cell_type": "markdown",
   "metadata": {},
   "source": [
    "### Влияние возраста на отток"
   ]
  },
  {
   "cell_type": "code",
   "execution_count": null,
   "metadata": {},
   "outputs": [],
   "source": [
    "df_age_0 = df[df['churn'] == 0].groupby('age')['userid'].count().reset_index()\n",
    "df_age_1 = df[df['churn'] == 1].groupby('age')['userid'].count().reset_index()\n",
    "plt.figure(figsize=(15,7))\n",
    "plt.plot(df_age_0['age'], df_age_0['userid'], color='r', label='0')\n",
    "plt.plot(df_age_1['age'], df_age_1['userid'], color='g', label='1')\n",
    "plt.legend()\n",
    "plt.show()"
   ]
  },
  {
   "cell_type": "code",
   "execution_count": null,
   "metadata": {},
   "outputs": [],
   "source": [
    "plt.figure(figsize=(15,7))\n",
    "sns.heatmap(df_age_1[['userid']])"
   ]
  },
  {
   "cell_type": "markdown",
   "metadata": {},
   "source": [
    "<div class=\"alert btn-primary\"><b>Комментарий студента:</b><br>   Смущает что возраст слево в heatmap идет с нуля, в таблице таких значений нет.   </div>"
   ]
  },
  {
   "cell_type": "markdown",
   "metadata": {},
   "source": [
    "<div class=\"alert alert-danger\"><b>Комментарий ревьюера 2</b>&nbsp;🔧<br>Можно использовать plt.ylim для исправления.\n",
    "\n",
    "Но это не уровень оттока (относительный показатель), а количество отточных (абсолютный показатель). Об отточном интервале <b>среди всех клиентов</b> мы судить по этому не можем.\n",
    "</div>"
   ]
  },
  {
   "cell_type": "markdown",
   "metadata": {},
   "source": [
    "Вывод:\n",
    "- из полученных данных видно, что клиенты от 25 до 42 и 48 до 60 лет чаще всего уходят из банка."
   ]
  },
  {
   "cell_type": "markdown",
   "metadata": {},
   "source": [
    "<div class=\"alert alert-warning\"><b>Комментарий ревьюера</b>&nbsp;🚫<br>\n",
    "Во первых, такие графики не нужно сортировать по значению, так сложнее воспринимать информацию, во-вторых, можно вообще не разбивая на участки построить heatmap по уровням оттока по каждому возрасту (без аннотаций в графике текстовых), так мы сможем сделать более точные выводы.\n",
    "</div>"
   ]
  },
  {
   "cell_type": "markdown",
   "metadata": {},
   "source": [
    "<div class=\"alert btn-primary\"><b>Комментарий студента:</b><br>   Исправил   </div>"
   ]
  },
  {
   "cell_type": "markdown",
   "metadata": {},
   "source": [
    "### Влияние баланса на счете на отток"
   ]
  },
  {
   "cell_type": "code",
   "execution_count": null,
   "metadata": {},
   "outputs": [],
   "source": [
    "df_balance_0 = df[df['churn'] == 0].groupby('balance')['userid'].count().reset_index()\n",
    "df_balance_1 = df[df['churn'] == 1].groupby('balance')['userid'].count().reset_index()"
   ]
  },
  {
   "cell_type": "code",
   "execution_count": null,
   "metadata": {},
   "outputs": [],
   "source": [
    "df_balance_1['balance'].plot(figsize=(14, 7), legend=True, label='0')\n",
    "df_balance_0['balance'].plot(figsize=(14, 7), legend=True, label='1')"
   ]
  },
  {
   "cell_type": "markdown",
   "metadata": {},
   "source": [
    "<div class=\"alert alert-danger\"><b>Комментарий ревьюера 2</b>&nbsp;🚫<br>\n",
    "Что значит этот график? Кажется совсем ничего. В целом — категорически нельзя делать группировку по показателю с огромным количеством уникальных значений. Используй <tt>.round(-4)</tt> или что-то подобное.\n",
    "</div>"
   ]
  },
  {
   "cell_type": "code",
   "execution_count": null,
   "metadata": {},
   "outputs": [],
   "source": [
    "plt.figure(figsize=(14, 14))\n",
    "plt.figure(figsize=(8, 8))\n",
    "sns.boxplot(x=df['churn'], y=df['balance'])"
   ]
  },
  {
   "cell_type": "code",
   "execution_count": null,
   "metadata": {},
   "outputs": [],
   "source": [
    "plt.figure(figsize=(14, 14))\n",
    "plt.figure(figsize=(8, 8))\n",
    "sns.boxplot(x=df[df['balance'] < 6.755246e+05]['churn'], y=df[df['balance'] < 6.755246e+05]['balance'])"
   ]
  },
  {
   "cell_type": "code",
   "execution_count": null,
   "metadata": {},
   "outputs": [],
   "source": [
    "df_balance_0.describe()"
   ]
  },
  {
   "cell_type": "code",
   "execution_count": null,
   "metadata": {},
   "outputs": [],
   "source": [
    "df_balance_1.describe()"
   ]
  },
  {
   "cell_type": "markdown",
   "metadata": {},
   "source": [
    "Вывод:\n",
    "- стоит отметить что клиенты с заметно большим балансом на счете чаще уходят других. В остальных группах заметна так же небольшая тенденция к росту оттока\n",
    "- клиенты с меньшим достатком реже уходят\n",
    "- не отточные клиенты чаще всего держат от 200тыс до 480тыс\n",
    "- отточные клиенты держат на счете 220тыс до 500тыс\n",
    "- в данных в обоих группах есть выбрасы."
   ]
  },
  {
   "cell_type": "markdown",
   "metadata": {},
   "source": [
    "<div class=\"alert alert-danger\"><b>Комментарий ревьюера</b>&nbsp;🔧<br>\n",
    "Тут нужно достаточно точно (±150т.р) провести границу между отточными и неотточными.\n",
    "</div>"
   ]
  },
  {
   "cell_type": "markdown",
   "metadata": {},
   "source": [
    "<div class=\"alert btn-primary\"><b>Комментарий студента:</b><br>   Исправил   </div>"
   ]
  },
  {
   "cell_type": "markdown",
   "metadata": {},
   "source": [
    "<div class=\"alert alert-danger\"><b>Комментарий ревьюера 2</b>&nbsp;🔧<br>\n",
    "Ты отдельно проанализировал отточных и отдельно неотточных. Начиная с какого количества средств на счёте клиенты начинают чаще уходить от нас, чем в среднем по банку? 250 тыс? 500 тыс? 750 тыс? 1 миллион?\n",
    "</div>"
   ]
  },
  {
   "cell_type": "markdown",
   "metadata": {},
   "source": [
    "### Рассмотрим, как влияют парамметры на модель в нашей получившейся модели"
   ]
  },
  {
   "cell_type": "code",
   "execution_count": null,
   "metadata": {},
   "outputs": [],
   "source": [
    "!pip install shap"
   ]
  },
  {
   "cell_type": "code",
   "execution_count": null,
   "metadata": {},
   "outputs": [],
   "source": [
    "import shap"
   ]
  },
  {
   "cell_type": "code",
   "execution_count": null,
   "metadata": {},
   "outputs": [],
   "source": [
    "shap.initjs()\n",
    "explainer = shap.TreeExplainer(model)\n",
    "shap_values = explainer.shap_values(test[X])\n",
    "shap.summary_plot(shap_values, test[X])"
   ]
  },
  {
   "cell_type": "markdown",
   "metadata": {},
   "source": [
    "Рассмотрим переменные подробнее"
   ]
  },
  {
   "cell_type": "code",
   "execution_count": null,
   "metadata": {
    "scrolled": false
   },
   "outputs": [],
   "source": [
    "for i in model.get_feature_importance(prettified=True)['Feature Id'].values:\n",
    "    shap.dependence_plot(i, shap_values, test[X])"
   ]
  },
  {
   "cell_type": "markdown",
   "metadata": {},
   "source": [
    "Вывод:\n",
    "- чем больше активность пользователя, чем больше склонен к оттоку\n",
    "- пользователи, которые пользуются большим кол-м продуктов, склонны к оттоку\n",
    "- снижение возраста клиента, тем больше он склонен к оттоку\n",
    "- чем больше объектов в собственнсти, тем выше отток\n",
    "- после заполнения ср. значений пропусками. получилось что балланс не сильно влияет на отток."
   ]
  },
  {
   "cell_type": "markdown",
   "metadata": {},
   "source": [
    "<div class=\"alert alert-warning\"><b>Комментарий ревьюера</b>&nbsp;💡<br>\n",
    "Красиво, но сложно объяснить, что эти графики значат, чтобы люди поняли.\n",
    "</div>"
   ]
  },
  {
   "cell_type": "markdown",
   "metadata": {},
   "source": [
    "<b>Общий вывод по разделу:</b>\n",
    "\n",
    "Вывод по разделу построю по описанию двух портретов клиентов склонных к оттоку/не склонных.\n",
    "\n",
    "<b>Результаты на основе phik</b>\n",
    "<b>Клиенты склонные к оттоку:</b>\n",
    "- являются пользователями от 2-х до 3-х банковских продуктов\n",
    "- имеют в основном от 3-х до 5-ти объектов в собственности. Стоит отметить что тенденция наблюдается и при дальнейшем увеличении объектов в собственности.\n",
    "- являются активными пользователями банка\n",
    "- имеют балл score больше 850 до 900. Разница между баллами в сравнении с не отточными не существенная 4%\n",
    "- чаще всего являются мужчинами\n",
    "- не имеют кредитных карт\n",
    "- возраст от 25 до 42 и 48 до 60\n",
    "- имеют большие суммы на балансе счета, от 220тыс до 500тыс.\n",
    "\n",
    "<b>Клиенты не склонные к оттоку:</b>\n",
    "- пользуются одним банковским продуктом\n",
    "- не имеют объектов недвижимости в собственности\n",
    "- не являются активными пользователями банковских услуг\n",
    "- имеют меньший балл score\n",
    "- чаще всего являются женщинами\n",
    "- имеют кредитные карты\n",
    "- имеют возраст до 25, 42 до 48\n",
    "- имеют на счетах банка от 200тыс до 480тыс.\n",
    "\n",
    "<b>Результаты на основе модели построенной в CatBoost</b>\n",
    "<b>Клиенты склонные к оттоку:</b>\n",
    "- чем больше активность пользователя, чем больше склонен к оттоку\n",
    "- пользователи, которые пользуются большим кол-м продуктов, склонны к оттоку\n",
    "- снижение возраста клиента, тем больше он склонен к оттоку\n",
    "- чем больше объектов в собственнсти, тем выше отток\n",
    "\n",
    "\n",
    "\n",
    "<b>Клиенты не склонные к оттоку:</b>\n",
    "- пользуются меньшим кол-м банковских продуктов\n",
    "- имеют мало объектов недвижимости в собственности\n",
    "- не являются активными пользователями банковских услуг\n",
    "- имеют кредитные карты\n",
    "- являются возрастными, от 25 до 42 и 48 до 60\n",
    "\n",
    "\n",
    "Проанализируем и соединим воедино получившиеся портреты:\n",
    "\n",
    "<b>Клиенты склонные к оттоку:</b>\n",
    "- являются пользователями больше от 2-х до 3-х банковских продуктов\n",
    "- если имеют объекты в собственности (в основном от 3-х до 5-ти)\n",
    "- являются активными пользователями банка\n",
    "- имеют балл score больше, но незначительно на 4%\n",
    "- чаще всего являются мужчинами\n",
    "- не имеют кредитных карт\n",
    "- возраст от 25 до 42 лет и от 48 до 60 (основное кол-во попадает в первую группу)\n",
    "\n",
    "\n",
    "<b>Клиенты не склонные к оттоку:</b>\n",
    "- пользуются одним банковским продуктом\n",
    "- не имеют объекты недвижимости в собственности\n",
    "- не являются активными пользователями банковских услуг\n",
    "- имеют наимеший балл score\n",
    "- чаще всего являются женщинами\n",
    "- имеют кредитные карты\n",
    "- младше 25 и старше 31-го года\n",
    "- имеют малые суммы на счетах банка."
   ]
  },
  {
   "cell_type": "markdown",
   "metadata": {},
   "source": [
    "<div class=\"alert alert-success\"><b>Комментарий ревьюера</b>&nbsp;✔️<br>Можно также упомянуть, что имеющие пропуски в балансе не склонны к оттоку.\n",
    "    \n",
    "В презентации лучше дать портрет отточного вместе с портретом неотточного.\n",
    "</div>"
   ]
  },
  {
   "cell_type": "markdown",
   "metadata": {},
   "source": [
    "<div class=\"alert alert-danger\"><b>Комментарий ревьюера</b>&nbsp;🔧<br>\n",
    "По скору будет также верхняя граница, по возрасту неполные выводы (там 2 отточных интервала), по объектам собственности, когда считать клиента скорее отточным? Начиная уже с 1 балла?\n",
    "</div>"
   ]
  },
  {
   "cell_type": "markdown",
   "metadata": {},
   "source": [
    "<div class=\"alert btn-primary\"><b>Комментарий студента:</b><br>   Исправил   </div>"
   ]
  },
  {
   "cell_type": "markdown",
   "metadata": {},
   "source": [
    "<div class=\"alert alert-danger\"><b>Комментарий ревьюера 2</b>&nbsp;🔧<br>\n",
    "По возрасту неверная верхняя граница отточного интервала. Это будет видно, если построить для каждого имеющегося возраста уровень оттока и изобразить на графике их.\n",
    "    \n",
    "Если клиенты от 48 до 60 скорее отточны, то клиентов просто \"старше 31 года\" нельзя считать неотточными.\n",
    "</div>"
   ]
  },
  {
   "cell_type": "markdown",
   "metadata": {},
   "source": [
    "## Шаг 5. Проверка статистических гипотез\n",
    "Проверим гипотезы:\n",
    "- различия дохода между теми клиентами, которые ушли и теми, которые остались\n",
    "- различие кол-ва баллов кредитного score между пользователями которые ушли и которые остались\n"
   ]
  },
  {
   "cell_type": "markdown",
   "metadata": {},
   "source": [
    "### Различия дохода между теми клиентами, которые ушли и теми, которые остались"
   ]
  },
  {
   "cell_type": "markdown",
   "metadata": {},
   "source": [
    "Сформулируем две гипотезы:\n",
    "H0: нет различия дохода между клиентами которые ушли и клиентами которые остались\n",
    "H1: есть различие дохода между клиентами которые ушли и клиентами которые остались"
   ]
  },
  {
   "cell_type": "code",
   "execution_count": null,
   "metadata": {},
   "outputs": [],
   "source": [
    "df_salary_0 = df[df['churn'] == 0]['est_salary'].sample(n=100)\n",
    "df_salary_1 = df[df['churn'] == 1]['est_salary'].sample(n=100)"
   ]
  },
  {
   "cell_type": "code",
   "execution_count": null,
   "metadata": {},
   "outputs": [],
   "source": [
    "df_salary_0.hist()"
   ]
  },
  {
   "cell_type": "code",
   "execution_count": null,
   "metadata": {},
   "outputs": [],
   "source": [
    "df_salary_1.hist()"
   ]
  },
  {
   "cell_type": "code",
   "execution_count": null,
   "metadata": {},
   "outputs": [],
   "source": [
    "alpha = .05 # пороговое значение возьмем за 5%\n",
    "\n",
    "results = st.ttest_ind(\n",
    "    df_salary_0,\n",
    "    df_salary_1,\n",
    "    equal_var = False)\n",
    "\n",
    "print('p-значение:', results.pvalue)\n",
    "\n",
    "if results.pvalue < alpha:\n",
    "    print(\"Отвергаем нулевую гипотезу\")\n",
    "else:\n",
    "    print(\"Не получилось отвергнуть нулевую гипотезу\")"
   ]
  },
  {
   "cell_type": "code",
   "execution_count": null,
   "metadata": {},
   "outputs": [],
   "source": [
    "from scipy.stats import mannwhitneyu\n",
    "\n",
    "stat, p = mannwhitneyu(\n",
    "    df_salary_0,\n",
    "    df_salary_1\n",
    ")\n",
    "print('Statistics=%.3f, p=%.3f' % (stat, p))\n",
    "\n",
    "alpha = 0.05\n",
    "if p > alpha:\n",
    "    print(\"Отвергаем нулевую гипотезу\")\n",
    "else:\n",
    "    print(\"Не получилось отвергнуть нулевую гипотезу\")"
   ]
  },
  {
   "cell_type": "markdown",
   "metadata": {},
   "source": [
    "<div class=\"alert alert-warning\"><b>Комментарий ревьюера</b>&nbsp;👀<br>\n",
    "В библиотеке scipy в методе <tt>stats.ttest_ind</tt> уже стоит по умолчанию параметр <tt>equal_var = True</tt>. Что он означает и подходит ли он для проводимого нами теста?\n",
    "</div>"
   ]
  },
  {
   "cell_type": "markdown",
   "metadata": {},
   "source": [
    "\n",
    "<div class=\"alert btn-primary\"><b>Комментарий студента:</b><br>   Данный критерий свидетельствует о равности дисперсии выборок. Понял свою ошибку исправил.   </div>\n"
   ]
  },
  {
   "cell_type": "markdown",
   "metadata": {},
   "source": [
    "Вывод: есть различия дохода между клиентами которые ушли и клиентами которые остались"
   ]
  },
  {
   "cell_type": "markdown",
   "metadata": {},
   "source": [
    "<div class=\"alert alert-warning\"><b>Комментарий ревьюера</b>&nbsp;🔧<br>\n",
    "Пожалуйста, повтори эту проверку ниже при помощи u-критерия Манна-Уитни, если между методами возникнет разница, прокомментируй, почему она возникла. Какой критерий тут будет точнее и почему?\n",
    "</div>"
   ]
  },
  {
   "cell_type": "markdown",
   "metadata": {},
   "source": [
    "\n",
    "<div class=\"alert btn-primary\"><b>Комментарий студента:</b><br>   Разница возникла и с парамметром equal_var = False, Стьюдинт не отвергает h0, а критерий Манна-Уитни отвергает h0. Это связано с тем что медианы воборок различны. критерий Манна-Уитни непараметрический критерий, он не так строг к выборкам и Манни-Уитни более устойчив к выбрасам в данных, чем критерий Стьюдента. Манни-Уитни в первом случаи будет точнее, но во второй гипотезе бедт точнее Стьюдин т.к. там данные довольно нормально распределены и без сильных перекосов.  </div>\n"
   ]
  },
  {
   "cell_type": "markdown",
   "metadata": {},
   "source": [
    "<div class=\"alert alert-warning\"><b>Комментарий ревьюера 2</b>&nbsp;📌<br>\n",
    "Так как выборки большие, то нам неважно, что они распределены ненормально, мы можем использовать t-критерий. Требование нормальности распределения происходит из медицинской литературы, где традиционно маленькие выборки. \n",
    "    \n",
    "Цитирую теорию (Спринт 5, Тема 4/6, Проверка гипотез):\n",
    "<blockquote>Выборочные средние должны быть нормально распределены.\n",
    "А если выборка всего одна, то её среднее должно иметь нормальное распределение для разных выборок этого размера из определённой генеральной совокупности.\n",
    "Это условие не препятствие. Благодаря ЦПТ, если размер выборки составляет хотя бы несколько десятков значений, выборочные средние, которые можно получить из одной и той же генеральной совокупности, будут распределены нормально вокруг истинного среднего этой совокупности. Напомним, это утверждение верно, даже если сама генеральная совокупность не распределена нормально.\n",
    "\n",
    "Очень часто это условие путают с необходимостью нормального распределения самих генеральных совокупностей. Для корректного использования t-теста это необязательно.</blockquote>\n",
    "Таким образом нормальное распределение для выборок более 30-50 элементов не требуется для t-теста. Требуется отсутствие большого числа выбросов.\n",
    "\n",
    "При разном размере выборок, который нам тут известен мы ставим equal_var в положение False просто из-за особенностей работы метода ttest_ind. И вообще, надёжнее при любых сомнениях ставить его в это положение, это лишь немного снижает мощность данного стат критерия. В среднем у u-критерия Манна-Уитни мощность выше, чем у t-критерия, т.е. он чаще даёт более точный результат. В литературе встречаются утверждения, что его нельзя проводить, если есть значительное число повторяющихся значений или если выборки большие, однако это относится, видимо, к старым реализациям теста.\n",
    "</div>"
   ]
  },
  {
   "cell_type": "markdown",
   "metadata": {},
   "source": [
    "### Различие кол-ва баллов кредитного score между пользователями которые ушли и которые остались\n",
    "Сформулируем две гипотезы:\n",
    "H0: нет различия кол-ва баллов кредитного score между клиентами которые ушли и клиентами которые остались\n",
    "H1: есть различие кол-ва баллов кредитного score между клиентами которые ушли и клиентами которые остались\n"
   ]
  },
  {
   "cell_type": "code",
   "execution_count": null,
   "metadata": {},
   "outputs": [],
   "source": [
    "df_score_0 = df[df['churn'] == 0]['score'].sample(n=100)\n",
    "df_score_1 = df[df['churn'] == 1]['score'].sample(n=100)"
   ]
  },
  {
   "cell_type": "code",
   "execution_count": null,
   "metadata": {},
   "outputs": [],
   "source": [
    "df_score_0.hist()"
   ]
  },
  {
   "cell_type": "code",
   "execution_count": null,
   "metadata": {},
   "outputs": [],
   "source": [
    "df_score_1.hist()"
   ]
  },
  {
   "cell_type": "code",
   "execution_count": null,
   "metadata": {},
   "outputs": [],
   "source": [
    "alpha = .05 # пороговое значение возьмем за 5%\n",
    "\n",
    "results = st.ttest_ind(\n",
    "    df_score_0,\n",
    "    df_score_1,\n",
    "    equal_var = False\n",
    ")\n",
    "\n",
    "print('p-значение:', results.pvalue)\n",
    "\n",
    "if results.pvalue < alpha:\n",
    "    print(\"Отвергаем нулевую гипотезу\")\n",
    "else:\n",
    "    print(\"Не получилось отвергнуть нулевую гипотезу\")"
   ]
  },
  {
   "cell_type": "code",
   "execution_count": null,
   "metadata": {},
   "outputs": [],
   "source": [
    "from scipy.stats import mannwhitneyu\n",
    "\n",
    "stat, p = mannwhitneyu(\n",
    "    df_score_0,\n",
    "    df_score_1\n",
    ")\n",
    "print('Statistics=%.3f, p=%.3f' % (stat, p))\n",
    "\n",
    "alpha = 0.05\n",
    "if p > alpha:\n",
    "    print(\"Отвергаем нулевую гипотезу\")\n",
    "else:\n",
    "    print(\"Не получилось отвергнуть нулевую гипотезу\")"
   ]
  },
  {
   "cell_type": "markdown",
   "metadata": {},
   "source": [
    "Вывод: есть различия кол-ва баллов кредитного score между клиентами которые ушли и клиентами которые остались"
   ]
  },
  {
   "cell_type": "markdown",
   "metadata": {},
   "source": [
    "<div class=\"alert alert-success\"><b>Комментарий ревьюера 2</b>&nbsp;✔️<br>\n",
    "Гипотезы сфомулированы верно, расчёты проведены и интерпретированы корректно\n",
    "</div>"
   ]
  },
  {
   "cell_type": "markdown",
   "metadata": {},
   "source": [
    "## Шаг 6. Промежуточный итог о том, какие показатели стратегически влияют на отток.\n",
    "В ходе исследования подтвердились следующие гипотезы:\n",
    "- есть различия дохода между клиентами, которые ушли и клиентами которые остались\n",
    "- есть различия кол-ва баллов кредитного score между клиентами которые ушли и клиентами которые остались\n",
    "\n",
    "и получились следующие портреты клиентов:\n",
    "\n",
    "<b>Клиенты склонные к оттоку:</b>\n",
    "- являются пользователями больше от 2-х до 3-х банковских продуктов\n",
    "- если имеют объекты в собственности (в основном от 3-х до 5-ти)\n",
    "- являются активными пользователями банка\n",
    "- имеют балл score больше, но незначительно на 4%\n",
    "- чаще всего являются мужчинами\n",
    "- не имеют кредитных карт\n",
    "- возраст от 25 до 42 лет и от 48 до 60\n",
    "\n",
    "\n",
    "<b>Клиенты не склонные к оттоку:</b>\n",
    "- пользуются одним банковским продуктом\n",
    "- не имеют объекты недвижимости в собственности\n",
    "- не являются активными пользователями банковских услуг\n",
    "- имеют наимеший балл score\n",
    "- чаще всего являются женщинами\n",
    "- имеют кредитные карты\n",
    "- младше 25 и старше 42 до 48 года\n",
    "- имеют малые суммы на счетах банка.\n",
    "\n"
   ]
  },
  {
   "cell_type": "markdown",
   "metadata": {},
   "source": [
    "## Шаг 7. Сегментация на основе стратегических показателей."
   ]
  },
  {
   "cell_type": "markdown",
   "metadata": {},
   "source": [
    "<div class=\"alert alert-danger\"><b>Комментарий ревьюера 2</b>&nbsp;🔧<br>\n",
    "Ниже гистограммы, но они ненормированные. Чтобы сделать нормированные таким методом, нужно на одном полотне последовательно 2 раза построить гистограммы с параметром density=True.\n",
    "</div>"
   ]
  },
  {
   "cell_type": "code",
   "execution_count": null,
   "metadata": {},
   "outputs": [],
   "source": [
    "df.groupby('churn')['products'].hist(figsize=(16, 7), legend=True)"
   ]
  },
  {
   "cell_type": "markdown",
   "metadata": {},
   "source": [
    "Вывод: как видно пользователей можно разделить на три сегмента: один продукт, два продукта и свыше 3-х продуктов"
   ]
  },
  {
   "cell_type": "code",
   "execution_count": null,
   "metadata": {},
   "outputs": [],
   "source": [
    "df.groupby('churn')['equity'].hist(figsize=(16, 7), legend=True)"
   ]
  },
  {
   "cell_type": "markdown",
   "metadata": {},
   "source": [
    "Вывод: как видим пользователей можно разделить: до 3-х объектов недвижимости, более 3-х до 5-ти и свыше 5-ти."
   ]
  },
  {
   "cell_type": "code",
   "execution_count": null,
   "metadata": {},
   "outputs": [],
   "source": [
    "df.groupby('churn')['score'].hist(figsize=(16, 7), legend=True)"
   ]
  },
  {
   "cell_type": "code",
   "execution_count": null,
   "metadata": {},
   "outputs": [],
   "source": [
    "df[df['churn'] == 1]['score'].describe()"
   ]
  },
  {
   "cell_type": "markdown",
   "metadata": {},
   "source": [
    "Вывод: Пользователей можно разделить на следующие сегменты по уровню кредитного рейтинга: до 828, от 828 до 898 и свыше 898"
   ]
  },
  {
   "cell_type": "code",
   "execution_count": null,
   "metadata": {},
   "outputs": [],
   "source": [
    "df.groupby('churn')['age'].hist(figsize=(16, 7), legend=True)"
   ]
  },
  {
   "cell_type": "code",
   "execution_count": null,
   "metadata": {},
   "outputs": [],
   "source": [
    "df[df['churn'] == 1]['age'].describe()"
   ]
  },
  {
   "cell_type": "markdown",
   "metadata": {},
   "source": [
    "Вывод: пользователей можно разделить на следующие сегменты по возрасту: от 25 до 33, от 33 до 40, от 40 до 50 и от 50 выше"
   ]
  },
  {
   "cell_type": "code",
   "execution_count": null,
   "metadata": {},
   "outputs": [],
   "source": [
    "df.groupby('churn')['city'].hist(figsize=(16, 7), legend=True)"
   ]
  },
  {
   "cell_type": "markdown",
   "metadata": {},
   "source": [
    "Вывод: по городам пользователей можно разделить на три города: Рыбинск, Ярославль и Ростов."
   ]
  },
  {
   "cell_type": "markdown",
   "metadata": {},
   "source": [
    "<b>Вывод по разделу:</b>\n",
    "Пользователей получилось разделить на следующие сегменты:\n",
    "\n",
    "Географические:\n",
    "- Рыбинск\n",
    "- Ярославль\n",
    "- Ростов\n",
    "\n",
    "Демографические:\n",
    "(По возрасту)\n",
    "- от 25 до 33\n",
    "- от 33 до 40\n",
    "- старше 40 до 50\n",
    "- старше 50-ти\n",
    "\n",
    "(По полу)\n",
    "- мужчины\n",
    "- женщины\n",
    "\n",
    "Потребительские мотивы:\n",
    "(кредитный рейтинг)\n",
    "- до 828\n",
    "- от 828 до 898\n",
    "- 898 и выше\n",
    "\n",
    "(кол-во объектов в собственности)\n",
    "- до 1-го объектов\n",
    "- от 2-х до 3-х объектов\n",
    "- свыше 3-х\n",
    "\n",
    "Поведенческий:\n",
    "(кол-во банковских продуктов)\n",
    "- один продукт\n",
    "- два три продукта\n",
    "- более трех продуктов."
   ]
  },
  {
   "cell_type": "markdown",
   "metadata": {},
   "source": [
    "<div class=\"alert alert-warning\"><b>Комментарий ревьюера</b>&nbsp;🔧<br>\n",
    "Баланс также был важным показателем, почему его тут нет? По возрасту и скору надо уточнить границы интервалов. Остальные нормальные, но надо понять, какие из этих интервалов являются отточными и потом комбинировать их в сегменты, см. ниже, как это можно сделать (дано по другому датасету)\n",
    "</div>"
   ]
  },
  {
   "cell_type": "code",
   "execution_count": null,
   "metadata": {},
   "outputs": [],
   "source": [
    "# ### КОД РЕВЬЮЕРА\n",
    "# import itertools as it\n",
    "\n",
    "# data_temp = pd.read_csv('datasets/bank_dataset.csv')\n",
    "# data_temp.columns = data_temp.columns.str.lower()\n",
    "# # опишем все наши отточные интервалы\n",
    "# intervals = [\n",
    "#     (\"без пропусков в балансе\",'balance == balance'),\n",
    "#     (\"люди\", 'userid > 0'), # чтобы в варианты попали единичные критерии\n",
    "#     (\"ярославцы\", 'city == \"Ярославль\"'),\n",
    "#     (\"ростовчане\", 'city == \"Ростов\"'),\n",
    "#     (\"рыбчане\", 'city == \"Рыбинск\"'),\n",
    "#     (\"женщины\", 'gender == \"Ж\"'),\n",
    "#     (\"с одним продуктом\",'products == 1'),\n",
    "#     (\"люди с низким скором \", 'score < 400'),\n",
    "#     (\"люди со скором выше среднего\", 'score > 650 and score < 750'),\n",
    "#     (\"неактивные\", 'loyalty == 0'),\n",
    "#     (\"пользователи 3 и 4 продуктов\",'products > 2'),\n",
    "#     (\"запасы ниже среднего\",'balance > 70000 and balance < 90000'),\n",
    "#     (\"запасы выше среднего\",'balance > 70000'),\n",
    "#     (\"в возрасте\",'age > 40 and age <= 60'),\n",
    "# ]\n",
    "\n",
    "# # чтобы не было ошибок, будем оборачивать логические выражения в скобки\n",
    "# parentheses = lambda text: \"(\" + text + \")\"\n",
    "\n",
    "# # построим все возможные варианты пересечения этих интервалов\n",
    "# # параметр r=2 отвечает за общее число интервалов в варианте, их может быть и больше\n",
    "# examples = [(\" и \".join([name1,name2]), \" and \".join([parentheses(query1),parentheses(query2)])) \n",
    "#     for (name1, query1), (name2, query2) in it.combinations(intervals,r=2)]\n",
    "\n",
    "# # по заданным запросам делаем табличку с размерами разных групп \n",
    "# # и уровнем оттока в группе и внё её\n",
    "# dfs_temp = []\n",
    "# for text, query in examples:\n",
    "#     this_data = data_temp.query(query)\n",
    "#     other_data_idx = data_temp.index.difference(this_data.index)\n",
    "#     result = this_data\\\n",
    "#               .agg({\"churn\":[\"count\",\"mean\"]}).T\n",
    "#     result.loc['churn','other_churn'] = data_temp.loc[other_data_idx].agg({\"churn\":\"mean\"}).item()\n",
    "#     result.index = [text]\n",
    "#     result = result.rename(columns={\"count\":\"num\",\"mean\":\"churn\"})\n",
    "#     dfs_temp.append(result)\n",
    "    \n",
    "# # придумаем коэффициент, по которому будем ранжировать группы\n",
    "# # поправку на размер сегмента можно выбрать и другую:\n",
    "# # np.log, np.sqrt, np.cbrt или вообще обойтись без поправки\n",
    "# df_temp = pd.concat(dfs_temp)\n",
    "# df_temp['coef'] = ((df_temp.num ** .2) * (df_temp.churn - df_temp.other_churn)).round(1) * 10\n",
    "# df_temp.sort_values('coef',ascending=False).head(20)\\\n",
    "#        .style.format({\"churn\":\"{:.1%}\",\"other_churn\":\"{:.1%}\",\"num\":\"{:.0f}\",\"coef\":\"{:.0f}\"})"
   ]
  },
  {
   "cell_type": "code",
   "execution_count": null,
   "metadata": {},
   "outputs": [],
   "source": [
    "import itertools as it\n",
    "data_temp = df.copy()\n",
    "intervals = [\n",
    "    (\"люди\", 'userid > 0'), # чтобы в варианты попали единичные критерии\n",
    "    (\"ярославцы\", 'city == \"Ярославль\"'),\n",
    "    (\"ростовчане\", 'city == \"Ростов Великий\"'),\n",
    "    (\"рыбчане\", 'city == \"Рыбинск\"'),\n",
    "    (\"мужчины\", 'gender == \"М\"'),\n",
    "    (\"люди со скором выше среднего\", 'score > 850 and score < 900'),\n",
    "    (\"активные\", 'last_activity == 1'),\n",
    "    (\"пользователи 3 и 4 продуктов\",'products >= 2 and products <= 3'),\n",
    "    (\"в возрасте\",'(age > 24 and age <= 41) or (age > 47 and age <= 60)'),\n",
    "]\n",
    "\n",
    "# чтобы не было ошибок, будем оборачивать логические выражения в скобки\n",
    "parentheses = lambda text: \"(\" + text + \")\"\n",
    "\n",
    "# построим все возможные варианты пересечения этих интервалов\n",
    "# параметр r=2 отвечает за общее число интервалов в варианте, их может быть и больше\n",
    "examples = [(\" и \".join([name1,name2]), \" and \".join([parentheses(query1),parentheses(query2)]))\n",
    "            for (name1, query1), (name2, query2) in it.combinations(intervals,r=2)]\n",
    "\n",
    "# по заданным запросам делаем табличку с размерами разных групп\n",
    "# и уровнем оттока в группе и внё её\n",
    "dfs_temp = []\n",
    "for text, query in examples:\n",
    "    this_data = data_temp.query(query)\n",
    "    other_data_idx = data_temp.index.difference(this_data.index)\n",
    "    result = this_data\\\n",
    "              .agg({\"churn\":[\"count\",\"mean\"]}).T\n",
    "    result.loc['churn','other_churn'] = data_temp.loc[other_data_idx].agg({\"churn\":\"mean\"}).item()\n",
    "    result.index = [text]\n",
    "    result = result.rename(columns={\"count\":\"num\",\"mean\":\"churn\"})\n",
    "    dfs_temp.append(result)\n",
    "\n",
    "# придумаем коэффициент, по которому будем ранжировать группы\n",
    "# поправку на размер сегмента можно выбрать и другую:\n",
    "# np.log, np.sqrt, np.cbrt или вообще обойтись без поправки\n",
    "df_temp = pd.concat(dfs_temp)\n",
    "df_temp['coef'] = ((df_temp.num ** .2) * (df_temp.churn - df_temp.other_churn)).round(1) * 10\n",
    "df_temp.sort_values('coef',ascending=False).head(20)\\\n",
    "       .style.format({\"churn\":\"{:.1%}\",\"other_churn\":\"{:.1%}\",\"num\":\"{:.0f}\",\"coef\":\"{:.0f}\"})"
   ]
  },
  {
   "cell_type": "markdown",
   "metadata": {},
   "source": [
    "<div class=\"alert btn-primary\"><b>Комментарий студента:</b><br>   Решил попробовать, кажется что то не тоьполучилось  </div>"
   ]
  },
  {
   "cell_type": "markdown",
   "metadata": {},
   "source": [
    "<div class=\"alert alert-success\"><b>Комментарий ревьюера 2</b>&nbsp;📝<br>\n",
    "Да, код выше объединяет по 2 критерия, а тут надо по 3 + у тебя нет самых \"мощных\" отточных интервалов по количеству объектов и балансу. Это скорее просто пример того, что должно получиться и отдельные куски кода, которые, если ты поймёшь, как они работают, можно использовать в других местах.\n",
    "</div>"
   ]
  },
  {
   "cell_type": "markdown",
   "metadata": {},
   "source": [
    "<b>Сегменты пользователей влияющих на отток:</b>\n",
    "- клиенты от 25 до 41 и 48 до 60\n",
    "- мужчины\n",
    "- имеют кредитный рейтинг от 850 до 900\n",
    "- от 2-х до 3-х объектов в собвственности\n",
    "- с двумя - тремя банковскими продуктами"
   ]
  },
  {
   "cell_type": "markdown",
   "metadata": {},
   "source": [
    "## Шаг 8. Выводы и рекомендации (конкретные, по конкретным сегментам) для заказчика\n",
    "\n",
    "По работе можно сделать следующие выводы:\n",
    "\n",
    "В ходе исследования подтвердились следующие <b>гипотезы</b>:\n",
    "- есть различия дохода между клиентами, которые ушли и клиентами которые остались\n",
    "- есть различия кол-ва баллов кредитного score между клиентами которые ушли и клиентами которые остались\n",
    "\n",
    "и получились следующие <b>портреты клиентов</b>:\n",
    "\n",
    "<b>Клиенты склонные к оттоку:</b>\n",
    "- являются пользователями больше от 2-х до 3-х банковских продуктов\n",
    "- если имеют объекты в собственности (в основном от 3-х до 5-ти)\n",
    "- являются активными пользователями банка\n",
    "- имеют балл score больше, но незначительно на 4%\n",
    "- чаще всего являются мужчинами\n",
    "- не имеют кредитных карт\n",
    "- возраст от 25 до 42 лет и от 48 до 60\n",
    "\n",
    "\n",
    "<b>Клиенты не склонные к оттоку:</b>\n",
    "- пользуются одним банковским продуктом\n",
    "- не имеют объекты недвижимости в собственности\n",
    "- не являются активными пользователями банковских услуг\n",
    "- имеют наимеший балл score\n",
    "- чаще всего являются женщинами\n",
    "- имеют кредитные карты\n",
    "- младше 25 и старше 31-го года\n",
    "- имеют малые суммы на счетах банка.\n",
    "\n",
    "Пользователей получилось разделить на следующие сегменты:\n",
    "\n",
    "Географические:\n",
    "- Рыбинск\n",
    "- Ярославль\n",
    "- Ростов\n",
    "\n",
    "Демографические:\n",
    "(По возрасту)\n",
    "- от 25 до 33\n",
    "- от 33 до 40\n",
    "- старше 40 до 50\n",
    "- старше 50-ти\n",
    "\n",
    "(По полу)\n",
    "- мужчины\n",
    "- женщины\n",
    "\n",
    "Потребительские мотивы:\n",
    "(кредитный рейтинг)\n",
    "- до 828\n",
    "- от 828 до 898\n",
    "- 898 и выше\n",
    "\n",
    "(кол-во объектов в собственности)\n",
    "- до 1-го объектов\n",
    "- от 2-х до 3-х объектов\n",
    "- свыше 3-х\n",
    "\n",
    "Поведенческий:\n",
    "(кол-во банковских продуктов)\n",
    "- один продукт\n",
    "- два три продукта\n",
    "- более трех продуктов.\n",
    "\n",
    "<b>Общие рекомендации по сегментам:</b>\n",
    "- по городам стоит обратить внимание на Ярославвль т.к. и посмотреть с чем связан отток клиентов в этом городе. В общем ситуация по городам одинаковая и зависит больше от кол-ва клиентов в этом городе. В процентном сообнощении он примерно одинаков.\n",
    "- основными пользователями услуг банка являются клиенты в возрасте от 31 до 45 лет\n",
    "- уходят в основном мужчины\n",
    "- клиенты которые уходят имеют преимущественно большой кредитный рейтинг\n",
    "- в собственности у клиентов от 3-х до 5-ти объектов недвижимости\n",
    "- пользуются двумя - тремя банковскими продуктами.\n",
    "\n",
    "Из всего выше сказанного можно сделать вывод, что отточными клиентами являются люди среднего возраста с достатком. В то же время остаются чаще всего люди с кредитами и не имеющих в собственности объектов и больших сумм на счете. Стоит понять в связи с чем связан отток данных клиентов.\n",
    "\n",
    "Рекомендации по банковским продуктам:\n",
    "- клиентом с достатком можно предложить услуги по вкладам (депозиты, драг. металы) по интересным условиям\n",
    "- брокерские услуги, для сбережения или увеличения средств\n",
    "- страхование здоровья, т.к. люди с достатком чаще заботятся о своем здоровье\n",
    "- кредиты на бизнес\n",
    "- обслуживание бизнес счетов"
   ]
  },
  {
   "cell_type": "markdown",
   "metadata": {},
   "source": [
    "<div class=\"alert alert-warning\"><b>Комментарий ревьюера</b>&nbsp;🔧<br>\n",
    "Не видно рекомендаций. Какие банковские продукты можно предложить каким сегментам?\n",
    "</div>"
   ]
  },
  {
   "cell_type": "markdown",
   "metadata": {},
   "source": [
    "<div class=\"alert btn-primary\"><b>Комментарий студента:</b><br>   Исправил   </div>"
   ]
  }
 ],
 "metadata": {
  "ExecuteTimeLog": [
   {
    "duration": 49,
    "start_time": "2023-01-19T18:07:04.289Z"
   },
   {
    "duration": 1289,
    "start_time": "2023-01-19T18:07:08.520Z"
   },
   {
    "duration": 305,
    "start_time": "2023-01-19T18:07:09.811Z"
   },
   {
    "duration": 0,
    "start_time": "2023-01-19T18:07:10.117Z"
   },
   {
    "duration": 0,
    "start_time": "2023-01-19T18:07:10.118Z"
   },
   {
    "duration": 0,
    "start_time": "2023-01-19T18:07:10.119Z"
   },
   {
    "duration": 0,
    "start_time": "2023-01-19T18:07:10.120Z"
   },
   {
    "duration": 0,
    "start_time": "2023-01-19T18:07:10.122Z"
   },
   {
    "duration": 0,
    "start_time": "2023-01-19T18:07:10.123Z"
   },
   {
    "duration": 0,
    "start_time": "2023-01-19T18:07:10.124Z"
   },
   {
    "duration": 0,
    "start_time": "2023-01-19T18:07:10.125Z"
   },
   {
    "duration": 0,
    "start_time": "2023-01-19T18:07:10.126Z"
   },
   {
    "duration": 0,
    "start_time": "2023-01-19T18:07:10.127Z"
   },
   {
    "duration": 0,
    "start_time": "2023-01-19T18:07:10.128Z"
   },
   {
    "duration": 0,
    "start_time": "2023-01-19T18:07:10.128Z"
   },
   {
    "duration": 0,
    "start_time": "2023-01-19T18:07:10.129Z"
   },
   {
    "duration": 0,
    "start_time": "2023-01-19T18:07:10.130Z"
   },
   {
    "duration": 12,
    "start_time": "2023-01-19T18:07:22.818Z"
   },
   {
    "duration": 3,
    "start_time": "2023-01-19T18:07:27.202Z"
   },
   {
    "duration": 127,
    "start_time": "2023-01-19T18:07:27.207Z"
   },
   {
    "duration": 0,
    "start_time": "2023-01-19T18:07:27.336Z"
   },
   {
    "duration": 0,
    "start_time": "2023-01-19T18:07:27.337Z"
   },
   {
    "duration": 0,
    "start_time": "2023-01-19T18:07:27.338Z"
   },
   {
    "duration": 0,
    "start_time": "2023-01-19T18:07:27.339Z"
   },
   {
    "duration": 0,
    "start_time": "2023-01-19T18:07:27.340Z"
   },
   {
    "duration": 0,
    "start_time": "2023-01-19T18:07:27.341Z"
   },
   {
    "duration": 0,
    "start_time": "2023-01-19T18:07:27.342Z"
   },
   {
    "duration": 0,
    "start_time": "2023-01-19T18:07:27.343Z"
   },
   {
    "duration": 0,
    "start_time": "2023-01-19T18:07:27.344Z"
   },
   {
    "duration": 0,
    "start_time": "2023-01-19T18:07:27.345Z"
   },
   {
    "duration": 0,
    "start_time": "2023-01-19T18:07:27.347Z"
   },
   {
    "duration": 0,
    "start_time": "2023-01-19T18:07:27.348Z"
   },
   {
    "duration": 0,
    "start_time": "2023-01-19T18:07:27.349Z"
   },
   {
    "duration": 1088,
    "start_time": "2023-01-19T18:09:23.370Z"
   },
   {
    "duration": 9,
    "start_time": "2023-01-19T18:10:20.724Z"
   },
   {
    "duration": 15,
    "start_time": "2023-01-19T18:10:21.176Z"
   },
   {
    "duration": 17,
    "start_time": "2023-01-19T18:10:44.122Z"
   },
   {
    "duration": 5,
    "start_time": "2023-01-19T18:10:44.819Z"
   },
   {
    "duration": 5,
    "start_time": "2023-01-19T18:10:44.991Z"
   },
   {
    "duration": 5,
    "start_time": "2023-01-19T18:10:45.150Z"
   },
   {
    "duration": 15,
    "start_time": "2023-01-19T18:10:45.453Z"
   },
   {
    "duration": 6,
    "start_time": "2023-01-19T18:10:45.759Z"
   },
   {
    "duration": 6,
    "start_time": "2023-01-19T18:10:45.923Z"
   },
   {
    "duration": 6,
    "start_time": "2023-01-19T18:10:46.068Z"
   },
   {
    "duration": 6,
    "start_time": "2023-01-19T18:10:46.329Z"
   },
   {
    "duration": 7,
    "start_time": "2023-01-19T18:10:46.482Z"
   },
   {
    "duration": 7,
    "start_time": "2023-01-19T18:10:46.626Z"
   },
   {
    "duration": 25,
    "start_time": "2023-01-19T18:10:47.669Z"
   },
   {
    "duration": 599,
    "start_time": "2023-01-19T18:11:05.401Z"
   },
   {
    "duration": 62,
    "start_time": "2023-01-19T18:14:11.135Z"
   },
   {
    "duration": 1123,
    "start_time": "2023-01-19T18:47:03.150Z"
   },
   {
    "duration": 225,
    "start_time": "2023-01-19T18:47:04.275Z"
   },
   {
    "duration": 0,
    "start_time": "2023-01-19T18:47:04.505Z"
   },
   {
    "duration": 0,
    "start_time": "2023-01-19T18:47:04.506Z"
   },
   {
    "duration": 0,
    "start_time": "2023-01-19T18:47:04.507Z"
   },
   {
    "duration": 0,
    "start_time": "2023-01-19T18:47:04.508Z"
   },
   {
    "duration": 0,
    "start_time": "2023-01-19T18:47:04.509Z"
   },
   {
    "duration": 0,
    "start_time": "2023-01-19T18:47:04.510Z"
   },
   {
    "duration": 0,
    "start_time": "2023-01-19T18:47:04.512Z"
   },
   {
    "duration": 0,
    "start_time": "2023-01-19T18:47:04.513Z"
   },
   {
    "duration": 0,
    "start_time": "2023-01-19T18:47:04.514Z"
   },
   {
    "duration": 0,
    "start_time": "2023-01-19T18:47:04.515Z"
   },
   {
    "duration": 0,
    "start_time": "2023-01-19T18:47:04.515Z"
   },
   {
    "duration": 0,
    "start_time": "2023-01-19T18:47:04.516Z"
   },
   {
    "duration": 0,
    "start_time": "2023-01-19T18:47:04.517Z"
   },
   {
    "duration": 0,
    "start_time": "2023-01-19T18:47:04.518Z"
   },
   {
    "duration": 0,
    "start_time": "2023-01-19T18:47:04.519Z"
   },
   {
    "duration": 0,
    "start_time": "2023-01-19T18:47:04.520Z"
   },
   {
    "duration": 0,
    "start_time": "2023-01-19T18:47:04.521Z"
   },
   {
    "duration": 0,
    "start_time": "2023-01-19T18:47:04.522Z"
   },
   {
    "duration": 0,
    "start_time": "2023-01-19T18:47:04.523Z"
   },
   {
    "duration": 0,
    "start_time": "2023-01-19T18:47:04.524Z"
   },
   {
    "duration": 0,
    "start_time": "2023-01-19T18:47:04.525Z"
   },
   {
    "duration": 0,
    "start_time": "2023-01-19T18:47:04.526Z"
   },
   {
    "duration": 0,
    "start_time": "2023-01-19T18:47:04.527Z"
   },
   {
    "duration": 0,
    "start_time": "2023-01-19T18:47:04.528Z"
   },
   {
    "duration": 0,
    "start_time": "2023-01-19T18:47:04.528Z"
   },
   {
    "duration": 0,
    "start_time": "2023-01-19T18:47:04.529Z"
   },
   {
    "duration": 0,
    "start_time": "2023-01-19T18:47:04.530Z"
   },
   {
    "duration": 0,
    "start_time": "2023-01-19T18:47:04.531Z"
   },
   {
    "duration": 0,
    "start_time": "2023-01-19T18:47:04.532Z"
   },
   {
    "duration": 0,
    "start_time": "2023-01-19T18:47:04.533Z"
   },
   {
    "duration": 0,
    "start_time": "2023-01-19T18:47:04.534Z"
   },
   {
    "duration": 0,
    "start_time": "2023-01-19T18:47:04.535Z"
   },
   {
    "duration": 0,
    "start_time": "2023-01-19T18:47:04.537Z"
   },
   {
    "duration": 0,
    "start_time": "2023-01-19T18:47:04.538Z"
   },
   {
    "duration": 0,
    "start_time": "2023-01-19T18:47:04.591Z"
   },
   {
    "duration": 0,
    "start_time": "2023-01-19T18:47:04.593Z"
   },
   {
    "duration": 0,
    "start_time": "2023-01-19T18:47:04.594Z"
   },
   {
    "duration": 0,
    "start_time": "2023-01-19T18:47:04.595Z"
   },
   {
    "duration": 0,
    "start_time": "2023-01-19T18:47:04.596Z"
   },
   {
    "duration": 0,
    "start_time": "2023-01-19T18:47:04.597Z"
   },
   {
    "duration": 0,
    "start_time": "2023-01-19T18:47:04.598Z"
   },
   {
    "duration": 0,
    "start_time": "2023-01-19T18:47:04.599Z"
   },
   {
    "duration": 0,
    "start_time": "2023-01-19T18:47:04.601Z"
   },
   {
    "duration": 0,
    "start_time": "2023-01-19T18:47:04.601Z"
   },
   {
    "duration": 0,
    "start_time": "2023-01-19T18:47:04.602Z"
   },
   {
    "duration": 0,
    "start_time": "2023-01-19T18:47:04.603Z"
   },
   {
    "duration": 0,
    "start_time": "2023-01-19T18:47:04.605Z"
   },
   {
    "duration": 0,
    "start_time": "2023-01-19T18:47:04.606Z"
   },
   {
    "duration": 0,
    "start_time": "2023-01-19T18:47:04.608Z"
   },
   {
    "duration": 0,
    "start_time": "2023-01-19T18:47:04.609Z"
   },
   {
    "duration": 0,
    "start_time": "2023-01-19T18:47:04.610Z"
   },
   {
    "duration": 0,
    "start_time": "2023-01-19T18:47:04.611Z"
   },
   {
    "duration": 0,
    "start_time": "2023-01-19T18:47:04.612Z"
   },
   {
    "duration": 0,
    "start_time": "2023-01-19T18:47:04.613Z"
   },
   {
    "duration": 0,
    "start_time": "2023-01-19T18:47:04.614Z"
   },
   {
    "duration": 0,
    "start_time": "2023-01-19T18:47:04.615Z"
   },
   {
    "duration": 0,
    "start_time": "2023-01-19T18:47:04.616Z"
   },
   {
    "duration": 0,
    "start_time": "2023-01-19T18:47:04.617Z"
   },
   {
    "duration": 0,
    "start_time": "2023-01-19T18:47:04.618Z"
   },
   {
    "duration": 0,
    "start_time": "2023-01-19T18:47:04.619Z"
   },
   {
    "duration": 0,
    "start_time": "2023-01-19T18:47:04.620Z"
   },
   {
    "duration": 0,
    "start_time": "2023-01-19T18:47:04.622Z"
   },
   {
    "duration": 0,
    "start_time": "2023-01-19T18:47:04.623Z"
   },
   {
    "duration": 0,
    "start_time": "2023-01-19T18:47:04.624Z"
   },
   {
    "duration": 0,
    "start_time": "2023-01-19T18:47:04.624Z"
   },
   {
    "duration": 0,
    "start_time": "2023-01-19T18:47:04.626Z"
   },
   {
    "duration": 0,
    "start_time": "2023-01-19T18:47:04.626Z"
   },
   {
    "duration": 0,
    "start_time": "2023-01-19T18:47:04.628Z"
   },
   {
    "duration": 0,
    "start_time": "2023-01-19T18:47:04.629Z"
   },
   {
    "duration": 1281,
    "start_time": "2023-01-19T18:47:16.534Z"
   },
   {
    "duration": 9,
    "start_time": "2023-01-19T18:47:31.030Z"
   },
   {
    "duration": 0,
    "start_time": "2023-01-19T18:47:31.041Z"
   },
   {
    "duration": 0,
    "start_time": "2023-01-19T18:47:31.042Z"
   },
   {
    "duration": 28,
    "start_time": "2023-01-19T18:47:31.044Z"
   },
   {
    "duration": 21,
    "start_time": "2023-01-19T18:47:31.074Z"
   },
   {
    "duration": 15,
    "start_time": "2023-01-19T18:47:31.097Z"
   },
   {
    "duration": 22,
    "start_time": "2023-01-19T18:47:31.115Z"
   },
   {
    "duration": 8,
    "start_time": "2023-01-19T18:47:31.138Z"
   },
   {
    "duration": 23,
    "start_time": "2023-01-19T18:47:31.147Z"
   },
   {
    "duration": 10,
    "start_time": "2023-01-19T18:47:31.172Z"
   },
   {
    "duration": 31,
    "start_time": "2023-01-19T18:47:31.183Z"
   },
   {
    "duration": 41,
    "start_time": "2023-01-19T18:47:31.216Z"
   },
   {
    "duration": 121,
    "start_time": "2023-01-19T18:47:31.261Z"
   },
   {
    "duration": 47,
    "start_time": "2023-01-19T18:47:31.384Z"
   },
   {
    "duration": 0,
    "start_time": "2023-01-19T18:47:31.434Z"
   },
   {
    "duration": 0,
    "start_time": "2023-01-19T18:47:31.435Z"
   },
   {
    "duration": 0,
    "start_time": "2023-01-19T18:47:31.437Z"
   },
   {
    "duration": 0,
    "start_time": "2023-01-19T18:47:31.438Z"
   },
   {
    "duration": 0,
    "start_time": "2023-01-19T18:47:31.439Z"
   },
   {
    "duration": 0,
    "start_time": "2023-01-19T18:47:31.440Z"
   },
   {
    "duration": 0,
    "start_time": "2023-01-19T18:47:31.441Z"
   },
   {
    "duration": 0,
    "start_time": "2023-01-19T18:47:31.443Z"
   },
   {
    "duration": 0,
    "start_time": "2023-01-19T18:47:31.444Z"
   },
   {
    "duration": 0,
    "start_time": "2023-01-19T18:47:31.445Z"
   },
   {
    "duration": 0,
    "start_time": "2023-01-19T18:47:31.446Z"
   },
   {
    "duration": 1,
    "start_time": "2023-01-19T18:47:31.447Z"
   },
   {
    "duration": 0,
    "start_time": "2023-01-19T18:47:31.449Z"
   },
   {
    "duration": 0,
    "start_time": "2023-01-19T18:47:31.450Z"
   },
   {
    "duration": 0,
    "start_time": "2023-01-19T18:47:31.451Z"
   },
   {
    "duration": 0,
    "start_time": "2023-01-19T18:47:31.452Z"
   },
   {
    "duration": 0,
    "start_time": "2023-01-19T18:47:31.454Z"
   },
   {
    "duration": 0,
    "start_time": "2023-01-19T18:47:31.455Z"
   },
   {
    "duration": 0,
    "start_time": "2023-01-19T18:47:31.456Z"
   },
   {
    "duration": 0,
    "start_time": "2023-01-19T18:47:31.457Z"
   },
   {
    "duration": 0,
    "start_time": "2023-01-19T18:47:31.459Z"
   },
   {
    "duration": 0,
    "start_time": "2023-01-19T18:47:31.460Z"
   },
   {
    "duration": 0,
    "start_time": "2023-01-19T18:47:31.492Z"
   },
   {
    "duration": 0,
    "start_time": "2023-01-19T18:47:31.494Z"
   },
   {
    "duration": 0,
    "start_time": "2023-01-19T18:47:31.495Z"
   },
   {
    "duration": 0,
    "start_time": "2023-01-19T18:47:31.496Z"
   },
   {
    "duration": 0,
    "start_time": "2023-01-19T18:47:31.497Z"
   },
   {
    "duration": 0,
    "start_time": "2023-01-19T18:47:31.498Z"
   },
   {
    "duration": 0,
    "start_time": "2023-01-19T18:47:31.500Z"
   },
   {
    "duration": 0,
    "start_time": "2023-01-19T18:47:31.500Z"
   },
   {
    "duration": 0,
    "start_time": "2023-01-19T18:47:31.502Z"
   },
   {
    "duration": 0,
    "start_time": "2023-01-19T18:47:31.503Z"
   },
   {
    "duration": 0,
    "start_time": "2023-01-19T18:47:31.504Z"
   },
   {
    "duration": 0,
    "start_time": "2023-01-19T18:47:31.505Z"
   },
   {
    "duration": 0,
    "start_time": "2023-01-19T18:47:31.506Z"
   },
   {
    "duration": 0,
    "start_time": "2023-01-19T18:47:31.507Z"
   },
   {
    "duration": 0,
    "start_time": "2023-01-19T18:47:31.508Z"
   },
   {
    "duration": 0,
    "start_time": "2023-01-19T18:47:31.510Z"
   },
   {
    "duration": 0,
    "start_time": "2023-01-19T18:47:31.511Z"
   },
   {
    "duration": 0,
    "start_time": "2023-01-19T18:47:31.512Z"
   },
   {
    "duration": 0,
    "start_time": "2023-01-19T18:47:31.513Z"
   },
   {
    "duration": 0,
    "start_time": "2023-01-19T18:47:31.514Z"
   },
   {
    "duration": 0,
    "start_time": "2023-01-19T18:47:31.515Z"
   },
   {
    "duration": 0,
    "start_time": "2023-01-19T18:47:31.516Z"
   },
   {
    "duration": 0,
    "start_time": "2023-01-19T18:47:31.517Z"
   },
   {
    "duration": 0,
    "start_time": "2023-01-19T18:47:31.518Z"
   },
   {
    "duration": 0,
    "start_time": "2023-01-19T18:47:31.519Z"
   },
   {
    "duration": 0,
    "start_time": "2023-01-19T18:47:31.521Z"
   },
   {
    "duration": 0,
    "start_time": "2023-01-19T18:47:31.522Z"
   },
   {
    "duration": 0,
    "start_time": "2023-01-19T18:47:31.523Z"
   },
   {
    "duration": 0,
    "start_time": "2023-01-19T18:47:31.524Z"
   },
   {
    "duration": 0,
    "start_time": "2023-01-19T18:47:31.525Z"
   },
   {
    "duration": 0,
    "start_time": "2023-01-19T18:47:31.526Z"
   },
   {
    "duration": 0,
    "start_time": "2023-01-19T18:47:31.527Z"
   },
   {
    "duration": 0,
    "start_time": "2023-01-19T18:47:31.528Z"
   },
   {
    "duration": 9,
    "start_time": "2023-01-19T18:47:42.844Z"
   },
   {
    "duration": 0,
    "start_time": "2023-01-19T18:47:42.855Z"
   },
   {
    "duration": 18,
    "start_time": "2023-01-19T18:47:42.857Z"
   },
   {
    "duration": 9,
    "start_time": "2023-01-19T18:47:42.877Z"
   },
   {
    "duration": 12,
    "start_time": "2023-01-19T18:47:42.888Z"
   },
   {
    "duration": 7,
    "start_time": "2023-01-19T18:47:42.901Z"
   },
   {
    "duration": 18,
    "start_time": "2023-01-19T18:47:42.909Z"
   },
   {
    "duration": 6,
    "start_time": "2023-01-19T18:47:42.929Z"
   },
   {
    "duration": 9,
    "start_time": "2023-01-19T18:47:42.937Z"
   },
   {
    "duration": 5,
    "start_time": "2023-01-19T18:47:42.949Z"
   },
   {
    "duration": 40,
    "start_time": "2023-01-19T18:47:42.956Z"
   },
   {
    "duration": 7,
    "start_time": "2023-01-19T18:47:42.999Z"
   },
   {
    "duration": 15,
    "start_time": "2023-01-19T18:47:43.009Z"
   },
   {
    "duration": 681,
    "start_time": "2023-01-19T18:47:43.026Z"
   },
   {
    "duration": 13,
    "start_time": "2023-01-19T18:47:43.709Z"
   },
   {
    "duration": 5,
    "start_time": "2023-01-19T18:47:43.724Z"
   },
   {
    "duration": 20,
    "start_time": "2023-01-19T18:47:43.730Z"
   },
   {
    "duration": 949,
    "start_time": "2023-01-19T18:47:43.752Z"
   },
   {
    "duration": 3177,
    "start_time": "2023-01-19T18:47:44.703Z"
   },
   {
    "duration": 33,
    "start_time": "2023-01-19T18:47:47.882Z"
   },
   {
    "duration": 515,
    "start_time": "2023-01-19T18:47:47.916Z"
   },
   {
    "duration": 1167,
    "start_time": "2023-01-19T18:47:48.433Z"
   },
   {
    "duration": 6,
    "start_time": "2023-01-19T18:47:49.602Z"
   },
   {
    "duration": 2115,
    "start_time": "2023-01-19T18:47:49.610Z"
   },
   {
    "duration": 646,
    "start_time": "2023-01-19T18:47:51.730Z"
   },
   {
    "duration": 14,
    "start_time": "2023-01-19T18:47:52.378Z"
   },
   {
    "duration": 34,
    "start_time": "2023-01-19T18:47:52.394Z"
   },
   {
    "duration": 5,
    "start_time": "2023-01-19T18:47:52.430Z"
   },
   {
    "duration": 5,
    "start_time": "2023-01-19T18:47:52.437Z"
   },
   {
    "duration": 27,
    "start_time": "2023-01-19T18:47:52.444Z"
   },
   {
    "duration": 3,
    "start_time": "2023-01-19T18:47:52.473Z"
   },
   {
    "duration": 8322,
    "start_time": "2023-01-19T18:47:52.478Z"
   },
   {
    "duration": 13,
    "start_time": "2023-01-19T18:48:00.801Z"
   },
   {
    "duration": 546,
    "start_time": "2023-01-19T18:48:00.816Z"
   },
   {
    "duration": 10,
    "start_time": "2023-01-19T18:48:01.364Z"
   },
   {
    "duration": 417,
    "start_time": "2023-01-19T18:48:01.376Z"
   },
   {
    "duration": 16,
    "start_time": "2023-01-19T18:48:01.797Z"
   },
   {
    "duration": 577,
    "start_time": "2023-01-19T18:48:01.815Z"
   },
   {
    "duration": 12,
    "start_time": "2023-01-19T18:48:02.393Z"
   },
   {
    "duration": 636,
    "start_time": "2023-01-19T18:48:02.407Z"
   },
   {
    "duration": 11,
    "start_time": "2023-01-19T18:48:03.045Z"
   },
   {
    "duration": 35,
    "start_time": "2023-01-19T18:48:03.058Z"
   },
   {
    "duration": 343,
    "start_time": "2023-01-19T18:48:03.095Z"
   },
   {
    "duration": 11,
    "start_time": "2023-01-19T18:48:03.441Z"
   },
   {
    "duration": 275,
    "start_time": "2023-01-19T18:48:03.454Z"
   },
   {
    "duration": 10,
    "start_time": "2023-01-19T18:48:03.731Z"
   },
   {
    "duration": 278,
    "start_time": "2023-01-19T18:48:03.743Z"
   },
   {
    "duration": 10,
    "start_time": "2023-01-19T18:48:04.023Z"
   },
   {
    "duration": 21,
    "start_time": "2023-01-19T18:48:04.036Z"
   },
   {
    "duration": 324,
    "start_time": "2023-01-19T18:48:04.059Z"
   },
   {
    "duration": 7,
    "start_time": "2023-01-19T18:48:04.391Z"
   },
   {
    "duration": 18,
    "start_time": "2023-01-19T18:48:04.400Z"
   },
   {
    "duration": 3657,
    "start_time": "2023-01-19T18:48:04.420Z"
   },
   {
    "duration": 1042,
    "start_time": "2023-01-19T18:48:08.079Z"
   },
   {
    "duration": 3000,
    "start_time": "2023-01-19T18:48:09.122Z"
   },
   {
    "duration": 2596,
    "start_time": "2023-01-19T18:48:12.123Z"
   },
   {
    "duration": 7,
    "start_time": "2023-01-19T18:48:14.721Z"
   },
   {
    "duration": 142,
    "start_time": "2023-01-19T18:48:14.732Z"
   },
   {
    "duration": 154,
    "start_time": "2023-01-19T18:48:14.876Z"
   },
   {
    "duration": 6,
    "start_time": "2023-01-19T18:48:15.032Z"
   },
   {
    "duration": 11,
    "start_time": "2023-01-19T18:48:15.040Z"
   },
   {
    "duration": 178,
    "start_time": "2023-01-19T18:48:15.053Z"
   },
   {
    "duration": 179,
    "start_time": "2023-01-19T18:48:15.233Z"
   },
   {
    "duration": 6,
    "start_time": "2023-01-19T18:48:15.415Z"
   },
   {
    "duration": 227,
    "start_time": "2023-01-19T18:48:15.423Z"
   },
   {
    "duration": 193,
    "start_time": "2023-01-19T18:48:15.653Z"
   },
   {
    "duration": 245,
    "start_time": "2023-01-19T18:48:15.848Z"
   },
   {
    "duration": 312,
    "start_time": "2023-01-19T18:48:16.095Z"
   },
   {
    "duration": 345,
    "start_time": "2023-01-19T18:48:16.410Z"
   },
   {
    "duration": 1180,
    "start_time": "2023-01-19T19:15:15.497Z"
   },
   {
    "duration": 214,
    "start_time": "2023-01-19T19:15:16.679Z"
   },
   {
    "duration": 0,
    "start_time": "2023-01-19T19:15:16.896Z"
   },
   {
    "duration": 0,
    "start_time": "2023-01-19T19:15:16.898Z"
   },
   {
    "duration": 0,
    "start_time": "2023-01-19T19:15:16.899Z"
   },
   {
    "duration": 0,
    "start_time": "2023-01-19T19:15:16.900Z"
   },
   {
    "duration": 0,
    "start_time": "2023-01-19T19:15:16.901Z"
   },
   {
    "duration": 0,
    "start_time": "2023-01-19T19:15:16.902Z"
   },
   {
    "duration": 0,
    "start_time": "2023-01-19T19:15:16.903Z"
   },
   {
    "duration": 0,
    "start_time": "2023-01-19T19:15:16.904Z"
   },
   {
    "duration": 0,
    "start_time": "2023-01-19T19:15:16.905Z"
   },
   {
    "duration": 0,
    "start_time": "2023-01-19T19:15:16.906Z"
   },
   {
    "duration": 0,
    "start_time": "2023-01-19T19:15:16.907Z"
   },
   {
    "duration": 0,
    "start_time": "2023-01-19T19:15:16.909Z"
   },
   {
    "duration": 0,
    "start_time": "2023-01-19T19:15:16.910Z"
   },
   {
    "duration": 0,
    "start_time": "2023-01-19T19:15:16.911Z"
   },
   {
    "duration": 0,
    "start_time": "2023-01-19T19:15:16.913Z"
   },
   {
    "duration": 0,
    "start_time": "2023-01-19T19:15:16.913Z"
   },
   {
    "duration": 0,
    "start_time": "2023-01-19T19:15:16.914Z"
   },
   {
    "duration": 0,
    "start_time": "2023-01-19T19:15:16.915Z"
   },
   {
    "duration": 0,
    "start_time": "2023-01-19T19:15:16.916Z"
   },
   {
    "duration": 0,
    "start_time": "2023-01-19T19:15:16.918Z"
   },
   {
    "duration": 0,
    "start_time": "2023-01-19T19:15:16.919Z"
   },
   {
    "duration": 0,
    "start_time": "2023-01-19T19:15:16.920Z"
   },
   {
    "duration": 0,
    "start_time": "2023-01-19T19:15:16.921Z"
   },
   {
    "duration": 0,
    "start_time": "2023-01-19T19:15:16.922Z"
   },
   {
    "duration": 0,
    "start_time": "2023-01-19T19:15:16.923Z"
   },
   {
    "duration": 0,
    "start_time": "2023-01-19T19:15:16.924Z"
   },
   {
    "duration": 0,
    "start_time": "2023-01-19T19:15:16.925Z"
   },
   {
    "duration": 0,
    "start_time": "2023-01-19T19:15:16.926Z"
   },
   {
    "duration": 0,
    "start_time": "2023-01-19T19:15:16.927Z"
   },
   {
    "duration": 0,
    "start_time": "2023-01-19T19:15:16.928Z"
   },
   {
    "duration": 0,
    "start_time": "2023-01-19T19:15:16.929Z"
   },
   {
    "duration": 0,
    "start_time": "2023-01-19T19:15:16.930Z"
   },
   {
    "duration": 0,
    "start_time": "2023-01-19T19:15:16.931Z"
   },
   {
    "duration": 0,
    "start_time": "2023-01-19T19:15:16.932Z"
   },
   {
    "duration": 0,
    "start_time": "2023-01-19T19:15:16.992Z"
   },
   {
    "duration": 0,
    "start_time": "2023-01-19T19:15:16.994Z"
   },
   {
    "duration": 0,
    "start_time": "2023-01-19T19:15:16.995Z"
   },
   {
    "duration": 0,
    "start_time": "2023-01-19T19:15:16.996Z"
   },
   {
    "duration": 0,
    "start_time": "2023-01-19T19:15:16.998Z"
   },
   {
    "duration": 0,
    "start_time": "2023-01-19T19:15:16.999Z"
   },
   {
    "duration": 0,
    "start_time": "2023-01-19T19:15:17.001Z"
   },
   {
    "duration": 0,
    "start_time": "2023-01-19T19:15:17.002Z"
   },
   {
    "duration": 0,
    "start_time": "2023-01-19T19:15:17.003Z"
   },
   {
    "duration": 0,
    "start_time": "2023-01-19T19:15:17.005Z"
   },
   {
    "duration": 0,
    "start_time": "2023-01-19T19:15:17.005Z"
   },
   {
    "duration": 0,
    "start_time": "2023-01-19T19:15:17.006Z"
   },
   {
    "duration": 0,
    "start_time": "2023-01-19T19:15:17.008Z"
   },
   {
    "duration": 0,
    "start_time": "2023-01-19T19:15:17.009Z"
   },
   {
    "duration": 0,
    "start_time": "2023-01-19T19:15:17.010Z"
   },
   {
    "duration": 0,
    "start_time": "2023-01-19T19:15:17.011Z"
   },
   {
    "duration": 0,
    "start_time": "2023-01-19T19:15:17.012Z"
   },
   {
    "duration": 0,
    "start_time": "2023-01-19T19:15:17.013Z"
   },
   {
    "duration": 0,
    "start_time": "2023-01-19T19:15:17.014Z"
   },
   {
    "duration": 0,
    "start_time": "2023-01-19T19:15:17.015Z"
   },
   {
    "duration": 0,
    "start_time": "2023-01-19T19:15:17.017Z"
   },
   {
    "duration": 0,
    "start_time": "2023-01-19T19:15:17.018Z"
   },
   {
    "duration": 0,
    "start_time": "2023-01-19T19:15:17.019Z"
   },
   {
    "duration": 0,
    "start_time": "2023-01-19T19:15:17.020Z"
   },
   {
    "duration": 0,
    "start_time": "2023-01-19T19:15:17.022Z"
   },
   {
    "duration": 0,
    "start_time": "2023-01-19T19:15:17.023Z"
   },
   {
    "duration": 0,
    "start_time": "2023-01-19T19:15:17.024Z"
   },
   {
    "duration": 0,
    "start_time": "2023-01-19T19:15:17.025Z"
   },
   {
    "duration": 0,
    "start_time": "2023-01-19T19:15:17.026Z"
   },
   {
    "duration": 0,
    "start_time": "2023-01-19T19:15:17.028Z"
   },
   {
    "duration": 0,
    "start_time": "2023-01-19T19:15:17.028Z"
   },
   {
    "duration": 0,
    "start_time": "2023-01-19T19:15:17.029Z"
   },
   {
    "duration": 0,
    "start_time": "2023-01-19T19:15:17.030Z"
   },
   {
    "duration": 0,
    "start_time": "2023-01-19T19:15:17.031Z"
   },
   {
    "duration": 0,
    "start_time": "2023-01-19T19:15:17.092Z"
   },
   {
    "duration": 0,
    "start_time": "2023-01-19T19:15:17.093Z"
   },
   {
    "duration": 1054,
    "start_time": "2023-01-19T19:15:31.172Z"
   },
   {
    "duration": 804,
    "start_time": "2023-01-19T19:15:34.819Z"
   },
   {
    "duration": 14,
    "start_time": "2023-01-19T19:15:35.625Z"
   },
   {
    "duration": 25,
    "start_time": "2023-01-19T19:15:35.640Z"
   },
   {
    "duration": 7,
    "start_time": "2023-01-19T19:15:35.667Z"
   },
   {
    "duration": 25,
    "start_time": "2023-01-19T19:15:35.675Z"
   },
   {
    "duration": 13,
    "start_time": "2023-01-19T19:15:35.701Z"
   },
   {
    "duration": 18,
    "start_time": "2023-01-19T19:15:35.716Z"
   },
   {
    "duration": 5,
    "start_time": "2023-01-19T19:15:35.736Z"
   },
   {
    "duration": 8,
    "start_time": "2023-01-19T19:15:35.742Z"
   },
   {
    "duration": 6,
    "start_time": "2023-01-19T19:15:35.752Z"
   },
   {
    "duration": 20,
    "start_time": "2023-01-19T19:15:35.759Z"
   },
   {
    "duration": 15,
    "start_time": "2023-01-19T19:15:35.780Z"
   },
   {
    "duration": 28,
    "start_time": "2023-01-19T19:15:35.796Z"
   },
   {
    "duration": 692,
    "start_time": "2023-01-19T19:15:35.826Z"
   },
   {
    "duration": 15,
    "start_time": "2023-01-19T19:15:36.519Z"
   },
   {
    "duration": 5,
    "start_time": "2023-01-19T19:15:36.536Z"
   },
   {
    "duration": 20,
    "start_time": "2023-01-19T19:15:36.542Z"
   },
   {
    "duration": 938,
    "start_time": "2023-01-19T19:15:36.563Z"
   },
   {
    "duration": 2013,
    "start_time": "2023-01-19T19:15:37.503Z"
   },
   {
    "duration": 29,
    "start_time": "2023-01-19T19:15:39.518Z"
   },
   {
    "duration": 476,
    "start_time": "2023-01-19T19:15:39.549Z"
   },
   {
    "duration": 1112,
    "start_time": "2023-01-19T19:15:40.027Z"
   },
   {
    "duration": 6,
    "start_time": "2023-01-19T19:15:41.141Z"
   },
   {
    "duration": 1960,
    "start_time": "2023-01-19T19:15:41.149Z"
   },
   {
    "duration": 629,
    "start_time": "2023-01-19T19:15:43.111Z"
   },
   {
    "duration": 10,
    "start_time": "2023-01-19T19:15:43.741Z"
   },
   {
    "duration": 11,
    "start_time": "2023-01-19T19:15:43.753Z"
   },
   {
    "duration": 4,
    "start_time": "2023-01-19T19:15:43.767Z"
   },
   {
    "duration": 3,
    "start_time": "2023-01-19T19:15:43.793Z"
   },
   {
    "duration": 23,
    "start_time": "2023-01-19T19:15:43.798Z"
   },
   {
    "duration": 12,
    "start_time": "2023-01-19T19:15:43.824Z"
   },
   {
    "duration": 6912,
    "start_time": "2023-01-19T19:15:43.837Z"
   },
   {
    "duration": 16,
    "start_time": "2023-01-19T19:15:50.751Z"
   },
   {
    "duration": 484,
    "start_time": "2023-01-19T19:15:50.769Z"
   },
   {
    "duration": 14,
    "start_time": "2023-01-19T19:15:51.254Z"
   },
   {
    "duration": 336,
    "start_time": "2023-01-19T19:15:51.270Z"
   },
   {
    "duration": 13,
    "start_time": "2023-01-19T19:15:51.609Z"
   },
   {
    "duration": 394,
    "start_time": "2023-01-19T19:15:51.624Z"
   },
   {
    "duration": 12,
    "start_time": "2023-01-19T19:15:52.020Z"
   },
   {
    "duration": 305,
    "start_time": "2023-01-19T19:15:52.034Z"
   },
   {
    "duration": 11,
    "start_time": "2023-01-19T19:15:52.340Z"
   },
   {
    "duration": 11,
    "start_time": "2023-01-19T19:15:52.352Z"
   },
   {
    "duration": 297,
    "start_time": "2023-01-19T19:15:52.365Z"
   },
   {
    "duration": 29,
    "start_time": "2023-01-19T19:15:52.663Z"
   },
   {
    "duration": 268,
    "start_time": "2023-01-19T19:15:52.694Z"
   },
   {
    "duration": 10,
    "start_time": "2023-01-19T19:15:52.964Z"
   },
   {
    "duration": 262,
    "start_time": "2023-01-19T19:15:52.975Z"
   },
   {
    "duration": 10,
    "start_time": "2023-01-19T19:15:53.240Z"
   },
   {
    "duration": 14,
    "start_time": "2023-01-19T19:15:53.252Z"
   },
   {
    "duration": 326,
    "start_time": "2023-01-19T19:15:53.268Z"
   },
   {
    "duration": 7,
    "start_time": "2023-01-19T19:15:53.595Z"
   },
   {
    "duration": 15,
    "start_time": "2023-01-19T19:15:53.604Z"
   },
   {
    "duration": 2034,
    "start_time": "2023-01-19T19:15:53.621Z"
   },
   {
    "duration": 1059,
    "start_time": "2023-01-19T19:15:55.657Z"
   },
   {
    "duration": 2721,
    "start_time": "2023-01-19T19:15:56.717Z"
   },
   {
    "duration": 2614,
    "start_time": "2023-01-19T19:15:59.440Z"
   },
   {
    "duration": 9,
    "start_time": "2023-01-19T19:16:02.056Z"
   },
   {
    "duration": 145,
    "start_time": "2023-01-19T19:16:02.066Z"
   },
   {
    "duration": 140,
    "start_time": "2023-01-19T19:16:02.213Z"
   },
   {
    "duration": 5,
    "start_time": "2023-01-19T19:16:02.355Z"
   },
   {
    "duration": 13,
    "start_time": "2023-01-19T19:16:02.361Z"
   },
   {
    "duration": 149,
    "start_time": "2023-01-19T19:16:02.376Z"
   },
   {
    "duration": 160,
    "start_time": "2023-01-19T19:16:02.527Z"
   },
   {
    "duration": 5,
    "start_time": "2023-01-19T19:16:02.691Z"
   },
   {
    "duration": 232,
    "start_time": "2023-01-19T19:16:02.698Z"
   },
   {
    "duration": 198,
    "start_time": "2023-01-19T19:16:02.933Z"
   },
   {
    "duration": 238,
    "start_time": "2023-01-19T19:16:03.132Z"
   },
   {
    "duration": 202,
    "start_time": "2023-01-19T19:16:03.371Z"
   },
   {
    "duration": 319,
    "start_time": "2023-01-19T19:16:03.574Z"
   },
   {
    "duration": 141,
    "start_time": "2023-01-19T19:16:03.896Z"
   },
   {
    "duration": 586,
    "start_time": "2023-01-19T19:18:19.921Z"
   },
   {
    "duration": 586,
    "start_time": "2023-01-19T19:18:41.118Z"
   },
   {
    "duration": 664,
    "start_time": "2023-01-19T19:19:23.164Z"
   },
   {
    "duration": 25,
    "start_time": "2023-01-19T19:20:24.528Z"
   },
   {
    "duration": 652,
    "start_time": "2023-01-19T19:20:42.224Z"
   },
   {
    "duration": 75,
    "start_time": "2023-01-25T07:45:38.511Z"
   },
   {
    "duration": 3873,
    "start_time": "2023-01-25T07:55:21.925Z"
   },
   {
    "duration": 2938,
    "start_time": "2023-01-25T07:55:25.800Z"
   },
   {
    "duration": 2165,
    "start_time": "2023-01-25T07:55:28.740Z"
   },
   {
    "duration": 1345,
    "start_time": "2023-01-25T07:55:30.907Z"
   },
   {
    "duration": 20,
    "start_time": "2023-01-25T07:55:32.254Z"
   },
   {
    "duration": 27,
    "start_time": "2023-01-25T07:55:32.279Z"
   },
   {
    "duration": 13,
    "start_time": "2023-01-25T07:55:32.308Z"
   },
   {
    "duration": 9,
    "start_time": "2023-01-25T07:55:32.322Z"
   },
   {
    "duration": 8,
    "start_time": "2023-01-25T07:55:32.332Z"
   },
   {
    "duration": 7,
    "start_time": "2023-01-25T07:55:32.343Z"
   },
   {
    "duration": 19,
    "start_time": "2023-01-25T07:55:32.368Z"
   },
   {
    "duration": 11,
    "start_time": "2023-01-25T07:55:32.388Z"
   },
   {
    "duration": 6,
    "start_time": "2023-01-25T07:55:32.401Z"
   },
   {
    "duration": 10,
    "start_time": "2023-01-25T07:55:32.409Z"
   },
   {
    "duration": 16,
    "start_time": "2023-01-25T07:55:32.420Z"
   },
   {
    "duration": 17,
    "start_time": "2023-01-25T07:55:32.438Z"
   },
   {
    "duration": 7,
    "start_time": "2023-01-25T07:55:32.471Z"
   },
   {
    "duration": 658,
    "start_time": "2023-01-25T07:55:32.483Z"
   },
   {
    "duration": 25,
    "start_time": "2023-01-25T07:55:33.144Z"
   },
   {
    "duration": 18,
    "start_time": "2023-01-25T07:55:33.171Z"
   },
   {
    "duration": 17,
    "start_time": "2023-01-25T07:55:33.191Z"
   },
   {
    "duration": 116,
    "start_time": "2023-01-25T07:55:33.209Z"
   },
   {
    "duration": 11,
    "start_time": "2023-01-25T07:55:46.891Z"
   },
   {
    "duration": 28,
    "start_time": "2023-01-25T07:55:55.850Z"
   },
   {
    "duration": 6,
    "start_time": "2023-01-25T08:06:40.339Z"
   },
   {
    "duration": 58,
    "start_time": "2023-01-25T08:07:40.451Z"
   },
   {
    "duration": 58,
    "start_time": "2023-01-25T08:33:29.531Z"
   },
   {
    "duration": 2393,
    "start_time": "2023-01-25T08:41:55.530Z"
   },
   {
    "duration": 2271,
    "start_time": "2023-01-25T08:41:57.925Z"
   },
   {
    "duration": 1866,
    "start_time": "2023-01-25T08:42:00.198Z"
   },
   {
    "duration": 1205,
    "start_time": "2023-01-25T08:42:02.067Z"
   },
   {
    "duration": 22,
    "start_time": "2023-01-25T08:42:03.274Z"
   },
   {
    "duration": 14,
    "start_time": "2023-01-25T08:42:03.298Z"
   },
   {
    "duration": 18,
    "start_time": "2023-01-25T08:42:03.313Z"
   },
   {
    "duration": 9,
    "start_time": "2023-01-25T08:42:03.333Z"
   },
   {
    "duration": 30,
    "start_time": "2023-01-25T08:42:03.343Z"
   },
   {
    "duration": 21,
    "start_time": "2023-01-25T08:42:03.378Z"
   },
   {
    "duration": 16,
    "start_time": "2023-01-25T08:42:03.401Z"
   },
   {
    "duration": 6,
    "start_time": "2023-01-25T08:42:03.419Z"
   },
   {
    "duration": 7,
    "start_time": "2023-01-25T08:42:03.427Z"
   },
   {
    "duration": 9,
    "start_time": "2023-01-25T08:42:03.436Z"
   },
   {
    "duration": 11,
    "start_time": "2023-01-25T08:42:03.467Z"
   },
   {
    "duration": 12,
    "start_time": "2023-01-25T08:42:03.480Z"
   },
   {
    "duration": 9,
    "start_time": "2023-01-25T08:42:03.494Z"
   },
   {
    "duration": 695,
    "start_time": "2023-01-25T08:42:03.504Z"
   },
   {
    "duration": 17,
    "start_time": "2023-01-25T08:42:04.201Z"
   },
   {
    "duration": 10,
    "start_time": "2023-01-25T08:42:04.220Z"
   },
   {
    "duration": 41,
    "start_time": "2023-01-25T08:42:04.231Z"
   },
   {
    "duration": 115,
    "start_time": "2023-01-25T08:42:04.273Z"
   },
   {
    "duration": 1109,
    "start_time": "2023-01-25T08:42:04.389Z"
   },
   {
    "duration": 218,
    "start_time": "2023-01-25T08:42:05.500Z"
   },
   {
    "duration": 5,
    "start_time": "2023-01-25T08:42:05.721Z"
   },
   {
    "duration": 172,
    "start_time": "2023-01-25T08:42:05.728Z"
   },
   {
    "duration": 8,
    "start_time": "2023-01-25T08:42:05.902Z"
   },
   {
    "duration": 9,
    "start_time": "2023-01-25T08:42:05.914Z"
   },
   {
    "duration": 180,
    "start_time": "2023-01-25T08:42:05.925Z"
   },
   {
    "duration": 7,
    "start_time": "2023-01-25T08:42:06.106Z"
   },
   {
    "duration": 17,
    "start_time": "2023-01-25T08:42:06.114Z"
   },
   {
    "duration": 137,
    "start_time": "2023-01-25T08:42:06.132Z"
   },
   {
    "duration": 175,
    "start_time": "2023-01-25T08:42:06.270Z"
   },
   {
    "duration": 6,
    "start_time": "2023-01-25T08:42:06.447Z"
   },
   {
    "duration": 152,
    "start_time": "2023-01-25T08:42:06.454Z"
   },
   {
    "duration": 89,
    "start_time": "2023-01-25T08:42:06.608Z"
   },
   {
    "duration": 102,
    "start_time": "2023-01-25T08:42:06.699Z"
   },
   {
    "duration": 583,
    "start_time": "2023-01-25T08:42:06.803Z"
   },
   {
    "duration": 1230,
    "start_time": "2023-01-25T08:42:07.388Z"
   },
   {
    "duration": 6,
    "start_time": "2023-01-25T08:42:08.620Z"
   },
   {
    "duration": 34,
    "start_time": "2023-01-25T08:42:08.628Z"
   },
   {
    "duration": 63,
    "start_time": "2023-01-25T08:42:08.664Z"
   },
   {
    "duration": 50,
    "start_time": "2023-01-25T08:42:08.729Z"
   },
   {
    "duration": 21,
    "start_time": "2023-01-25T08:42:08.783Z"
   },
   {
    "duration": 33,
    "start_time": "2023-01-25T08:42:08.805Z"
   },
   {
    "duration": 25,
    "start_time": "2023-01-25T08:42:08.840Z"
   },
   {
    "duration": 36,
    "start_time": "2023-01-25T08:42:08.867Z"
   },
   {
    "duration": 27,
    "start_time": "2023-01-25T08:42:08.905Z"
   },
   {
    "duration": 30,
    "start_time": "2023-01-25T08:42:08.934Z"
   },
   {
    "duration": 35,
    "start_time": "2023-01-25T08:42:08.966Z"
   },
   {
    "duration": 34,
    "start_time": "2023-01-25T08:42:09.003Z"
   },
   {
    "duration": 14,
    "start_time": "2023-01-25T08:42:09.038Z"
   },
   {
    "duration": 21,
    "start_time": "2023-01-25T08:42:09.054Z"
   },
   {
    "duration": 17,
    "start_time": "2023-01-25T08:42:09.079Z"
   },
   {
    "duration": 4,
    "start_time": "2023-01-25T08:42:09.098Z"
   },
   {
    "duration": 19,
    "start_time": "2023-01-25T08:42:09.103Z"
   },
   {
    "duration": 10,
    "start_time": "2023-01-25T08:42:09.123Z"
   },
   {
    "duration": 7966,
    "start_time": "2023-01-25T08:42:09.135Z"
   },
   {
    "duration": 12,
    "start_time": "2023-01-25T08:42:17.103Z"
   },
   {
    "duration": 485,
    "start_time": "2023-01-25T08:42:17.117Z"
   },
   {
    "duration": 11,
    "start_time": "2023-01-25T08:42:17.604Z"
   },
   {
    "duration": 333,
    "start_time": "2023-01-25T08:42:17.617Z"
   },
   {
    "duration": 29,
    "start_time": "2023-01-25T08:42:17.952Z"
   },
   {
    "duration": 310,
    "start_time": "2023-01-25T08:42:17.983Z"
   },
   {
    "duration": 10,
    "start_time": "2023-01-25T08:42:18.294Z"
   },
   {
    "duration": 303,
    "start_time": "2023-01-25T08:42:18.305Z"
   },
   {
    "duration": 173,
    "start_time": "2023-01-25T08:42:18.609Z"
   },
   {
    "duration": 10,
    "start_time": "2023-01-25T08:42:18.784Z"
   },
   {
    "duration": 12,
    "start_time": "2023-01-25T08:42:18.796Z"
   },
   {
    "duration": 14,
    "start_time": "2023-01-25T08:42:18.809Z"
   },
   {
    "duration": 218,
    "start_time": "2023-01-25T08:42:18.825Z"
   },
   {
    "duration": 11,
    "start_time": "2023-01-25T08:42:19.045Z"
   },
   {
    "duration": 21,
    "start_time": "2023-01-25T08:42:19.066Z"
   },
   {
    "duration": 246,
    "start_time": "2023-01-25T08:42:19.090Z"
   },
   {
    "duration": 14,
    "start_time": "2023-01-25T08:42:19.339Z"
   },
   {
    "duration": 251,
    "start_time": "2023-01-25T08:42:19.367Z"
   },
   {
    "duration": 225,
    "start_time": "2023-01-25T08:42:19.619Z"
   },
   {
    "duration": 480,
    "start_time": "2023-01-25T08:42:19.846Z"
   },
   {
    "duration": 12,
    "start_time": "2023-01-25T08:42:20.328Z"
   },
   {
    "duration": 426,
    "start_time": "2023-01-25T08:42:20.342Z"
   },
   {
    "duration": 153,
    "start_time": "2023-01-25T08:42:20.774Z"
   },
   {
    "duration": 216,
    "start_time": "2023-01-25T08:42:20.933Z"
   },
   {
    "duration": 35,
    "start_time": "2023-01-25T08:42:21.151Z"
   },
   {
    "duration": 18,
    "start_time": "2023-01-25T08:42:21.188Z"
   },
   {
    "duration": 2478,
    "start_time": "2023-01-25T08:42:21.208Z"
   },
   {
    "duration": 936,
    "start_time": "2023-01-25T08:42:23.688Z"
   },
   {
    "duration": 3189,
    "start_time": "2023-01-25T08:42:24.626Z"
   },
   {
    "duration": 2976,
    "start_time": "2023-01-25T08:42:27.817Z"
   },
   {
    "duration": 7,
    "start_time": "2023-01-25T08:42:30.795Z"
   },
   {
    "duration": 220,
    "start_time": "2023-01-25T08:42:30.804Z"
   },
   {
    "duration": 194,
    "start_time": "2023-01-25T08:42:31.027Z"
   },
   {
    "duration": 7,
    "start_time": "2023-01-25T08:42:31.222Z"
   },
   {
    "duration": 23,
    "start_time": "2023-01-25T08:42:31.230Z"
   },
   {
    "duration": 30,
    "start_time": "2023-01-25T08:42:31.255Z"
   },
   {
    "duration": 172,
    "start_time": "2023-01-25T08:42:31.287Z"
   },
   {
    "duration": 181,
    "start_time": "2023-01-25T08:42:31.461Z"
   },
   {
    "duration": 6,
    "start_time": "2023-01-25T08:42:31.644Z"
   },
   {
    "duration": 32,
    "start_time": "2023-01-25T08:42:31.652Z"
   },
   {
    "duration": 230,
    "start_time": "2023-01-25T08:42:31.686Z"
   },
   {
    "duration": 207,
    "start_time": "2023-01-25T08:42:31.918Z"
   },
   {
    "duration": 258,
    "start_time": "2023-01-25T08:42:32.127Z"
   },
   {
    "duration": 10,
    "start_time": "2023-01-25T08:42:32.387Z"
   },
   {
    "duration": 213,
    "start_time": "2023-01-25T08:42:32.399Z"
   },
   {
    "duration": 11,
    "start_time": "2023-01-25T08:42:32.614Z"
   },
   {
    "duration": 213,
    "start_time": "2023-01-25T08:42:32.627Z"
   },
   {
    "duration": 4,
    "start_time": "2023-01-25T08:42:32.842Z"
   },
   {
    "duration": 337,
    "start_time": "2023-01-25T08:42:32.848Z"
   }
  ],
  "kernelspec": {
   "display_name": "Python 3 (ipykernel)",
   "language": "python",
   "name": "python3"
  },
  "language_info": {
   "codemirror_mode": {
    "name": "ipython",
    "version": 3
   },
   "file_extension": ".py",
   "mimetype": "text/x-python",
   "name": "python",
   "nbconvert_exporter": "python",
   "pygments_lexer": "ipython3",
   "version": "3.9.12"
  },
  "toc": {
   "base_numbering": 1,
   "nav_menu": {},
   "number_sections": true,
   "sideBar": true,
   "skip_h1_title": true,
   "title_cell": "Table of Contents",
   "title_sidebar": "Contents",
   "toc_cell": false,
   "toc_position": {},
   "toc_section_display": true,
   "toc_window_display": false
  }
 },
 "nbformat": 4,
 "nbformat_minor": 1
}
