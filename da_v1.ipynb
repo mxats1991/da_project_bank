{
 "cells": [
  {
   "cell_type": "markdown",
   "source": [
    "# Итоговый проект \"Банки — Анализ оттока клиентов\""
   ],
   "metadata": {
    "collapsed": false
   }
  },
  {
   "cell_type": "markdown",
   "source": [
    "### Задача**:**\n",
    "\n",
    "Проанализируйте клиентов регионального банка и выделите сегменты клиентов, которые склонны уходить из банка.\n",
    "\n",
    "- Проведите исследовательский анализ данных,\n",
    "- Выделите портреты клиентов, которые склонны уходить из банка,\n",
    "- Сформулируйте и проверьте статистические гипотезы.\n",
    "\n",
    "    *Проверьте гипотезу различия дохода между теми клиентами, которые ушли и теми, которые остались.*\n",
    "\n",
    "    *Сформулируйте и проверьте статистическую гипотезу относительно представленных данных*\n",
    "\n",
    "\n",
    "(задачи выше сформулированы предварительно, окончательная постановка задачи произойдёт на вводной встрече)\n",
    "\n",
    "### Описание датасетов\n",
    "\n",
    "Датасет содержит данные о клиентах банка «Метанпром». Банк располагается в Ярославле и областных городах: Ростов Великий и Рыбинск.\n",
    "\n",
    "Колонки:\n",
    "\n",
    "- `userid` — идентификатор пользователя,\n",
    "- `score` — баллы кредитного скоринга,\n",
    "- `City` — город,\n",
    "- `Gender` — пол,\n",
    "- `Age` — возраст,\n",
    "- `Objects` — количество объектов в собственности,\n",
    "- `Balance` — баланс на счёте,\n",
    "- `Products` — количество продуктов, которыми пользуется клиент,\n",
    "- `CreditCard` — есть ли кредитная карта,\n",
    "- `Loyalty` — активный клиент,\n",
    "- `estimated_salary` — заработная плата клиента,\n",
    "- `Churn` — ушёл или нет.\n",
    "\n",
    "По итогам исследования подготовьте презентацию. Для создания презентации используйте любой удобный инструмент, но отправить презентацию нужно **обязательно** в формате **pdf,** прикрепив ссылку на файл в основном проекте."
   ],
   "metadata": {
    "collapsed": false
   }
  },
  {
   "cell_type": "code",
   "execution_count": 1239,
   "outputs": [],
   "source": [
    "import pandas as pd\n",
    "import seaborn as sns\n",
    "import matplotlib.pyplot as plt\n",
    "import statsmodels.stats.weightstats\n",
    "from scipy import stats as st\n",
    "import numpy as np\n",
    "import warnings\n",
    "warnings.filterwarnings(\"ignore\")"
   ],
   "metadata": {
    "collapsed": false
   }
  },
  {
   "cell_type": "markdown",
   "source": [
    "## Шаг 1. Загрузка данных и подготовка к исследованию"
   ],
   "metadata": {
    "collapsed": false
   }
  },
  {
   "cell_type": "code",
   "execution_count": 1240,
   "outputs": [],
   "source": [
    "server_path = 'datasets/'\n",
    "local_path = '/datasets/'\n",
    "\n",
    "files = ['bank_dataset.csv', 'bank_scrooge.csv']\n",
    "\n",
    "datasets = []\n",
    "\n",
    "for file in files:\n",
    "    try:\n",
    "        datasets.append(pd.read_csv(server_path + file))\n",
    "    except FileNotFoundError:\n",
    "        datasets.append(pd.read_csv(local_path + file))\n",
    "\n",
    "df_old = datasets[0]\n",
    "\n",
    "path = \"https://drive.google.com/uc?export=download&id=1-U61mhTz_N1ARjy2XSAZ7IlQqGjeqP0F\"\n",
    "df_new = datasets[1]"
   ],
   "metadata": {
    "collapsed": false
   }
  },
  {
   "cell_type": "code",
   "execution_count": 1241,
   "outputs": [
    {
     "data": {
      "text/plain": "   USERID  score       city gender  age  equity     balance  products  \\\n0  183012  850.0    Рыбинск      Ж   25       1    59214.82         2   \n1  146556  861.0    Рыбинск      Ж   37       5   850594.33         3   \n2  120722  892.0    Рыбинск      Ж   30       0         NaN         1   \n3  225363  866.0  Ярославль      Ж   51       5  1524746.26         2   \n4  157978  730.0  Ярославль      М   34       5      174.00         1   \n\n   credit_card  last_activity  EST_SALARY  churn  \n0            0              1    75719.14      1  \n1            1              0    86621.77      0  \n2            1              1   107683.34      0  \n3            0              1   174423.53      1  \n4            1              0    67353.16      1  ",
      "text/html": "<div>\n<style scoped>\n    .dataframe tbody tr th:only-of-type {\n        vertical-align: middle;\n    }\n\n    .dataframe tbody tr th {\n        vertical-align: top;\n    }\n\n    .dataframe thead th {\n        text-align: right;\n    }\n</style>\n<table border=\"1\" class=\"dataframe\">\n  <thead>\n    <tr style=\"text-align: right;\">\n      <th></th>\n      <th>USERID</th>\n      <th>score</th>\n      <th>city</th>\n      <th>gender</th>\n      <th>age</th>\n      <th>equity</th>\n      <th>balance</th>\n      <th>products</th>\n      <th>credit_card</th>\n      <th>last_activity</th>\n      <th>EST_SALARY</th>\n      <th>churn</th>\n    </tr>\n  </thead>\n  <tbody>\n    <tr>\n      <th>0</th>\n      <td>183012</td>\n      <td>850.0</td>\n      <td>Рыбинск</td>\n      <td>Ж</td>\n      <td>25</td>\n      <td>1</td>\n      <td>59214.82</td>\n      <td>2</td>\n      <td>0</td>\n      <td>1</td>\n      <td>75719.14</td>\n      <td>1</td>\n    </tr>\n    <tr>\n      <th>1</th>\n      <td>146556</td>\n      <td>861.0</td>\n      <td>Рыбинск</td>\n      <td>Ж</td>\n      <td>37</td>\n      <td>5</td>\n      <td>850594.33</td>\n      <td>3</td>\n      <td>1</td>\n      <td>0</td>\n      <td>86621.77</td>\n      <td>0</td>\n    </tr>\n    <tr>\n      <th>2</th>\n      <td>120722</td>\n      <td>892.0</td>\n      <td>Рыбинск</td>\n      <td>Ж</td>\n      <td>30</td>\n      <td>0</td>\n      <td>NaN</td>\n      <td>1</td>\n      <td>1</td>\n      <td>1</td>\n      <td>107683.34</td>\n      <td>0</td>\n    </tr>\n    <tr>\n      <th>3</th>\n      <td>225363</td>\n      <td>866.0</td>\n      <td>Ярославль</td>\n      <td>Ж</td>\n      <td>51</td>\n      <td>5</td>\n      <td>1524746.26</td>\n      <td>2</td>\n      <td>0</td>\n      <td>1</td>\n      <td>174423.53</td>\n      <td>1</td>\n    </tr>\n    <tr>\n      <th>4</th>\n      <td>157978</td>\n      <td>730.0</td>\n      <td>Ярославль</td>\n      <td>М</td>\n      <td>34</td>\n      <td>5</td>\n      <td>174.00</td>\n      <td>1</td>\n      <td>1</td>\n      <td>0</td>\n      <td>67353.16</td>\n      <td>1</td>\n    </tr>\n  </tbody>\n</table>\n</div>"
     },
     "execution_count": 1241,
     "metadata": {},
     "output_type": "execute_result"
    }
   ],
   "source": [
    "df = df_new\n",
    "df.head()"
   ],
   "metadata": {
    "collapsed": false
   }
  },
  {
   "cell_type": "code",
   "execution_count": 1242,
   "outputs": [
    {
     "name": "stdout",
     "output_type": "stream",
     "text": [
      "<class 'pandas.core.frame.DataFrame'>\n",
      "RangeIndex: 10000 entries, 0 to 9999\n",
      "Data columns (total 12 columns):\n",
      " #   Column         Non-Null Count  Dtype  \n",
      "---  ------         --------------  -----  \n",
      " 0   USERID         10000 non-null  int64  \n",
      " 1   score          10000 non-null  float64\n",
      " 2   city           10000 non-null  object \n",
      " 3   gender         10000 non-null  object \n",
      " 4   age            10000 non-null  int64  \n",
      " 5   equity         10000 non-null  int64  \n",
      " 6   balance        7705 non-null   float64\n",
      " 7   products       10000 non-null  int64  \n",
      " 8   credit_card    10000 non-null  int64  \n",
      " 9   last_activity  10000 non-null  int64  \n",
      " 10  EST_SALARY     10000 non-null  float64\n",
      " 11  churn          10000 non-null  int64  \n",
      "dtypes: float64(3), int64(7), object(2)\n",
      "memory usage: 937.6+ KB\n"
     ]
    }
   ],
   "source": [
    "df.info()"
   ],
   "metadata": {
    "collapsed": false
   }
  },
  {
   "cell_type": "markdown",
   "source": [
    "Вывод: из данных видно, что есть пропуски в столбце: balance. Столбцы приведены к правильным типам данных."
   ],
   "metadata": {
    "collapsed": false
   }
  },
  {
   "cell_type": "markdown",
   "source": [
    "## Шаг 2. Подготовка данных (анализ пропусков) и их кодирование"
   ],
   "metadata": {
    "collapsed": false
   }
  },
  {
   "cell_type": "markdown",
   "source": [
    "### 2.1 Привести название столбцов к строчному регистру"
   ],
   "metadata": {
    "collapsed": false
   }
  },
  {
   "cell_type": "code",
   "execution_count": 1243,
   "outputs": [
    {
     "data": {
      "text/plain": "   userid  score       city gender  age  equity     balance  products  \\\n0  183012  850.0    Рыбинск      Ж   25       1    59214.82         2   \n1  146556  861.0    Рыбинск      Ж   37       5   850594.33         3   \n2  120722  892.0    Рыбинск      Ж   30       0         NaN         1   \n3  225363  866.0  Ярославль      Ж   51       5  1524746.26         2   \n4  157978  730.0  Ярославль      М   34       5      174.00         1   \n\n   credit_card  last_activity  est_salary  churn  \n0            0              1    75719.14      1  \n1            1              0    86621.77      0  \n2            1              1   107683.34      0  \n3            0              1   174423.53      1  \n4            1              0    67353.16      1  ",
      "text/html": "<div>\n<style scoped>\n    .dataframe tbody tr th:only-of-type {\n        vertical-align: middle;\n    }\n\n    .dataframe tbody tr th {\n        vertical-align: top;\n    }\n\n    .dataframe thead th {\n        text-align: right;\n    }\n</style>\n<table border=\"1\" class=\"dataframe\">\n  <thead>\n    <tr style=\"text-align: right;\">\n      <th></th>\n      <th>userid</th>\n      <th>score</th>\n      <th>city</th>\n      <th>gender</th>\n      <th>age</th>\n      <th>equity</th>\n      <th>balance</th>\n      <th>products</th>\n      <th>credit_card</th>\n      <th>last_activity</th>\n      <th>est_salary</th>\n      <th>churn</th>\n    </tr>\n  </thead>\n  <tbody>\n    <tr>\n      <th>0</th>\n      <td>183012</td>\n      <td>850.0</td>\n      <td>Рыбинск</td>\n      <td>Ж</td>\n      <td>25</td>\n      <td>1</td>\n      <td>59214.82</td>\n      <td>2</td>\n      <td>0</td>\n      <td>1</td>\n      <td>75719.14</td>\n      <td>1</td>\n    </tr>\n    <tr>\n      <th>1</th>\n      <td>146556</td>\n      <td>861.0</td>\n      <td>Рыбинск</td>\n      <td>Ж</td>\n      <td>37</td>\n      <td>5</td>\n      <td>850594.33</td>\n      <td>3</td>\n      <td>1</td>\n      <td>0</td>\n      <td>86621.77</td>\n      <td>0</td>\n    </tr>\n    <tr>\n      <th>2</th>\n      <td>120722</td>\n      <td>892.0</td>\n      <td>Рыбинск</td>\n      <td>Ж</td>\n      <td>30</td>\n      <td>0</td>\n      <td>NaN</td>\n      <td>1</td>\n      <td>1</td>\n      <td>1</td>\n      <td>107683.34</td>\n      <td>0</td>\n    </tr>\n    <tr>\n      <th>3</th>\n      <td>225363</td>\n      <td>866.0</td>\n      <td>Ярославль</td>\n      <td>Ж</td>\n      <td>51</td>\n      <td>5</td>\n      <td>1524746.26</td>\n      <td>2</td>\n      <td>0</td>\n      <td>1</td>\n      <td>174423.53</td>\n      <td>1</td>\n    </tr>\n    <tr>\n      <th>4</th>\n      <td>157978</td>\n      <td>730.0</td>\n      <td>Ярославль</td>\n      <td>М</td>\n      <td>34</td>\n      <td>5</td>\n      <td>174.00</td>\n      <td>1</td>\n      <td>1</td>\n      <td>0</td>\n      <td>67353.16</td>\n      <td>1</td>\n    </tr>\n  </tbody>\n</table>\n</div>"
     },
     "execution_count": 1243,
     "metadata": {},
     "output_type": "execute_result"
    }
   ],
   "source": [
    "df.columns = [i.lower() for i in df.columns]\n",
    "df.head()"
   ],
   "metadata": {
    "collapsed": false
   }
  },
  {
   "cell_type": "markdown",
   "source": [
    "### 2.2 Проверить на пропуски данных и решить что с пропусками делать"
   ],
   "metadata": {
    "collapsed": false
   }
  },
  {
   "cell_type": "code",
   "execution_count": 1244,
   "outputs": [
    {
     "data": {
      "text/plain": "0      59214.82\n1     850594.33\n2           NaN\n3    1524746.26\n4        174.00\nName: balance, dtype: float64"
     },
     "execution_count": 1244,
     "metadata": {},
     "output_type": "execute_result"
    }
   ],
   "source": [
    "df['balance'].head()"
   ],
   "metadata": {
    "collapsed": false
   }
  },
  {
   "cell_type": "code",
   "execution_count": 1245,
   "outputs": [
    {
     "data": {
      "text/plain": "2295"
     },
     "execution_count": 1245,
     "metadata": {},
     "output_type": "execute_result"
    }
   ],
   "source": [
    "len(df[df['balance'].isna()])"
   ],
   "metadata": {
    "collapsed": false
   }
  },
  {
   "cell_type": "code",
   "execution_count": 1246,
   "outputs": [
    {
     "data": {
      "text/plain": "0.2295"
     },
     "execution_count": 1246,
     "metadata": {},
     "output_type": "execute_result"
    }
   ],
   "source": [
    "len(df[df['balance'].isna()])/len(df)"
   ],
   "metadata": {
    "collapsed": false
   }
  },
  {
   "cell_type": "markdown",
   "source": [
    "Вывод: из полученных данных видим, что пропуски в столбце составляют 23%"
   ],
   "metadata": {
    "collapsed": false
   }
  },
  {
   "cell_type": "code",
   "execution_count": 1247,
   "outputs": [
    {
     "data": {
      "text/plain": "    userid  score       city gender  age  equity  balance  products  \\\n2   120722  892.0    Рыбинск      Ж   30       0      NaN         1   \n9   133130  906.0  Ярославль      Ж   67       0      NaN         1   \n10  148929  927.0     Ростов      М   52       0      NaN         1   \n11  172184  921.0     Ростов      М   41       0      NaN         1   \n19  127034  922.0    Рыбинск      Ж   53       0      NaN         1   \n21  177415  896.0    Рыбинск      Ж   47       0      NaN         1   \n30  155730  946.0  Ярославль      Ж   47       0      NaN         2   \n34  205226  944.0  Ярославль      М   35       0      NaN         2   \n39  173175  924.0    Рыбинск      Ж   51       0      NaN         1   \n43  228585  956.0     Ростов      М   41       0      NaN         1   \n\n    credit_card  last_activity  est_salary  churn  \n2             1              1   107683.34      0  \n9             0              1   238055.53      0  \n10            1              1   196820.07      0  \n11            1              1   217469.48      0  \n19            0              0   147094.82      0  \n21            0              0   225060.35      0  \n30            1              1   660015.85      0  \n34            1              1   239843.39      0  \n39            1              1   248844.47      0  \n43            1              0   115117.10      0  ",
      "text/html": "<div>\n<style scoped>\n    .dataframe tbody tr th:only-of-type {\n        vertical-align: middle;\n    }\n\n    .dataframe tbody tr th {\n        vertical-align: top;\n    }\n\n    .dataframe thead th {\n        text-align: right;\n    }\n</style>\n<table border=\"1\" class=\"dataframe\">\n  <thead>\n    <tr style=\"text-align: right;\">\n      <th></th>\n      <th>userid</th>\n      <th>score</th>\n      <th>city</th>\n      <th>gender</th>\n      <th>age</th>\n      <th>equity</th>\n      <th>balance</th>\n      <th>products</th>\n      <th>credit_card</th>\n      <th>last_activity</th>\n      <th>est_salary</th>\n      <th>churn</th>\n    </tr>\n  </thead>\n  <tbody>\n    <tr>\n      <th>2</th>\n      <td>120722</td>\n      <td>892.0</td>\n      <td>Рыбинск</td>\n      <td>Ж</td>\n      <td>30</td>\n      <td>0</td>\n      <td>NaN</td>\n      <td>1</td>\n      <td>1</td>\n      <td>1</td>\n      <td>107683.34</td>\n      <td>0</td>\n    </tr>\n    <tr>\n      <th>9</th>\n      <td>133130</td>\n      <td>906.0</td>\n      <td>Ярославль</td>\n      <td>Ж</td>\n      <td>67</td>\n      <td>0</td>\n      <td>NaN</td>\n      <td>1</td>\n      <td>0</td>\n      <td>1</td>\n      <td>238055.53</td>\n      <td>0</td>\n    </tr>\n    <tr>\n      <th>10</th>\n      <td>148929</td>\n      <td>927.0</td>\n      <td>Ростов</td>\n      <td>М</td>\n      <td>52</td>\n      <td>0</td>\n      <td>NaN</td>\n      <td>1</td>\n      <td>1</td>\n      <td>1</td>\n      <td>196820.07</td>\n      <td>0</td>\n    </tr>\n    <tr>\n      <th>11</th>\n      <td>172184</td>\n      <td>921.0</td>\n      <td>Ростов</td>\n      <td>М</td>\n      <td>41</td>\n      <td>0</td>\n      <td>NaN</td>\n      <td>1</td>\n      <td>1</td>\n      <td>1</td>\n      <td>217469.48</td>\n      <td>0</td>\n    </tr>\n    <tr>\n      <th>19</th>\n      <td>127034</td>\n      <td>922.0</td>\n      <td>Рыбинск</td>\n      <td>Ж</td>\n      <td>53</td>\n      <td>0</td>\n      <td>NaN</td>\n      <td>1</td>\n      <td>0</td>\n      <td>0</td>\n      <td>147094.82</td>\n      <td>0</td>\n    </tr>\n    <tr>\n      <th>21</th>\n      <td>177415</td>\n      <td>896.0</td>\n      <td>Рыбинск</td>\n      <td>Ж</td>\n      <td>47</td>\n      <td>0</td>\n      <td>NaN</td>\n      <td>1</td>\n      <td>0</td>\n      <td>0</td>\n      <td>225060.35</td>\n      <td>0</td>\n    </tr>\n    <tr>\n      <th>30</th>\n      <td>155730</td>\n      <td>946.0</td>\n      <td>Ярославль</td>\n      <td>Ж</td>\n      <td>47</td>\n      <td>0</td>\n      <td>NaN</td>\n      <td>2</td>\n      <td>1</td>\n      <td>1</td>\n      <td>660015.85</td>\n      <td>0</td>\n    </tr>\n    <tr>\n      <th>34</th>\n      <td>205226</td>\n      <td>944.0</td>\n      <td>Ярославль</td>\n      <td>М</td>\n      <td>35</td>\n      <td>0</td>\n      <td>NaN</td>\n      <td>2</td>\n      <td>1</td>\n      <td>1</td>\n      <td>239843.39</td>\n      <td>0</td>\n    </tr>\n    <tr>\n      <th>39</th>\n      <td>173175</td>\n      <td>924.0</td>\n      <td>Рыбинск</td>\n      <td>Ж</td>\n      <td>51</td>\n      <td>0</td>\n      <td>NaN</td>\n      <td>1</td>\n      <td>1</td>\n      <td>1</td>\n      <td>248844.47</td>\n      <td>0</td>\n    </tr>\n    <tr>\n      <th>43</th>\n      <td>228585</td>\n      <td>956.0</td>\n      <td>Ростов</td>\n      <td>М</td>\n      <td>41</td>\n      <td>0</td>\n      <td>NaN</td>\n      <td>1</td>\n      <td>1</td>\n      <td>0</td>\n      <td>115117.10</td>\n      <td>0</td>\n    </tr>\n  </tbody>\n</table>\n</div>"
     },
     "execution_count": 1247,
     "metadata": {},
     "output_type": "execute_result"
    }
   ],
   "source": [
    "df[df['balance'].isna() == True].head(10)"
   ],
   "metadata": {
    "collapsed": false
   }
  },
  {
   "cell_type": "code",
   "execution_count": 1248,
   "outputs": [
    {
     "data": {
      "text/plain": "13"
     },
     "execution_count": 1248,
     "metadata": {},
     "output_type": "execute_result"
    }
   ],
   "source": [
    "len(df[(df['balance'].isna() == True) & (df['churn'] == 1)])"
   ],
   "metadata": {
    "collapsed": false
   }
  },
  {
   "cell_type": "code",
   "execution_count": 1249,
   "outputs": [
    {
     "data": {
      "text/plain": "2282"
     },
     "execution_count": 1249,
     "metadata": {},
     "output_type": "execute_result"
    }
   ],
   "source": [
    "len(df[(df['balance'].isna() == True) & (df['churn'] == 0)])"
   ],
   "metadata": {
    "collapsed": false
   }
  },
  {
   "cell_type": "code",
   "execution_count": 1250,
   "outputs": [
    {
     "data": {
      "text/plain": "2"
     },
     "execution_count": 1250,
     "metadata": {},
     "output_type": "execute_result"
    }
   ],
   "source": [
    "len(df[df['balance'] == 0])"
   ],
   "metadata": {
    "collapsed": false
   }
  },
  {
   "cell_type": "code",
   "execution_count": 1251,
   "outputs": [
    {
     "data": {
      "text/plain": "1872"
     },
     "execution_count": 1251,
     "metadata": {},
     "output_type": "execute_result"
    }
   ],
   "source": [
    "len(df[(df['balance'].isna() == True) & (df['credit_card'] == 1)])"
   ],
   "metadata": {
    "collapsed": false
   }
  },
  {
   "cell_type": "code",
   "execution_count": 1252,
   "outputs": [
    {
     "data": {
      "text/plain": "423"
     },
     "execution_count": 1252,
     "metadata": {},
     "output_type": "execute_result"
    }
   ],
   "source": [
    "len(df[(df['balance'].isna() == True) & (df['credit_card'] == 0)])"
   ],
   "metadata": {
    "collapsed": false
   }
  },
  {
   "cell_type": "code",
   "execution_count": 1253,
   "outputs": [
    {
     "data": {
      "text/plain": "0.0423"
     },
     "execution_count": 1253,
     "metadata": {},
     "output_type": "execute_result"
    }
   ],
   "source": [
    "len(df[(df['balance'].isna() == True) & (df['credit_card'] == 0)])/ len(df)"
   ],
   "metadata": {
    "collapsed": false
   }
  },
  {
   "cell_type": "markdown",
   "source": [
    "Вывод: из данных видно, что почти все клиенты с пропусками остаются клиентами банка (только 13 человек ушли). Стоит отметить, что если посмотреть кол-во клиентов со значением на балансе 0, то можно увидеть, что таких всего 2. Можно предположить что пропуски вызваны тем, что клиненты не имеют средств на счете (возможно даже не пополняли), такое может быть если допустим карты раздавалить и оформлялись на клиентов качетсве промоакции. Клиентов с кредитнами картами оказалось подовляющее большинство из данной когорты. Пропуски клиентов без кредитных карт составляют всего 4%. Данные пропуски относятся к группе MNAR. Значение NaN относиться к типу float и можно не менять данное значение на 0."
   ],
   "metadata": {
    "collapsed": false
   }
  },
  {
   "cell_type": "markdown",
   "source": [
    "### 2.3 добавить столбец наличие заработной карты (если зарплата больше 0, то заработная карта есть, иначе - нет)"
   ],
   "metadata": {
    "collapsed": false
   }
  },
  {
   "cell_type": "code",
   "execution_count": 1254,
   "outputs": [
    {
     "data": {
      "text/plain": "   userid  score       city gender  age  equity     balance  products  \\\n0  183012  850.0    Рыбинск      Ж   25       1    59214.82         2   \n1  146556  861.0    Рыбинск      Ж   37       5   850594.33         3   \n2  120722  892.0    Рыбинск      Ж   30       0         NaN         1   \n3  225363  866.0  Ярославль      Ж   51       5  1524746.26         2   \n4  157978  730.0  Ярославль      М   34       5      174.00         1   \n\n   credit_card  last_activity  est_salary  churn  \n0            0              1    75719.14      1  \n1            1              0    86621.77      0  \n2            1              1   107683.34      0  \n3            0              1   174423.53      1  \n4            1              0    67353.16      1  ",
      "text/html": "<div>\n<style scoped>\n    .dataframe tbody tr th:only-of-type {\n        vertical-align: middle;\n    }\n\n    .dataframe tbody tr th {\n        vertical-align: top;\n    }\n\n    .dataframe thead th {\n        text-align: right;\n    }\n</style>\n<table border=\"1\" class=\"dataframe\">\n  <thead>\n    <tr style=\"text-align: right;\">\n      <th></th>\n      <th>userid</th>\n      <th>score</th>\n      <th>city</th>\n      <th>gender</th>\n      <th>age</th>\n      <th>equity</th>\n      <th>balance</th>\n      <th>products</th>\n      <th>credit_card</th>\n      <th>last_activity</th>\n      <th>est_salary</th>\n      <th>churn</th>\n    </tr>\n  </thead>\n  <tbody>\n    <tr>\n      <th>0</th>\n      <td>183012</td>\n      <td>850.0</td>\n      <td>Рыбинск</td>\n      <td>Ж</td>\n      <td>25</td>\n      <td>1</td>\n      <td>59214.82</td>\n      <td>2</td>\n      <td>0</td>\n      <td>1</td>\n      <td>75719.14</td>\n      <td>1</td>\n    </tr>\n    <tr>\n      <th>1</th>\n      <td>146556</td>\n      <td>861.0</td>\n      <td>Рыбинск</td>\n      <td>Ж</td>\n      <td>37</td>\n      <td>5</td>\n      <td>850594.33</td>\n      <td>3</td>\n      <td>1</td>\n      <td>0</td>\n      <td>86621.77</td>\n      <td>0</td>\n    </tr>\n    <tr>\n      <th>2</th>\n      <td>120722</td>\n      <td>892.0</td>\n      <td>Рыбинск</td>\n      <td>Ж</td>\n      <td>30</td>\n      <td>0</td>\n      <td>NaN</td>\n      <td>1</td>\n      <td>1</td>\n      <td>1</td>\n      <td>107683.34</td>\n      <td>0</td>\n    </tr>\n    <tr>\n      <th>3</th>\n      <td>225363</td>\n      <td>866.0</td>\n      <td>Ярославль</td>\n      <td>Ж</td>\n      <td>51</td>\n      <td>5</td>\n      <td>1524746.26</td>\n      <td>2</td>\n      <td>0</td>\n      <td>1</td>\n      <td>174423.53</td>\n      <td>1</td>\n    </tr>\n    <tr>\n      <th>4</th>\n      <td>157978</td>\n      <td>730.0</td>\n      <td>Ярославль</td>\n      <td>М</td>\n      <td>34</td>\n      <td>5</td>\n      <td>174.00</td>\n      <td>1</td>\n      <td>1</td>\n      <td>0</td>\n      <td>67353.16</td>\n      <td>1</td>\n    </tr>\n  </tbody>\n</table>\n</div>"
     },
     "execution_count": 1254,
     "metadata": {},
     "output_type": "execute_result"
    }
   ],
   "source": [
    "df[df['est_salary'] > 0].head()"
   ],
   "metadata": {
    "collapsed": false
   }
  },
  {
   "cell_type": "code",
   "execution_count": 1255,
   "outputs": [
    {
     "data": {
      "text/plain": "10000"
     },
     "execution_count": 1255,
     "metadata": {},
     "output_type": "execute_result"
    }
   ],
   "source": [
    "len(df[df['est_salary'] > 0])"
   ],
   "metadata": {
    "collapsed": false
   }
  },
  {
   "cell_type": "markdown",
   "source": [
    "Вывод: на основе полученных данных видно, что у всех в бд указана зарплата, скорее всего тут указана зарплата на основании информации клиентов или банка о их зарплата, не зависимо является клиент пользователем зарплаьного проекта в данном банке. На основе данным нельзя определить принадлежность клиента к зарплатному проекту в банке."
   ],
   "metadata": {
    "collapsed": false
   }
  },
  {
   "cell_type": "markdown",
   "source": [
    "## Шаг 3. Исследовательский анализ данных (распределения, в т.ч. в разрезе оттока; портреты клиентов и их сравнение; корреляционный анализ)"
   ],
   "metadata": {
    "collapsed": false
   }
  },
  {
   "cell_type": "markdown",
   "source": [
    "### 3.1 Распределения, в т.ч. в разрезе оттока; портреты клиентов и их сравнение"
   ],
   "metadata": {
    "collapsed": false
   }
  },
  {
   "cell_type": "markdown",
   "source": [
    "проверить как влияет Возраст/баллы кредитного скоринга/заработная плата клиента на: кол-во объектов недвижимости, баланс счете, кол-во продуктов которыми пользуется клиент, наличие кредитной карты"
   ],
   "metadata": {
    "collapsed": false
   }
  },
  {
   "cell_type": "code",
   "execution_count": 1256,
   "outputs": [
    {
     "data": {
      "text/plain": "                 userid     score       age    equity   balance  products  \\\nuserid         1.000000  0.009804  0.017890  0.004599  0.006133 -0.005683   \nscore          0.009804  1.000000 -0.012164  0.064126  0.235812 -0.004981   \nage            0.017890 -0.012164  1.000000  0.032934  0.071599  0.031810   \nequity         0.004599  0.064126  0.032934  1.000000  0.164126  0.430203   \nbalance        0.006133  0.235812  0.071599  0.164126  1.000000  0.073024   \nproducts      -0.005683 -0.004981  0.031810  0.430203  0.073024  1.000000   \ncredit_card    0.005674 -0.094732 -0.131441 -0.167506 -0.059253 -0.256392   \nlast_activity -0.031029 -0.031179 -0.004164 -0.001970  0.025004  0.040071   \nest_salary    -0.000369  0.163866 -0.043305 -0.171974  0.339622 -0.119738   \nchurn         -0.012398  0.106129 -0.055798  0.270672  0.085442  0.297110   \n\n               credit_card  last_activity  est_salary     churn  \nuserid            0.005674      -0.031029   -0.000369 -0.012398  \nscore            -0.094732      -0.031179    0.163866  0.106129  \nage              -0.131441      -0.004164   -0.043305 -0.055798  \nequity           -0.167506      -0.001970   -0.171974  0.270672  \nbalance          -0.059253       0.025004    0.339622  0.085442  \nproducts         -0.256392       0.040071   -0.119738  0.297110  \ncredit_card       1.000000      -0.033445    0.035556 -0.131491  \nlast_activity    -0.033445       1.000000    0.003039  0.169190  \nest_salary        0.035556       0.003039    1.000000  0.001128  \nchurn            -0.131491       0.169190    0.001128  1.000000  ",
      "text/html": "<div>\n<style scoped>\n    .dataframe tbody tr th:only-of-type {\n        vertical-align: middle;\n    }\n\n    .dataframe tbody tr th {\n        vertical-align: top;\n    }\n\n    .dataframe thead th {\n        text-align: right;\n    }\n</style>\n<table border=\"1\" class=\"dataframe\">\n  <thead>\n    <tr style=\"text-align: right;\">\n      <th></th>\n      <th>userid</th>\n      <th>score</th>\n      <th>age</th>\n      <th>equity</th>\n      <th>balance</th>\n      <th>products</th>\n      <th>credit_card</th>\n      <th>last_activity</th>\n      <th>est_salary</th>\n      <th>churn</th>\n    </tr>\n  </thead>\n  <tbody>\n    <tr>\n      <th>userid</th>\n      <td>1.000000</td>\n      <td>0.009804</td>\n      <td>0.017890</td>\n      <td>0.004599</td>\n      <td>0.006133</td>\n      <td>-0.005683</td>\n      <td>0.005674</td>\n      <td>-0.031029</td>\n      <td>-0.000369</td>\n      <td>-0.012398</td>\n    </tr>\n    <tr>\n      <th>score</th>\n      <td>0.009804</td>\n      <td>1.000000</td>\n      <td>-0.012164</td>\n      <td>0.064126</td>\n      <td>0.235812</td>\n      <td>-0.004981</td>\n      <td>-0.094732</td>\n      <td>-0.031179</td>\n      <td>0.163866</td>\n      <td>0.106129</td>\n    </tr>\n    <tr>\n      <th>age</th>\n      <td>0.017890</td>\n      <td>-0.012164</td>\n      <td>1.000000</td>\n      <td>0.032934</td>\n      <td>0.071599</td>\n      <td>0.031810</td>\n      <td>-0.131441</td>\n      <td>-0.004164</td>\n      <td>-0.043305</td>\n      <td>-0.055798</td>\n    </tr>\n    <tr>\n      <th>equity</th>\n      <td>0.004599</td>\n      <td>0.064126</td>\n      <td>0.032934</td>\n      <td>1.000000</td>\n      <td>0.164126</td>\n      <td>0.430203</td>\n      <td>-0.167506</td>\n      <td>-0.001970</td>\n      <td>-0.171974</td>\n      <td>0.270672</td>\n    </tr>\n    <tr>\n      <th>balance</th>\n      <td>0.006133</td>\n      <td>0.235812</td>\n      <td>0.071599</td>\n      <td>0.164126</td>\n      <td>1.000000</td>\n      <td>0.073024</td>\n      <td>-0.059253</td>\n      <td>0.025004</td>\n      <td>0.339622</td>\n      <td>0.085442</td>\n    </tr>\n    <tr>\n      <th>products</th>\n      <td>-0.005683</td>\n      <td>-0.004981</td>\n      <td>0.031810</td>\n      <td>0.430203</td>\n      <td>0.073024</td>\n      <td>1.000000</td>\n      <td>-0.256392</td>\n      <td>0.040071</td>\n      <td>-0.119738</td>\n      <td>0.297110</td>\n    </tr>\n    <tr>\n      <th>credit_card</th>\n      <td>0.005674</td>\n      <td>-0.094732</td>\n      <td>-0.131441</td>\n      <td>-0.167506</td>\n      <td>-0.059253</td>\n      <td>-0.256392</td>\n      <td>1.000000</td>\n      <td>-0.033445</td>\n      <td>0.035556</td>\n      <td>-0.131491</td>\n    </tr>\n    <tr>\n      <th>last_activity</th>\n      <td>-0.031029</td>\n      <td>-0.031179</td>\n      <td>-0.004164</td>\n      <td>-0.001970</td>\n      <td>0.025004</td>\n      <td>0.040071</td>\n      <td>-0.033445</td>\n      <td>1.000000</td>\n      <td>0.003039</td>\n      <td>0.169190</td>\n    </tr>\n    <tr>\n      <th>est_salary</th>\n      <td>-0.000369</td>\n      <td>0.163866</td>\n      <td>-0.043305</td>\n      <td>-0.171974</td>\n      <td>0.339622</td>\n      <td>-0.119738</td>\n      <td>0.035556</td>\n      <td>0.003039</td>\n      <td>1.000000</td>\n      <td>0.001128</td>\n    </tr>\n    <tr>\n      <th>churn</th>\n      <td>-0.012398</td>\n      <td>0.106129</td>\n      <td>-0.055798</td>\n      <td>0.270672</td>\n      <td>0.085442</td>\n      <td>0.297110</td>\n      <td>-0.131491</td>\n      <td>0.169190</td>\n      <td>0.001128</td>\n      <td>1.000000</td>\n    </tr>\n  </tbody>\n</table>\n</div>"
     },
     "execution_count": 1256,
     "metadata": {},
     "output_type": "execute_result"
    }
   ],
   "source": [
    "df.corr()"
   ],
   "metadata": {
    "collapsed": false
   }
  },
  {
   "cell_type": "code",
   "execution_count": 1257,
   "outputs": [
    {
     "data": {
      "text/plain": "<Figure size 1152x576 with 2 Axes>",
      "image/png": "[encoded data removed]"
     },
     "metadata": {},
     "output_type": "display_data"
    }
   ],
   "source": [
    "plt.figure(figsize=(16, 8))\n",
    "sns.heatmap(df.corr(), cmap=\"YlGnBu\", annot=True)\n",
    "plt.show()"
   ],
   "metadata": {
    "collapsed": false
   }
  },
  {
   "cell_type": "markdown",
   "source": [
    "Вывод: из полученных данных видно, что взаимосвясь присутвует только в:\n",
    "- кол-во продуктов и кол-во объектов недвижимости\n",
    "- кол-во кредитного скоринга и уровнем дохода"
   ],
   "metadata": {
    "collapsed": false
   }
  },
  {
   "cell_type": "markdown",
   "source": [
    "Для того чтобы лучше выделить парамметры, которые влияют на отток клиентов, воспользуемся модулем phik."
   ],
   "metadata": {
    "collapsed": false
   }
  },
  {
   "cell_type": "code",
   "execution_count": 1258,
   "outputs": [
    {
     "name": "stdout",
     "output_type": "stream",
     "text": [
      "Requirement already satisfied: phik in /Users/aleksandr/opt/anaconda3/lib/python3.9/site-packages (0.12.3)\r\n",
      "Requirement already satisfied: numpy>=1.18.0 in /Users/aleksandr/opt/anaconda3/lib/python3.9/site-packages (from phik) (1.20.3)\r\n",
      "Requirement already satisfied: pandas>=0.25.1 in /Users/aleksandr/opt/anaconda3/lib/python3.9/site-packages (from phik) (1.3.4)\r\n",
      "Requirement already satisfied: scipy>=1.5.2 in /Users/aleksandr/opt/anaconda3/lib/python3.9/site-packages (from phik) (1.7.1)\r\n",
      "Requirement already satisfied: joblib>=0.14.1 in /Users/aleksandr/opt/anaconda3/lib/python3.9/site-packages (from phik) (1.1.0)\r\n",
      "Requirement already satisfied: matplotlib>=2.2.3 in /Users/aleksandr/opt/anaconda3/lib/python3.9/site-packages (from phik) (3.4.3)\r\n",
      "Requirement already satisfied: python-dateutil>=2.7 in /Users/aleksandr/opt/anaconda3/lib/python3.9/site-packages (from matplotlib>=2.2.3->phik) (2.8.2)\r\n",
      "Requirement already satisfied: cycler>=0.10 in /Users/aleksandr/opt/anaconda3/lib/python3.9/site-packages (from matplotlib>=2.2.3->phik) (0.10.0)\r\n",
      "Requirement already satisfied: kiwisolver>=1.0.1 in /Users/aleksandr/opt/anaconda3/lib/python3.9/site-packages (from matplotlib>=2.2.3->phik) (1.3.1)\r\n",
      "Requirement already satisfied: pillow>=6.2.0 in /Users/aleksandr/opt/anaconda3/lib/python3.9/site-packages (from matplotlib>=2.2.3->phik) (8.4.0)\r\n",
      "Requirement already satisfied: pyparsing>=2.2.1 in /Users/aleksandr/opt/anaconda3/lib/python3.9/site-packages (from matplotlib>=2.2.3->phik) (3.0.4)\r\n",
      "Requirement already satisfied: six in /Users/aleksandr/opt/anaconda3/lib/python3.9/site-packages (from cycler>=0.10->matplotlib>=2.2.3->phik) (1.16.0)\r\n",
      "Requirement already satisfied: pytz>=2017.3 in /Users/aleksandr/opt/anaconda3/lib/python3.9/site-packages (from pandas>=0.25.1->phik) (2021.3)\r\n"
     ]
    }
   ],
   "source": [
    "!pip install phik"
   ],
   "metadata": {
    "collapsed": false
   }
  },
  {
   "cell_type": "code",
   "execution_count": 1259,
   "outputs": [],
   "source": [
    "import phik"
   ],
   "metadata": {
    "collapsed": false
   }
  },
  {
   "cell_type": "code",
   "execution_count": 1260,
   "outputs": [
    {
     "name": "stdout",
     "output_type": "stream",
     "text": [
      "interval columns not set, guessing: ['userid', 'score', 'age', 'equity', 'balance', 'products', 'credit_card', 'last_activity', 'est_salary', 'churn']\n"
     ]
    }
   ],
   "source": [
    "phik_overview = df.phik_matrix()"
   ],
   "metadata": {
    "collapsed": false
   }
  },
  {
   "cell_type": "code",
   "execution_count": 1261,
   "outputs": [
    {
     "data": {
      "text/plain": "<Figure size 1152x576 with 2 Axes>",
      "image/png": "[encoded data removed]"
     },
     "metadata": {},
     "output_type": "display_data"
    }
   ],
   "source": [
    "plt.figure(figsize=(16, 8))\n",
    "sns.heatmap(phik_overview, cmap=\"YlGnBu\", annot=True)\n",
    "plt.show()"
   ],
   "metadata": {
    "collapsed": false
   }
  },
  {
   "cell_type": "code",
   "execution_count": 1262,
   "outputs": [
    {
     "data": {
      "text/plain": "churn            1.000000\nproducts         0.440106\nequity           0.352883\nlast_activity    0.261815\nscore            0.228322\ngender           0.218275\ncredit_card      0.204077\nage              0.189179\nuserid           0.139757\nest_salary       0.047778\nbalance          0.024634\ncity             0.016762\nName: churn, dtype: float64"
     },
     "execution_count": 1262,
     "metadata": {},
     "output_type": "execute_result"
    }
   ],
   "source": [
    "phik_overview['churn'].sort_values(ascending=False)"
   ],
   "metadata": {
    "collapsed": false
   }
  },
  {
   "cell_type": "markdown",
   "source": [
    "Вывод: как видим из полученных данных видно, что наибольшее воздействие на отток клиентов оказывают: product, equity. Так же видно, что немалое воздействие оказывают: last_activity, score, gender, credit_cart, age.\n",
    "Далее рассмотрим их подробнее."
   ],
   "metadata": {
    "collapsed": false
   }
  },
  {
   "cell_type": "markdown",
   "source": [
    "### Модель классификации\n",
    "Построим модель классификации и сравним с нашими первыми выводами"
   ],
   "metadata": {
    "collapsed": false
   }
  },
  {
   "cell_type": "code",
   "execution_count": 1263,
   "outputs": [
    {
     "name": "stdout",
     "output_type": "stream",
     "text": [
      "Requirement already satisfied: catboost in /Users/aleksandr/opt/anaconda3/lib/python3.9/site-packages (1.1.1)\r\n",
      "Requirement already satisfied: scipy in /Users/aleksandr/opt/anaconda3/lib/python3.9/site-packages (from catboost) (1.7.1)\r\n",
      "Requirement already satisfied: numpy>=1.16.0 in /Users/aleksandr/opt/anaconda3/lib/python3.9/site-packages (from catboost) (1.20.3)\r\n",
      "Requirement already satisfied: plotly in /Users/aleksandr/opt/anaconda3/lib/python3.9/site-packages (from catboost) (5.8.0)\r\n",
      "Requirement already satisfied: graphviz in /Users/aleksandr/opt/anaconda3/lib/python3.9/site-packages (from catboost) (0.20.1)\r\n",
      "Requirement already satisfied: matplotlib in /Users/aleksandr/opt/anaconda3/lib/python3.9/site-packages (from catboost) (3.4.3)\r\n",
      "Requirement already satisfied: pandas>=0.24.0 in /Users/aleksandr/opt/anaconda3/lib/python3.9/site-packages (from catboost) (1.3.4)\r\n",
      "Requirement already satisfied: six in /Users/aleksandr/opt/anaconda3/lib/python3.9/site-packages (from catboost) (1.16.0)\r\n",
      "Requirement already satisfied: python-dateutil>=2.7.3 in /Users/aleksandr/opt/anaconda3/lib/python3.9/site-packages (from pandas>=0.24.0->catboost) (2.8.2)\r\n",
      "Requirement already satisfied: pytz>=2017.3 in /Users/aleksandr/opt/anaconda3/lib/python3.9/site-packages (from pandas>=0.24.0->catboost) (2021.3)\r\n",
      "Requirement already satisfied: cycler>=0.10 in /Users/aleksandr/opt/anaconda3/lib/python3.9/site-packages (from matplotlib->catboost) (0.10.0)\r\n",
      "Requirement already satisfied: pillow>=6.2.0 in /Users/aleksandr/opt/anaconda3/lib/python3.9/site-packages (from matplotlib->catboost) (8.4.0)\r\n",
      "Requirement already satisfied: kiwisolver>=1.0.1 in /Users/aleksandr/opt/anaconda3/lib/python3.9/site-packages (from matplotlib->catboost) (1.3.1)\r\n",
      "Requirement already satisfied: pyparsing>=2.2.1 in /Users/aleksandr/opt/anaconda3/lib/python3.9/site-packages (from matplotlib->catboost) (3.0.4)\r\n",
      "Requirement already satisfied: tenacity>=6.2.0 in /Users/aleksandr/opt/anaconda3/lib/python3.9/site-packages (from plotly->catboost) (8.0.1)\r\n"
     ]
    }
   ],
   "source": [
    "!pip install catboost"
   ],
   "metadata": {
    "collapsed": false
   }
  },
  {
   "cell_type": "code",
   "execution_count": 1264,
   "outputs": [],
   "source": [
    "from catboost import CatBoostClassifier\n",
    "from sklearn.model_selection import train_test_split\n",
    "from catboost import Pool"
   ],
   "metadata": {
    "collapsed": false
   }
  },
  {
   "cell_type": "code",
   "execution_count": 1265,
   "outputs": [
    {
     "data": {
      "text/plain": "userid           10000\nscore            10000\ncity             10000\ngender           10000\nage              10000\nequity           10000\nbalance          10000\nproducts         10000\ncredit_card      10000\nlast_activity    10000\nest_salary       10000\nchurn            10000\ndtype: int64"
     },
     "execution_count": 1265,
     "metadata": {},
     "output_type": "execute_result"
    }
   ],
   "source": [
    "df_ml = df.copy()\n",
    "df_ml['balance'] = df_ml['balance'].fillna(0)\n",
    "df_ml.isnull().count()"
   ],
   "metadata": {
    "collapsed": false
   }
  },
  {
   "cell_type": "code",
   "execution_count": 1266,
   "outputs": [],
   "source": [
    "train, test = train_test_split(df_ml, train_size=0.6, random_state=0, stratify=df['churn'])\n",
    "val, test = train_test_split(test, train_size=0.5, random_state=0, stratify=test['churn'])"
   ],
   "metadata": {
    "collapsed": false
   }
  },
  {
   "cell_type": "code",
   "execution_count": 1267,
   "outputs": [
    {
     "data": {
      "text/plain": "Index(['userid', 'score', 'city', 'gender', 'age', 'equity', 'balance',\n       'products', 'credit_card', 'last_activity', 'est_salary', 'churn'],\n      dtype='object')"
     },
     "execution_count": 1267,
     "metadata": {},
     "output_type": "execute_result"
    }
   ],
   "source": [
    "train.columns"
   ],
   "metadata": {
    "collapsed": false
   }
  },
  {
   "cell_type": "code",
   "execution_count": 1268,
   "outputs": [],
   "source": [
    "X = ['score', 'city', 'gender', 'age', 'equity', 'balance',\n",
    "     'products', 'credit_card', 'last_activity', 'est_salary']\n",
    "cat_features = ['city', 'gender', 'credit_card', 'last_activity']\n",
    "y = ['churn']"
   ],
   "metadata": {
    "collapsed": false
   }
  },
  {
   "cell_type": "code",
   "execution_count": 1269,
   "outputs": [],
   "source": [
    "train_data = Pool(\n",
    "    data=train[X],\n",
    "    label=train[y],\n",
    "    cat_features=cat_features\n",
    "                  )\n",
    "valid_data = Pool(\n",
    "    data=val[X],\n",
    "    label=val[y],\n",
    "    cat_features=cat_features\n",
    ")"
   ],
   "metadata": {
    "collapsed": false
   }
  },
  {
   "cell_type": "code",
   "execution_count": 1270,
   "outputs": [],
   "source": [
    "params = {\n",
    "    'verbose': 100,\n",
    "    'random_seed': 0,\n",
    "    'learning_rate': .01\n",
    "}"
   ],
   "metadata": {
    "collapsed": false
   }
  },
  {
   "cell_type": "code",
   "execution_count": 1271,
   "outputs": [
    {
     "name": "stdout",
     "output_type": "stream",
     "text": [
      "0:\tlearn: 0.6860781\ttest: 0.6861506\tbest: 0.6861506 (0)\ttotal: 5.94ms\tremaining: 5.94s\n",
      "100:\tlearn: 0.3712151\ttest: 0.3699129\tbest: 0.3699129 (100)\ttotal: 408ms\tremaining: 3.63s\n",
      "200:\tlearn: 0.3179498\ttest: 0.3214894\tbest: 0.3214894 (200)\ttotal: 946ms\tremaining: 3.76s\n",
      "300:\tlearn: 0.2947499\ttest: 0.3030843\tbest: 0.3030843 (300)\ttotal: 1.49s\tremaining: 3.46s\n",
      "400:\tlearn: 0.2824406\ttest: 0.2949297\tbest: 0.2949297 (400)\ttotal: 1.94s\tremaining: 2.9s\n",
      "500:\tlearn: 0.2741838\ttest: 0.2900401\tbest: 0.2900401 (500)\ttotal: 2.54s\tremaining: 2.53s\n",
      "600:\tlearn: 0.2668168\ttest: 0.2855262\tbest: 0.2855262 (600)\ttotal: 3s\tremaining: 1.99s\n",
      "700:\tlearn: 0.2596759\ttest: 0.2824135\tbest: 0.2824135 (700)\ttotal: 3.51s\tremaining: 1.5s\n",
      "800:\tlearn: 0.2535738\ttest: 0.2803376\tbest: 0.2803376 (800)\ttotal: 4.01s\tremaining: 995ms\n",
      "900:\tlearn: 0.2474602\ttest: 0.2781622\tbest: 0.2781488 (899)\ttotal: 4.48s\tremaining: 492ms\n",
      "999:\tlearn: 0.2413941\ttest: 0.2771201\tbest: 0.2771201 (999)\ttotal: 4.91s\tremaining: 0us\n",
      "\n",
      "bestTest = 0.2771200638\n",
      "bestIteration = 999\n",
      "\n"
     ]
    },
    {
     "data": {
      "text/plain": "<catboost.core.CatBoostClassifier at 0x7f8fd8ff37f0>"
     },
     "execution_count": 1271,
     "metadata": {},
     "output_type": "execute_result"
    }
   ],
   "source": [
    "model = CatBoostClassifier(**params)\n",
    "model.fit(train_data, eval_set=valid_data)"
   ],
   "metadata": {
    "collapsed": false
   }
  },
  {
   "cell_type": "code",
   "execution_count": 1272,
   "outputs": [
    {
     "data": {
      "text/plain": "      Feature Id  Importances\n0        balance    19.564812\n1          score    17.298975\n2            age    13.340174\n3  last_activity    12.968920\n4       products     7.924716\n5         gender     7.801508\n6         equity     6.823510\n7     est_salary     5.666556\n8           city     4.773353\n9    credit_card     3.837477",
      "text/html": "<div>\n<style scoped>\n    .dataframe tbody tr th:only-of-type {\n        vertical-align: middle;\n    }\n\n    .dataframe tbody tr th {\n        vertical-align: top;\n    }\n\n    .dataframe thead th {\n        text-align: right;\n    }\n</style>\n<table border=\"1\" class=\"dataframe\">\n  <thead>\n    <tr style=\"text-align: right;\">\n      <th></th>\n      <th>Feature Id</th>\n      <th>Importances</th>\n    </tr>\n  </thead>\n  <tbody>\n    <tr>\n      <th>0</th>\n      <td>balance</td>\n      <td>19.564812</td>\n    </tr>\n    <tr>\n      <th>1</th>\n      <td>score</td>\n      <td>17.298975</td>\n    </tr>\n    <tr>\n      <th>2</th>\n      <td>age</td>\n      <td>13.340174</td>\n    </tr>\n    <tr>\n      <th>3</th>\n      <td>last_activity</td>\n      <td>12.968920</td>\n    </tr>\n    <tr>\n      <th>4</th>\n      <td>products</td>\n      <td>7.924716</td>\n    </tr>\n    <tr>\n      <th>5</th>\n      <td>gender</td>\n      <td>7.801508</td>\n    </tr>\n    <tr>\n      <th>6</th>\n      <td>equity</td>\n      <td>6.823510</td>\n    </tr>\n    <tr>\n      <th>7</th>\n      <td>est_salary</td>\n      <td>5.666556</td>\n    </tr>\n    <tr>\n      <th>8</th>\n      <td>city</td>\n      <td>4.773353</td>\n    </tr>\n    <tr>\n      <th>9</th>\n      <td>credit_card</td>\n      <td>3.837477</td>\n    </tr>\n  </tbody>\n</table>\n</div>"
     },
     "execution_count": 1272,
     "metadata": {},
     "output_type": "execute_result"
    }
   ],
   "source": [
    "model.get_feature_importance(prettified=True)"
   ],
   "metadata": {
    "collapsed": false
   }
  },
  {
   "cell_type": "code",
   "execution_count": 1273,
   "outputs": [
    {
     "name": "stdout",
     "output_type": "stream",
     "text": [
      "interval columns not set, guessing: ['userid', 'score', 'age', 'equity', 'balance', 'products', 'credit_card', 'last_activity', 'est_salary', 'churn']\n"
     ]
    },
    {
     "data": {
      "text/plain": "churn            1.000000\nproducts         0.435429\nequity           0.354305\nlast_activity    0.276223\nscore            0.224954\ngender           0.217586\ncredit_card      0.200181\nage              0.181517\nuserid           0.148589\nest_salary       0.037119\nbalance          0.035772\ncity             0.011751\nName: churn, dtype: float64"
     },
     "execution_count": 1273,
     "metadata": {},
     "output_type": "execute_result"
    }
   ],
   "source": [
    "phik_overview_train = train.phik_matrix()\n",
    "phik_overview_train['churn'].sort_values(ascending=False)"
   ],
   "metadata": {
    "collapsed": false
   }
  },
  {
   "cell_type": "markdown",
   "source": [
    "## 3.2 Выделите портреты клиентов, которые склонны уходить из банка"
   ],
   "metadata": {
    "collapsed": false
   }
  },
  {
   "cell_type": "markdown",
   "source": [
    "### Как влияет на отток кол-во продуктов, которыми пользуется клиент"
   ],
   "metadata": {
    "collapsed": false
   }
  },
  {
   "cell_type": "code",
   "execution_count": 1274,
   "outputs": [
    {
     "data": {
      "text/plain": "          count      mean\nproducts                 \n0             1  1.000000\n1          3341  0.070338\n2          5108  0.191660\n3          1046  0.284895\n4           474  0.632911\n5            30  0.300000",
      "text/html": "<div>\n<style scoped>\n    .dataframe tbody tr th:only-of-type {\n        vertical-align: middle;\n    }\n\n    .dataframe tbody tr th {\n        vertical-align: top;\n    }\n\n    .dataframe thead th {\n        text-align: right;\n    }\n</style>\n<table border=\"1\" class=\"dataframe\">\n  <thead>\n    <tr style=\"text-align: right;\">\n      <th></th>\n      <th>count</th>\n      <th>mean</th>\n    </tr>\n    <tr>\n      <th>products</th>\n      <th></th>\n      <th></th>\n    </tr>\n  </thead>\n  <tbody>\n    <tr>\n      <th>0</th>\n      <td>1</td>\n      <td>1.000000</td>\n    </tr>\n    <tr>\n      <th>1</th>\n      <td>3341</td>\n      <td>0.070338</td>\n    </tr>\n    <tr>\n      <th>2</th>\n      <td>5108</td>\n      <td>0.191660</td>\n    </tr>\n    <tr>\n      <th>3</th>\n      <td>1046</td>\n      <td>0.284895</td>\n    </tr>\n    <tr>\n      <th>4</th>\n      <td>474</td>\n      <td>0.632911</td>\n    </tr>\n    <tr>\n      <th>5</th>\n      <td>30</td>\n      <td>0.300000</td>\n    </tr>\n  </tbody>\n</table>\n</div>"
     },
     "execution_count": 1274,
     "metadata": {},
     "output_type": "execute_result"
    }
   ],
   "source": [
    "df.groupby('products')['churn'].agg(['count', 'mean'])"
   ],
   "metadata": {
    "collapsed": false
   }
  },
  {
   "cell_type": "code",
   "execution_count": 1275,
   "outputs": [
    {
     "data": {
      "text/plain": "<Figure size 288x288 with 2 Axes>",
      "image/png": "[encoded data removed]"
     },
     "metadata": {},
     "output_type": "display_data"
    }
   ],
   "source": [
    "plt.figure(figsize=(4, 4))\n",
    "sns.heatmap(df.groupby('products')['churn'].agg(['mean']).sort_values(by='mean', ascending=False), cmap=\"YlGnBu\", annot=True)\n",
    "plt.show()"
   ],
   "metadata": {
    "collapsed": false
   }
  },
  {
   "cell_type": "markdown",
   "source": [
    "Вывод:\n",
    "- из полученных данных мы видим тенденцию к увеличению оттока при увеличении числа продуктов, но стоит отметить что в выборку где больше 3-х продуктов попало малая доля клиентов.\n",
    "- меньше всего уходят клиенты, которые пользуются одним продуктом."
   ],
   "metadata": {
    "collapsed": false
   }
  },
  {
   "cell_type": "markdown",
   "source": [
    "### Как влияет кол-во объектов недвижимости на отток клиентов"
   ],
   "metadata": {
    "collapsed": false
   }
  },
  {
   "cell_type": "code",
   "execution_count": 1276,
   "outputs": [
    {
     "data": {
      "text/plain": "        count      mean\nequity                 \n0        2592  0.034722\n1         774  0.120155\n2        1052  0.157795\n3        1543  0.209332\n4        1850  0.251351\n5        1918  0.300834\n6         161  0.360248\n7          80  0.462500\n8          17  0.352941\n9          13  0.538462",
      "text/html": "<div>\n<style scoped>\n    .dataframe tbody tr th:only-of-type {\n        vertical-align: middle;\n    }\n\n    .dataframe tbody tr th {\n        vertical-align: top;\n    }\n\n    .dataframe thead th {\n        text-align: right;\n    }\n</style>\n<table border=\"1\" class=\"dataframe\">\n  <thead>\n    <tr style=\"text-align: right;\">\n      <th></th>\n      <th>count</th>\n      <th>mean</th>\n    </tr>\n    <tr>\n      <th>equity</th>\n      <th></th>\n      <th></th>\n    </tr>\n  </thead>\n  <tbody>\n    <tr>\n      <th>0</th>\n      <td>2592</td>\n      <td>0.034722</td>\n    </tr>\n    <tr>\n      <th>1</th>\n      <td>774</td>\n      <td>0.120155</td>\n    </tr>\n    <tr>\n      <th>2</th>\n      <td>1052</td>\n      <td>0.157795</td>\n    </tr>\n    <tr>\n      <th>3</th>\n      <td>1543</td>\n      <td>0.209332</td>\n    </tr>\n    <tr>\n      <th>4</th>\n      <td>1850</td>\n      <td>0.251351</td>\n    </tr>\n    <tr>\n      <th>5</th>\n      <td>1918</td>\n      <td>0.300834</td>\n    </tr>\n    <tr>\n      <th>6</th>\n      <td>161</td>\n      <td>0.360248</td>\n    </tr>\n    <tr>\n      <th>7</th>\n      <td>80</td>\n      <td>0.462500</td>\n    </tr>\n    <tr>\n      <th>8</th>\n      <td>17</td>\n      <td>0.352941</td>\n    </tr>\n    <tr>\n      <th>9</th>\n      <td>13</td>\n      <td>0.538462</td>\n    </tr>\n  </tbody>\n</table>\n</div>"
     },
     "execution_count": 1276,
     "metadata": {},
     "output_type": "execute_result"
    }
   ],
   "source": [
    "df.groupby('equity')['churn'].agg(['count', 'mean'])"
   ],
   "metadata": {
    "collapsed": false
   }
  },
  {
   "cell_type": "code",
   "execution_count": 1277,
   "outputs": [
    {
     "data": {
      "text/plain": "<Figure size 288x288 with 2 Axes>",
      "image/png": "[encoded data removed]"
     },
     "metadata": {},
     "output_type": "display_data"
    }
   ],
   "source": [
    "plt.figure(figsize=(4, 4))\n",
    "sns.heatmap(df.groupby('equity')['churn'].agg(['mean']).sort_values(by='mean', ascending=False), cmap=\"YlGnBu\", annot=True)\n",
    "plt.show()"
   ],
   "metadata": {
    "collapsed": false
   }
  },
  {
   "cell_type": "markdown",
   "source": [
    "Вывод:\n",
    "- мы так же можем заметить тенденцию по увеличению оттока при увеличении кол-во объектов недвижимости, но стоит заметить что клиентов с увеличением становиться заметно меньше и это нормально т.к. кол-во людей с большим количеством собственности всегда будет заметно меньше подавляющего большинства.\n",
    "- практически не уходят клиенты, которые не имеют объектов недвижимости."
   ],
   "metadata": {
    "collapsed": false
   }
  },
  {
   "cell_type": "markdown",
   "source": [
    "### Влияние активности клиентов на отток"
   ],
   "metadata": {
    "collapsed": false
   }
  },
  {
   "cell_type": "code",
   "execution_count": 1278,
   "outputs": [
    {
     "data": {
      "text/plain": "               count      mean\nlast_activity                 \n0               4765  0.113746\n1               5235  0.244508",
      "text/html": "<div>\n<style scoped>\n    .dataframe tbody tr th:only-of-type {\n        vertical-align: middle;\n    }\n\n    .dataframe tbody tr th {\n        vertical-align: top;\n    }\n\n    .dataframe thead th {\n        text-align: right;\n    }\n</style>\n<table border=\"1\" class=\"dataframe\">\n  <thead>\n    <tr style=\"text-align: right;\">\n      <th></th>\n      <th>count</th>\n      <th>mean</th>\n    </tr>\n    <tr>\n      <th>last_activity</th>\n      <th></th>\n      <th></th>\n    </tr>\n  </thead>\n  <tbody>\n    <tr>\n      <th>0</th>\n      <td>4765</td>\n      <td>0.113746</td>\n    </tr>\n    <tr>\n      <th>1</th>\n      <td>5235</td>\n      <td>0.244508</td>\n    </tr>\n  </tbody>\n</table>\n</div>"
     },
     "execution_count": 1278,
     "metadata": {},
     "output_type": "execute_result"
    }
   ],
   "source": [
    "df.groupby('last_activity')['churn'].agg(['count', 'mean'])"
   ],
   "metadata": {
    "collapsed": false
   }
  },
  {
   "cell_type": "code",
   "execution_count": 1279,
   "outputs": [
    {
     "data": {
      "text/plain": "<Figure size 288x288 with 2 Axes>",
      "image/png": "[encoded data removed]"
     },
     "metadata": {},
     "output_type": "display_data"
    }
   ],
   "source": [
    "plt.figure(figsize=(4, 4))\n",
    "sns.heatmap(df.groupby('last_activity')['churn'].agg(['mean']).sort_values(by='mean', ascending=False), cmap=\"YlGnBu\", annot=True)\n",
    "plt.show()"
   ],
   "metadata": {
    "collapsed": false
   }
  },
  {
   "cell_type": "markdown",
   "source": [
    "Вывод:\n",
    "- как мы можем видеть активные клиенты в два раза чаще уходят из данного банка\n",
    "- не активные в два раза чаще остаются"
   ],
   "metadata": {
    "collapsed": false
   }
  },
  {
   "cell_type": "markdown",
   "source": [
    "### Влияние баллов score на отток"
   ],
   "metadata": {
    "collapsed": false
   }
  },
  {
   "cell_type": "code",
   "execution_count": 1280,
   "outputs": [
    {
     "data": {
      "text/plain": "0      (819.0, 886.0]\n1      (819.0, 886.0]\n2     (886.0, 1000.0]\n3      (819.0, 886.0]\n4    (641.999, 819.0]\nName: score_cut, dtype: category\nCategories (3, interval[float64, right]): [(641.999, 819.0] < (819.0, 886.0] < (886.0, 1000.0]]"
     },
     "execution_count": 1280,
     "metadata": {},
     "output_type": "execute_result"
    }
   ],
   "source": [
    "df['score_cut'] = pd.qcut(df['score'], 3)\n",
    "df['score_cut'].head()"
   ],
   "metadata": {
    "collapsed": false
   }
  },
  {
   "cell_type": "code",
   "execution_count": 1281,
   "outputs": [
    {
     "data": {
      "text/plain": "                  count      mean\nscore_cut                        \n(641.999, 819.0]   3357  0.107239\n(819.0, 886.0]     3347  0.251569\n(886.0, 1000.0]    3296  0.188107",
      "text/html": "<div>\n<style scoped>\n    .dataframe tbody tr th:only-of-type {\n        vertical-align: middle;\n    }\n\n    .dataframe tbody tr th {\n        vertical-align: top;\n    }\n\n    .dataframe thead th {\n        text-align: right;\n    }\n</style>\n<table border=\"1\" class=\"dataframe\">\n  <thead>\n    <tr style=\"text-align: right;\">\n      <th></th>\n      <th>count</th>\n      <th>mean</th>\n    </tr>\n    <tr>\n      <th>score_cut</th>\n      <th></th>\n      <th></th>\n    </tr>\n  </thead>\n  <tbody>\n    <tr>\n      <th>(641.999, 819.0]</th>\n      <td>3357</td>\n      <td>0.107239</td>\n    </tr>\n    <tr>\n      <th>(819.0, 886.0]</th>\n      <td>3347</td>\n      <td>0.251569</td>\n    </tr>\n    <tr>\n      <th>(886.0, 1000.0]</th>\n      <td>3296</td>\n      <td>0.188107</td>\n    </tr>\n  </tbody>\n</table>\n</div>"
     },
     "execution_count": 1281,
     "metadata": {},
     "output_type": "execute_result"
    }
   ],
   "source": [
    "df.groupby('score_cut')['churn'].agg(['count', 'mean'])"
   ],
   "metadata": {
    "collapsed": false
   }
  },
  {
   "cell_type": "code",
   "execution_count": 1282,
   "outputs": [
    {
     "data": {
      "text/plain": "<Figure size 288x288 with 2 Axes>",
      "image/png": "[encoded data removed]"
     },
     "metadata": {},
     "output_type": "display_data"
    }
   ],
   "source": [
    "plt.figure(figsize=(4, 4))\n",
    "sns.heatmap(df.groupby('score_cut')['churn'].agg(['mean']).sort_values(by='mean', ascending=False), cmap=\"YlGnBu\", annot=True)\n",
    "plt.show()"
   ],
   "metadata": {
    "collapsed": false
   }
  },
  {
   "cell_type": "markdown",
   "source": [
    "Вывод:\n",
    "- из данных видно, у которых балл больше 820, в два раза больше склонны к оттоку. Стоит отметить что самое большое кол-во клиентов уходит в диапазоне от 820 до 886.\n",
    "- меньше всего уходят клиент с наименьшими баллами."
   ],
   "metadata": {
    "collapsed": false
   }
  },
  {
   "cell_type": "markdown",
   "source": [
    "### Как влияет пол на отток клиентов"
   ],
   "metadata": {
    "collapsed": false
   }
  },
  {
   "cell_type": "code",
   "execution_count": 1283,
   "outputs": [
    {
     "data": {
      "text/plain": "        count      mean\ngender                 \nЖ        4992  0.127804\nМ        5008  0.236422",
      "text/html": "<div>\n<style scoped>\n    .dataframe tbody tr th:only-of-type {\n        vertical-align: middle;\n    }\n\n    .dataframe tbody tr th {\n        vertical-align: top;\n    }\n\n    .dataframe thead th {\n        text-align: right;\n    }\n</style>\n<table border=\"1\" class=\"dataframe\">\n  <thead>\n    <tr style=\"text-align: right;\">\n      <th></th>\n      <th>count</th>\n      <th>mean</th>\n    </tr>\n    <tr>\n      <th>gender</th>\n      <th></th>\n      <th></th>\n    </tr>\n  </thead>\n  <tbody>\n    <tr>\n      <th>Ж</th>\n      <td>4992</td>\n      <td>0.127804</td>\n    </tr>\n    <tr>\n      <th>М</th>\n      <td>5008</td>\n      <td>0.236422</td>\n    </tr>\n  </tbody>\n</table>\n</div>"
     },
     "execution_count": 1283,
     "metadata": {},
     "output_type": "execute_result"
    }
   ],
   "source": [
    "df.groupby('gender')['churn'].agg(['count', 'mean'])"
   ],
   "metadata": {
    "collapsed": false
   }
  },
  {
   "cell_type": "code",
   "execution_count": 1284,
   "outputs": [
    {
     "data": {
      "text/plain": "<Figure size 288x288 with 2 Axes>",
      "image/png": "[encoded data removed]"
     },
     "metadata": {},
     "output_type": "display_data"
    }
   ],
   "source": [
    "plt.figure(figsize=(4, 4))\n",
    "sns.heatmap(df.groupby('gender')['churn'].agg(['mean']).sort_values(by='mean', ascending=False), cmap=\"YlGnBu\", annot=True)\n",
    "plt.show()"
   ],
   "metadata": {
    "collapsed": false
   }
  },
  {
   "cell_type": "markdown",
   "source": [
    "Вывод:\n",
    "- из полученных данных видно, что мужчины чаще склонны к оттоку\n",
    "- женщины реже уходят"
   ],
   "metadata": {
    "collapsed": false
   }
  },
  {
   "cell_type": "markdown",
   "source": [
    "### Влияние наличия кредитной карты на отток"
   ],
   "metadata": {
    "collapsed": false
   }
  },
  {
   "cell_type": "code",
   "execution_count": 1285,
   "outputs": [
    {
     "data": {
      "text/plain": "             count      mean\ncredit_card                 \n0             3196  0.256258\n1             6804  0.147413",
      "text/html": "<div>\n<style scoped>\n    .dataframe tbody tr th:only-of-type {\n        vertical-align: middle;\n    }\n\n    .dataframe tbody tr th {\n        vertical-align: top;\n    }\n\n    .dataframe thead th {\n        text-align: right;\n    }\n</style>\n<table border=\"1\" class=\"dataframe\">\n  <thead>\n    <tr style=\"text-align: right;\">\n      <th></th>\n      <th>count</th>\n      <th>mean</th>\n    </tr>\n    <tr>\n      <th>credit_card</th>\n      <th></th>\n      <th></th>\n    </tr>\n  </thead>\n  <tbody>\n    <tr>\n      <th>0</th>\n      <td>3196</td>\n      <td>0.256258</td>\n    </tr>\n    <tr>\n      <th>1</th>\n      <td>6804</td>\n      <td>0.147413</td>\n    </tr>\n  </tbody>\n</table>\n</div>"
     },
     "execution_count": 1285,
     "metadata": {},
     "output_type": "execute_result"
    }
   ],
   "source": [
    "df.groupby('credit_card')['churn'].agg(['count', 'mean'])"
   ],
   "metadata": {
    "collapsed": false
   }
  },
  {
   "cell_type": "code",
   "execution_count": 1286,
   "outputs": [
    {
     "data": {
      "text/plain": "<Figure size 288x288 with 2 Axes>",
      "image/png": "[encoded data removed]"
     },
     "metadata": {},
     "output_type": "display_data"
    }
   ],
   "source": [
    "plt.figure(figsize=(4, 4))\n",
    "sns.heatmap(df.groupby('credit_card')['churn'].agg(['mean']).sort_values(by='mean', ascending=False), cmap=\"YlGnBu\", annot=True)\n",
    "plt.show()"
   ],
   "metadata": {
    "collapsed": false
   }
  },
  {
   "cell_type": "markdown",
   "source": [
    "Вывод:\n",
    "- клиенты без кредитных карт намного чаще уходят, чем клиенты пользующиеся кредитками\n",
    "- клиентами с кредитками чаще остаются"
   ],
   "metadata": {
    "collapsed": false
   }
  },
  {
   "cell_type": "markdown",
   "source": [
    "### Влияние возраста на отток"
   ],
   "metadata": {
    "collapsed": false
   }
  },
  {
   "cell_type": "code",
   "execution_count": 1287,
   "outputs": [
    {
     "data": {
      "text/plain": "0    (17.999, 31.0]\n1      (36.0, 40.0]\n2    (17.999, 31.0]\n3      (47.0, 56.0]\n4      (31.0, 36.0]\nName: age_cut, dtype: category\nCategories (6, interval[float64, right]): [(17.999, 31.0] < (31.0, 36.0] < (36.0, 40.0] < (40.0, 47.0] < (47.0, 56.0] < (56.0, 86.0]]"
     },
     "execution_count": 1287,
     "metadata": {},
     "output_type": "execute_result"
    }
   ],
   "source": [
    "df['age_cut'] = pd.qcut(df['age'], 6)\n",
    "df['age_cut'].head()"
   ],
   "metadata": {
    "collapsed": false
   }
  },
  {
   "cell_type": "code",
   "execution_count": 1288,
   "outputs": [
    {
     "data": {
      "text/plain": "                count      mean\nage_cut                        \n(17.999, 31.0]   1682  0.221760\n(31.0, 36.0]     2000  0.190000\n(36.0, 40.0]     1425  0.171930\n(40.0, 47.0]     1718  0.137369\n(47.0, 56.0]     1509  0.241882\n(56.0, 86.0]     1666  0.133854",
      "text/html": "<div>\n<style scoped>\n    .dataframe tbody tr th:only-of-type {\n        vertical-align: middle;\n    }\n\n    .dataframe tbody tr th {\n        vertical-align: top;\n    }\n\n    .dataframe thead th {\n        text-align: right;\n    }\n</style>\n<table border=\"1\" class=\"dataframe\">\n  <thead>\n    <tr style=\"text-align: right;\">\n      <th></th>\n      <th>count</th>\n      <th>mean</th>\n    </tr>\n    <tr>\n      <th>age_cut</th>\n      <th></th>\n      <th></th>\n    </tr>\n  </thead>\n  <tbody>\n    <tr>\n      <th>(17.999, 31.0]</th>\n      <td>1682</td>\n      <td>0.221760</td>\n    </tr>\n    <tr>\n      <th>(31.0, 36.0]</th>\n      <td>2000</td>\n      <td>0.190000</td>\n    </tr>\n    <tr>\n      <th>(36.0, 40.0]</th>\n      <td>1425</td>\n      <td>0.171930</td>\n    </tr>\n    <tr>\n      <th>(40.0, 47.0]</th>\n      <td>1718</td>\n      <td>0.137369</td>\n    </tr>\n    <tr>\n      <th>(47.0, 56.0]</th>\n      <td>1509</td>\n      <td>0.241882</td>\n    </tr>\n    <tr>\n      <th>(56.0, 86.0]</th>\n      <td>1666</td>\n      <td>0.133854</td>\n    </tr>\n  </tbody>\n</table>\n</div>"
     },
     "execution_count": 1288,
     "metadata": {},
     "output_type": "execute_result"
    }
   ],
   "source": [
    "df.groupby('age_cut')['churn'].agg(['count', 'mean'])"
   ],
   "metadata": {
    "collapsed": false
   }
  },
  {
   "cell_type": "code",
   "execution_count": 1289,
   "outputs": [
    {
     "data": {
      "text/plain": "<Figure size 288x288 with 2 Axes>",
      "image/png": "[encoded data removed]"
     },
     "metadata": {},
     "output_type": "display_data"
    }
   ],
   "source": [
    "plt.figure(figsize=(4, 4))\n",
    "sns.heatmap(df.groupby('age_cut')['churn'].agg(['mean']).sort_values(by='mean', ascending=False), cmap=\"YlGnBu\", annot=True)\n",
    "plt.show()"
   ],
   "metadata": {
    "collapsed": false
   }
  },
  {
   "cell_type": "markdown",
   "source": [
    "Вывод:\n",
    "- из полученных данных видно, что клиенты до 31 года чаще уходят из банка. Виден сильный скачок в возрастном промежутке 47-56 лет\n",
    "- клиенты старшего возраста реже уходят, но сильно выраженной тенденции нет"
   ],
   "metadata": {
    "collapsed": false
   }
  },
  {
   "cell_type": "markdown",
   "source": [
    "### Влияние баланса на счете на отток"
   ],
   "metadata": {
    "collapsed": false
   }
  },
  {
   "cell_type": "code",
   "execution_count": 1290,
   "outputs": [],
   "source": [
    "df['balance_cut'] = pd.qcut(df['balance'], 5)"
   ],
   "metadata": {
    "collapsed": false
   }
  },
  {
   "cell_type": "code",
   "execution_count": 1291,
   "outputs": [
    {
     "data": {
      "text/plain": "                           count      mean\nbalance_cut                               \n(-0.001, 255936.848]        1541  0.156392\n(255936.848, 419603.476]    1541  0.169371\n(419603.476, 660138.374]    1541  0.189487\n(660138.374, 1125547.2]     1541  0.242051\n(1125547.2, 119113552.01]   1541  0.416613",
      "text/html": "<div>\n<style scoped>\n    .dataframe tbody tr th:only-of-type {\n        vertical-align: middle;\n    }\n\n    .dataframe tbody tr th {\n        vertical-align: top;\n    }\n\n    .dataframe thead th {\n        text-align: right;\n    }\n</style>\n<table border=\"1\" class=\"dataframe\">\n  <thead>\n    <tr style=\"text-align: right;\">\n      <th></th>\n      <th>count</th>\n      <th>mean</th>\n    </tr>\n    <tr>\n      <th>balance_cut</th>\n      <th></th>\n      <th></th>\n    </tr>\n  </thead>\n  <tbody>\n    <tr>\n      <th>(-0.001, 255936.848]</th>\n      <td>1541</td>\n      <td>0.156392</td>\n    </tr>\n    <tr>\n      <th>(255936.848, 419603.476]</th>\n      <td>1541</td>\n      <td>0.169371</td>\n    </tr>\n    <tr>\n      <th>(419603.476, 660138.374]</th>\n      <td>1541</td>\n      <td>0.189487</td>\n    </tr>\n    <tr>\n      <th>(660138.374, 1125547.2]</th>\n      <td>1541</td>\n      <td>0.242051</td>\n    </tr>\n    <tr>\n      <th>(1125547.2, 119113552.01]</th>\n      <td>1541</td>\n      <td>0.416613</td>\n    </tr>\n  </tbody>\n</table>\n</div>"
     },
     "execution_count": 1291,
     "metadata": {},
     "output_type": "execute_result"
    }
   ],
   "source": [
    "df.groupby('balance_cut')['churn'].agg(['count', 'mean'])"
   ],
   "metadata": {
    "collapsed": false
   }
  },
  {
   "cell_type": "markdown",
   "source": [
    "Вывод:\n",
    "- стоит отметить что клиенты с заметно большим балансом на счете чаще уходят других. В остальных группах заметна так же небольшая тенденция к росту оттока\n",
    "- клиенты с меньшим достатком склонны к оттоку."
   ],
   "metadata": {
    "collapsed": false
   }
  },
  {
   "cell_type": "markdown",
   "source": [
    "<b>Общий вывод по разделу:</b>\n",
    "\n",
    "Вывод по разделу построю по описанию двух портретов клиентов склонных к оттоку/не склонных.\n",
    "\n",
    "<b>Клиенты склонные к оттоку:</b>\n",
    "- являются пользователями больше 3-х банковских продуктов\n",
    "- если имеют недвижимость в собственности\n",
    "- являются активными пользователями банка\n",
    "- имеют балл score больше 820\n",
    "- чаще всего являются мужчинами\n",
    "- не имеют кредитных карт\n",
    "- возраст до 31 года\n",
    "- имеют большие суммы на балансе счета.\n",
    "\n",
    "<b>Клиенты не склонные к оттоку:</b>\n",
    "- пользуются одним банковским продуктом\n",
    "- не имеют объектов недвижимости в собственности\n",
    "- не являются активными пользователями банковских услуг\n",
    "- имеют наимеший балл score\n",
    "- чаще всего являются женщинами\n",
    "- имеют кредитные карты\n",
    "- старше 31-го года\n",
    "- имеют малые суммы на счетах банка."
   ],
   "metadata": {
    "collapsed": false
   }
  },
  {
   "cell_type": "code",
   "execution_count": 1291,
   "outputs": [],
   "source": [],
   "metadata": {
    "collapsed": false
   }
  }
 ],
 "metadata": {
  "kernelspec": {
   "display_name": "Python 3",
   "language": "python",
   "name": "python3"
  },
  "language_info": {
   "codemirror_mode": {
    "name": "ipython",
    "version": 2
   },
   "file_extension": ".py",
   "mimetype": "text/x-python",
   "name": "python",
   "nbconvert_exporter": "python",
   "pygments_lexer": "ipython2",
   "version": "2.7.6"
  }
 },
 "nbformat": 4,
 "nbformat_minor": 0
}
