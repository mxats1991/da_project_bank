{
 "cells": [
  {
   "cell_type": "markdown",
   "source": [
    "# Итоговый проект \"Банки — Анализ оттока клиентов\""
   ],
   "metadata": {
    "collapsed": false
   }
  },
  {
   "cell_type": "markdown",
   "source": [
    "### Задача**:**\n",
    "\n",
    "Проанализируйте клиентов регионального банка и выделите сегменты клиентов, которые склонны уходить из банка.\n",
    "\n",
    "- Проведите исследовательский анализ данных,\n",
    "- Выделите портреты клиентов, которые склонны уходить из банка,\n",
    "- Сформулируйте и проверьте статистические гипотезы.\n",
    "\n",
    "    *Проверьте гипотезу различия дохода между теми клиентами, которые ушли и теми, которые остались.*\n",
    "\n",
    "    *Сформулируйте и проверьте статистическую гипотезу относительно представленных данных*\n",
    "\n",
    "\n",
    "(задачи выше сформулированы предварительно, окончательная постановка задачи произойдёт на вводной встрече)\n",
    "\n",
    "### Описание датасетов\n",
    "\n",
    "Датасет содержит данные о клиентах банка «Метанпром». Банк располагается в Ярославле и областных городах: Ростов Великий и Рыбинск.\n",
    "\n",
    "Колонки:\n",
    "\n",
    "- `userid` — идентификатор пользователя,\n",
    "- `score` — баллы кредитного скоринга,\n",
    "- `City` — город,\n",
    "- `Gender` — пол,\n",
    "- `Age` — возраст,\n",
    "- `Objects` — количество объектов в собственности,\n",
    "- `Balance` — баланс на счёте,\n",
    "- `Products` — количество продуктов, которыми пользуется клиент,\n",
    "- `CreditCard` — есть ли кредитная карта,\n",
    "- `Loyalty` — активный клиент,\n",
    "- `estimated_salary` — заработная плата клиента,\n",
    "- `Churn` — ушёл или нет.\n",
    "\n",
    "По итогам исследования подготовьте презентацию. Для создания презентации используйте любой удобный инструмент, но отправить презентацию нужно **обязательно** в формате **pdf,** прикрепив ссылку на файл в основном проекте."
   ],
   "metadata": {
    "collapsed": false
   }
  },
  {
   "cell_type": "code",
   "execution_count": 1,
   "outputs": [],
   "source": [
    "import pandas as pd\n",
    "import seaborn as sns\n",
    "import matplotlib.pyplot as plt\n",
    "import statsmodels.stats.weightstats\n",
    "from scipy import stats as st\n",
    "import numpy as np\n",
    "import warnings\n",
    "warnings.filterwarnings(\"ignore\")"
   ],
   "metadata": {
    "collapsed": false
   }
  },
  {
   "cell_type": "code",
   "execution_count": 6,
   "outputs": [],
   "source": [
    "server_path = 'datasets/'\n",
    "local_path = '/datasets/'\n",
    "\n",
    "files = ['bank_dataset.csv']\n",
    "\n",
    "datasets = []\n",
    "\n",
    "for file in files:\n",
    "    try:\n",
    "        datasets.append(pd.read_csv(server_path + file))\n",
    "    except FileNotFoundError:\n",
    "        datasets.append(pd.read_csv(local_path + file))\n",
    "\n",
    "df = datasets[0]\n",
    "\n",
    "path = \"https://drive.google.com/uc?export=download&id=1-U61mhTz_N1ARjy2XSAZ7IlQqGjeqP0F\"\n",
    "df_1 = pd.read_csv(path)"
   ],
   "metadata": {
    "collapsed": false
   }
  },
  {
   "cell_type": "code",
   "execution_count": 8,
   "outputs": [
    {
     "data": {
      "text/plain": "     userid  score       City Gender  Age  Objects    Balance  Products  \\\n0  15677338    619  Ярославль      Ж   42        2        NaN         1   \n1  15690047    608    Рыбинск      Ж   41        1   83807.86         1   \n2  15662040    502  Ярославль      Ж   42        8  159660.80         3   \n3  15744090    699  Ярославль      Ж   39        1        NaN         2   \n4  15780624    850    Рыбинск      Ж   43        2  125510.82         1   \n\n   CreditCard  Loyalty  estimated_salary  Churn  \n0           1        1         101348.88      1  \n1           0        1         112542.58      0  \n2           1        0         113931.57      1  \n3           0        0          93826.63      0  \n4           1        1          79084.10      0  ",
      "text/html": "<div>\n<style scoped>\n    .dataframe tbody tr th:only-of-type {\n        vertical-align: middle;\n    }\n\n    .dataframe tbody tr th {\n        vertical-align: top;\n    }\n\n    .dataframe thead th {\n        text-align: right;\n    }\n</style>\n<table border=\"1\" class=\"dataframe\">\n  <thead>\n    <tr style=\"text-align: right;\">\n      <th></th>\n      <th>userid</th>\n      <th>score</th>\n      <th>City</th>\n      <th>Gender</th>\n      <th>Age</th>\n      <th>Objects</th>\n      <th>Balance</th>\n      <th>Products</th>\n      <th>CreditCard</th>\n      <th>Loyalty</th>\n      <th>estimated_salary</th>\n      <th>Churn</th>\n    </tr>\n  </thead>\n  <tbody>\n    <tr>\n      <th>0</th>\n      <td>15677338</td>\n      <td>619</td>\n      <td>Ярославль</td>\n      <td>Ж</td>\n      <td>42</td>\n      <td>2</td>\n      <td>NaN</td>\n      <td>1</td>\n      <td>1</td>\n      <td>1</td>\n      <td>101348.88</td>\n      <td>1</td>\n    </tr>\n    <tr>\n      <th>1</th>\n      <td>15690047</td>\n      <td>608</td>\n      <td>Рыбинск</td>\n      <td>Ж</td>\n      <td>41</td>\n      <td>1</td>\n      <td>83807.86</td>\n      <td>1</td>\n      <td>0</td>\n      <td>1</td>\n      <td>112542.58</td>\n      <td>0</td>\n    </tr>\n    <tr>\n      <th>2</th>\n      <td>15662040</td>\n      <td>502</td>\n      <td>Ярославль</td>\n      <td>Ж</td>\n      <td>42</td>\n      <td>8</td>\n      <td>159660.80</td>\n      <td>3</td>\n      <td>1</td>\n      <td>0</td>\n      <td>113931.57</td>\n      <td>1</td>\n    </tr>\n    <tr>\n      <th>3</th>\n      <td>15744090</td>\n      <td>699</td>\n      <td>Ярославль</td>\n      <td>Ж</td>\n      <td>39</td>\n      <td>1</td>\n      <td>NaN</td>\n      <td>2</td>\n      <td>0</td>\n      <td>0</td>\n      <td>93826.63</td>\n      <td>0</td>\n    </tr>\n    <tr>\n      <th>4</th>\n      <td>15780624</td>\n      <td>850</td>\n      <td>Рыбинск</td>\n      <td>Ж</td>\n      <td>43</td>\n      <td>2</td>\n      <td>125510.82</td>\n      <td>1</td>\n      <td>1</td>\n      <td>1</td>\n      <td>79084.10</td>\n      <td>0</td>\n    </tr>\n  </tbody>\n</table>\n</div>"
     },
     "execution_count": 8,
     "metadata": {},
     "output_type": "execute_result"
    }
   ],
   "source": [
    "df.head()"
   ],
   "metadata": {
    "collapsed": false
   }
  },
  {
   "cell_type": "code",
   "execution_count": 7,
   "outputs": [
    {
     "data": {
      "text/plain": "   USERID  score       city gender  age  equity     balance  products  \\\n0  183012  850.0    Рыбинск      Ж   25       1    59214.82         2   \n1  146556  861.0    Рыбинск      Ж   37       5   850594.33         3   \n2  120722  892.0    Рыбинск      Ж   30       0         NaN         1   \n3  225363  866.0  Ярославль      Ж   51       5  1524746.26         2   \n4  157978  730.0  Ярославль      М   34       5      174.00         1   \n\n   credit_card  last_activity  EST_SALARY  churn  \n0            0              1    75719.14      1  \n1            1              0    86621.77      0  \n2            1              1   107683.34      0  \n3            0              1   174423.53      1  \n4            1              0    67353.16      1  ",
      "text/html": "<div>\n<style scoped>\n    .dataframe tbody tr th:only-of-type {\n        vertical-align: middle;\n    }\n\n    .dataframe tbody tr th {\n        vertical-align: top;\n    }\n\n    .dataframe thead th {\n        text-align: right;\n    }\n</style>\n<table border=\"1\" class=\"dataframe\">\n  <thead>\n    <tr style=\"text-align: right;\">\n      <th></th>\n      <th>USERID</th>\n      <th>score</th>\n      <th>city</th>\n      <th>gender</th>\n      <th>age</th>\n      <th>equity</th>\n      <th>balance</th>\n      <th>products</th>\n      <th>credit_card</th>\n      <th>last_activity</th>\n      <th>EST_SALARY</th>\n      <th>churn</th>\n    </tr>\n  </thead>\n  <tbody>\n    <tr>\n      <th>0</th>\n      <td>183012</td>\n      <td>850.0</td>\n      <td>Рыбинск</td>\n      <td>Ж</td>\n      <td>25</td>\n      <td>1</td>\n      <td>59214.82</td>\n      <td>2</td>\n      <td>0</td>\n      <td>1</td>\n      <td>75719.14</td>\n      <td>1</td>\n    </tr>\n    <tr>\n      <th>1</th>\n      <td>146556</td>\n      <td>861.0</td>\n      <td>Рыбинск</td>\n      <td>Ж</td>\n      <td>37</td>\n      <td>5</td>\n      <td>850594.33</td>\n      <td>3</td>\n      <td>1</td>\n      <td>0</td>\n      <td>86621.77</td>\n      <td>0</td>\n    </tr>\n    <tr>\n      <th>2</th>\n      <td>120722</td>\n      <td>892.0</td>\n      <td>Рыбинск</td>\n      <td>Ж</td>\n      <td>30</td>\n      <td>0</td>\n      <td>NaN</td>\n      <td>1</td>\n      <td>1</td>\n      <td>1</td>\n      <td>107683.34</td>\n      <td>0</td>\n    </tr>\n    <tr>\n      <th>3</th>\n      <td>225363</td>\n      <td>866.0</td>\n      <td>Ярославль</td>\n      <td>Ж</td>\n      <td>51</td>\n      <td>5</td>\n      <td>1524746.26</td>\n      <td>2</td>\n      <td>0</td>\n      <td>1</td>\n      <td>174423.53</td>\n      <td>1</td>\n    </tr>\n    <tr>\n      <th>4</th>\n      <td>157978</td>\n      <td>730.0</td>\n      <td>Ярославль</td>\n      <td>М</td>\n      <td>34</td>\n      <td>5</td>\n      <td>174.00</td>\n      <td>1</td>\n      <td>1</td>\n      <td>0</td>\n      <td>67353.16</td>\n      <td>1</td>\n    </tr>\n  </tbody>\n</table>\n</div>"
     },
     "execution_count": 7,
     "metadata": {},
     "output_type": "execute_result"
    }
   ],
   "source": [
    "df_1.head()"
   ],
   "metadata": {
    "collapsed": false
   }
  },
  {
   "cell_type": "code",
   "execution_count": 3,
   "outputs": [
    {
     "name": "stdout",
     "output_type": "stream",
     "text": [
      "<class 'pandas.core.frame.DataFrame'>\n",
      "RangeIndex: 10000 entries, 0 to 9999\n",
      "Data columns (total 12 columns):\n",
      " #   Column            Non-Null Count  Dtype  \n",
      "---  ------            --------------  -----  \n",
      " 0   userid            10000 non-null  int64  \n",
      " 1   score             10000 non-null  int64  \n",
      " 2   City              10000 non-null  object \n",
      " 3   Gender            10000 non-null  object \n",
      " 4   Age               10000 non-null  int64  \n",
      " 5   Objects           10000 non-null  int64  \n",
      " 6   Balance           6383 non-null   float64\n",
      " 7   Products          10000 non-null  int64  \n",
      " 8   CreditCard        10000 non-null  int64  \n",
      " 9   Loyalty           10000 non-null  int64  \n",
      " 10  estimated_salary  10000 non-null  float64\n",
      " 11  Churn             10000 non-null  int64  \n",
      "dtypes: float64(2), int64(8), object(2)\n",
      "memory usage: 937.6+ KB\n"
     ]
    }
   ],
   "source": [
    "df.info()"
   ],
   "metadata": {
    "collapsed": false
   }
  },
  {
   "cell_type": "code",
   "execution_count": null,
   "outputs": [],
   "source": [],
   "metadata": {
    "collapsed": false
   }
  }
 ],
 "metadata": {
  "kernelspec": {
   "display_name": "Python 3",
   "language": "python",
   "name": "python3"
  },
  "language_info": {
   "codemirror_mode": {
    "name": "ipython",
    "version": 2
   },
   "file_extension": ".py",
   "mimetype": "text/x-python",
   "name": "python",
   "nbconvert_exporter": "python",
   "pygments_lexer": "ipython2",
   "version": "2.7.6"
  }
 },
 "nbformat": 4,
 "nbformat_minor": 0
}
